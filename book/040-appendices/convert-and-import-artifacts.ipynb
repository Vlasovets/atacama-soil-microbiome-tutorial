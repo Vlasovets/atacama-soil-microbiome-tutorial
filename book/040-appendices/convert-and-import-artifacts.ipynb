{
 "cells": [
  {
   "cell_type": "markdown",
   "id": "f95482f4",
   "metadata": {},
   "source": [
    "# Import figshare data into QIIME 2 artifacts\n",
    "\n",
    "Author: @ebolyen"
   ]
  },
  {
   "cell_type": "code",
   "execution_count": null,
   "id": "b9c88f6c",
   "metadata": {},
   "outputs": [],
   "source": [
    "import pandas as pd\n",
    "import hashlib\n",
    "import qiime2"
   ]
  },
  {
   "cell_type": "markdown",
   "id": "e99432a9",
   "metadata": {},
   "source": [
    "# Create FeatureData[Sequence]"
   ]
  },
  {
   "cell_type": "code",
   "execution_count": null,
   "id": "47846b72",
   "metadata": {},
   "outputs": [],
   "source": [
    "import tempfile\n",
    "import requests\n",
    "import qiime2\n",
    "\n",
    "data = requests.get(\"https://www.dropbox.com/s/uqj79nepvub1cxc/tblASVtaxonomy_silva132_v4v5_filter.csv?dl=1\")\n",
    "\n",
    "with tempfile.NamedTemporaryFile() as f:\n",
    "    f.write(data.content)\n",
    "    f.flush()\n",
    "    pd_orig_taxa = pd.read_csv(f.name)\n",
    "\n",
    "pd_orig_taxa.index = pd_orig_taxa['Sequence'].str.encode('ascii').apply(lambda x: hashlib.md5(x).hexdigest())\n",
    "pd_orig_taxa"
   ]
  },
  {
   "cell_type": "code",
   "execution_count": null,
   "id": "8ad36feb",
   "metadata": {},
   "outputs": [],
   "source": [
    "pd_seqs = pd_orig_taxa['Sequence']\n",
    "pd_seqs"
   ]
  },
  {
   "cell_type": "code",
   "execution_count": null,
   "id": "de33b0f1",
   "metadata": {},
   "outputs": [],
   "source": [
    "q2_rep_seqs = qiime2.Artifact.import_data('FeatureData[Sequence]', pd_seqs)\n",
    "q2_rep_seqs"
   ]
  },
  {
   "cell_type": "code",
   "execution_count": null,
   "id": "e977994d",
   "metadata": {
    "scrolled": false
   },
   "outputs": [],
   "source": [
    "!head {str(q2_rep_seqs._archiver.path / str(q2_rep_seqs.uuid) / 'data' / 'dna-sequences.fasta')}"
   ]
  },
  {
   "cell_type": "code",
   "execution_count": null,
   "id": "a69a38dc",
   "metadata": {},
   "outputs": [],
   "source": [
    "q2_rep_seqs.save('rep-seqs.qza')"
   ]
  },
  {
   "cell_type": "markdown",
   "id": "0b32e5a1",
   "metadata": {},
   "source": [
    "# Create FeatureData[Taxonomy]"
   ]
  },
  {
   "cell_type": "code",
   "execution_count": null,
   "id": "86fe20b1",
   "metadata": {},
   "outputs": [],
   "source": [
    "def collate_taxa_columns(row):\n",
    "    assignments = []\n",
    "    for taxon in ('Kingdom', 'Phylum', 'Class', 'Order', 'Family', 'Genus'):\n",
    "        prefix = taxon[0].lower() + '__'\n",
    "        assignment = row[taxon]\n",
    "        if assignment == '<not present>':\n",
    "            assignment = ''  # usual 'k__'\n",
    "        \n",
    "        assignments.append(prefix + assignment)\n",
    "        confidence_col = f'Confidence{taxon}'\n",
    "        if row[confidence_col] < .7:\n",
    "            break\n",
    "        else:\n",
    "            confidence = row[confidence_col]\n",
    "    new_series = pd.Series(dict(Taxon='; '.join(assignments), Confidence=confidence))\n",
    "    new_series.name = row.name\n",
    "    return new_series\n",
    "        \n",
    "            "
   ]
  },
  {
   "cell_type": "code",
   "execution_count": null,
   "id": "54ebb2d6",
   "metadata": {},
   "outputs": [],
   "source": [
    "pd_taxonomy = pd_orig_taxa.apply(collate_taxa_columns, axis=1)\n",
    "pd_taxonomy.index.name = 'Feature ID'\n",
    "pd_taxonomy"
   ]
  },
  {
   "cell_type": "code",
   "execution_count": null,
   "id": "30d23903",
   "metadata": {},
   "outputs": [],
   "source": [
    "q2_taxonomy = qiime2.Artifact.import_data('FeatureData[Taxonomy]', pd_taxonomy)\n",
    "q2_taxonomy"
   ]
  },
  {
   "cell_type": "code",
   "execution_count": null,
   "id": "08a69e69",
   "metadata": {},
   "outputs": [],
   "source": [
    "!head {str(q2_taxonomy._archiver.path / str(q2_taxonomy.uuid) / 'data' / 'taxonomy.tsv')}"
   ]
  },
  {
   "cell_type": "code",
   "execution_count": null,
   "id": "156d104e",
   "metadata": {},
   "outputs": [],
   "source": [
    "q2_taxonomy.save('taxonomy.qza')"
   ]
  },
  {
   "cell_type": "markdown",
   "id": "08ed4db7",
   "metadata": {},
   "source": [
    "# Create FeatureTable[Frequency]"
   ]
  },
  {
   "cell_type": "code",
   "execution_count": null,
   "id": "2bca7d67",
   "metadata": {},
   "outputs": [],
   "source": [
    "asv_map = pd_orig_taxa['ASV'].reset_index().set_index('ASV')['Feature ID']\n",
    "asv_map"
   ]
  },
  {
   "cell_type": "code",
   "execution_count": null,
   "id": "bdba6cb0",
   "metadata": {},
   "outputs": [],
   "source": [
    "data = requests.get(\"https://www.dropbox.com/s/r5ag9d0lwlcg91n/tblcounts_asv_wide.csv?dl=1\")\n",
    "\n",
    "with tempfile.NamedTemporaryFile() as f:\n",
    "    f.write(data.content)\n",
    "    f.flush()\n",
    "    pd_asv_counts = pd.read_csv(f.name, index_col='ASV').transpose()\n",
    "\n",
    "#pd_asv_counts = pd.read_csv('tblcounts_asv_wide.csv', index_col='ASV').transpose()\n",
    "pd_asv_counts = pd_asv_counts.rename(columns=asv_map)\n",
    "pd_asv_counts"
   ]
  },
  {
   "cell_type": "code",
   "execution_count": null,
   "id": "4c6a82e5",
   "metadata": {},
   "outputs": [],
   "source": [
    "q2_table = qiime2.Artifact.import_data('FeatureTable[Frequency]', pd_asv_counts)\n",
    "q2_table"
   ]
  },
  {
   "cell_type": "code",
   "execution_count": null,
   "id": "23491a0e",
   "metadata": {},
   "outputs": [],
   "source": [
    "!biom summarize-table -i {str(q2_table._archiver.path / str(q2_table.uuid) / 'data' / 'feature-table.biom')} | head"
   ]
  },
  {
   "cell_type": "code",
   "execution_count": null,
   "id": "70040bab",
   "metadata": {},
   "outputs": [],
   "source": [
    "q2_table.save('table.qza')"
   ]
  }
 ],
 "metadata": {
  "kernelspec": {
   "display_name": "Python 3 (ipykernel)",
   "language": "python",
   "name": "python3"
  },
  "language_info": {
   "codemirror_mode": {
    "name": "ipython",
    "version": 3
   },
   "file_extension": ".py",
   "mimetype": "text/x-python",
   "name": "python",
   "nbconvert_exporter": "python",
   "pygments_lexer": "ipython3",
   "version": "3.8.9"
  }
 },
 "nbformat": 4,
 "nbformat_minor": 5
}
