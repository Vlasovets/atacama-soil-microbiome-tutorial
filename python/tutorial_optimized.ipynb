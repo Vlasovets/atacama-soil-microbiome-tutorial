{
 "cells": [
  {
   "cell_type": "code",
   "execution_count": null,
   "id": "d2576738-b56a-4f60-bd1a-316c85b74e8c",
   "metadata": {},
   "outputs": [],
   "source": [
    "import pandas as pd\n",
    "import numpy as np\n",
    "import seaborn as sns\n",
    "import networkx as nx\n",
    "\n",
    "from sklearn import preprocessing\n",
    "from matplotlib import pyplot as plt\n",
    "from pyvis.network import Network\n",
    "from matplotlib.colors import ListedColormap\n",
    "from scipy.stats import pearsonr\n",
    "\n",
    "from GGLasso.gglasso.problem import glasso_problem\n",
    "from utils import transform_features, scale_array_by_diagonal\n",
    "from utils import load_data, save_dataframe, process_taxonomy\n",
    "from utils import filter_zero_features, filter_zero_samples, update_index\n",
    "from utils import plotly_heatmap, plot_network, _make_heatmap, create_graph, plot_covariates\n",
    "from utils import plot_ordered_heatmap, hierarchical_clustering, _get_order, create_label_dict\n",
    "from utils import clean_meta_data, select_covariates, scale_meta_data, merge_data\n",
    "from utils import calculate_covariance, PCA, create_lambda_mask, create_network_visualization\n",
    "from utils import project_covariates, process_clust_order, concatenate_PC, scatter_plot\n",
    "\n",
    "from bokeh.io import output_notebook, show, save\n",
    "from bokeh.models import Range1d, Circle, ColumnDataSource, MultiLine, HoverTool, LabelSet, PointDrawTool\n",
    "from bokeh.plotting import figure\n",
    "from bokeh.plotting import from_networkx\n",
    "from bokeh.palettes import RdBu, Blues8\n",
    "from bokeh.models import HoverTool, Panel, Tabs, ColorBar, LinearColorMapper\n",
    "from bokeh.layouts import row\n",
    "\n",
    "# from latentcor import gen_data, get_tps, latentcor"
   ]
  },
  {
   "cell_type": "markdown",
   "id": "efc5e52c-0b58-4f9c-ab3a-c56573742a6d",
   "metadata": {},
   "source": [
    "### Data preprocessing"
   ]
  },
  {
   "cell_type": "code",
   "execution_count": null,
   "id": "8120b41f-c9b9-487d-90cd-14d4a0352ca2",
   "metadata": {
    "tags": []
   },
   "outputs": [],
   "source": [
    "processed_taxa = (\n",
    "    load_data(\"data/taxonomy.tsv\")\n",
    "    .pipe(process_taxonomy)\n",
    ")\n",
    "processed_taxa.head()"
   ]
  },
  {
   "cell_type": "code",
   "execution_count": null,
   "id": "4f85b2aa-ba02-4f97-9421-2f73a63544ce",
   "metadata": {
    "tags": []
   },
   "outputs": [],
   "source": [
    "filtered_counts=(\n",
    "    load_data(\"data/atacama_counts.tsv\")\n",
    "    .pipe(filter_zero_features, threshold=0.8)\n",
    "    .pipe(filter_zero_samples, threshold=0.95)\n",
    "    .pipe(update_index, processed_taxa)\n",
    "    .pipe(save_dataframe, filename=\"data/filtered_counts.csv\")\n",
    "    .pipe(transform_features, transformation=\"mclr\")\n",
    "    .pipe(save_dataframe, filename=\"data/mclr_counts.csv\")\n",
    ")\n",
    "print(filtered_counts.shape)\n",
    "filtered_counts.head()"
   ]
  },
  {
   "cell_type": "code",
   "execution_count": null,
   "id": "086140ca-9a40-4e60-be95-f76133970236",
   "metadata": {
    "tags": []
   },
   "outputs": [],
   "source": [
    "# plot original raw data\n",
    "filtered_counts = pd.read_csv(\"data/filtered_counts.csv\", index_col=0)\n",
    "fig_X = plotly_heatmap(z=filtered_counts, x=filtered_counts.columns, y=filtered_counts.index, x_label='Samples', y_label ='Taxa', width=1400, height=500)\n",
    "fig_X.show()\n",
    "fig_X.write_image(\"plots/acm_raw.pdf\")\n",
    "fig_X.write_image(\"plots/acm_raw.png\")\n",
    "\n",
    "# plot 'mclr-transformed data\n",
    "mclr = pd.read_csv(\"data/mclr_counts.csv\", index_col=0)\n",
    "fig_mclr = plotly_heatmap(z=mclr, x=mclr.columns, y=mclr.index, x_label='Samples', y_label ='Taxa', width=1400, height=500)\n",
    "fig_mclr.show()\n",
    "fig_mclr.write_image(\"plots/acm_mclr.pdf\")\n",
    "# fig_mclr.write_image(\"plots/acm_mclr.png\")"
   ]
  },
  {
   "cell_type": "code",
   "execution_count": null,
   "id": "13ff26ac-5bc7-4841-b4d7-67892786d303",
   "metadata": {},
   "outputs": [],
   "source": [
    "scaled_covaraites=(\n",
    "    load_data(\"data/acm_meta.tsv\")\n",
    "    .pipe(clean_meta_data)\n",
    "    .pipe(save_dataframe, filename=\"data/clean_metadata.csv\")\n",
    "    .pipe(select_covariates, ['ph', 'average-soil-relative-humidity', 'elevation', 'average-soil-temperature'])\n",
    "    .pipe(save_dataframe, filename=\"data/unscaled_selected_covaraites.csv\")\n",
    "    .pipe(scale_meta_data)\n",
    "    .pipe(save_dataframe, filename=\"data/scaled_selected_covaraites.csv\")\n",
    ")\n",
    "print(scaled_covaraites.shape)\n",
    "scaled_covaraites.head()"
   ]
  },
  {
   "cell_type": "code",
   "execution_count": null,
   "id": "9f57d5de-e5ca-4f71-91e5-a5cf5e1128cd",
   "metadata": {
    "tags": []
   },
   "outputs": [],
   "source": [
    "unscaled_covariates = load_data(\"data/unscaled_selected_covaraites.csv\")\n",
    "scaled_covariates = load_data(\"data/scaled_selected_covaraites.csv\")\n",
    "\n",
    "plot_covariates(unscaled_covariates, scaled_covariates)"
   ]
  },
  {
   "cell_type": "code",
   "execution_count": null,
   "id": "c32ad92d-83b5-41cc-b926-bad1f1dd523b",
   "metadata": {},
   "outputs": [],
   "source": [
    "n_cov = scaled_covariates.shape[1]\n",
    "\n",
    "vis_S = (\n",
    "    merge_data(mclr, scaled_covariates)\n",
    "    .pipe(save_dataframe, filename=\"data/merged_data.csv\")\n",
    "    .pipe(calculate_covariance, n_cov, method=\"corr\")\n",
    "    .pipe(save_dataframe, filename=\"data/asv_covariance.csv\")\n",
    "    )\n",
    "\n",
    "vis_S_meta = (\n",
    "    load_data(\"data/merged_data.csv\")\n",
    "    .pipe(calculate_covariance, n_cov=None, method=\"corr\")\n",
    "    .pipe(save_dataframe, filename=\"data/asv_meta_covariance.csv\")\n",
    "    )\n",
    "\n",
    "vis_S.shape, vis_S_meta.shape"
   ]
  },
  {
   "cell_type": "code",
   "execution_count": null,
   "id": "4caf4ab0-0fda-457e-ac8c-1be099ae097c",
   "metadata": {},
   "outputs": [],
   "source": [
    "# from scipy.linalg import sqrtm\n",
    "\n",
    "\n",
    "# diagonal = np.diag(vis_S)\n",
    "# epsilon = 1e-6  # Small positive constant\n",
    "# correlation_matrix_modified = vis_S + epsilon * np.eye(vis_S.shape[0])\n",
    "\n",
    "# sqrt_correlation_matrix = sqrtm(correlation_matrix_modified)\n",
    "\n",
    "# inverse_sqrt_correlation_matrix = np.linalg.inv(sqrt_correlation_matrix)\n",
    "\n",
    "# inverse_correlation_matrix = inverse_sqrt_correlation_matrix.dot(inverse_sqrt_correlation_matrix.T)\n",
    "\n",
    "# test = pd.DataFrame(inverse_correlation_matrix, index=vis_S.index, columns=vis_S.columns)"
   ]
  },
  {
   "cell_type": "code",
   "execution_count": null,
   "id": "de9959a0-bcab-45b4-a528-638195de78c8",
   "metadata": {},
   "outputs": [],
   "source": [
    "clust_order = _get_order(vis_S)\n",
    "\n",
    "p_vis_S_clust = plot_ordered_heatmap(vis_S, order=clust_order)\n",
    "p_clust_meta = plot_ordered_heatmap(vis_S_meta, order=clust_order, n_covariates=n_cov)\n",
    "\n",
    "# show(p_vis_S_clust)\n",
    "show(p_clust_meta)"
   ]
  },
  {
   "cell_type": "code",
   "execution_count": null,
   "id": "eec32c9d-9f1e-4bc6-9ae9-6ee87a5bf01b",
   "metadata": {
    "tags": []
   },
   "outputs": [],
   "source": [
    "counts = load_data(\"data/merged_data.csv\")\n",
    "\n",
    "N = counts.shape[0]\n",
    "p = counts.shape[1] - n_cov\n",
    "p_meta = counts.shape[1]\n",
    "print(\"Shape of data without covariates: {0}, {1}\".format(N, p))\n",
    "print(\"Shape of data with covariates: {0}, {1}\".format(N, p_meta))\n",
    "\n",
    "lambda1_range = np.logspace(0, -3, 50)\n",
    "# mu1_range = np.logspace(0, -2, 10)\n",
    "mu1_range = np.logspace(-0.2, -0.5, 10)\n",
    "gamma = 0.01\n",
    "\n",
    "modelselect_params = {'lambda1_range': lambda1_range, 'mu1_range': mu1_range}\n",
    "\n",
    "P_SGL = glasso_problem(vis_S.values, N, latent=False, do_scaling=False)\n",
    "P_SGL.model_selection(modelselect_params=modelselect_params, method='eBIC', gamma=gamma)\n",
    "\n",
    "P_SGL_low = glasso_problem(vis_S.values, N, latent=True, do_scaling=False)\n",
    "P_SGL_low.model_selection(modelselect_params=modelselect_params, method='eBIC', gamma=gamma)\n",
    "\n",
    "lambda_mask = create_lambda_mask(counts, p, p_meta)\n",
    "modelselect_params[\"lambda1_mask\"] = lambda_mask\n",
    "\n",
    "P_SGL_adapt = glasso_problem(vis_S_meta.values, N, latent=False, do_scaling=False)\n",
    "P_SGL_adapt.model_selection(modelselect_params=modelselect_params, method='eBIC', gamma=gamma)"
   ]
  },
  {
   "cell_type": "code",
   "execution_count": null,
   "id": "a9f5e008-a8eb-48d2-b584-8fb34fb8a12a",
   "metadata": {},
   "outputs": [],
   "source": [
    "print(\"SGL solution with lambda={lambda1} and mu={mu1}\".format(**P_SGL.reg_params))\n",
    "print(\"Adaptive SGL+low-rank solution with lambda={lambda1} and mu={mu1}\".format(**P_SGL_adapt.reg_params))\n",
    "print(\"SGL+low-rank solution with lambda={lambda1} and mu={mu1}\".format(**P_SGL_low.reg_params))"
   ]
  },
  {
   "cell_type": "code",
   "execution_count": null,
   "id": "67f0e26c-7cfa-4b4d-b7d7-0579042293d3",
   "metadata": {},
   "outputs": [],
   "source": [
    "width = 1500\n",
    "height = 1500\n",
    "label_size = \"16pt\"\n",
    "asv_names = vis_S.columns\n",
    "meta_names = vis_S_meta.columns\n",
    "\n",
    "\n",
    "# for visualization reasons we transform inverse covaraince to negative inverse covaraince, i.e., multiply by -1\n",
    "sgl = -3.5 * pd.DataFrame(P_SGL.solution.precision_, columns=asv_names, index=asv_names) # we scale the color by 3.5 for the example\n",
    "adapt = -1 * pd.DataFrame(P_SGL_adapt.solution.precision_, columns=meta_names, index=meta_names)\n",
    "low = -1 * pd.DataFrame(P_SGL_low.solution.precision_, columns=asv_names, index=asv_names)\n",
    "lrp = -1 * pd.DataFrame(P_SGL_low.solution.lowrank_, columns=asv_names, index=asv_names)\n",
    "\n",
    "\n",
    "p_sgl = plot_ordered_heatmap(sgl, order=clust_order, \n",
    "                     title=\"SGL estimated (negative) inverse covariance\")\n",
    "p_adapt = plot_ordered_heatmap(adapt, order=clust_order, n_covariates=n_cov, \n",
    "                     title=\"Adaptive estimated (negative) inverse covariance\")\n",
    "p_low = plot_ordered_heatmap(low, order=clust_order, \n",
    "                     title=\"SGL+low-rank estimated (negative) inverse covariance\")\n",
    "\n",
    "p_lrp = plot_ordered_heatmap(5*lrp, order=clust_order, title=\"Low-rank\")\n",
    "\n",
    "# show(p_sgl)\n",
    "# show(p_adapt)\n",
    "# show(p_low)\n",
    "show(p_lrp)\n",
    "\n",
    "# a= lrp.iloc[:, 4].values\n",
    "\n",
    "# # matrix = np.outer(a, -1*a)\n",
    "# print(matrix)"
   ]
  },
  {
   "cell_type": "code",
   "execution_count": null,
   "id": "202bcca7-f684-4d82-94aa-37f4e8a21756",
   "metadata": {},
   "outputs": [],
   "source": [
    "# Define the labels dictionary\n",
    "toy_labels = {'ASV2': 'A', 'ASV7': 'B', 'ASV8': 'C', 'ASV11': 'D'}\n",
    "\n",
    "# Perform renaming for each DataFrame\n",
    "dfs = [sgl, adapt, low, lrp, vis_S]\n",
    "\n",
    "for df in dfs:\n",
    "    # Rename the index labels\n",
    "    df.rename(index=toy_labels, inplace=True)\n",
    "    \n",
    "    # Rename the column labels\n",
    "    df.rename(columns=toy_labels, inplace=True)"
   ]
  },
  {
   "cell_type": "code",
   "execution_count": null,
   "id": "6d60f5fc-335b-449e-92dc-19f307f61873",
   "metadata": {
    "tags": []
   },
   "outputs": [],
   "source": [
    "vis_S_clust = hierarchical_clustering(vis_S, clust_order)"
   ]
  },
  {
   "cell_type": "code",
   "execution_count": null,
   "id": "03f8b5da-a2bd-45b5-966f-5e05b61b1605",
   "metadata": {},
   "outputs": [],
   "source": [
    "### for 0.9\n",
    "# test = ['g__Nitriliruptoraceae', \"ASV7\", 'g__wb1-P19']\n",
    "#test = [\"ASV8\", \"ASV16\", 'g__Nitriliruptoraceae', \"ASV20\", \"ASV7\", \"ASV12\", 'g__wb1-P19', 'g__Nitrosococcus']\n",
    "# test = [\"ASV16\", 'g__Nitriliruptoraceae', \"ASV8\", \"ASV23\", \"ASV12\", 'g__wb1-P19']\n",
    "test = [ \"A\", \"B\", \"C\", \"D\"]\n",
    "#test = ['g__Nitriliruptoraceae', 'g__Gaiella', 'g__Rokubacteriales', 'g__Candidatus_Nitrososphaera', 'g__wb1-P19', 'g__Nitrosococcus']\n",
    "# asv_meta = list(meta_names[-n_cov:]) + test\n",
    "asv_meta = ['average-soil-temperature', 'average-soil-relative-humidity', 'elevation', 'ph'] + test\n",
    "\n",
    "sgl_edges = sgl[sgl.columns.intersection(asv_meta)].loc[test]\n",
    "adapt_edges = adapt[adapt.columns.intersection(asv_meta)].loc[asv_meta]\n",
    "low_edges = low[low.columns.intersection(asv_meta)].loc[test]\n",
    "org_edges = vis_S_clust[vis_S_clust.columns.intersection(asv_meta)].loc[test]\n",
    "\n",
    "G_SGL = create_graph(sgl_edges, threshold=0.0)\n",
    "G_adapt = create_graph(adapt_edges, threshold=0.0)\n",
    "G_low = create_graph(low_edges, threshold=0.0)\n",
    "G_org = create_graph(org_edges, threshold=0.0)"
   ]
  },
  {
   "cell_type": "code",
   "execution_count": null,
   "id": "a4da447d-cfc8-4c04-a1d3-9b1f17250bec",
   "metadata": {},
   "outputs": [],
   "source": [
    "test = create_network_visualization(G_org, height=500, width=800, show_labels=False, size_degree=True, scale_edge=20, scale_node=17)\n",
    "test.show('plots/network.html')"
   ]
  },
  {
   "cell_type": "code",
   "execution_count": null,
   "id": "eda5d01a-3518-4255-814a-8ee25b733f3c",
   "metadata": {},
   "outputs": [],
   "source": [
    "test = create_network_visualization(G_SGL, height=500, width=800, show_labels=False, size_degree=True, scale_edge=20, scale_node=17)\n",
    "test.show('plots/network.html')"
   ]
  },
  {
   "cell_type": "code",
   "execution_count": null,
   "id": "f74bd784-42e5-4f45-85be-8d12bba707b8",
   "metadata": {},
   "outputs": [],
   "source": [
    "# G_low.add_node(\"A\")\n",
    "# G_low.add_node(\"B\")\n",
    "\n",
    "test = create_network_visualization(G_low, height=500, width=800, show_labels=False, size_degree=True, scale_edge=50, scale_node=17)\n",
    "test.show('plots/network.html')"
   ]
  },
  {
   "cell_type": "code",
   "execution_count": null,
   "id": "691d4410-4b5d-4b96-b8dd-9f5cc3c14f42",
   "metadata": {},
   "outputs": [],
   "source": [
    "test = create_network_visualization(G_adapt, height=500, width=800, show_labels=False, size_degree=True, scale_edge=2, scale_node=7)\n",
    "test.show('plots/network.html')"
   ]
  },
  {
   "cell_type": "code",
   "execution_count": null,
   "id": "943041ed-853f-4087-8836-755f75d20c49",
   "metadata": {
    "jupyter": {
     "source_hidden": true
    },
    "tags": []
   },
   "outputs": [],
   "source": [
    "def project_covariates(transformed_counts=pd.DataFrame(), raw_counts = pd.DataFrame(), metadata=pd.DataFrame(), L=np.ndarray, y=str, PC=0):\n",
    "    \"\"\"\n",
    "    Perform covariate projection and create a scatter plot using PCA results.\n",
    "\n",
    "    Parameters:\n",
    "        transformed_counts (pandas.DataFrame, optional): Transformed count data. Default is an empty DataFrame.\n",
    "        raw_counts (pandas.DataFrame, optional): Raw count data. Default is an empty DataFrame.\n",
    "        metadata (pandas.DataFrame, optional): Metadata associated with the samples. Default is an empty DataFrame.\n",
    "        L (numpy.ndarray): Eigenvalues matrix.\n",
    "        y (str): Name of the variable to plot on the y-axis.\n",
    "        PC (int): Index of the principal component to plot on the x-axis. Default is 0.\n",
    "\n",
    "    Returns:\n",
    "        bokeh.layouts.row: A row layout containing the scatter plot and color bar.\n",
    "\n",
    "    \"\"\"\n",
    "    r = np.linalg.matrix_rank(L)\n",
    "    proj, loadings, eigv = PCA(transformed_counts, L, inverse=True)\n",
    "\n",
    "    eigv_sum = np.sum(eigv)\n",
    "    var_exp = [(value / eigv_sum) for value in sorted(eigv, reverse=True)]\n",
    "\n",
    "    counts_sum = raw_counts.sum(axis=0)\n",
    "    depth = pd.DataFrame(data=counts_sum, columns=[\"sequencing depth\"])\n",
    "    metadata = depth.join(metadata)\n",
    "\n",
    "    pc_columns = list('PC{0} ({1}%)'.format(i+1, str(100 * var_exp[i])[:4]) for i in range(0, r))\n",
    "    df_proj = pd.DataFrame(proj, columns=pc_columns, index=Z_mclr.index)\n",
    "    df = df_proj.join(metadata)\n",
    "    \n",
    "    varName1 = 'PC{0} ({1}%)'.format(PC+1, str(100 * var_exp[PC])[:4])\n",
    "    varName2 = y\n",
    "    # varName2 = 'PC{0} ({1}%)'.format(PC+2, str(100 * var_exp[1])[:4])\n",
    "    df['x'] = df[varName1]\n",
    "    df['y'] = df[varName2]\n",
    "\n",
    "    source = ColumnDataSource(df)\n",
    "\n",
    "    p0 = figure(tools='save, zoom_in, zoom_out, wheel_zoom, box_zoom, reset', plot_width=800, plot_height=800,\n",
    "                active_scroll=\"wheel_zoom\",\n",
    "                x_axis_label=varName1, y_axis_label=varName2,\n",
    "                tooltips=[(varName1, \"@\" + varName1),\n",
    "                          (varName2, \"@\" + varName2)\n",
    "                          ],\n",
    "                title=varName1 + \" vs \" + varName2)\n",
    "    \n",
    "    \n",
    "    \n",
    "    rdbu = plt.get_cmap('RdPu_r')\n",
    "    cmap = ListedColormap(rdbu(np.arange(256)))\n",
    "    # Create a list of hex color codes from the colormap\n",
    "    colors = [cmap(i)[:3] for i in range(256)]\n",
    "    colors = ['#' + ''.join([format(int(c * 255), '02x') for c in color]) for color in colors]\n",
    "    colors = colors[::-1]  # red - positive, blue - negative\n",
    "    exp_cmap = LinearColorMapper(palette=colors, low=depth.values.min(), high=depth.values.max())\n",
    "    \n",
    "    #exp_cmap = LinearColorMapper(palette=Blues8[::-1], low=min(df['sequencing depth'].values), high=max(df['sequencing depth'].values))\n",
    "    p0.circle('x', 'y', source=source, size=15, line_color=None, fill_color={\"field\": \"sequencing depth\", \"transform\": exp_cmap}, fill_alpha=0.3)\n",
    "\n",
    "    color_bar_plot = figure(title='sequencing depth', title_location=\"right\",\n",
    "                            height=500, width=150, toolbar_location=None, min_border=0,\n",
    "                            outline_line_color=None)\n",
    "\n",
    "    bar = ColorBar(color_mapper=exp_cmap, location=(1, 1))\n",
    "    #bar = ColorBar(color_mapper=exp_cmap, location=(1, 1))\n",
    "\n",
    "    color_bar_plot.add_layout(bar, 'right')\n",
    "    color_bar_plot.title.align = \"center\"\n",
    "    color_bar_plot.title.text_font_size = '12pt'\n",
    "\n",
    "    layout = row(p0, color_bar_plot)\n",
    "\n",
    "    return layout"
   ]
  },
  {
   "cell_type": "code",
   "execution_count": null,
   "id": "f52a94d5-5101-4560-93ee-ebc3ce5a0e74",
   "metadata": {
    "tags": []
   },
   "outputs": [],
   "source": [
    "L = P_SGL_low.solution.lowrank_\n",
    "Z_mclr = counts.iloc[:, :-n_cov]\n",
    "r = np.linalg.matrix_rank(L)\n",
    "print(\"Low rank:\", r)\n",
    "proj, loadings, eigv = PCA(Z_mclr, L, inverse=True)\n",
    "\n",
    "eigv_sum = np.sum(eigv)\n",
    "var_exp = [(value / eigv_sum) for value in sorted(eigv, reverse=True)]\n",
    "print(\"Variance explained by PCs:\", var_exp)"
   ]
  },
  {
   "cell_type": "code",
   "execution_count": null,
   "id": "1844fd5f-d12d-43f8-9f8f-1111f5e7a1ea",
   "metadata": {},
   "outputs": [],
   "source": [
    "pca_plot = project_covariates(transformed_counts=Z_mclr, raw_counts=filtered_counts, metadata=unscaled_covariates, L=L, y='average-soil-temperature')\n",
    "show(pca_plot)"
   ]
  },
  {
   "cell_type": "code",
   "execution_count": null,
   "id": "f38f6676-5e4e-414c-825e-6502ff84ee6d",
   "metadata": {
    "tags": []
   },
   "outputs": [],
   "source": [
    "adapt_pc3 = concatenate_PC(solution=adapt, pc_components=-1 * loadings[:, :2], number_pc=2, index=asv_names, clust_order=clust_order)\n",
    "\n",
    "sorted_lables_pc3, sorted_re_labels_pc3 = create_label_dict(adapt_pc3)\n",
    "\n",
    "\n",
    "p_adapt_pc3 = _make_heatmap(data=adapt_pc3, labels_dict=sorted_lables_pc3, labels_dict_reversed=sorted_re_labels_pc3,\n",
    "                       title=\"Clustered Adaptive solution with attached principal components\", width=width, height=height,\n",
    "                       label_size=label_size)\n",
    "\n",
    "show(p_adapt_pc3)"
   ]
  },
  {
   "cell_type": "code",
   "execution_count": null,
   "id": "c545ad11-5b2b-417f-8241-866966615c3d",
   "metadata": {},
   "outputs": [],
   "source": [
    "pc_1 = pd.Series(proj[:, 0], index=Z_mclr.index, name='PC1')\n",
    "\n",
    "org_temp = unscaled_covariates.loc[counts['average-soil-temperature'].index, 'average-soil-temperature']\n",
    "org_elevation = unscaled_covariates.loc[counts['elevation'].index, 'elevation']\n",
    "\n",
    "show(scatter_plot(pc_1, org_temp))\n",
    "show(scatter_plot(pc_1, org_elevation, color='#FA4665'))"
   ]
  },
  {
   "cell_type": "code",
   "execution_count": null,
   "id": "a075ab1b-810f-4747-b450-33a02f2bbc56",
   "metadata": {},
   "outputs": [],
   "source": [
    "show(scatter_plot(pc_1, counts['ASV8']))\n",
    "show(scatter_plot(pc_1, counts['ASV11']))\n",
    "show(scatter_plot(counts['ASV8'], counts['ASV11']))"
   ]
  },
  {
   "cell_type": "code",
   "execution_count": null,
   "id": "351be874-aa59-4b9e-830c-c6eafbdc4fa4",
   "metadata": {},
   "outputs": [],
   "source": [
    "show(scatter_plot(counts['ASV8'], counts['average-soil-temperature']))\n",
    "show(scatter_plot(counts['ASV8'], counts['elevation']))"
   ]
  },
  {
   "cell_type": "code",
   "execution_count": null,
   "id": "0f6e630f-0ef5-462a-b7f9-58ee40c9777d",
   "metadata": {},
   "outputs": [],
   "source": [
    "show(scatter_plot(counts['ASV11'], counts['average-soil-temperature']))\n",
    "show(scatter_plot(counts['ASV11'], counts['elevation']))"
   ]
  },
  {
   "cell_type": "code",
   "execution_count": null,
   "id": "5a90124c-0bd8-42d7-bab9-f01c0be0b1fd",
   "metadata": {},
   "outputs": [],
   "source": [
    "np.corrcoef(pc_1, org_temp)"
   ]
  },
  {
   "cell_type": "code",
   "execution_count": null,
   "id": "03794600-efb2-4c09-9b58-fcd77ee275c9",
   "metadata": {},
   "outputs": [],
   "source": [
    "pearsonr(pc_1, org_temp)"
   ]
  },
  {
   "cell_type": "code",
   "execution_count": null,
   "id": "8b3d9adb-511e-474f-a038-ffa5ae4198b4",
   "metadata": {},
   "outputs": [],
   "source": [
    "pearsonr(pc_1, org_elevation)"
   ]
  }
 ],
 "metadata": {
  "kernelspec": {
   "display_name": "Python 3 (ipykernel)",
   "language": "python",
   "name": "python3"
  },
  "language_info": {
   "codemirror_mode": {
    "name": "ipython",
    "version": 3
   },
   "file_extension": ".py",
   "mimetype": "text/x-python",
   "name": "python",
   "nbconvert_exporter": "python",
   "pygments_lexer": "ipython3",
   "version": "3.8.16"
  }
 },
 "nbformat": 4,
 "nbformat_minor": 5
}
