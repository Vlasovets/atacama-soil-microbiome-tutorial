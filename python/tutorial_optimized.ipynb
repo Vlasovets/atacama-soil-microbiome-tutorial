{
 "cells": [
  {
   "cell_type": "code",
   "execution_count": 3,
   "id": "d2576738-b56a-4f60-bd1a-316c85b74e8c",
   "metadata": {},
   "outputs": [],
   "source": [
    "import pandas as pd\n",
    "import numpy as np\n",
    "import seaborn as sns\n",
    "import networkx as nx\n",
    "\n",
    "from sklearn import preprocessing\n",
    "from matplotlib import pyplot as plt\n",
    "from pyvis.network import Network\n",
    "from matplotlib.colors import ListedColormap\n",
    "from scipy.stats import pearsonr\n",
    "\n",
    "from GGLasso.gglasso.problem import glasso_problem\n",
    "from utils import transform_features, scale_array_by_diagonal, rename_index_with_sum\n",
    "from utils import load_data, save_dataframe, process_taxonomy\n",
    "from utils import filter_zero_features, filter_zero_samples, update_index\n",
    "from utils import plotly_heatmap, plot_network, _make_heatmap, create_graph, plot_covariates\n",
    "from utils import plot_ordered_heatmap, hierarchical_clustering, _get_order, create_label_dict\n",
    "from utils import clean_meta_data, select_covariates, scale_meta_data, merge_data\n",
    "from utils import calculate_covariance, PCA, create_lambda_mask, create_network_visualization\n",
    "from utils import project_covariates, process_clust_order, concatenate_PC, scatter_plot\n",
    "\n",
    "from bokeh.io import output_notebook, show, save\n",
    "from bokeh.models import Range1d, Circle, ColumnDataSource, MultiLine, HoverTool, LabelSet, PointDrawTool\n",
    "from bokeh.plotting import figure\n",
    "from bokeh.plotting import from_networkx\n",
    "from bokeh.palettes import RdBu, Blues8\n",
    "from bokeh.models import HoverTool, Panel, Tabs, ColorBar, LinearColorMapper\n",
    "from bokeh.layouts import row\n",
    "\n",
    "# from latentcor import gen_data, get_tps, latentcor\n",
    "# processed_taxa = (\n",
    "#     load_data(\"data/taxonomy.tsv\")\n",
    "#     .pipe(process_taxonomy)\n",
    "# )\n",
    "# processed_taxa.head()"
   ]
  },
  {
   "cell_type": "markdown",
   "id": "efc5e52c-0b58-4f9c-ab3a-c56573742a6d",
   "metadata": {},
   "source": [
    "### Data preprocessing"
   ]
  },
  {
   "cell_type": "code",
   "execution_count": 8,
   "id": "4f85b2aa-ba02-4f97-9421-2f73a63544ce",
   "metadata": {
    "tags": []
   },
   "outputs": [
    {
     "name": "stdout",
     "output_type": "stream",
     "text": [
      "(13, 50)\n"
     ]
    },
    {
     "data": {
      "text/html": [
       "<div>\n",
       "<style scoped>\n",
       "    .dataframe tbody tr th:only-of-type {\n",
       "        vertical-align: middle;\n",
       "    }\n",
       "\n",
       "    .dataframe tbody tr th {\n",
       "        vertical-align: top;\n",
       "    }\n",
       "\n",
       "    .dataframe thead th {\n",
       "        text-align: right;\n",
       "    }\n",
       "</style>\n",
       "<table border=\"1\" class=\"dataframe\">\n",
       "  <thead>\n",
       "    <tr style=\"text-align: right;\">\n",
       "      <th></th>\n",
       "      <th>BAQ2420.1.1</th>\n",
       "      <th>BAQ2420.1.2</th>\n",
       "      <th>BAQ2420.1.3</th>\n",
       "      <th>BAQ2420.2</th>\n",
       "      <th>BAQ2420.3</th>\n",
       "      <th>BAQ2462.1</th>\n",
       "      <th>BAQ2462.2</th>\n",
       "      <th>BAQ2462.3</th>\n",
       "      <th>BAQ2687.1</th>\n",
       "      <th>BAQ2687.2</th>\n",
       "      <th>...</th>\n",
       "      <th>YUN3428.3</th>\n",
       "      <th>YUN3533.1.2</th>\n",
       "      <th>YUN3533.1.3</th>\n",
       "      <th>YUN3533.2</th>\n",
       "      <th>YUN3533.3</th>\n",
       "      <th>YUN3856.1.1</th>\n",
       "      <th>YUN3856.1.2</th>\n",
       "      <th>YUN3856.1.3</th>\n",
       "      <th>YUN3856.2</th>\n",
       "      <th>YUN3856.3</th>\n",
       "    </tr>\n",
       "  </thead>\n",
       "  <tbody>\n",
       "    <tr>\n",
       "      <th>ASV-1</th>\n",
       "      <td>0.000000</td>\n",
       "      <td>0.000000</td>\n",
       "      <td>0.0</td>\n",
       "      <td>0.000000</td>\n",
       "      <td>0.0</td>\n",
       "      <td>0.000000</td>\n",
       "      <td>0.0</td>\n",
       "      <td>0.000000</td>\n",
       "      <td>0.934581</td>\n",
       "      <td>0.0</td>\n",
       "      <td>...</td>\n",
       "      <td>0.000000</td>\n",
       "      <td>1.15442</td>\n",
       "      <td>0.0</td>\n",
       "      <td>1.075513</td>\n",
       "      <td>1.109562</td>\n",
       "      <td>0.0</td>\n",
       "      <td>1.250798</td>\n",
       "      <td>0.0</td>\n",
       "      <td>0.520534</td>\n",
       "      <td>1.604619</td>\n",
       "    </tr>\n",
       "    <tr>\n",
       "      <th>ASV-2</th>\n",
       "      <td>0.691609</td>\n",
       "      <td>0.000000</td>\n",
       "      <td>0.0</td>\n",
       "      <td>0.976903</td>\n",
       "      <td>0.0</td>\n",
       "      <td>1.259983</td>\n",
       "      <td>0.0</td>\n",
       "      <td>0.858689</td>\n",
       "      <td>0.000000</td>\n",
       "      <td>0.0</td>\n",
       "      <td>...</td>\n",
       "      <td>0.000000</td>\n",
       "      <td>0.00000</td>\n",
       "      <td>0.0</td>\n",
       "      <td>1.517346</td>\n",
       "      <td>1.109562</td>\n",
       "      <td>0.0</td>\n",
       "      <td>1.133015</td>\n",
       "      <td>0.0</td>\n",
       "      <td>1.293724</td>\n",
       "      <td>2.143616</td>\n",
       "    </tr>\n",
       "    <tr>\n",
       "      <th>ASV-3</th>\n",
       "      <td>0.000000</td>\n",
       "      <td>0.000000</td>\n",
       "      <td>0.0</td>\n",
       "      <td>0.000000</td>\n",
       "      <td>0.0</td>\n",
       "      <td>0.000000</td>\n",
       "      <td>0.0</td>\n",
       "      <td>0.000000</td>\n",
       "      <td>1.404585</td>\n",
       "      <td>0.0</td>\n",
       "      <td>...</td>\n",
       "      <td>0.000000</td>\n",
       "      <td>1.15442</td>\n",
       "      <td>0.0</td>\n",
       "      <td>1.586339</td>\n",
       "      <td>0.000000</td>\n",
       "      <td>0.0</td>\n",
       "      <td>0.000000</td>\n",
       "      <td>0.0</td>\n",
       "      <td>1.986871</td>\n",
       "      <td>1.695591</td>\n",
       "    </tr>\n",
       "    <tr>\n",
       "      <th>ASV-4</th>\n",
       "      <td>2.007286</td>\n",
       "      <td>1.880850</td>\n",
       "      <td>0.0</td>\n",
       "      <td>0.000000</td>\n",
       "      <td>0.0</td>\n",
       "      <td>1.059312</td>\n",
       "      <td>0.0</td>\n",
       "      <td>0.000000</td>\n",
       "      <td>0.000000</td>\n",
       "      <td>0.0</td>\n",
       "      <td>...</td>\n",
       "      <td>1.663996</td>\n",
       "      <td>0.00000</td>\n",
       "      <td>0.0</td>\n",
       "      <td>0.000000</td>\n",
       "      <td>0.000000</td>\n",
       "      <td>0.0</td>\n",
       "      <td>1.538481</td>\n",
       "      <td>0.0</td>\n",
       "      <td>2.535437</td>\n",
       "      <td>1.994084</td>\n",
       "    </tr>\n",
       "    <tr>\n",
       "      <th>ASV-5</th>\n",
       "      <td>0.000000</td>\n",
       "      <td>1.455966</td>\n",
       "      <td>0.0</td>\n",
       "      <td>0.000000</td>\n",
       "      <td>0.0</td>\n",
       "      <td>0.000000</td>\n",
       "      <td>0.0</td>\n",
       "      <td>0.000000</td>\n",
       "      <td>2.806384</td>\n",
       "      <td>0.0</td>\n",
       "      <td>...</td>\n",
       "      <td>0.000000</td>\n",
       "      <td>0.00000</td>\n",
       "      <td>0.0</td>\n",
       "      <td>0.000000</td>\n",
       "      <td>0.000000</td>\n",
       "      <td>0.0</td>\n",
       "      <td>1.304866</td>\n",
       "      <td>0.0</td>\n",
       "      <td>1.501363</td>\n",
       "      <td>2.086457</td>\n",
       "    </tr>\n",
       "  </tbody>\n",
       "</table>\n",
       "<p>5 rows × 50 columns</p>\n",
       "</div>"
      ],
      "text/plain": [
       "       BAQ2420.1.1  BAQ2420.1.2  BAQ2420.1.3  BAQ2420.2  BAQ2420.3  BAQ2462.1  \\\n",
       "ASV-1     0.000000     0.000000          0.0   0.000000        0.0   0.000000   \n",
       "ASV-2     0.691609     0.000000          0.0   0.976903        0.0   1.259983   \n",
       "ASV-3     0.000000     0.000000          0.0   0.000000        0.0   0.000000   \n",
       "ASV-4     2.007286     1.880850          0.0   0.000000        0.0   1.059312   \n",
       "ASV-5     0.000000     1.455966          0.0   0.000000        0.0   0.000000   \n",
       "\n",
       "       BAQ2462.2  BAQ2462.3  BAQ2687.1  BAQ2687.2  ...  YUN3428.3  \\\n",
       "ASV-1        0.0   0.000000   0.934581        0.0  ...   0.000000   \n",
       "ASV-2        0.0   0.858689   0.000000        0.0  ...   0.000000   \n",
       "ASV-3        0.0   0.000000   1.404585        0.0  ...   0.000000   \n",
       "ASV-4        0.0   0.000000   0.000000        0.0  ...   1.663996   \n",
       "ASV-5        0.0   0.000000   2.806384        0.0  ...   0.000000   \n",
       "\n",
       "       YUN3533.1.2  YUN3533.1.3  YUN3533.2  YUN3533.3  YUN3856.1.1  \\\n",
       "ASV-1      1.15442          0.0   1.075513   1.109562          0.0   \n",
       "ASV-2      0.00000          0.0   1.517346   1.109562          0.0   \n",
       "ASV-3      1.15442          0.0   1.586339   0.000000          0.0   \n",
       "ASV-4      0.00000          0.0   0.000000   0.000000          0.0   \n",
       "ASV-5      0.00000          0.0   0.000000   0.000000          0.0   \n",
       "\n",
       "       YUN3856.1.2  YUN3856.1.3  YUN3856.2  YUN3856.3  \n",
       "ASV-1     1.250798          0.0   0.520534   1.604619  \n",
       "ASV-2     1.133015          0.0   1.293724   2.143616  \n",
       "ASV-3     0.000000          0.0   1.986871   1.695591  \n",
       "ASV-4     1.538481          0.0   2.535437   1.994084  \n",
       "ASV-5     1.304866          0.0   1.501363   2.086457  \n",
       "\n",
       "[5 rows x 50 columns]"
      ]
     },
     "execution_count": 8,
     "metadata": {},
     "output_type": "execute_result"
    }
   ],
   "source": [
    "filtered_counts=(\n",
    "    load_data(\"data/atacama_counts.tsv\")\n",
    "    .pipe(filter_zero_features, threshold=0.8)\n",
    "    .pipe(filter_zero_samples, threshold=0.95)\n",
    "    #.pipe(update_index, processed_taxa)\n",
    "    .pipe(save_dataframe, filename=\"data/org_named_counts.csv\")\n",
    "    .pipe(rename_index_with_sum)\n",
    "    .pipe(save_dataframe, filename=\"data/filtered_counts.csv\")\n",
    "    .pipe(transform_features, transformation=\"mclr\")\n",
    "    .pipe(save_dataframe, filename=\"data/mclr_counts.csv\")\n",
    ")\n",
    "print(filtered_counts.shape)\n",
    "filtered_counts.head()"
   ]
  },
  {
   "cell_type": "code",
   "execution_count": 4,
   "id": "086140ca-9a40-4e60-be95-f76133970236",
   "metadata": {
    "tags": []
   },
   "outputs": [
    {
     "data": {
      "application/vnd.plotly.v1+json": {
       "config": {
        "plotlyServerURL": "https://plot.ly"
       },
       "data": [
        {
         "colorbar": {
          "tickfont": {
           "size": 24
          },
          "title": {
           "font": {
            "size": 24
           },
           "side": "top",
           "text": "counts"
          }
         },
         "colorscale": [
          [
           0,
           "rgb(255,247,243)"
          ],
          [
           0.125,
           "rgb(253,224,221)"
          ],
          [
           0.25,
           "rgb(252,197,192)"
          ],
          [
           0.375,
           "rgb(250,159,181)"
          ],
          [
           0.5,
           "rgb(247,104,161)"
          ],
          [
           0.625,
           "rgb(221,52,151)"
          ],
          [
           0.75,
           "rgb(174,1,126)"
          ],
          [
           0.875,
           "rgb(122,1,119)"
          ],
          [
           1,
           "rgb(73,0,106)"
          ]
         ],
         "type": "heatmap",
         "x": [
          "BAQ2420.1.1",
          "BAQ2420.1.2",
          "BAQ2420.1.3",
          "BAQ2420.2",
          "BAQ2420.3",
          "BAQ2462.1",
          "BAQ2462.2",
          "BAQ2462.3",
          "BAQ2687.1",
          "BAQ2687.2",
          "BAQ2687.3",
          "BAQ2838.1",
          "BAQ2838.2",
          "BAQ2838.3",
          "BAQ3473.1",
          "BAQ3473.2",
          "BAQ3473.3",
          "BAQ4166.1.1",
          "BAQ4166.1.2",
          "BAQ4166.1.3",
          "BAQ4166.2",
          "BAQ4166.3",
          "BAQ4697.1",
          "BAQ4697.2",
          "BAQ4697.3",
          "YUN1242.1",
          "YUN1242.3",
          "YUN1609.1",
          "YUN2029.2",
          "YUN3153.2",
          "YUN3153.3",
          "YUN3259.1.2",
          "YUN3259.1.3",
          "YUN3259.2",
          "YUN3259.3",
          "YUN3346.1",
          "YUN3346.2",
          "YUN3346.3",
          "YUN3428.1",
          "YUN3428.2",
          "YUN3428.3",
          "YUN3533.1.2",
          "YUN3533.1.3",
          "YUN3533.2",
          "YUN3533.3",
          "YUN3856.1.1",
          "YUN3856.1.2",
          "YUN3856.1.3",
          "YUN3856.2",
          "YUN3856.3"
         ],
         "y": [
          "ASV-1",
          "ASV-2",
          "ASV-3",
          "ASV-4",
          "ASV-5",
          "ASV-6",
          "ASV-7",
          "ASV-8",
          "ASV-9",
          "ASV-10",
          "ASV-11",
          "ASV-12",
          "ASV-13"
         ],
         "z": [
          [
           0,
           0,
           0,
           0,
           0,
           0,
           0,
           0,
           10,
           0,
           0,
           0,
           0,
           0,
           0,
           0,
           0,
           0,
           21,
           7,
           18,
           0,
           4,
           0,
           0,
           0,
           0,
           0,
           0,
           0,
           0,
           0,
           0,
           0,
           0,
           0,
           0,
           0,
           0,
           0,
           0,
           10,
           0,
           9,
           17,
           0,
           18,
           0,
           6,
           21
          ],
          [
           11,
           0,
           0,
           7,
           0,
           11,
           0,
           9,
           0,
           0,
           0,
           0,
           0,
           0,
           0,
           0,
           0,
           0,
           10,
           0,
           0,
           0,
           0,
           0,
           0,
           0,
           0,
           0,
           0,
           11,
           8,
           0,
           0,
           0,
           25,
           0,
           0,
           0,
           0,
           0,
           0,
           0,
           0,
           14,
           17,
           0,
           16,
           0,
           13,
           36
          ],
          [
           0,
           0,
           0,
           0,
           0,
           0,
           0,
           0,
           16,
           0,
           0,
           0,
           0,
           0,
           25,
           0,
           48,
           10,
           13,
           0,
           0,
           13,
           0,
           0,
           0,
           0,
           0,
           0,
           0,
           0,
           0,
           0,
           0,
           0,
           0,
           0,
           0,
           0,
           0,
           39,
           0,
           10,
           0,
           15,
           0,
           0,
           0,
           0,
           26,
           23
          ],
          [
           41,
           26,
           0,
           0,
           0,
           9,
           0,
           0,
           0,
           0,
           16,
           9,
           0,
           0,
           0,
           17,
           0,
           0,
           0,
           0,
           0,
           0,
           0,
           0,
           0,
           0,
           0,
           0,
           0,
           0,
           0,
           12,
           5,
           19,
           26,
           0,
           0,
           0,
           0,
           9,
           18,
           0,
           0,
           0,
           0,
           0,
           24,
           0,
           45,
           31
          ],
          [
           0,
           17,
           0,
           0,
           0,
           0,
           0,
           0,
           65,
           0,
           0,
           0,
           0,
           0,
           0,
           39,
           0,
           0,
           108,
           65,
           84,
           76,
           0,
           0,
           0,
           0,
           0,
           0,
           0,
           0,
           0,
           0,
           0,
           0,
           9,
           0,
           0,
           0,
           0,
           0,
           0,
           0,
           0,
           0,
           0,
           0,
           19,
           0,
           16,
           34
          ],
          [
           35,
           45,
           0,
           0,
           39,
           65,
           103,
           24,
           0,
           34,
           20,
           16,
           11,
           0,
           0,
           0,
           0,
           0,
           0,
           0,
           0,
           0,
           0,
           0,
           0,
           0,
           35,
           33,
           27,
           24,
           12,
           0,
           0,
           14,
           0,
           17,
           0,
           12,
           0,
           13,
           0,
           17,
           0,
           0,
           0,
           0,
           0,
           0,
           0,
           0
          ],
          [
           0,
           0,
           0,
           0,
           0,
           0,
           0,
           0,
           0,
           0,
           0,
           21,
           0,
           0,
           0,
           12,
           0,
           16,
           0,
           0,
           37,
           22,
           66,
           74,
           65,
           0,
           0,
           0,
           0,
           0,
           0,
           39,
           0,
           42,
           0,
           0,
           0,
           0,
           18,
           14,
           16,
           9,
           0,
           11,
           30,
           54,
           26,
           0,
           25,
           22
          ],
          [
           0,
           59,
           46,
           37,
           13,
           0,
           0,
           0,
           0,
           0,
           0,
           0,
           0,
           0,
           0,
           0,
           0,
           0,
           0,
           0,
           0,
           0,
           0,
           0,
           0,
           0,
           0,
           0,
           0,
           0,
           0,
           15,
           0,
           0,
           0,
           0,
           0,
           0,
           75,
           62,
           68,
           70,
           35,
           38,
           65,
           0,
           64,
           0,
           0,
           77
          ],
          [
           0,
           0,
           0,
           0,
           0,
           0,
           0,
           0,
           73,
           0,
           0,
           0,
           0,
           0,
           230,
           65,
           209,
           0,
           53,
           0,
           0,
           0,
           122,
           31,
           48,
           0,
           0,
           0,
           0,
           0,
           0,
           0,
           0,
           46,
           0,
           0,
           0,
           0,
           0,
           0,
           22,
           43,
           0,
           0,
           0,
           0,
           0,
           66,
           0,
           0
          ],
          [
           67,
           20,
           0,
           0,
           0,
           0,
           0,
           0,
           0,
           0,
           15,
           42,
           0,
           23,
           42,
           62,
           0,
           0,
           62,
           118,
           0,
           111,
           17,
           38,
           50,
           0,
           0,
           0,
           0,
           8,
           6,
           51,
           0,
           59,
           48,
           25,
           0,
           28,
           0,
           0,
           0,
           0,
           0,
           76,
           74,
           0,
           0,
           0,
           70,
           0
          ],
          [
           115,
           0,
           0,
           0,
           34,
           0,
           89,
           44,
           0,
           91,
           0,
           0,
           49,
           0,
           0,
           0,
           0,
           0,
           0,
           0,
           0,
           0,
           0,
           0,
           0,
           19,
           110,
           61,
           260,
           119,
           112,
           0,
           0,
           0,
           0,
           0,
           0,
           54,
           0,
           0,
           0,
           0,
           0,
           0,
           0,
           0,
           0,
           28,
           0,
           33
          ],
          [
           0,
           0,
           0,
           30,
           43,
           47,
           21,
           71,
           0,
           0,
           0,
           49,
           0,
           14,
           0,
           0,
           0,
           0,
           0,
           0,
           0,
           0,
           0,
           0,
           0,
           23,
           175,
           771,
           0,
           0,
           0,
           23,
           0,
           22,
           20,
           18,
           0,
           0,
           0,
           0,
           0,
           0,
           0,
           0,
           0,
           0,
           0,
           27,
           0,
           0
          ],
          [
           0,
           0,
           0,
           0,
           0,
           0,
           0,
           0,
           0,
           0,
           0,
           0,
           0,
           0,
           0,
           65,
           0,
           0,
           0,
           0,
           11,
           24,
           0,
           0,
           0,
           0,
           0,
           0,
           0,
           0,
           0,
           0,
           0,
           0,
           0,
           0,
           53,
           70,
           0,
           64,
           0,
           91,
           174,
           58,
           134,
           0,
           598,
           0,
           104,
           0
          ]
         ]
        }
       ],
       "layout": {
        "height": 500,
        "template": {
         "data": {
          "bar": [
           {
            "error_x": {
             "color": "#2a3f5f"
            },
            "error_y": {
             "color": "#2a3f5f"
            },
            "marker": {
             "line": {
              "color": "#E5ECF6",
              "width": 0.5
             },
             "pattern": {
              "fillmode": "overlay",
              "size": 10,
              "solidity": 0.2
             }
            },
            "type": "bar"
           }
          ],
          "barpolar": [
           {
            "marker": {
             "line": {
              "color": "#E5ECF6",
              "width": 0.5
             },
             "pattern": {
              "fillmode": "overlay",
              "size": 10,
              "solidity": 0.2
             }
            },
            "type": "barpolar"
           }
          ],
          "carpet": [
           {
            "aaxis": {
             "endlinecolor": "#2a3f5f",
             "gridcolor": "white",
             "linecolor": "white",
             "minorgridcolor": "white",
             "startlinecolor": "#2a3f5f"
            },
            "baxis": {
             "endlinecolor": "#2a3f5f",
             "gridcolor": "white",
             "linecolor": "white",
             "minorgridcolor": "white",
             "startlinecolor": "#2a3f5f"
            },
            "type": "carpet"
           }
          ],
          "choropleth": [
           {
            "colorbar": {
             "outlinewidth": 0,
             "ticks": ""
            },
            "type": "choropleth"
           }
          ],
          "contour": [
           {
            "colorbar": {
             "outlinewidth": 0,
             "ticks": ""
            },
            "colorscale": [
             [
              0,
              "#0d0887"
             ],
             [
              0.1111111111111111,
              "#46039f"
             ],
             [
              0.2222222222222222,
              "#7201a8"
             ],
             [
              0.3333333333333333,
              "#9c179e"
             ],
             [
              0.4444444444444444,
              "#bd3786"
             ],
             [
              0.5555555555555556,
              "#d8576b"
             ],
             [
              0.6666666666666666,
              "#ed7953"
             ],
             [
              0.7777777777777778,
              "#fb9f3a"
             ],
             [
              0.8888888888888888,
              "#fdca26"
             ],
             [
              1,
              "#f0f921"
             ]
            ],
            "type": "contour"
           }
          ],
          "contourcarpet": [
           {
            "colorbar": {
             "outlinewidth": 0,
             "ticks": ""
            },
            "type": "contourcarpet"
           }
          ],
          "heatmap": [
           {
            "colorbar": {
             "outlinewidth": 0,
             "ticks": ""
            },
            "colorscale": [
             [
              0,
              "#0d0887"
             ],
             [
              0.1111111111111111,
              "#46039f"
             ],
             [
              0.2222222222222222,
              "#7201a8"
             ],
             [
              0.3333333333333333,
              "#9c179e"
             ],
             [
              0.4444444444444444,
              "#bd3786"
             ],
             [
              0.5555555555555556,
              "#d8576b"
             ],
             [
              0.6666666666666666,
              "#ed7953"
             ],
             [
              0.7777777777777778,
              "#fb9f3a"
             ],
             [
              0.8888888888888888,
              "#fdca26"
             ],
             [
              1,
              "#f0f921"
             ]
            ],
            "type": "heatmap"
           }
          ],
          "heatmapgl": [
           {
            "colorbar": {
             "outlinewidth": 0,
             "ticks": ""
            },
            "colorscale": [
             [
              0,
              "#0d0887"
             ],
             [
              0.1111111111111111,
              "#46039f"
             ],
             [
              0.2222222222222222,
              "#7201a8"
             ],
             [
              0.3333333333333333,
              "#9c179e"
             ],
             [
              0.4444444444444444,
              "#bd3786"
             ],
             [
              0.5555555555555556,
              "#d8576b"
             ],
             [
              0.6666666666666666,
              "#ed7953"
             ],
             [
              0.7777777777777778,
              "#fb9f3a"
             ],
             [
              0.8888888888888888,
              "#fdca26"
             ],
             [
              1,
              "#f0f921"
             ]
            ],
            "type": "heatmapgl"
           }
          ],
          "histogram": [
           {
            "marker": {
             "pattern": {
              "fillmode": "overlay",
              "size": 10,
              "solidity": 0.2
             }
            },
            "type": "histogram"
           }
          ],
          "histogram2d": [
           {
            "colorbar": {
             "outlinewidth": 0,
             "ticks": ""
            },
            "colorscale": [
             [
              0,
              "#0d0887"
             ],
             [
              0.1111111111111111,
              "#46039f"
             ],
             [
              0.2222222222222222,
              "#7201a8"
             ],
             [
              0.3333333333333333,
              "#9c179e"
             ],
             [
              0.4444444444444444,
              "#bd3786"
             ],
             [
              0.5555555555555556,
              "#d8576b"
             ],
             [
              0.6666666666666666,
              "#ed7953"
             ],
             [
              0.7777777777777778,
              "#fb9f3a"
             ],
             [
              0.8888888888888888,
              "#fdca26"
             ],
             [
              1,
              "#f0f921"
             ]
            ],
            "type": "histogram2d"
           }
          ],
          "histogram2dcontour": [
           {
            "colorbar": {
             "outlinewidth": 0,
             "ticks": ""
            },
            "colorscale": [
             [
              0,
              "#0d0887"
             ],
             [
              0.1111111111111111,
              "#46039f"
             ],
             [
              0.2222222222222222,
              "#7201a8"
             ],
             [
              0.3333333333333333,
              "#9c179e"
             ],
             [
              0.4444444444444444,
              "#bd3786"
             ],
             [
              0.5555555555555556,
              "#d8576b"
             ],
             [
              0.6666666666666666,
              "#ed7953"
             ],
             [
              0.7777777777777778,
              "#fb9f3a"
             ],
             [
              0.8888888888888888,
              "#fdca26"
             ],
             [
              1,
              "#f0f921"
             ]
            ],
            "type": "histogram2dcontour"
           }
          ],
          "mesh3d": [
           {
            "colorbar": {
             "outlinewidth": 0,
             "ticks": ""
            },
            "type": "mesh3d"
           }
          ],
          "parcoords": [
           {
            "line": {
             "colorbar": {
              "outlinewidth": 0,
              "ticks": ""
             }
            },
            "type": "parcoords"
           }
          ],
          "pie": [
           {
            "automargin": true,
            "type": "pie"
           }
          ],
          "scatter": [
           {
            "fillpattern": {
             "fillmode": "overlay",
             "size": 10,
             "solidity": 0.2
            },
            "type": "scatter"
           }
          ],
          "scatter3d": [
           {
            "line": {
             "colorbar": {
              "outlinewidth": 0,
              "ticks": ""
             }
            },
            "marker": {
             "colorbar": {
              "outlinewidth": 0,
              "ticks": ""
             }
            },
            "type": "scatter3d"
           }
          ],
          "scattercarpet": [
           {
            "marker": {
             "colorbar": {
              "outlinewidth": 0,
              "ticks": ""
             }
            },
            "type": "scattercarpet"
           }
          ],
          "scattergeo": [
           {
            "marker": {
             "colorbar": {
              "outlinewidth": 0,
              "ticks": ""
             }
            },
            "type": "scattergeo"
           }
          ],
          "scattergl": [
           {
            "marker": {
             "colorbar": {
              "outlinewidth": 0,
              "ticks": ""
             }
            },
            "type": "scattergl"
           }
          ],
          "scattermapbox": [
           {
            "marker": {
             "colorbar": {
              "outlinewidth": 0,
              "ticks": ""
             }
            },
            "type": "scattermapbox"
           }
          ],
          "scatterpolar": [
           {
            "marker": {
             "colorbar": {
              "outlinewidth": 0,
              "ticks": ""
             }
            },
            "type": "scatterpolar"
           }
          ],
          "scatterpolargl": [
           {
            "marker": {
             "colorbar": {
              "outlinewidth": 0,
              "ticks": ""
             }
            },
            "type": "scatterpolargl"
           }
          ],
          "scatterternary": [
           {
            "marker": {
             "colorbar": {
              "outlinewidth": 0,
              "ticks": ""
             }
            },
            "type": "scatterternary"
           }
          ],
          "surface": [
           {
            "colorbar": {
             "outlinewidth": 0,
             "ticks": ""
            },
            "colorscale": [
             [
              0,
              "#0d0887"
             ],
             [
              0.1111111111111111,
              "#46039f"
             ],
             [
              0.2222222222222222,
              "#7201a8"
             ],
             [
              0.3333333333333333,
              "#9c179e"
             ],
             [
              0.4444444444444444,
              "#bd3786"
             ],
             [
              0.5555555555555556,
              "#d8576b"
             ],
             [
              0.6666666666666666,
              "#ed7953"
             ],
             [
              0.7777777777777778,
              "#fb9f3a"
             ],
             [
              0.8888888888888888,
              "#fdca26"
             ],
             [
              1,
              "#f0f921"
             ]
            ],
            "type": "surface"
           }
          ],
          "table": [
           {
            "cells": {
             "fill": {
              "color": "#EBF0F8"
             },
             "line": {
              "color": "white"
             }
            },
            "header": {
             "fill": {
              "color": "#C8D4E3"
             },
             "line": {
              "color": "white"
             }
            },
            "type": "table"
           }
          ]
         },
         "layout": {
          "annotationdefaults": {
           "arrowcolor": "#2a3f5f",
           "arrowhead": 0,
           "arrowwidth": 1
          },
          "autotypenumbers": "strict",
          "coloraxis": {
           "colorbar": {
            "outlinewidth": 0,
            "ticks": ""
           }
          },
          "colorscale": {
           "diverging": [
            [
             0,
             "#8e0152"
            ],
            [
             0.1,
             "#c51b7d"
            ],
            [
             0.2,
             "#de77ae"
            ],
            [
             0.3,
             "#f1b6da"
            ],
            [
             0.4,
             "#fde0ef"
            ],
            [
             0.5,
             "#f7f7f7"
            ],
            [
             0.6,
             "#e6f5d0"
            ],
            [
             0.7,
             "#b8e186"
            ],
            [
             0.8,
             "#7fbc41"
            ],
            [
             0.9,
             "#4d9221"
            ],
            [
             1,
             "#276419"
            ]
           ],
           "sequential": [
            [
             0,
             "#0d0887"
            ],
            [
             0.1111111111111111,
             "#46039f"
            ],
            [
             0.2222222222222222,
             "#7201a8"
            ],
            [
             0.3333333333333333,
             "#9c179e"
            ],
            [
             0.4444444444444444,
             "#bd3786"
            ],
            [
             0.5555555555555556,
             "#d8576b"
            ],
            [
             0.6666666666666666,
             "#ed7953"
            ],
            [
             0.7777777777777778,
             "#fb9f3a"
            ],
            [
             0.8888888888888888,
             "#fdca26"
            ],
            [
             1,
             "#f0f921"
            ]
           ],
           "sequentialminus": [
            [
             0,
             "#0d0887"
            ],
            [
             0.1111111111111111,
             "#46039f"
            ],
            [
             0.2222222222222222,
             "#7201a8"
            ],
            [
             0.3333333333333333,
             "#9c179e"
            ],
            [
             0.4444444444444444,
             "#bd3786"
            ],
            [
             0.5555555555555556,
             "#d8576b"
            ],
            [
             0.6666666666666666,
             "#ed7953"
            ],
            [
             0.7777777777777778,
             "#fb9f3a"
            ],
            [
             0.8888888888888888,
             "#fdca26"
            ],
            [
             1,
             "#f0f921"
            ]
           ]
          },
          "colorway": [
           "#636efa",
           "#EF553B",
           "#00cc96",
           "#ab63fa",
           "#FFA15A",
           "#19d3f3",
           "#FF6692",
           "#B6E880",
           "#FF97FF",
           "#FECB52"
          ],
          "font": {
           "color": "#2a3f5f"
          },
          "geo": {
           "bgcolor": "white",
           "lakecolor": "white",
           "landcolor": "#E5ECF6",
           "showlakes": true,
           "showland": true,
           "subunitcolor": "white"
          },
          "hoverlabel": {
           "align": "left"
          },
          "hovermode": "closest",
          "mapbox": {
           "style": "light"
          },
          "paper_bgcolor": "white",
          "plot_bgcolor": "#E5ECF6",
          "polar": {
           "angularaxis": {
            "gridcolor": "white",
            "linecolor": "white",
            "ticks": ""
           },
           "bgcolor": "#E5ECF6",
           "radialaxis": {
            "gridcolor": "white",
            "linecolor": "white",
            "ticks": ""
           }
          },
          "scene": {
           "xaxis": {
            "backgroundcolor": "#E5ECF6",
            "gridcolor": "white",
            "gridwidth": 2,
            "linecolor": "white",
            "showbackground": true,
            "ticks": "",
            "zerolinecolor": "white"
           },
           "yaxis": {
            "backgroundcolor": "#E5ECF6",
            "gridcolor": "white",
            "gridwidth": 2,
            "linecolor": "white",
            "showbackground": true,
            "ticks": "",
            "zerolinecolor": "white"
           },
           "zaxis": {
            "backgroundcolor": "#E5ECF6",
            "gridcolor": "white",
            "gridwidth": 2,
            "linecolor": "white",
            "showbackground": true,
            "ticks": "",
            "zerolinecolor": "white"
           }
          },
          "shapedefaults": {
           "line": {
            "color": "#2a3f5f"
           }
          },
          "ternary": {
           "aaxis": {
            "gridcolor": "white",
            "linecolor": "white",
            "ticks": ""
           },
           "baxis": {
            "gridcolor": "white",
            "linecolor": "white",
            "ticks": ""
           },
           "bgcolor": "#E5ECF6",
           "caxis": {
            "gridcolor": "white",
            "linecolor": "white",
            "ticks": ""
           }
          },
          "title": {
           "x": 0.05
          },
          "xaxis": {
           "automargin": true,
           "gridcolor": "white",
           "linecolor": "white",
           "ticks": "",
           "title": {
            "standoff": 15
           },
           "zerolinecolor": "white",
           "zerolinewidth": 2
          },
          "yaxis": {
           "automargin": true,
           "gridcolor": "white",
           "linecolor": "white",
           "ticks": "",
           "title": {
            "standoff": 15
           },
           "zerolinecolor": "white",
           "zerolinewidth": 2
          }
         }
        },
        "width": 1400,
        "xaxis": {
         "autorange": true,
         "range": [
          -0.5,
          49.5
         ],
         "tickangle": 45,
         "title": {
          "font": {
           "size": 54
          },
          "text": "Samples"
         },
         "type": "category"
        },
        "yaxis": {
         "autorange": true,
         "range": [
          -0.5,
          12.5
         ],
         "title": {
          "font": {
           "size": 54
          },
          "text": "Taxa"
         },
         "type": "category"
        }
       }
      },
      "image/png": "[encoded data removed]",
      "text/html": [
       "<div>                            <div id=\"48f0ebba-f8f9-4e32-b8f4-6f48c078e5f1\" class=\"plotly-graph-div\" style=\"height:500px; width:1400px;\"></div>            <script type=\"text/javascript\">                require([\"plotly\"], function(Plotly) {                    window.PLOTLYENV=window.PLOTLYENV || {};                                    if (document.getElementById(\"48f0ebba-f8f9-4e32-b8f4-6f48c078e5f1\")) {                    Plotly.newPlot(                        \"48f0ebba-f8f9-4e32-b8f4-6f48c078e5f1\",                        [{\"colorbar\":{\"tickfont\":{\"size\":24},\"title\":{\"font\":{\"size\":24},\"side\":\"top\",\"text\":\"counts\"}},\"colorscale\":[[0.0,\"rgb(255,247,243)\"],[0.125,\"rgb(253,224,221)\"],[0.25,\"rgb(252,197,192)\"],[0.375,\"rgb(250,159,181)\"],[0.5,\"rgb(247,104,161)\"],[0.625,\"rgb(221,52,151)\"],[0.75,\"rgb(174,1,126)\"],[0.875,\"rgb(122,1,119)\"],[1.0,\"rgb(73,0,106)\"]],\"x\":[\"BAQ2420.1.1\",\"BAQ2420.1.2\",\"BAQ2420.1.3\",\"BAQ2420.2\",\"BAQ2420.3\",\"BAQ2462.1\",\"BAQ2462.2\",\"BAQ2462.3\",\"BAQ2687.1\",\"BAQ2687.2\",\"BAQ2687.3\",\"BAQ2838.1\",\"BAQ2838.2\",\"BAQ2838.3\",\"BAQ3473.1\",\"BAQ3473.2\",\"BAQ3473.3\",\"BAQ4166.1.1\",\"BAQ4166.1.2\",\"BAQ4166.1.3\",\"BAQ4166.2\",\"BAQ4166.3\",\"BAQ4697.1\",\"BAQ4697.2\",\"BAQ4697.3\",\"YUN1242.1\",\"YUN1242.3\",\"YUN1609.1\",\"YUN2029.2\",\"YUN3153.2\",\"YUN3153.3\",\"YUN3259.1.2\",\"YUN3259.1.3\",\"YUN3259.2\",\"YUN3259.3\",\"YUN3346.1\",\"YUN3346.2\",\"YUN3346.3\",\"YUN3428.1\",\"YUN3428.2\",\"YUN3428.3\",\"YUN3533.1.2\",\"YUN3533.1.3\",\"YUN3533.2\",\"YUN3533.3\",\"YUN3856.1.1\",\"YUN3856.1.2\",\"YUN3856.1.3\",\"YUN3856.2\",\"YUN3856.3\"],\"y\":[\"ASV-1\",\"ASV-2\",\"ASV-3\",\"ASV-4\",\"ASV-5\",\"ASV-6\",\"ASV-7\",\"ASV-8\",\"ASV-9\",\"ASV-10\",\"ASV-11\",\"ASV-12\",\"ASV-13\"],\"z\":[[0.0,0.0,0.0,0.0,0.0,0.0,0.0,0.0,10.0,0.0,0.0,0.0,0.0,0.0,0.0,0.0,0.0,0.0,21.0,7.0,18.0,0.0,4.0,0.0,0.0,0.0,0.0,0.0,0.0,0.0,0.0,0.0,0.0,0.0,0.0,0.0,0.0,0.0,0.0,0.0,0.0,10.0,0.0,9.0,17.0,0.0,18.0,0.0,6.0,21.0],[11.0,0.0,0.0,7.0,0.0,11.0,0.0,9.0,0.0,0.0,0.0,0.0,0.0,0.0,0.0,0.0,0.0,0.0,10.0,0.0,0.0,0.0,0.0,0.0,0.0,0.0,0.0,0.0,0.0,11.0,8.0,0.0,0.0,0.0,25.0,0.0,0.0,0.0,0.0,0.0,0.0,0.0,0.0,14.0,17.0,0.0,16.0,0.0,13.0,36.0],[0.0,0.0,0.0,0.0,0.0,0.0,0.0,0.0,16.0,0.0,0.0,0.0,0.0,0.0,25.0,0.0,48.0,10.0,13.0,0.0,0.0,13.0,0.0,0.0,0.0,0.0,0.0,0.0,0.0,0.0,0.0,0.0,0.0,0.0,0.0,0.0,0.0,0.0,0.0,39.0,0.0,10.0,0.0,15.0,0.0,0.0,0.0,0.0,26.0,23.0],[41.0,26.0,0.0,0.0,0.0,9.0,0.0,0.0,0.0,0.0,16.0,9.0,0.0,0.0,0.0,17.0,0.0,0.0,0.0,0.0,0.0,0.0,0.0,0.0,0.0,0.0,0.0,0.0,0.0,0.0,0.0,12.0,5.0,19.0,26.0,0.0,0.0,0.0,0.0,9.0,18.0,0.0,0.0,0.0,0.0,0.0,24.0,0.0,45.0,31.0],[0.0,17.0,0.0,0.0,0.0,0.0,0.0,0.0,65.0,0.0,0.0,0.0,0.0,0.0,0.0,39.0,0.0,0.0,108.0,65.0,84.0,76.0,0.0,0.0,0.0,0.0,0.0,0.0,0.0,0.0,0.0,0.0,0.0,0.0,9.0,0.0,0.0,0.0,0.0,0.0,0.0,0.0,0.0,0.0,0.0,0.0,19.0,0.0,16.0,34.0],[35.0,45.0,0.0,0.0,39.0,65.0,103.0,24.0,0.0,34.0,20.0,16.0,11.0,0.0,0.0,0.0,0.0,0.0,0.0,0.0,0.0,0.0,0.0,0.0,0.0,0.0,35.0,33.0,27.0,24.0,12.0,0.0,0.0,14.0,0.0,17.0,0.0,12.0,0.0,13.0,0.0,17.0,0.0,0.0,0.0,0.0,0.0,0.0,0.0,0.0],[0.0,0.0,0.0,0.0,0.0,0.0,0.0,0.0,0.0,0.0,0.0,21.0,0.0,0.0,0.0,12.0,0.0,16.0,0.0,0.0,37.0,22.0,66.0,74.0,65.0,0.0,0.0,0.0,0.0,0.0,0.0,39.0,0.0,42.0,0.0,0.0,0.0,0.0,18.0,14.0,16.0,9.0,0.0,11.0,30.0,54.0,26.0,0.0,25.0,22.0],[0.0,59.0,46.0,37.0,13.0,0.0,0.0,0.0,0.0,0.0,0.0,0.0,0.0,0.0,0.0,0.0,0.0,0.0,0.0,0.0,0.0,0.0,0.0,0.0,0.0,0.0,0.0,0.0,0.0,0.0,0.0,15.0,0.0,0.0,0.0,0.0,0.0,0.0,75.0,62.0,68.0,70.0,35.0,38.0,65.0,0.0,64.0,0.0,0.0,77.0],[0.0,0.0,0.0,0.0,0.0,0.0,0.0,0.0,73.0,0.0,0.0,0.0,0.0,0.0,230.0,65.0,209.0,0.0,53.0,0.0,0.0,0.0,122.0,31.0,48.0,0.0,0.0,0.0,0.0,0.0,0.0,0.0,0.0,46.0,0.0,0.0,0.0,0.0,0.0,0.0,22.0,43.0,0.0,0.0,0.0,0.0,0.0,66.0,0.0,0.0],[67.0,20.0,0.0,0.0,0.0,0.0,0.0,0.0,0.0,0.0,15.0,42.0,0.0,23.0,42.0,62.0,0.0,0.0,62.0,118.0,0.0,111.0,17.0,38.0,50.0,0.0,0.0,0.0,0.0,8.0,6.0,51.0,0.0,59.0,48.0,25.0,0.0,28.0,0.0,0.0,0.0,0.0,0.0,76.0,74.0,0.0,0.0,0.0,70.0,0.0],[115.0,0.0,0.0,0.0,34.0,0.0,89.0,44.0,0.0,91.0,0.0,0.0,49.0,0.0,0.0,0.0,0.0,0.0,0.0,0.0,0.0,0.0,0.0,0.0,0.0,19.0,110.0,61.0,260.0,119.0,112.0,0.0,0.0,0.0,0.0,0.0,0.0,54.0,0.0,0.0,0.0,0.0,0.0,0.0,0.0,0.0,0.0,28.0,0.0,33.0],[0.0,0.0,0.0,30.0,43.0,47.0,21.0,71.0,0.0,0.0,0.0,49.0,0.0,14.0,0.0,0.0,0.0,0.0,0.0,0.0,0.0,0.0,0.0,0.0,0.0,23.0,175.0,771.0,0.0,0.0,0.0,23.0,0.0,22.0,20.0,18.0,0.0,0.0,0.0,0.0,0.0,0.0,0.0,0.0,0.0,0.0,0.0,27.0,0.0,0.0],[0.0,0.0,0.0,0.0,0.0,0.0,0.0,0.0,0.0,0.0,0.0,0.0,0.0,0.0,0.0,65.0,0.0,0.0,0.0,0.0,11.0,24.0,0.0,0.0,0.0,0.0,0.0,0.0,0.0,0.0,0.0,0.0,0.0,0.0,0.0,0.0,53.0,70.0,0.0,64.0,0.0,91.0,174.0,58.0,134.0,0.0,598.0,0.0,104.0,0.0]],\"type\":\"heatmap\"}],                        {\"height\":500,\"width\":1400,\"xaxis\":{\"tickangle\":45,\"title\":{\"font\":{\"size\":54},\"text\":\"Samples\"}},\"yaxis\":{\"title\":{\"font\":{\"size\":54},\"text\":\"Taxa\"}},\"template\":{\"data\":{\"histogram2dcontour\":[{\"type\":\"histogram2dcontour\",\"colorbar\":{\"outlinewidth\":0,\"ticks\":\"\"},\"colorscale\":[[0.0,\"#0d0887\"],[0.1111111111111111,\"#46039f\"],[0.2222222222222222,\"#7201a8\"],[0.3333333333333333,\"#9c179e\"],[0.4444444444444444,\"#bd3786\"],[0.5555555555555556,\"#d8576b\"],[0.6666666666666666,\"#ed7953\"],[0.7777777777777778,\"#fb9f3a\"],[0.8888888888888888,\"#fdca26\"],[1.0,\"#f0f921\"]]}],\"choropleth\":[{\"type\":\"choropleth\",\"colorbar\":{\"outlinewidth\":0,\"ticks\":\"\"}}],\"histogram2d\":[{\"type\":\"histogram2d\",\"colorbar\":{\"outlinewidth\":0,\"ticks\":\"\"},\"colorscale\":[[0.0,\"#0d0887\"],[0.1111111111111111,\"#46039f\"],[0.2222222222222222,\"#7201a8\"],[0.3333333333333333,\"#9c179e\"],[0.4444444444444444,\"#bd3786\"],[0.5555555555555556,\"#d8576b\"],[0.6666666666666666,\"#ed7953\"],[0.7777777777777778,\"#fb9f3a\"],[0.8888888888888888,\"#fdca26\"],[1.0,\"#f0f921\"]]}],\"heatmap\":[{\"type\":\"heatmap\",\"colorbar\":{\"outlinewidth\":0,\"ticks\":\"\"},\"colorscale\":[[0.0,\"#0d0887\"],[0.1111111111111111,\"#46039f\"],[0.2222222222222222,\"#7201a8\"],[0.3333333333333333,\"#9c179e\"],[0.4444444444444444,\"#bd3786\"],[0.5555555555555556,\"#d8576b\"],[0.6666666666666666,\"#ed7953\"],[0.7777777777777778,\"#fb9f3a\"],[0.8888888888888888,\"#fdca26\"],[1.0,\"#f0f921\"]]}],\"heatmapgl\":[{\"type\":\"heatmapgl\",\"colorbar\":{\"outlinewidth\":0,\"ticks\":\"\"},\"colorscale\":[[0.0,\"#0d0887\"],[0.1111111111111111,\"#46039f\"],[0.2222222222222222,\"#7201a8\"],[0.3333333333333333,\"#9c179e\"],[0.4444444444444444,\"#bd3786\"],[0.5555555555555556,\"#d8576b\"],[0.6666666666666666,\"#ed7953\"],[0.7777777777777778,\"#fb9f3a\"],[0.8888888888888888,\"#fdca26\"],[1.0,\"#f0f921\"]]}],\"contourcarpet\":[{\"type\":\"contourcarpet\",\"colorbar\":{\"outlinewidth\":0,\"ticks\":\"\"}}],\"contour\":[{\"type\":\"contour\",\"colorbar\":{\"outlinewidth\":0,\"ticks\":\"\"},\"colorscale\":[[0.0,\"#0d0887\"],[0.1111111111111111,\"#46039f\"],[0.2222222222222222,\"#7201a8\"],[0.3333333333333333,\"#9c179e\"],[0.4444444444444444,\"#bd3786\"],[0.5555555555555556,\"#d8576b\"],[0.6666666666666666,\"#ed7953\"],[0.7777777777777778,\"#fb9f3a\"],[0.8888888888888888,\"#fdca26\"],[1.0,\"#f0f921\"]]}],\"surface\":[{\"type\":\"surface\",\"colorbar\":{\"outlinewidth\":0,\"ticks\":\"\"},\"colorscale\":[[0.0,\"#0d0887\"],[0.1111111111111111,\"#46039f\"],[0.2222222222222222,\"#7201a8\"],[0.3333333333333333,\"#9c179e\"],[0.4444444444444444,\"#bd3786\"],[0.5555555555555556,\"#d8576b\"],[0.6666666666666666,\"#ed7953\"],[0.7777777777777778,\"#fb9f3a\"],[0.8888888888888888,\"#fdca26\"],[1.0,\"#f0f921\"]]}],\"mesh3d\":[{\"type\":\"mesh3d\",\"colorbar\":{\"outlinewidth\":0,\"ticks\":\"\"}}],\"scatter\":[{\"fillpattern\":{\"fillmode\":\"overlay\",\"size\":10,\"solidity\":0.2},\"type\":\"scatter\"}],\"parcoords\":[{\"type\":\"parcoords\",\"line\":{\"colorbar\":{\"outlinewidth\":0,\"ticks\":\"\"}}}],\"scatterpolargl\":[{\"type\":\"scatterpolargl\",\"marker\":{\"colorbar\":{\"outlinewidth\":0,\"ticks\":\"\"}}}],\"bar\":[{\"error_x\":{\"color\":\"#2a3f5f\"},\"error_y\":{\"color\":\"#2a3f5f\"},\"marker\":{\"line\":{\"color\":\"#E5ECF6\",\"width\":0.5},\"pattern\":{\"fillmode\":\"overlay\",\"size\":10,\"solidity\":0.2}},\"type\":\"bar\"}],\"scattergeo\":[{\"type\":\"scattergeo\",\"marker\":{\"colorbar\":{\"outlinewidth\":0,\"ticks\":\"\"}}}],\"scatterpolar\":[{\"type\":\"scatterpolar\",\"marker\":{\"colorbar\":{\"outlinewidth\":0,\"ticks\":\"\"}}}],\"histogram\":[{\"marker\":{\"pattern\":{\"fillmode\":\"overlay\",\"size\":10,\"solidity\":0.2}},\"type\":\"histogram\"}],\"scattergl\":[{\"type\":\"scattergl\",\"marker\":{\"colorbar\":{\"outlinewidth\":0,\"ticks\":\"\"}}}],\"scatter3d\":[{\"type\":\"scatter3d\",\"line\":{\"colorbar\":{\"outlinewidth\":0,\"ticks\":\"\"}},\"marker\":{\"colorbar\":{\"outlinewidth\":0,\"ticks\":\"\"}}}],\"scattermapbox\":[{\"type\":\"scattermapbox\",\"marker\":{\"colorbar\":{\"outlinewidth\":0,\"ticks\":\"\"}}}],\"scatterternary\":[{\"type\":\"scatterternary\",\"marker\":{\"colorbar\":{\"outlinewidth\":0,\"ticks\":\"\"}}}],\"scattercarpet\":[{\"type\":\"scattercarpet\",\"marker\":{\"colorbar\":{\"outlinewidth\":0,\"ticks\":\"\"}}}],\"carpet\":[{\"aaxis\":{\"endlinecolor\":\"#2a3f5f\",\"gridcolor\":\"white\",\"linecolor\":\"white\",\"minorgridcolor\":\"white\",\"startlinecolor\":\"#2a3f5f\"},\"baxis\":{\"endlinecolor\":\"#2a3f5f\",\"gridcolor\":\"white\",\"linecolor\":\"white\",\"minorgridcolor\":\"white\",\"startlinecolor\":\"#2a3f5f\"},\"type\":\"carpet\"}],\"table\":[{\"cells\":{\"fill\":{\"color\":\"#EBF0F8\"},\"line\":{\"color\":\"white\"}},\"header\":{\"fill\":{\"color\":\"#C8D4E3\"},\"line\":{\"color\":\"white\"}},\"type\":\"table\"}],\"barpolar\":[{\"marker\":{\"line\":{\"color\":\"#E5ECF6\",\"width\":0.5},\"pattern\":{\"fillmode\":\"overlay\",\"size\":10,\"solidity\":0.2}},\"type\":\"barpolar\"}],\"pie\":[{\"automargin\":true,\"type\":\"pie\"}]},\"layout\":{\"autotypenumbers\":\"strict\",\"colorway\":[\"#636efa\",\"#EF553B\",\"#00cc96\",\"#ab63fa\",\"#FFA15A\",\"#19d3f3\",\"#FF6692\",\"#B6E880\",\"#FF97FF\",\"#FECB52\"],\"font\":{\"color\":\"#2a3f5f\"},\"hovermode\":\"closest\",\"hoverlabel\":{\"align\":\"left\"},\"paper_bgcolor\":\"white\",\"plot_bgcolor\":\"#E5ECF6\",\"polar\":{\"bgcolor\":\"#E5ECF6\",\"angularaxis\":{\"gridcolor\":\"white\",\"linecolor\":\"white\",\"ticks\":\"\"},\"radialaxis\":{\"gridcolor\":\"white\",\"linecolor\":\"white\",\"ticks\":\"\"}},\"ternary\":{\"bgcolor\":\"#E5ECF6\",\"aaxis\":{\"gridcolor\":\"white\",\"linecolor\":\"white\",\"ticks\":\"\"},\"baxis\":{\"gridcolor\":\"white\",\"linecolor\":\"white\",\"ticks\":\"\"},\"caxis\":{\"gridcolor\":\"white\",\"linecolor\":\"white\",\"ticks\":\"\"}},\"coloraxis\":{\"colorbar\":{\"outlinewidth\":0,\"ticks\":\"\"}},\"colorscale\":{\"sequential\":[[0.0,\"#0d0887\"],[0.1111111111111111,\"#46039f\"],[0.2222222222222222,\"#7201a8\"],[0.3333333333333333,\"#9c179e\"],[0.4444444444444444,\"#bd3786\"],[0.5555555555555556,\"#d8576b\"],[0.6666666666666666,\"#ed7953\"],[0.7777777777777778,\"#fb9f3a\"],[0.8888888888888888,\"#fdca26\"],[1.0,\"#f0f921\"]],\"sequentialminus\":[[0.0,\"#0d0887\"],[0.1111111111111111,\"#46039f\"],[0.2222222222222222,\"#7201a8\"],[0.3333333333333333,\"#9c179e\"],[0.4444444444444444,\"#bd3786\"],[0.5555555555555556,\"#d8576b\"],[0.6666666666666666,\"#ed7953\"],[0.7777777777777778,\"#fb9f3a\"],[0.8888888888888888,\"#fdca26\"],[1.0,\"#f0f921\"]],\"diverging\":[[0,\"#8e0152\"],[0.1,\"#c51b7d\"],[0.2,\"#de77ae\"],[0.3,\"#f1b6da\"],[0.4,\"#fde0ef\"],[0.5,\"#f7f7f7\"],[0.6,\"#e6f5d0\"],[0.7,\"#b8e186\"],[0.8,\"#7fbc41\"],[0.9,\"#4d9221\"],[1,\"#276419\"]]},\"xaxis\":{\"gridcolor\":\"white\",\"linecolor\":\"white\",\"ticks\":\"\",\"title\":{\"standoff\":15},\"zerolinecolor\":\"white\",\"automargin\":true,\"zerolinewidth\":2},\"yaxis\":{\"gridcolor\":\"white\",\"linecolor\":\"white\",\"ticks\":\"\",\"title\":{\"standoff\":15},\"zerolinecolor\":\"white\",\"automargin\":true,\"zerolinewidth\":2},\"scene\":{\"xaxis\":{\"backgroundcolor\":\"#E5ECF6\",\"gridcolor\":\"white\",\"linecolor\":\"white\",\"showbackground\":true,\"ticks\":\"\",\"zerolinecolor\":\"white\",\"gridwidth\":2},\"yaxis\":{\"backgroundcolor\":\"#E5ECF6\",\"gridcolor\":\"white\",\"linecolor\":\"white\",\"showbackground\":true,\"ticks\":\"\",\"zerolinecolor\":\"white\",\"gridwidth\":2},\"zaxis\":{\"backgroundcolor\":\"#E5ECF6\",\"gridcolor\":\"white\",\"linecolor\":\"white\",\"showbackground\":true,\"ticks\":\"\",\"zerolinecolor\":\"white\",\"gridwidth\":2}},\"shapedefaults\":{\"line\":{\"color\":\"#2a3f5f\"}},\"annotationdefaults\":{\"arrowcolor\":\"#2a3f5f\",\"arrowhead\":0,\"arrowwidth\":1},\"geo\":{\"bgcolor\":\"white\",\"landcolor\":\"#E5ECF6\",\"subunitcolor\":\"white\",\"showland\":true,\"showlakes\":true,\"lakecolor\":\"white\"},\"title\":{\"x\":0.05},\"mapbox\":{\"style\":\"light\"}}}},                        {\"responsive\": true}                    ).then(function(){\n",
       "                            \n",
       "var gd = document.getElementById('48f0ebba-f8f9-4e32-b8f4-6f48c078e5f1');\n",
       "var x = new MutationObserver(function (mutations, observer) {{\n",
       "        var display = window.getComputedStyle(gd).display;\n",
       "        if (!display || display === 'none') {{\n",
       "            console.log([gd, 'removed!']);\n",
       "            Plotly.purge(gd);\n",
       "            observer.disconnect();\n",
       "        }}\n",
       "}});\n",
       "\n",
       "// Listen for the removal of the full notebook cells\n",
       "var notebookContainer = gd.closest('#notebook-container');\n",
       "if (notebookContainer) {{\n",
       "    x.observe(notebookContainer, {childList: true});\n",
       "}}\n",
       "\n",
       "// Listen for the clearing of the current output cell\n",
       "var outputEl = gd.closest('.output');\n",
       "if (outputEl) {{\n",
       "    x.observe(outputEl, {childList: true});\n",
       "}}\n",
       "\n",
       "                        })                };                });            </script>        </div>"
      ]
     },
     "metadata": {},
     "output_type": "display_data"
    },
    {
     "data": {
      "application/vnd.plotly.v1+json": {
       "config": {
        "plotlyServerURL": "https://plot.ly"
       },
       "data": [
        {
         "colorbar": {
          "tickfont": {
           "size": 24
          },
          "title": {
           "font": {
            "size": 24
           },
           "side": "top",
           "text": "counts"
          }
         },
         "colorscale": [
          [
           0,
           "rgb(255,247,243)"
          ],
          [
           0.125,
           "rgb(253,224,221)"
          ],
          [
           0.25,
           "rgb(252,197,192)"
          ],
          [
           0.375,
           "rgb(250,159,181)"
          ],
          [
           0.5,
           "rgb(247,104,161)"
          ],
          [
           0.625,
           "rgb(221,52,151)"
          ],
          [
           0.75,
           "rgb(174,1,126)"
          ],
          [
           0.875,
           "rgb(122,1,119)"
          ],
          [
           1,
           "rgb(73,0,106)"
          ]
         ],
         "type": "heatmap",
         "x": [
          "BAQ2420.1.1",
          "BAQ2420.1.2",
          "BAQ2420.1.3",
          "BAQ2420.2",
          "BAQ2420.3",
          "BAQ2462.1",
          "BAQ2462.2",
          "BAQ2462.3",
          "BAQ2687.1",
          "BAQ2687.2",
          "BAQ2687.3",
          "BAQ2838.1",
          "BAQ2838.2",
          "BAQ2838.3",
          "BAQ3473.1",
          "BAQ3473.2",
          "BAQ3473.3",
          "BAQ4166.1.1",
          "BAQ4166.1.2",
          "BAQ4166.1.3",
          "BAQ4166.2",
          "BAQ4166.3",
          "BAQ4697.1",
          "BAQ4697.2",
          "BAQ4697.3",
          "YUN1242.1",
          "YUN1242.3",
          "YUN1609.1",
          "YUN2029.2",
          "YUN3153.2",
          "YUN3153.3",
          "YUN3259.1.2",
          "YUN3259.1.3",
          "YUN3259.2",
          "YUN3259.3",
          "YUN3346.1",
          "YUN3346.2",
          "YUN3346.3",
          "YUN3428.1",
          "YUN3428.2",
          "YUN3428.3",
          "YUN3533.1.2",
          "YUN3533.1.3",
          "YUN3533.2",
          "YUN3533.3",
          "YUN3856.1.1",
          "YUN3856.1.2",
          "YUN3856.1.3",
          "YUN3856.2",
          "YUN3856.3"
         ],
         "y": [
          "ASV-1",
          "ASV-2",
          "ASV-3",
          "ASV-4",
          "ASV-5",
          "ASV-6",
          "ASV-7",
          "ASV-8",
          "ASV-9",
          "ASV-10",
          "ASV-11",
          "ASV-12",
          "ASV-13"
         ],
         "z": [
          [
           0,
           0,
           0,
           0,
           0,
           0,
           0,
           0,
           0.9345814732886384,
           0,
           0,
           0,
           0,
           0,
           0,
           0,
           0,
           0,
           1.6129215472707403,
           0.3325843131138316,
           1.5748728342147031,
           0,
           0.1,
           0,
           0,
           0,
           0,
           0,
           0,
           0,
           0,
           0,
           0,
           0,
           0,
           0,
           0,
           0,
           0,
           0,
           0,
           1.1544204660523458,
           0,
           1.075513247570106,
           1.1095621504493889,
           0,
           1.250798460477062,
           0,
           0.5205336632445986,
           1.604619104851421
          ],
          [
           0.6916087549131659,
           0,
           0,
           0.976903179798806,
           0,
           1.2599831042273562,
           0,
           0.8586891095393409,
           0,
           0,
           0,
           0,
           0,
           0,
           0,
           0,
           0,
           0,
           0.8709842025413631,
           0,
           0,
           0,
           0,
           0,
           0,
           0,
           0,
           0,
           0,
           1.3062682501780074,
           1.327791420546147,
           0,
           0,
           0,
           2.127651291794701,
           0,
           0,
           0,
           0,
           0,
           0,
           0,
           0,
           1.5173459998491452,
           1.1095621504493889,
           0,
           1.1330154248206783,
           0,
           1.2937235514780805,
           2.143615605584108
          ],
          [
           0,
           0,
           0,
           0,
           0,
           0,
           0,
           0,
           1.4045851025343743,
           0,
           0,
           0,
           0,
           0,
           1.104335752707336,
           0,
           1.281434891335597,
           1.7819996972411891,
           1.1333484670088545,
           0,
           0,
           1.007089032772301,
           0,
           0,
           0,
           0,
           0,
           0,
           0,
           0,
           0,
           0,
           0,
           0,
           0,
           0,
           0,
           0,
           0,
           2.455428094835799,
           0,
           1.1544204660523458,
           0,
           1.5863388713360966,
           0,
           0,
           0,
           0,
           1.9868707320380257,
           1.6955908830571476
          ],
          [
           2.007285548819103,
           1.8808496320239936,
           0,
           0,
           0,
           1.059312408765205,
           0,
           0,
           0,
           0,
           1.964133168471844,
           1.0854609584615929,
           0,
           0,
           0,
           1.273949761785235,
           0,
           0,
           0,
           0,
           0,
           0,
           0,
           0,
           0,
           0,
           0,
           0,
           0,
           0,
           0,
           1.3171404925173906,
           2.017001511864057,
           1.575042620894131,
           2.166872004947982,
           0,
           0,
           0,
           0,
           0.989091026042372,
           1.6639956100926296,
           0,
           0,
           0,
           0,
           0,
           1.538480532928843,
           0,
           2.535436683786864,
           1.994083871613144
          ],
          [
           0,
           1.4559664380587274,
           0,
           0,
           0,
           0,
           0,
           0,
           2.8063836501902304,
           0,
           0,
           0,
           0,
           0,
           0,
           2.104298063858665,
           0,
           0,
           3.250530336671537,
           2.561061433954156,
           3.115317875161852,
           2.7728730155970958,
           0,
           0,
           0,
           0,
           0,
           0,
           0,
           0,
           0,
           0,
           0,
           0,
           1.1060000442627196,
           0,
           0,
           0,
           0,
           0,
           0,
           0,
           0,
           0,
           0,
           0,
           1.3048656817473376,
           0,
           1.501362916256325,
           2.086457191744159
          ],
          [
           1.849061543604209,
           2.429415583772831,
           0,
           0,
           2.3015452470184767,
           3.0364751013246227,
           2.59576790153196,
           1.8395183625510672,
           0,
           1.5247520209137129,
           2.187276719786054,
           1.6608251033651549,
           1.2700389992079288,
           0,
           0,
           0,
           0,
           0,
           0,
           0,
           0,
           0,
           0,
           0,
           0,
           0,
           1.098811439618356,
           0.7618191402628302,
           0.8845791293584576,
           2.0864268077275825,
           1.7332565286543111,
           0,
           0,
           1.2696609713429492,
           0,
           1.869394546980079,
           0,
           0.9882605495078476,
           0,
           1.3568158061676896,
           0,
           1.6850487171145163,
           0,
           0,
           0,
           0,
           0,
           0,
           0,
           0
          ],
          [
           0,
           0,
           0,
           0,
           0,
           0,
           0,
           0,
           0,
           0,
           0,
           1.9327588188487963,
           0,
           0,
           0,
           0.925643067517019,
           0,
           2.252003326486925,
           0,
           0,
           2.295418988962763,
           1.53318212866908,
           2.903360380906535,
           2.5291871192629927,
           2.2055183530158025,
           0,
           0,
           0,
           0,
           0,
           0,
           2.495795488859037,
           0,
           2.3682732600110588,
           0,
           0,
           0,
           0,
           1.3034433340439842,
           1.4309237783214117,
           1.546212574436246,
           1.0490599503945193,
           0,
           1.2761839430322572,
           1.677546188055328,
           2.017001511864057,
           1.618523240602379,
           0,
           1.947650018884744,
           1.651139120486314
          ],
          [
           0,
           2.7002905379082307,
           2.017001511864057,
           2.641910943387717,
           1.202932958350367,
           0,
           0,
           0,
           0,
           0,
           0,
           0,
           0,
           0,
           0,
           0,
           0,
           0,
           0,
           0,
           0,
           0,
           0,
           0,
           0,
           0,
           0,
           0,
           0,
           0,
           0,
           1.5402840438316006,
           0,
           0,
           0,
           0,
           0,
           0,
           2.7305596896841298,
           2.919000833751244,
           2.993131557372572,
           3.100330615107659,
           1.2151478930014994,
           2.515874829960272,
           2.450736076288809,
           0,
           2.5193097859405693,
           0,
           0,
           2.9039020889816816
          ],
          [
           0,
           0,
           0,
           0,
           0,
           0,
           0,
           0,
           2.922455821442984,
           0,
           0,
           0,
           0,
           0,
           3.3235392367623304,
           2.615123687624656,
           2.752568132392517,
           0,
           2.5386910230994397,
           0,
           0,
           0,
           3.517726683613366,
           1.6591092305439692,
           1.9023320940280564,
           0,
           0,
           0,
           0,
           0,
           0,
           0,
           0,
           2.4592450382167854,
           0,
           0,
           0,
           0,
           0,
           0,
           1.8646663055547807,
           2.6130354887518625,
           0,
           0,
           0,
           0,
           0,
           2.600757547821829,
           0,
           0
          ],
          [
           2.4984061015057613,
           1.6184853675565023,
           0,
           0,
           0,
           0,
           0,
           0,
           0,
           0,
           1.899594647334273,
           2.625905999408742,
           0,
           2.2652199550210024,
           1.6231295461225033,
           2.5678708027741104,
           0,
           0,
           2.695533494592409,
           3.157358788524183,
           0,
           3.151669876623098,
           1.5469189829363257,
           1.8627081857852088,
           1.9431540885483116,
           0,
           0,
           0,
           0,
           0.9878145190594724,
           1.040109348094366,
           2.7640594754537164,
           0,
           2.70814108563341,
           2.779976477834391,
           2.255057027792064,
           0,
           1.8355584098950517,
           0,
           0,
           0,
           0,
           0,
           3.2090220105202176,
           2.580413899597342,
           0,
           0,
           0,
           2.9772694360659027,
           0
          ],
          [
           3.0386456104780453,
           0,
           0,
           0,
           2.164344125504992,
           0,
           2.449675283034464,
           2.445654166121382,
           0,
           2.509251002814401,
           0,
           0,
           2.763964024520185,
           0,
           0,
           0,
           0,
           0,
           0,
           0,
           0,
           0,
           0,
           0,
           0,
           1.9214738934827025,
           2.2439437439213585,
           1.3761854429696614,
           3.1494238943696566,
           3.6874964704911664,
           3.966848750161405,
           0,
           0,
           0,
           0,
           0,
           0,
           2.4923379462841218,
           0,
           0,
           0,
           0,
           0,
           0,
           0,
           0,
           0,
           1.743307315970608,
           0,
           2.056604228594478
          ],
          [
           0,
           0,
           0,
           2.432190412405648,
           2.399183716582393,
           2.712235433139044,
           1.005561351025747,
           2.9241444092444366,
           0,
           0,
           0,
           2.780056679236,
           0,
           1.7687830687071115,
           0,
           0,
           0,
           0,
           0,
           0,
           0,
           0,
           0,
           0,
           0,
           2.112529130245412,
           2.7082493520524564,
           3.91299995235968,
           0,
           0,
           0,
           1.96772805865854,
           0,
           1.7216460950860064,
           1.9045077404804915,
           1.926552960820028,
           0,
           0,
           0,
           0,
           0,
           0,
           0,
           0,
           0,
           0,
           0,
           1.7069396717997332,
           0,
           0
          ],
          [
           0,
           0,
           0,
           0,
           0,
           0,
           0,
           0,
           0,
           0,
           0,
           0,
           0,
           0,
           0,
           2.615123687624656,
           0,
           0,
           0,
           0,
           1.0823963491169089,
           1.62019350565871,
           0,
           0,
           0,
           0,
           0,
           0,
           0,
           0,
           0,
           0,
           0,
           0,
           0,
           0,
           2.017001511864057,
           2.7518491417692066,
           0,
           2.950749532065825,
           0,
           3.3626948795751503,
           2.818855130726615,
           2.938731680780306,
           3.174188606344084,
           0,
           4.754017456531528,
           0,
           3.373165093157916,
           0
          ]
         ]
        }
       ],
       "layout": {
        "height": 500,
        "template": {
         "data": {
          "bar": [
           {
            "error_x": {
             "color": "#2a3f5f"
            },
            "error_y": {
             "color": "#2a3f5f"
            },
            "marker": {
             "line": {
              "color": "#E5ECF6",
              "width": 0.5
             },
             "pattern": {
              "fillmode": "overlay",
              "size": 10,
              "solidity": 0.2
             }
            },
            "type": "bar"
           }
          ],
          "barpolar": [
           {
            "marker": {
             "line": {
              "color": "#E5ECF6",
              "width": 0.5
             },
             "pattern": {
              "fillmode": "overlay",
              "size": 10,
              "solidity": 0.2
             }
            },
            "type": "barpolar"
           }
          ],
          "carpet": [
           {
            "aaxis": {
             "endlinecolor": "#2a3f5f",
             "gridcolor": "white",
             "linecolor": "white",
             "minorgridcolor": "white",
             "startlinecolor": "#2a3f5f"
            },
            "baxis": {
             "endlinecolor": "#2a3f5f",
             "gridcolor": "white",
             "linecolor": "white",
             "minorgridcolor": "white",
             "startlinecolor": "#2a3f5f"
            },
            "type": "carpet"
           }
          ],
          "choropleth": [
           {
            "colorbar": {
             "outlinewidth": 0,
             "ticks": ""
            },
            "type": "choropleth"
           }
          ],
          "contour": [
           {
            "colorbar": {
             "outlinewidth": 0,
             "ticks": ""
            },
            "colorscale": [
             [
              0,
              "#0d0887"
             ],
             [
              0.1111111111111111,
              "#46039f"
             ],
             [
              0.2222222222222222,
              "#7201a8"
             ],
             [
              0.3333333333333333,
              "#9c179e"
             ],
             [
              0.4444444444444444,
              "#bd3786"
             ],
             [
              0.5555555555555556,
              "#d8576b"
             ],
             [
              0.6666666666666666,
              "#ed7953"
             ],
             [
              0.7777777777777778,
              "#fb9f3a"
             ],
             [
              0.8888888888888888,
              "#fdca26"
             ],
             [
              1,
              "#f0f921"
             ]
            ],
            "type": "contour"
           }
          ],
          "contourcarpet": [
           {
            "colorbar": {
             "outlinewidth": 0,
             "ticks": ""
            },
            "type": "contourcarpet"
           }
          ],
          "heatmap": [
           {
            "colorbar": {
             "outlinewidth": 0,
             "ticks": ""
            },
            "colorscale": [
             [
              0,
              "#0d0887"
             ],
             [
              0.1111111111111111,
              "#46039f"
             ],
             [
              0.2222222222222222,
              "#7201a8"
             ],
             [
              0.3333333333333333,
              "#9c179e"
             ],
             [
              0.4444444444444444,
              "#bd3786"
             ],
             [
              0.5555555555555556,
              "#d8576b"
             ],
             [
              0.6666666666666666,
              "#ed7953"
             ],
             [
              0.7777777777777778,
              "#fb9f3a"
             ],
             [
              0.8888888888888888,
              "#fdca26"
             ],
             [
              1,
              "#f0f921"
             ]
            ],
            "type": "heatmap"
           }
          ],
          "heatmapgl": [
           {
            "colorbar": {
             "outlinewidth": 0,
             "ticks": ""
            },
            "colorscale": [
             [
              0,
              "#0d0887"
             ],
             [
              0.1111111111111111,
              "#46039f"
             ],
             [
              0.2222222222222222,
              "#7201a8"
             ],
             [
              0.3333333333333333,
              "#9c179e"
             ],
             [
              0.4444444444444444,
              "#bd3786"
             ],
             [
              0.5555555555555556,
              "#d8576b"
             ],
             [
              0.6666666666666666,
              "#ed7953"
             ],
             [
              0.7777777777777778,
              "#fb9f3a"
             ],
             [
              0.8888888888888888,
              "#fdca26"
             ],
             [
              1,
              "#f0f921"
             ]
            ],
            "type": "heatmapgl"
           }
          ],
          "histogram": [
           {
            "marker": {
             "pattern": {
              "fillmode": "overlay",
              "size": 10,
              "solidity": 0.2
             }
            },
            "type": "histogram"
           }
          ],
          "histogram2d": [
           {
            "colorbar": {
             "outlinewidth": 0,
             "ticks": ""
            },
            "colorscale": [
             [
              0,
              "#0d0887"
             ],
             [
              0.1111111111111111,
              "#46039f"
             ],
             [
              0.2222222222222222,
              "#7201a8"
             ],
             [
              0.3333333333333333,
              "#9c179e"
             ],
             [
              0.4444444444444444,
              "#bd3786"
             ],
             [
              0.5555555555555556,
              "#d8576b"
             ],
             [
              0.6666666666666666,
              "#ed7953"
             ],
             [
              0.7777777777777778,
              "#fb9f3a"
             ],
             [
              0.8888888888888888,
              "#fdca26"
             ],
             [
              1,
              "#f0f921"
             ]
            ],
            "type": "histogram2d"
           }
          ],
          "histogram2dcontour": [
           {
            "colorbar": {
             "outlinewidth": 0,
             "ticks": ""
            },
            "colorscale": [
             [
              0,
              "#0d0887"
             ],
             [
              0.1111111111111111,
              "#46039f"
             ],
             [
              0.2222222222222222,
              "#7201a8"
             ],
             [
              0.3333333333333333,
              "#9c179e"
             ],
             [
              0.4444444444444444,
              "#bd3786"
             ],
             [
              0.5555555555555556,
              "#d8576b"
             ],
             [
              0.6666666666666666,
              "#ed7953"
             ],
             [
              0.7777777777777778,
              "#fb9f3a"
             ],
             [
              0.8888888888888888,
              "#fdca26"
             ],
             [
              1,
              "#f0f921"
             ]
            ],
            "type": "histogram2dcontour"
           }
          ],
          "mesh3d": [
           {
            "colorbar": {
             "outlinewidth": 0,
             "ticks": ""
            },
            "type": "mesh3d"
           }
          ],
          "parcoords": [
           {
            "line": {
             "colorbar": {
              "outlinewidth": 0,
              "ticks": ""
             }
            },
            "type": "parcoords"
           }
          ],
          "pie": [
           {
            "automargin": true,
            "type": "pie"
           }
          ],
          "scatter": [
           {
            "fillpattern": {
             "fillmode": "overlay",
             "size": 10,
             "solidity": 0.2
            },
            "type": "scatter"
           }
          ],
          "scatter3d": [
           {
            "line": {
             "colorbar": {
              "outlinewidth": 0,
              "ticks": ""
             }
            },
            "marker": {
             "colorbar": {
              "outlinewidth": 0,
              "ticks": ""
             }
            },
            "type": "scatter3d"
           }
          ],
          "scattercarpet": [
           {
            "marker": {
             "colorbar": {
              "outlinewidth": 0,
              "ticks": ""
             }
            },
            "type": "scattercarpet"
           }
          ],
          "scattergeo": [
           {
            "marker": {
             "colorbar": {
              "outlinewidth": 0,
              "ticks": ""
             }
            },
            "type": "scattergeo"
           }
          ],
          "scattergl": [
           {
            "marker": {
             "colorbar": {
              "outlinewidth": 0,
              "ticks": ""
             }
            },
            "type": "scattergl"
           }
          ],
          "scattermapbox": [
           {
            "marker": {
             "colorbar": {
              "outlinewidth": 0,
              "ticks": ""
             }
            },
            "type": "scattermapbox"
           }
          ],
          "scatterpolar": [
           {
            "marker": {
             "colorbar": {
              "outlinewidth": 0,
              "ticks": ""
             }
            },
            "type": "scatterpolar"
           }
          ],
          "scatterpolargl": [
           {
            "marker": {
             "colorbar": {
              "outlinewidth": 0,
              "ticks": ""
             }
            },
            "type": "scatterpolargl"
           }
          ],
          "scatterternary": [
           {
            "marker": {
             "colorbar": {
              "outlinewidth": 0,
              "ticks": ""
             }
            },
            "type": "scatterternary"
           }
          ],
          "surface": [
           {
            "colorbar": {
             "outlinewidth": 0,
             "ticks": ""
            },
            "colorscale": [
             [
              0,
              "#0d0887"
             ],
             [
              0.1111111111111111,
              "#46039f"
             ],
             [
              0.2222222222222222,
              "#7201a8"
             ],
             [
              0.3333333333333333,
              "#9c179e"
             ],
             [
              0.4444444444444444,
              "#bd3786"
             ],
             [
              0.5555555555555556,
              "#d8576b"
             ],
             [
              0.6666666666666666,
              "#ed7953"
             ],
             [
              0.7777777777777778,
              "#fb9f3a"
             ],
             [
              0.8888888888888888,
              "#fdca26"
             ],
             [
              1,
              "#f0f921"
             ]
            ],
            "type": "surface"
           }
          ],
          "table": [
           {
            "cells": {
             "fill": {
              "color": "#EBF0F8"
             },
             "line": {
              "color": "white"
             }
            },
            "header": {
             "fill": {
              "color": "#C8D4E3"
             },
             "line": {
              "color": "white"
             }
            },
            "type": "table"
           }
          ]
         },
         "layout": {
          "annotationdefaults": {
           "arrowcolor": "#2a3f5f",
           "arrowhead": 0,
           "arrowwidth": 1
          },
          "autotypenumbers": "strict",
          "coloraxis": {
           "colorbar": {
            "outlinewidth": 0,
            "ticks": ""
           }
          },
          "colorscale": {
           "diverging": [
            [
             0,
             "#8e0152"
            ],
            [
             0.1,
             "#c51b7d"
            ],
            [
             0.2,
             "#de77ae"
            ],
            [
             0.3,
             "#f1b6da"
            ],
            [
             0.4,
             "#fde0ef"
            ],
            [
             0.5,
             "#f7f7f7"
            ],
            [
             0.6,
             "#e6f5d0"
            ],
            [
             0.7,
             "#b8e186"
            ],
            [
             0.8,
             "#7fbc41"
            ],
            [
             0.9,
             "#4d9221"
            ],
            [
             1,
             "#276419"
            ]
           ],
           "sequential": [
            [
             0,
             "#0d0887"
            ],
            [
             0.1111111111111111,
             "#46039f"
            ],
            [
             0.2222222222222222,
             "#7201a8"
            ],
            [
             0.3333333333333333,
             "#9c179e"
            ],
            [
             0.4444444444444444,
             "#bd3786"
            ],
            [
             0.5555555555555556,
             "#d8576b"
            ],
            [
             0.6666666666666666,
             "#ed7953"
            ],
            [
             0.7777777777777778,
             "#fb9f3a"
            ],
            [
             0.8888888888888888,
             "#fdca26"
            ],
            [
             1,
             "#f0f921"
            ]
           ],
           "sequentialminus": [
            [
             0,
             "#0d0887"
            ],
            [
             0.1111111111111111,
             "#46039f"
            ],
            [
             0.2222222222222222,
             "#7201a8"
            ],
            [
             0.3333333333333333,
             "#9c179e"
            ],
            [
             0.4444444444444444,
             "#bd3786"
            ],
            [
             0.5555555555555556,
             "#d8576b"
            ],
            [
             0.6666666666666666,
             "#ed7953"
            ],
            [
             0.7777777777777778,
             "#fb9f3a"
            ],
            [
             0.8888888888888888,
             "#fdca26"
            ],
            [
             1,
             "#f0f921"
            ]
           ]
          },
          "colorway": [
           "#636efa",
           "#EF553B",
           "#00cc96",
           "#ab63fa",
           "#FFA15A",
           "#19d3f3",
           "#FF6692",
           "#B6E880",
           "#FF97FF",
           "#FECB52"
          ],
          "font": {
           "color": "#2a3f5f"
          },
          "geo": {
           "bgcolor": "white",
           "lakecolor": "white",
           "landcolor": "#E5ECF6",
           "showlakes": true,
           "showland": true,
           "subunitcolor": "white"
          },
          "hoverlabel": {
           "align": "left"
          },
          "hovermode": "closest",
          "mapbox": {
           "style": "light"
          },
          "paper_bgcolor": "white",
          "plot_bgcolor": "#E5ECF6",
          "polar": {
           "angularaxis": {
            "gridcolor": "white",
            "linecolor": "white",
            "ticks": ""
           },
           "bgcolor": "#E5ECF6",
           "radialaxis": {
            "gridcolor": "white",
            "linecolor": "white",
            "ticks": ""
           }
          },
          "scene": {
           "xaxis": {
            "backgroundcolor": "#E5ECF6",
            "gridcolor": "white",
            "gridwidth": 2,
            "linecolor": "white",
            "showbackground": true,
            "ticks": "",
            "zerolinecolor": "white"
           },
           "yaxis": {
            "backgroundcolor": "#E5ECF6",
            "gridcolor": "white",
            "gridwidth": 2,
            "linecolor": "white",
            "showbackground": true,
            "ticks": "",
            "zerolinecolor": "white"
           },
           "zaxis": {
            "backgroundcolor": "#E5ECF6",
            "gridcolor": "white",
            "gridwidth": 2,
            "linecolor": "white",
            "showbackground": true,
            "ticks": "",
            "zerolinecolor": "white"
           }
          },
          "shapedefaults": {
           "line": {
            "color": "#2a3f5f"
           }
          },
          "ternary": {
           "aaxis": {
            "gridcolor": "white",
            "linecolor": "white",
            "ticks": ""
           },
           "baxis": {
            "gridcolor": "white",
            "linecolor": "white",
            "ticks": ""
           },
           "bgcolor": "#E5ECF6",
           "caxis": {
            "gridcolor": "white",
            "linecolor": "white",
            "ticks": ""
           }
          },
          "title": {
           "x": 0.05
          },
          "xaxis": {
           "automargin": true,
           "gridcolor": "white",
           "linecolor": "white",
           "ticks": "",
           "title": {
            "standoff": 15
           },
           "zerolinecolor": "white",
           "zerolinewidth": 2
          },
          "yaxis": {
           "automargin": true,
           "gridcolor": "white",
           "linecolor": "white",
           "ticks": "",
           "title": {
            "standoff": 15
           },
           "zerolinecolor": "white",
           "zerolinewidth": 2
          }
         }
        },
        "width": 1400,
        "xaxis": {
         "autorange": true,
         "range": [
          -0.5,
          49.5
         ],
         "tickangle": 45,
         "title": {
          "font": {
           "size": 54
          },
          "text": "Samples"
         },
         "type": "category"
        },
        "yaxis": {
         "autorange": true,
         "range": [
          -0.5,
          12.5
         ],
         "title": {
          "font": {
           "size": 54
          },
          "text": "Taxa"
         },
         "type": "category"
        }
       }
      },
      "image/png": "[encoded data removed]",
      "text/html": [
       "<div>                            <div id=\"b4c173a0-d3c8-4461-a2f6-d0077014208b\" class=\"plotly-graph-div\" style=\"height:500px; width:1400px;\"></div>            <script type=\"text/javascript\">                require([\"plotly\"], function(Plotly) {                    window.PLOTLYENV=window.PLOTLYENV || {};                                    if (document.getElementById(\"b4c173a0-d3c8-4461-a2f6-d0077014208b\")) {                    Plotly.newPlot(                        \"b4c173a0-d3c8-4461-a2f6-d0077014208b\",                        [{\"colorbar\":{\"tickfont\":{\"size\":24},\"title\":{\"font\":{\"size\":24},\"side\":\"top\",\"text\":\"counts\"}},\"colorscale\":[[0.0,\"rgb(255,247,243)\"],[0.125,\"rgb(253,224,221)\"],[0.25,\"rgb(252,197,192)\"],[0.375,\"rgb(250,159,181)\"],[0.5,\"rgb(247,104,161)\"],[0.625,\"rgb(221,52,151)\"],[0.75,\"rgb(174,1,126)\"],[0.875,\"rgb(122,1,119)\"],[1.0,\"rgb(73,0,106)\"]],\"x\":[\"BAQ2420.1.1\",\"BAQ2420.1.2\",\"BAQ2420.1.3\",\"BAQ2420.2\",\"BAQ2420.3\",\"BAQ2462.1\",\"BAQ2462.2\",\"BAQ2462.3\",\"BAQ2687.1\",\"BAQ2687.2\",\"BAQ2687.3\",\"BAQ2838.1\",\"BAQ2838.2\",\"BAQ2838.3\",\"BAQ3473.1\",\"BAQ3473.2\",\"BAQ3473.3\",\"BAQ4166.1.1\",\"BAQ4166.1.2\",\"BAQ4166.1.3\",\"BAQ4166.2\",\"BAQ4166.3\",\"BAQ4697.1\",\"BAQ4697.2\",\"BAQ4697.3\",\"YUN1242.1\",\"YUN1242.3\",\"YUN1609.1\",\"YUN2029.2\",\"YUN3153.2\",\"YUN3153.3\",\"YUN3259.1.2\",\"YUN3259.1.3\",\"YUN3259.2\",\"YUN3259.3\",\"YUN3346.1\",\"YUN3346.2\",\"YUN3346.3\",\"YUN3428.1\",\"YUN3428.2\",\"YUN3428.3\",\"YUN3533.1.2\",\"YUN3533.1.3\",\"YUN3533.2\",\"YUN3533.3\",\"YUN3856.1.1\",\"YUN3856.1.2\",\"YUN3856.1.3\",\"YUN3856.2\",\"YUN3856.3\"],\"y\":[\"ASV-1\",\"ASV-2\",\"ASV-3\",\"ASV-4\",\"ASV-5\",\"ASV-6\",\"ASV-7\",\"ASV-8\",\"ASV-9\",\"ASV-10\",\"ASV-11\",\"ASV-12\",\"ASV-13\"],\"z\":[[0.0,0.0,0.0,0.0,0.0,0.0,0.0,0.0,0.9345814732886384,0.0,0.0,0.0,0.0,0.0,0.0,0.0,0.0,0.0,1.6129215472707403,0.3325843131138316,1.5748728342147031,0.0,0.1,0.0,0.0,0.0,0.0,0.0,0.0,0.0,0.0,0.0,0.0,0.0,0.0,0.0,0.0,0.0,0.0,0.0,0.0,1.1544204660523458,0.0,1.075513247570106,1.1095621504493889,0.0,1.250798460477062,0.0,0.5205336632445986,1.604619104851421],[0.6916087549131659,0.0,0.0,0.976903179798806,0.0,1.2599831042273562,0.0,0.8586891095393409,0.0,0.0,0.0,0.0,0.0,0.0,0.0,0.0,0.0,0.0,0.8709842025413631,0.0,0.0,0.0,0.0,0.0,0.0,0.0,0.0,0.0,0.0,1.3062682501780074,1.327791420546147,0.0,0.0,0.0,2.127651291794701,0.0,0.0,0.0,0.0,0.0,0.0,0.0,0.0,1.5173459998491452,1.1095621504493889,0.0,1.1330154248206783,0.0,1.2937235514780805,2.143615605584108],[0.0,0.0,0.0,0.0,0.0,0.0,0.0,0.0,1.4045851025343743,0.0,0.0,0.0,0.0,0.0,1.104335752707336,0.0,1.281434891335597,1.7819996972411891,1.1333484670088545,0.0,0.0,1.007089032772301,0.0,0.0,0.0,0.0,0.0,0.0,0.0,0.0,0.0,0.0,0.0,0.0,0.0,0.0,0.0,0.0,0.0,2.455428094835799,0.0,1.1544204660523458,0.0,1.5863388713360966,0.0,0.0,0.0,0.0,1.9868707320380257,1.6955908830571476],[2.007285548819103,1.8808496320239936,0.0,0.0,0.0,1.059312408765205,0.0,0.0,0.0,0.0,1.964133168471844,1.0854609584615929,0.0,0.0,0.0,1.273949761785235,0.0,0.0,0.0,0.0,0.0,0.0,0.0,0.0,0.0,0.0,0.0,0.0,0.0,0.0,0.0,1.3171404925173906,2.017001511864057,1.575042620894131,2.166872004947982,0.0,0.0,0.0,0.0,0.989091026042372,1.6639956100926296,0.0,0.0,0.0,0.0,0.0,1.538480532928843,0.0,2.535436683786864,1.994083871613144],[0.0,1.4559664380587274,0.0,0.0,0.0,0.0,0.0,0.0,2.8063836501902304,0.0,0.0,0.0,0.0,0.0,0.0,2.104298063858665,0.0,0.0,3.250530336671537,2.561061433954156,3.115317875161852,2.7728730155970958,0.0,0.0,0.0,0.0,0.0,0.0,0.0,0.0,0.0,0.0,0.0,0.0,1.1060000442627196,0.0,0.0,0.0,0.0,0.0,0.0,0.0,0.0,0.0,0.0,0.0,1.3048656817473376,0.0,1.501362916256325,2.086457191744159],[1.849061543604209,2.429415583772831,0.0,0.0,2.3015452470184767,3.0364751013246227,2.59576790153196,1.8395183625510672,0.0,1.5247520209137129,2.187276719786054,1.6608251033651549,1.2700389992079288,0.0,0.0,0.0,0.0,0.0,0.0,0.0,0.0,0.0,0.0,0.0,0.0,0.0,1.098811439618356,0.7618191402628302,0.8845791293584576,2.0864268077275825,1.7332565286543111,0.0,0.0,1.2696609713429492,0.0,1.869394546980079,0.0,0.9882605495078476,0.0,1.3568158061676896,0.0,1.6850487171145163,0.0,0.0,0.0,0.0,0.0,0.0,0.0,0.0],[0.0,0.0,0.0,0.0,0.0,0.0,0.0,0.0,0.0,0.0,0.0,1.9327588188487963,0.0,0.0,0.0,0.925643067517019,0.0,2.252003326486925,0.0,0.0,2.295418988962763,1.53318212866908,2.903360380906535,2.5291871192629927,2.2055183530158025,0.0,0.0,0.0,0.0,0.0,0.0,2.495795488859037,0.0,2.3682732600110588,0.0,0.0,0.0,0.0,1.3034433340439842,1.4309237783214117,1.546212574436246,1.0490599503945193,0.0,1.2761839430322572,1.677546188055328,2.017001511864057,1.618523240602379,0.0,1.947650018884744,1.651139120486314],[0.0,2.7002905379082307,2.017001511864057,2.641910943387717,1.202932958350367,0.0,0.0,0.0,0.0,0.0,0.0,0.0,0.0,0.0,0.0,0.0,0.0,0.0,0.0,0.0,0.0,0.0,0.0,0.0,0.0,0.0,0.0,0.0,0.0,0.0,0.0,1.5402840438316006,0.0,0.0,0.0,0.0,0.0,0.0,2.7305596896841298,2.919000833751244,2.993131557372572,3.100330615107659,1.2151478930014994,2.515874829960272,2.450736076288809,0.0,2.5193097859405693,0.0,0.0,2.9039020889816816],[0.0,0.0,0.0,0.0,0.0,0.0,0.0,0.0,2.922455821442984,0.0,0.0,0.0,0.0,0.0,3.3235392367623304,2.615123687624656,2.752568132392517,0.0,2.5386910230994397,0.0,0.0,0.0,3.517726683613366,1.6591092305439692,1.9023320940280564,0.0,0.0,0.0,0.0,0.0,0.0,0.0,0.0,2.4592450382167854,0.0,0.0,0.0,0.0,0.0,0.0,1.8646663055547807,2.6130354887518625,0.0,0.0,0.0,0.0,0.0,2.600757547821829,0.0,0.0],[2.4984061015057613,1.6184853675565023,0.0,0.0,0.0,0.0,0.0,0.0,0.0,0.0,1.899594647334273,2.625905999408742,0.0,2.2652199550210024,1.6231295461225033,2.5678708027741104,0.0,0.0,2.695533494592409,3.157358788524183,0.0,3.151669876623098,1.5469189829363257,1.8627081857852088,1.9431540885483116,0.0,0.0,0.0,0.0,0.9878145190594724,1.040109348094366,2.7640594754537164,0.0,2.70814108563341,2.779976477834391,2.255057027792064,0.0,1.8355584098950517,0.0,0.0,0.0,0.0,0.0,3.2090220105202176,2.580413899597342,0.0,0.0,0.0,2.9772694360659027,0.0],[3.0386456104780453,0.0,0.0,0.0,2.164344125504992,0.0,2.449675283034464,2.445654166121382,0.0,2.509251002814401,0.0,0.0,2.763964024520185,0.0,0.0,0.0,0.0,0.0,0.0,0.0,0.0,0.0,0.0,0.0,0.0,1.9214738934827025,2.2439437439213585,1.3761854429696614,3.1494238943696566,3.6874964704911664,3.966848750161405,0.0,0.0,0.0,0.0,0.0,0.0,2.4923379462841218,0.0,0.0,0.0,0.0,0.0,0.0,0.0,0.0,0.0,1.743307315970608,0.0,2.056604228594478],[0.0,0.0,0.0,2.432190412405648,2.399183716582393,2.712235433139044,1.005561351025747,2.9241444092444366,0.0,0.0,0.0,2.780056679236,0.0,1.7687830687071115,0.0,0.0,0.0,0.0,0.0,0.0,0.0,0.0,0.0,0.0,0.0,2.112529130245412,2.7082493520524564,3.91299995235968,0.0,0.0,0.0,1.96772805865854,0.0,1.7216460950860064,1.9045077404804915,1.926552960820028,0.0,0.0,0.0,0.0,0.0,0.0,0.0,0.0,0.0,0.0,0.0,1.7069396717997332,0.0,0.0],[0.0,0.0,0.0,0.0,0.0,0.0,0.0,0.0,0.0,0.0,0.0,0.0,0.0,0.0,0.0,2.615123687624656,0.0,0.0,0.0,0.0,1.0823963491169089,1.62019350565871,0.0,0.0,0.0,0.0,0.0,0.0,0.0,0.0,0.0,0.0,0.0,0.0,0.0,0.0,2.017001511864057,2.7518491417692066,0.0,2.950749532065825,0.0,3.3626948795751503,2.818855130726615,2.938731680780306,3.174188606344084,0.0,4.754017456531528,0.0,3.373165093157916,0.0]],\"type\":\"heatmap\"}],                        {\"height\":500,\"width\":1400,\"xaxis\":{\"tickangle\":45,\"title\":{\"font\":{\"size\":54},\"text\":\"Samples\"}},\"yaxis\":{\"title\":{\"font\":{\"size\":54},\"text\":\"Taxa\"}},\"template\":{\"data\":{\"histogram2dcontour\":[{\"type\":\"histogram2dcontour\",\"colorbar\":{\"outlinewidth\":0,\"ticks\":\"\"},\"colorscale\":[[0.0,\"#0d0887\"],[0.1111111111111111,\"#46039f\"],[0.2222222222222222,\"#7201a8\"],[0.3333333333333333,\"#9c179e\"],[0.4444444444444444,\"#bd3786\"],[0.5555555555555556,\"#d8576b\"],[0.6666666666666666,\"#ed7953\"],[0.7777777777777778,\"#fb9f3a\"],[0.8888888888888888,\"#fdca26\"],[1.0,\"#f0f921\"]]}],\"choropleth\":[{\"type\":\"choropleth\",\"colorbar\":{\"outlinewidth\":0,\"ticks\":\"\"}}],\"histogram2d\":[{\"type\":\"histogram2d\",\"colorbar\":{\"outlinewidth\":0,\"ticks\":\"\"},\"colorscale\":[[0.0,\"#0d0887\"],[0.1111111111111111,\"#46039f\"],[0.2222222222222222,\"#7201a8\"],[0.3333333333333333,\"#9c179e\"],[0.4444444444444444,\"#bd3786\"],[0.5555555555555556,\"#d8576b\"],[0.6666666666666666,\"#ed7953\"],[0.7777777777777778,\"#fb9f3a\"],[0.8888888888888888,\"#fdca26\"],[1.0,\"#f0f921\"]]}],\"heatmap\":[{\"type\":\"heatmap\",\"colorbar\":{\"outlinewidth\":0,\"ticks\":\"\"},\"colorscale\":[[0.0,\"#0d0887\"],[0.1111111111111111,\"#46039f\"],[0.2222222222222222,\"#7201a8\"],[0.3333333333333333,\"#9c179e\"],[0.4444444444444444,\"#bd3786\"],[0.5555555555555556,\"#d8576b\"],[0.6666666666666666,\"#ed7953\"],[0.7777777777777778,\"#fb9f3a\"],[0.8888888888888888,\"#fdca26\"],[1.0,\"#f0f921\"]]}],\"heatmapgl\":[{\"type\":\"heatmapgl\",\"colorbar\":{\"outlinewidth\":0,\"ticks\":\"\"},\"colorscale\":[[0.0,\"#0d0887\"],[0.1111111111111111,\"#46039f\"],[0.2222222222222222,\"#7201a8\"],[0.3333333333333333,\"#9c179e\"],[0.4444444444444444,\"#bd3786\"],[0.5555555555555556,\"#d8576b\"],[0.6666666666666666,\"#ed7953\"],[0.7777777777777778,\"#fb9f3a\"],[0.8888888888888888,\"#fdca26\"],[1.0,\"#f0f921\"]]}],\"contourcarpet\":[{\"type\":\"contourcarpet\",\"colorbar\":{\"outlinewidth\":0,\"ticks\":\"\"}}],\"contour\":[{\"type\":\"contour\",\"colorbar\":{\"outlinewidth\":0,\"ticks\":\"\"},\"colorscale\":[[0.0,\"#0d0887\"],[0.1111111111111111,\"#46039f\"],[0.2222222222222222,\"#7201a8\"],[0.3333333333333333,\"#9c179e\"],[0.4444444444444444,\"#bd3786\"],[0.5555555555555556,\"#d8576b\"],[0.6666666666666666,\"#ed7953\"],[0.7777777777777778,\"#fb9f3a\"],[0.8888888888888888,\"#fdca26\"],[1.0,\"#f0f921\"]]}],\"surface\":[{\"type\":\"surface\",\"colorbar\":{\"outlinewidth\":0,\"ticks\":\"\"},\"colorscale\":[[0.0,\"#0d0887\"],[0.1111111111111111,\"#46039f\"],[0.2222222222222222,\"#7201a8\"],[0.3333333333333333,\"#9c179e\"],[0.4444444444444444,\"#bd3786\"],[0.5555555555555556,\"#d8576b\"],[0.6666666666666666,\"#ed7953\"],[0.7777777777777778,\"#fb9f3a\"],[0.8888888888888888,\"#fdca26\"],[1.0,\"#f0f921\"]]}],\"mesh3d\":[{\"type\":\"mesh3d\",\"colorbar\":{\"outlinewidth\":0,\"ticks\":\"\"}}],\"scatter\":[{\"fillpattern\":{\"fillmode\":\"overlay\",\"size\":10,\"solidity\":0.2},\"type\":\"scatter\"}],\"parcoords\":[{\"type\":\"parcoords\",\"line\":{\"colorbar\":{\"outlinewidth\":0,\"ticks\":\"\"}}}],\"scatterpolargl\":[{\"type\":\"scatterpolargl\",\"marker\":{\"colorbar\":{\"outlinewidth\":0,\"ticks\":\"\"}}}],\"bar\":[{\"error_x\":{\"color\":\"#2a3f5f\"},\"error_y\":{\"color\":\"#2a3f5f\"},\"marker\":{\"line\":{\"color\":\"#E5ECF6\",\"width\":0.5},\"pattern\":{\"fillmode\":\"overlay\",\"size\":10,\"solidity\":0.2}},\"type\":\"bar\"}],\"scattergeo\":[{\"type\":\"scattergeo\",\"marker\":{\"colorbar\":{\"outlinewidth\":0,\"ticks\":\"\"}}}],\"scatterpolar\":[{\"type\":\"scatterpolar\",\"marker\":{\"colorbar\":{\"outlinewidth\":0,\"ticks\":\"\"}}}],\"histogram\":[{\"marker\":{\"pattern\":{\"fillmode\":\"overlay\",\"size\":10,\"solidity\":0.2}},\"type\":\"histogram\"}],\"scattergl\":[{\"type\":\"scattergl\",\"marker\":{\"colorbar\":{\"outlinewidth\":0,\"ticks\":\"\"}}}],\"scatter3d\":[{\"type\":\"scatter3d\",\"line\":{\"colorbar\":{\"outlinewidth\":0,\"ticks\":\"\"}},\"marker\":{\"colorbar\":{\"outlinewidth\":0,\"ticks\":\"\"}}}],\"scattermapbox\":[{\"type\":\"scattermapbox\",\"marker\":{\"colorbar\":{\"outlinewidth\":0,\"ticks\":\"\"}}}],\"scatterternary\":[{\"type\":\"scatterternary\",\"marker\":{\"colorbar\":{\"outlinewidth\":0,\"ticks\":\"\"}}}],\"scattercarpet\":[{\"type\":\"scattercarpet\",\"marker\":{\"colorbar\":{\"outlinewidth\":0,\"ticks\":\"\"}}}],\"carpet\":[{\"aaxis\":{\"endlinecolor\":\"#2a3f5f\",\"gridcolor\":\"white\",\"linecolor\":\"white\",\"minorgridcolor\":\"white\",\"startlinecolor\":\"#2a3f5f\"},\"baxis\":{\"endlinecolor\":\"#2a3f5f\",\"gridcolor\":\"white\",\"linecolor\":\"white\",\"minorgridcolor\":\"white\",\"startlinecolor\":\"#2a3f5f\"},\"type\":\"carpet\"}],\"table\":[{\"cells\":{\"fill\":{\"color\":\"#EBF0F8\"},\"line\":{\"color\":\"white\"}},\"header\":{\"fill\":{\"color\":\"#C8D4E3\"},\"line\":{\"color\":\"white\"}},\"type\":\"table\"}],\"barpolar\":[{\"marker\":{\"line\":{\"color\":\"#E5ECF6\",\"width\":0.5},\"pattern\":{\"fillmode\":\"overlay\",\"size\":10,\"solidity\":0.2}},\"type\":\"barpolar\"}],\"pie\":[{\"automargin\":true,\"type\":\"pie\"}]},\"layout\":{\"autotypenumbers\":\"strict\",\"colorway\":[\"#636efa\",\"#EF553B\",\"#00cc96\",\"#ab63fa\",\"#FFA15A\",\"#19d3f3\",\"#FF6692\",\"#B6E880\",\"#FF97FF\",\"#FECB52\"],\"font\":{\"color\":\"#2a3f5f\"},\"hovermode\":\"closest\",\"hoverlabel\":{\"align\":\"left\"},\"paper_bgcolor\":\"white\",\"plot_bgcolor\":\"#E5ECF6\",\"polar\":{\"bgcolor\":\"#E5ECF6\",\"angularaxis\":{\"gridcolor\":\"white\",\"linecolor\":\"white\",\"ticks\":\"\"},\"radialaxis\":{\"gridcolor\":\"white\",\"linecolor\":\"white\",\"ticks\":\"\"}},\"ternary\":{\"bgcolor\":\"#E5ECF6\",\"aaxis\":{\"gridcolor\":\"white\",\"linecolor\":\"white\",\"ticks\":\"\"},\"baxis\":{\"gridcolor\":\"white\",\"linecolor\":\"white\",\"ticks\":\"\"},\"caxis\":{\"gridcolor\":\"white\",\"linecolor\":\"white\",\"ticks\":\"\"}},\"coloraxis\":{\"colorbar\":{\"outlinewidth\":0,\"ticks\":\"\"}},\"colorscale\":{\"sequential\":[[0.0,\"#0d0887\"],[0.1111111111111111,\"#46039f\"],[0.2222222222222222,\"#7201a8\"],[0.3333333333333333,\"#9c179e\"],[0.4444444444444444,\"#bd3786\"],[0.5555555555555556,\"#d8576b\"],[0.6666666666666666,\"#ed7953\"],[0.7777777777777778,\"#fb9f3a\"],[0.8888888888888888,\"#fdca26\"],[1.0,\"#f0f921\"]],\"sequentialminus\":[[0.0,\"#0d0887\"],[0.1111111111111111,\"#46039f\"],[0.2222222222222222,\"#7201a8\"],[0.3333333333333333,\"#9c179e\"],[0.4444444444444444,\"#bd3786\"],[0.5555555555555556,\"#d8576b\"],[0.6666666666666666,\"#ed7953\"],[0.7777777777777778,\"#fb9f3a\"],[0.8888888888888888,\"#fdca26\"],[1.0,\"#f0f921\"]],\"diverging\":[[0,\"#8e0152\"],[0.1,\"#c51b7d\"],[0.2,\"#de77ae\"],[0.3,\"#f1b6da\"],[0.4,\"#fde0ef\"],[0.5,\"#f7f7f7\"],[0.6,\"#e6f5d0\"],[0.7,\"#b8e186\"],[0.8,\"#7fbc41\"],[0.9,\"#4d9221\"],[1,\"#276419\"]]},\"xaxis\":{\"gridcolor\":\"white\",\"linecolor\":\"white\",\"ticks\":\"\",\"title\":{\"standoff\":15},\"zerolinecolor\":\"white\",\"automargin\":true,\"zerolinewidth\":2},\"yaxis\":{\"gridcolor\":\"white\",\"linecolor\":\"white\",\"ticks\":\"\",\"title\":{\"standoff\":15},\"zerolinecolor\":\"white\",\"automargin\":true,\"zerolinewidth\":2},\"scene\":{\"xaxis\":{\"backgroundcolor\":\"#E5ECF6\",\"gridcolor\":\"white\",\"linecolor\":\"white\",\"showbackground\":true,\"ticks\":\"\",\"zerolinecolor\":\"white\",\"gridwidth\":2},\"yaxis\":{\"backgroundcolor\":\"#E5ECF6\",\"gridcolor\":\"white\",\"linecolor\":\"white\",\"showbackground\":true,\"ticks\":\"\",\"zerolinecolor\":\"white\",\"gridwidth\":2},\"zaxis\":{\"backgroundcolor\":\"#E5ECF6\",\"gridcolor\":\"white\",\"linecolor\":\"white\",\"showbackground\":true,\"ticks\":\"\",\"zerolinecolor\":\"white\",\"gridwidth\":2}},\"shapedefaults\":{\"line\":{\"color\":\"#2a3f5f\"}},\"annotationdefaults\":{\"arrowcolor\":\"#2a3f5f\",\"arrowhead\":0,\"arrowwidth\":1},\"geo\":{\"bgcolor\":\"white\",\"landcolor\":\"#E5ECF6\",\"subunitcolor\":\"white\",\"showland\":true,\"showlakes\":true,\"lakecolor\":\"white\"},\"title\":{\"x\":0.05},\"mapbox\":{\"style\":\"light\"}}}},                        {\"responsive\": true}                    ).then(function(){\n",
       "                            \n",
       "var gd = document.getElementById('b4c173a0-d3c8-4461-a2f6-d0077014208b');\n",
       "var x = new MutationObserver(function (mutations, observer) {{\n",
       "        var display = window.getComputedStyle(gd).display;\n",
       "        if (!display || display === 'none') {{\n",
       "            console.log([gd, 'removed!']);\n",
       "            Plotly.purge(gd);\n",
       "            observer.disconnect();\n",
       "        }}\n",
       "}});\n",
       "\n",
       "// Listen for the removal of the full notebook cells\n",
       "var notebookContainer = gd.closest('#notebook-container');\n",
       "if (notebookContainer) {{\n",
       "    x.observe(notebookContainer, {childList: true});\n",
       "}}\n",
       "\n",
       "// Listen for the clearing of the current output cell\n",
       "var outputEl = gd.closest('.output');\n",
       "if (outputEl) {{\n",
       "    x.observe(outputEl, {childList: true});\n",
       "}}\n",
       "\n",
       "                        })                };                });            </script>        </div>"
      ]
     },
     "metadata": {},
     "output_type": "display_data"
    }
   ],
   "source": [
    "# plot original raw data\n",
    "filtered_counts = pd.read_csv(\"data/filtered_counts.csv\", index_col=0)\n",
    "fig_X = plotly_heatmap(z=filtered_counts, x=filtered_counts.columns, y=filtered_counts.index, x_label='Samples', y_label ='Taxa', width=1400, height=500)\n",
    "fig_X.show()\n",
    "fig_X.write_image(\"plots/acm_raw.pdf\")\n",
    "fig_X.write_image(\"plots/acm_raw.png\")\n",
    "fig_X.write_image(\"plots/acm_raw.svg\")\n",
    "\n",
    "# plot 'mclr-transformed data\n",
    "mclr = pd.read_csv(\"data/mclr_counts.csv\", index_col=0)\n",
    "fig_mclr = plotly_heatmap(z=mclr, x=mclr.columns, y=mclr.index, x_label='Samples', y_label ='Taxa', width=1400, height=500)\n",
    "fig_mclr.show()\n",
    "fig_mclr.write_image(\"plots/acm_mclr.pdf\")\n",
    "fig_mclr.write_image(\"plots/acm_mclr.png\")\n",
    "fig_mclr.write_image(\"plots/acm_mclr.svg\")"
   ]
  },
  {
   "cell_type": "code",
   "execution_count": 5,
   "id": "f797248b-9470-4117-9725-0ecad46d71a1",
   "metadata": {},
   "outputs": [],
   "source": [
    "mclr.to_csv('data/mclr_count_table.tsv', sep='\\t', index=True)"
   ]
  },
  {
   "cell_type": "code",
   "execution_count": 6,
   "id": "13ff26ac-5bc7-4841-b4d7-67892786d303",
   "metadata": {},
   "outputs": [
    {
     "name": "stdout",
     "output_type": "stream",
     "text": [
      "(75, 4)\n"
     ]
    },
    {
     "data": {
      "text/html": [
       "<div>\n",
       "<style scoped>\n",
       "    .dataframe tbody tr th:only-of-type {\n",
       "        vertical-align: middle;\n",
       "    }\n",
       "\n",
       "    .dataframe tbody tr th {\n",
       "        vertical-align: top;\n",
       "    }\n",
       "\n",
       "    .dataframe thead th {\n",
       "        text-align: right;\n",
       "    }\n",
       "</style>\n",
       "<table border=\"1\" class=\"dataframe\">\n",
       "  <thead>\n",
       "    <tr style=\"text-align: right;\">\n",
       "      <th></th>\n",
       "      <th>ph</th>\n",
       "      <th>average-soil-relative-humidity</th>\n",
       "      <th>elevation</th>\n",
       "      <th>average-soil-temperature</th>\n",
       "    </tr>\n",
       "    <tr>\n",
       "      <th>sample-id</th>\n",
       "      <th></th>\n",
       "      <th></th>\n",
       "      <th></th>\n",
       "      <th></th>\n",
       "    </tr>\n",
       "  </thead>\n",
       "  <tbody>\n",
       "    <tr>\n",
       "      <th>BAQ1370.1.2</th>\n",
       "      <td>0.368754</td>\n",
       "      <td>-1.413475</td>\n",
       "      <td>-1.444382</td>\n",
       "      <td>1.196256</td>\n",
       "    </tr>\n",
       "    <tr>\n",
       "      <th>BAQ1370.3</th>\n",
       "      <td>-2.802209</td>\n",
       "      <td>-1.413475</td>\n",
       "      <td>-1.444382</td>\n",
       "      <td>1.196256</td>\n",
       "    </tr>\n",
       "    <tr>\n",
       "      <th>BAQ1370.1.3</th>\n",
       "      <td>0.428358</td>\n",
       "      <td>-1.413475</td>\n",
       "      <td>-1.444382</td>\n",
       "      <td>1.196256</td>\n",
       "    </tr>\n",
       "    <tr>\n",
       "      <th>BAQ1552.1.1</th>\n",
       "      <td>0.325044</td>\n",
       "      <td>-1.426080</td>\n",
       "      <td>-1.263727</td>\n",
       "      <td>1.199730</td>\n",
       "    </tr>\n",
       "    <tr>\n",
       "      <th>BAQ1552.2</th>\n",
       "      <td>-2.802209</td>\n",
       "      <td>-1.426080</td>\n",
       "      <td>-1.263727</td>\n",
       "      <td>1.199730</td>\n",
       "    </tr>\n",
       "  </tbody>\n",
       "</table>\n",
       "</div>"
      ],
      "text/plain": [
       "                   ph  average-soil-relative-humidity  elevation  \\\n",
       "sample-id                                                          \n",
       "BAQ1370.1.2  0.368754                       -1.413475  -1.444382   \n",
       "BAQ1370.3   -2.802209                       -1.413475  -1.444382   \n",
       "BAQ1370.1.3  0.428358                       -1.413475  -1.444382   \n",
       "BAQ1552.1.1  0.325044                       -1.426080  -1.263727   \n",
       "BAQ1552.2   -2.802209                       -1.426080  -1.263727   \n",
       "\n",
       "             average-soil-temperature  \n",
       "sample-id                              \n",
       "BAQ1370.1.2                  1.196256  \n",
       "BAQ1370.3                    1.196256  \n",
       "BAQ1370.1.3                  1.196256  \n",
       "BAQ1552.1.1                  1.199730  \n",
       "BAQ1552.2                    1.199730  "
      ]
     },
     "execution_count": 6,
     "metadata": {},
     "output_type": "execute_result"
    }
   ],
   "source": [
    "scaled_covaraites=(\n",
    "    load_data(\"data/acm_meta.tsv\")\n",
    "    .pipe(clean_meta_data)\n",
    "    .pipe(save_dataframe, filename=\"data/clean_metadata.csv\")\n",
    "    .pipe(select_covariates, ['ph', 'average-soil-relative-humidity', 'elevation', 'average-soil-temperature'])\n",
    "    .pipe(save_dataframe, filename=\"data/unscaled_selected_covaraites.csv\")\n",
    "    .pipe(scale_meta_data)\n",
    "    .pipe(save_dataframe, filename=\"data/scaled_selected_covaraites.csv\")\n",
    ")\n",
    "print(scaled_covaraites.shape)\n",
    "scaled_covaraites.head()"
   ]
  },
  {
   "cell_type": "code",
   "execution_count": 2,
   "id": "9f57d5de-e5ca-4f71-91e5-a5cf5e1128cd",
   "metadata": {
    "tags": []
   },
   "outputs": [
    {
     "data": {
      "image/png": "[encoded data removed]",
      "text/plain": [
       "<Figure size 1500x700 with 2 Axes>"
      ]
     },
     "metadata": {},
     "output_type": "display_data"
    },
    {
     "data": {
      "image/png": "[encoded data removed]",
      "text/plain": [
       "<Figure size 1500x700 with 2 Axes>"
      ]
     },
     "metadata": {},
     "output_type": "display_data"
    },
    {
     "data": {
      "image/png": "[encoded data removed]",
      "text/plain": [
       "<Figure size 1500x700 with 2 Axes>"
      ]
     },
     "metadata": {},
     "output_type": "display_data"
    },
    {
     "data": {
      "image/png": "[encoded data removed]",
      "text/plain": [
       "<Figure size 1500x700 with 2 Axes>"
      ]
     },
     "metadata": {},
     "output_type": "display_data"
    }
   ],
   "source": [
    "unscaled_covariates = load_data(\"data/unscaled_selected_covaraites.csv\")\n",
    "scaled_covariates = load_data(\"data/scaled_selected_covaraites.csv\")\n",
    "\n",
    "plot_covariates(unscaled_covariates, scaled_covariates)"
   ]
  },
  {
   "cell_type": "code",
   "execution_count": 8,
   "id": "c32ad92d-83b5-41cc-b926-bad1f1dd523b",
   "metadata": {},
   "outputs": [
    {
     "data": {
      "text/plain": [
       "((13, 13), (17, 17))"
      ]
     },
     "execution_count": 8,
     "metadata": {},
     "output_type": "execute_result"
    }
   ],
   "source": [
    "n_cov = scaled_covariates.shape[1]\n",
    "\n",
    "vis_S = (\n",
    "    merge_data(mclr, scaled_covariates)\n",
    "    .pipe(save_dataframe, filename=\"data/merged_data.csv\")\n",
    "    .pipe(calculate_covariance, n_cov, method=\"corr\")\n",
    "    .pipe(save_dataframe, filename=\"data/asv_covariance.csv\")\n",
    "    )\n",
    "\n",
    "vis_S_meta = (\n",
    "    load_data(\"data/merged_data.csv\")\n",
    "    .pipe(calculate_covariance, n_cov=None, method=\"corr\")\n",
    "    .pipe(save_dataframe, filename=\"data/asv_meta_covariance.csv\")\n",
    "    )\n",
    "\n",
    "vis_S.shape, vis_S_meta.shape"
   ]
  },
  {
   "cell_type": "code",
   "execution_count": 9,
   "id": "4caf4ab0-0fda-457e-ac8c-1be099ae097c",
   "metadata": {},
   "outputs": [],
   "source": [
    "# from scipy.linalg import sqrtm\n",
    "\n",
    "\n",
    "# diagonal = np.diag(vis_S)\n",
    "# epsilon = 1e-6  # Small positive constant\n",
    "# correlation_matrix_modified = vis_S + epsilon * np.eye(vis_S.shape[0])\n",
    "\n",
    "# sqrt_correlation_matrix = sqrtm(correlation_matrix_modified)\n",
    "\n",
    "# inverse_sqrt_correlation_matrix = np.linalg.inv(sqrt_correlation_matrix)\n",
    "\n",
    "# inverse_correlation_matrix = inverse_sqrt_correlation_matrix.dot(inverse_sqrt_correlation_matrix.T)\n",
    "\n",
    "# test = pd.DataFrame(inverse_correlation_matrix, index=vis_S.index, columns=vis_S.columns)"
   ]
  },
  {
   "cell_type": "code",
   "execution_count": 10,
   "id": "de9959a0-bcab-45b4-a528-638195de78c8",
   "metadata": {},
   "outputs": [],
   "source": [
    "clust_order = _get_order(vis_S)\n",
    "\n",
    "p_vis_S_clust = plot_ordered_heatmap(vis_S, order=clust_order)\n",
    "p_clust_meta = plot_ordered_heatmap(vis_S_meta, order=clust_order, n_covariates=n_cov)\n",
    "\n",
    "# show(p_vis_S_clust)\n",
    "show(p_clust_meta)"
   ]
  },
  {
   "cell_type": "code",
   "execution_count": 11,
   "id": "eec32c9d-9f1e-4bc6-9ae9-6ee87a5bf01b",
   "metadata": {
    "collapsed": true,
    "jupyter": {
     "outputs_hidden": true
    },
    "tags": []
   },
   "outputs": [
    {
     "name": "stdout",
     "output_type": "stream",
     "text": [
      "Shape of data without covariates: 50, 13\n",
      "Shape of data with covariates: 50, 17\n",
      "ADMM terminated after 11 iterations with status: optimal.\n",
      "ADMM terminated after 10 iterations with status: optimal.\n",
      "ADMM terminated after 9 iterations with status: optimal.\n",
      "ADMM terminated after 11 iterations with status: optimal.\n",
      "ADMM terminated after 23 iterations with status: optimal.\n",
      "ADMM terminated after 27 iterations with status: optimal.\n",
      "ADMM terminated after 27 iterations with status: optimal.\n",
      "ADMM terminated after 11 iterations with status: optimal.\n",
      "ADMM terminated after 27 iterations with status: optimal.\n",
      "ADMM terminated after 28 iterations with status: optimal.\n",
      "ADMM terminated after 31 iterations with status: optimal.\n",
      "ADMM terminated after 34 iterations with status: optimal.\n",
      "ADMM terminated after 31 iterations with status: optimal.\n",
      "ADMM terminated after 31 iterations with status: optimal.\n",
      "ADMM terminated after 41 iterations with status: optimal.\n",
      "ADMM terminated after 43 iterations with status: optimal.\n",
      "ADMM terminated after 29 iterations with status: optimal.\n",
      "ADMM terminated after 29 iterations with status: optimal.\n",
      "ADMM terminated after 30 iterations with status: optimal.\n",
      "ADMM terminated after 39 iterations with status: optimal.\n",
      "ADMM terminated after 41 iterations with status: optimal.\n",
      "ADMM terminated after 33 iterations with status: optimal.\n",
      "ADMM terminated after 33 iterations with status: optimal.\n",
      "ADMM terminated after 33 iterations with status: optimal.\n",
      "ADMM terminated after 38 iterations with status: optimal.\n",
      "ADMM terminated after 45 iterations with status: optimal.\n",
      "ADMM terminated after 47 iterations with status: optimal.\n",
      "ADMM terminated after 49 iterations with status: optimal.\n",
      "ADMM terminated after 54 iterations with status: optimal.\n",
      "ADMM terminated after 57 iterations with status: optimal.\n",
      "ADMM terminated after 58 iterations with status: optimal.\n",
      "ADMM terminated after 44 iterations with status: optimal.\n",
      "ADMM terminated after 48 iterations with status: optimal.\n",
      "ADMM terminated after 47 iterations with status: optimal.\n",
      "ADMM terminated after 49 iterations with status: optimal.\n",
      "ADMM terminated after 49 iterations with status: optimal.\n",
      "ADMM terminated after 49 iterations with status: optimal.\n",
      "ADMM terminated after 41 iterations with status: optimal.\n",
      "ADMM terminated after 40 iterations with status: optimal.\n",
      "ADMM terminated after 39 iterations with status: optimal.\n",
      "ADMM terminated after 39 iterations with status: optimal.\n",
      "ADMM terminated after 17 iterations with status: optimal.\n",
      "ADMM terminated after 13 iterations with status: optimal.\n",
      "ADMM terminated after 11 iterations with status: optimal.\n",
      "ADMM terminated after 10 iterations with status: optimal.\n",
      "ADMM terminated after 10 iterations with status: optimal.\n",
      "ADMM terminated after 9 iterations with status: optimal.\n",
      "ADMM terminated after 9 iterations with status: optimal.\n",
      "ADMM terminated after 9 iterations with status: optimal.\n",
      "ADMM terminated after 22 iterations with status: optimal.\n",
      "ADMM terminated after 22 iterations with status: optimal.\n",
      "ADMM terminated after 22 iterations with status: optimal.\n",
      "ADMM terminated after 22 iterations with status: optimal.\n",
      "ADMM terminated after 22 iterations with status: optimal.\n",
      "ADMM terminated after 22 iterations with status: optimal.\n",
      "ADMM terminated after 22 iterations with status: optimal.\n",
      "ADMM terminated after 22 iterations with status: optimal.\n",
      "ADMM terminated after 22 iterations with status: optimal.\n",
      "ADMM terminated after 22 iterations with status: optimal.\n",
      "ADMM terminated after 22 iterations with status: optimal.\n",
      "ADMM terminated after 22 iterations with status: optimal.\n",
      "ADMM terminated after 22 iterations with status: optimal.\n",
      "ADMM terminated after 22 iterations with status: optimal.\n",
      "ADMM terminated after 22 iterations with status: optimal.\n",
      "ADMM terminated after 22 iterations with status: optimal.\n",
      "ADMM terminated after 22 iterations with status: optimal.\n",
      "ADMM terminated after 23 iterations with status: optimal.\n",
      "ADMM terminated after 23 iterations with status: optimal.\n",
      "ADMM terminated after 23 iterations with status: optimal.\n",
      "ADMM terminated after 23 iterations with status: optimal.\n",
      "ADMM terminated after 23 iterations with status: optimal.\n",
      "ADMM terminated after 23 iterations with status: optimal.\n",
      "ADMM terminated after 27 iterations with status: optimal.\n",
      "ADMM terminated after 27 iterations with status: optimal.\n",
      "ADMM terminated after 27 iterations with status: optimal.\n",
      "ADMM terminated after 27 iterations with status: optimal.\n",
      "ADMM terminated after 27 iterations with status: optimal.\n",
      "ADMM terminated after 28 iterations with status: optimal.\n",
      "ADMM terminated after 28 iterations with status: optimal.\n",
      "ADMM terminated after 28 iterations with status: optimal.\n",
      "ADMM terminated after 28 iterations with status: optimal.\n",
      "ADMM terminated after 28 iterations with status: optimal.\n",
      "ADMM terminated after 28 iterations with status: optimal.\n",
      "ADMM terminated after 28 iterations with status: optimal.\n",
      "ADMM terminated after 28 iterations with status: optimal.\n",
      "ADMM terminated after 28 iterations with status: optimal.\n",
      "ADMM terminated after 28 iterations with status: optimal.\n",
      "ADMM terminated after 28 iterations with status: optimal.\n",
      "ADMM terminated after 28 iterations with status: optimal.\n",
      "ADMM terminated after 28 iterations with status: optimal.\n",
      "ADMM terminated after 28 iterations with status: optimal.\n",
      "ADMM terminated after 28 iterations with status: optimal.\n",
      "ADMM terminated after 28 iterations with status: optimal.\n",
      "ADMM terminated after 28 iterations with status: optimal.\n",
      "ADMM terminated after 29 iterations with status: optimal.\n",
      "ADMM terminated after 29 iterations with status: optimal.\n",
      "ADMM terminated after 28 iterations with status: optimal.\n",
      "ADMM terminated after 28 iterations with status: optimal.\n",
      "ADMM terminated after 28 iterations with status: optimal.\n",
      "ADMM terminated after 22 iterations with status: optimal.\n",
      "ADMM terminated after 22 iterations with status: optimal.\n",
      "ADMM terminated after 22 iterations with status: optimal.\n",
      "ADMM terminated after 22 iterations with status: optimal.\n",
      "ADMM terminated after 22 iterations with status: optimal.\n",
      "ADMM terminated after 22 iterations with status: optimal.\n",
      "ADMM terminated after 22 iterations with status: optimal.\n",
      "ADMM terminated after 22 iterations with status: optimal.\n",
      "ADMM terminated after 22 iterations with status: optimal.\n",
      "ADMM terminated after 22 iterations with status: optimal.\n",
      "ADMM terminated after 22 iterations with status: optimal.\n",
      "ADMM terminated after 22 iterations with status: optimal.\n",
      "ADMM terminated after 22 iterations with status: optimal.\n",
      "ADMM terminated after 22 iterations with status: optimal.\n",
      "ADMM terminated after 22 iterations with status: optimal.\n",
      "ADMM terminated after 22 iterations with status: optimal.\n",
      "ADMM terminated after 22 iterations with status: optimal.\n",
      "ADMM terminated after 23 iterations with status: optimal.\n",
      "ADMM terminated after 23 iterations with status: optimal.\n",
      "ADMM terminated after 23 iterations with status: optimal.\n",
      "ADMM terminated after 23 iterations with status: optimal.\n",
      "ADMM terminated after 23 iterations with status: optimal.\n",
      "ADMM terminated after 23 iterations with status: optimal.\n",
      "ADMM terminated after 27 iterations with status: optimal.\n",
      "ADMM terminated after 27 iterations with status: optimal.\n",
      "ADMM terminated after 27 iterations with status: optimal.\n",
      "ADMM terminated after 27 iterations with status: optimal.\n",
      "ADMM terminated after 27 iterations with status: optimal.\n",
      "ADMM terminated after 28 iterations with status: optimal.\n",
      "ADMM terminated after 28 iterations with status: optimal.\n",
      "ADMM terminated after 28 iterations with status: optimal.\n",
      "ADMM terminated after 28 iterations with status: optimal.\n",
      "ADMM terminated after 28 iterations with status: optimal.\n",
      "ADMM terminated after 28 iterations with status: optimal.\n",
      "ADMM terminated after 28 iterations with status: optimal.\n",
      "ADMM terminated after 28 iterations with status: optimal.\n",
      "ADMM terminated after 28 iterations with status: optimal.\n",
      "ADMM terminated after 28 iterations with status: optimal.\n",
      "ADMM terminated after 28 iterations with status: optimal.\n",
      "ADMM terminated after 28 iterations with status: optimal.\n",
      "ADMM terminated after 28 iterations with status: optimal.\n",
      "ADMM terminated after 28 iterations with status: optimal.\n",
      "ADMM terminated after 28 iterations with status: optimal.\n",
      "ADMM terminated after 28 iterations with status: optimal.\n",
      "ADMM terminated after 28 iterations with status: optimal.\n",
      "ADMM terminated after 29 iterations with status: optimal.\n",
      "ADMM terminated after 29 iterations with status: optimal.\n",
      "ADMM terminated after 28 iterations with status: optimal.\n",
      "ADMM terminated after 28 iterations with status: optimal.\n",
      "ADMM terminated after 28 iterations with status: optimal.\n",
      "ADMM terminated after 22 iterations with status: optimal.\n",
      "ADMM terminated after 22 iterations with status: optimal.\n",
      "ADMM terminated after 22 iterations with status: optimal.\n",
      "ADMM terminated after 22 iterations with status: optimal.\n",
      "ADMM terminated after 22 iterations with status: optimal.\n",
      "ADMM terminated after 22 iterations with status: optimal.\n",
      "ADMM terminated after 22 iterations with status: optimal.\n",
      "ADMM terminated after 22 iterations with status: optimal.\n",
      "ADMM terminated after 22 iterations with status: optimal.\n",
      "ADMM terminated after 22 iterations with status: optimal.\n",
      "ADMM terminated after 22 iterations with status: optimal.\n",
      "ADMM terminated after 22 iterations with status: optimal.\n",
      "ADMM terminated after 22 iterations with status: optimal.\n",
      "ADMM terminated after 22 iterations with status: optimal.\n",
      "ADMM terminated after 22 iterations with status: optimal.\n",
      "ADMM terminated after 22 iterations with status: optimal.\n",
      "ADMM terminated after 22 iterations with status: optimal.\n",
      "ADMM terminated after 23 iterations with status: optimal.\n",
      "ADMM terminated after 23 iterations with status: optimal.\n",
      "ADMM terminated after 23 iterations with status: optimal.\n",
      "ADMM terminated after 23 iterations with status: optimal.\n",
      "ADMM terminated after 23 iterations with status: optimal.\n",
      "ADMM terminated after 23 iterations with status: optimal.\n",
      "ADMM terminated after 27 iterations with status: optimal.\n",
      "ADMM terminated after 27 iterations with status: optimal.\n",
      "ADMM terminated after 27 iterations with status: optimal.\n",
      "ADMM terminated after 27 iterations with status: optimal.\n",
      "ADMM terminated after 27 iterations with status: optimal.\n",
      "ADMM terminated after 28 iterations with status: optimal.\n",
      "ADMM terminated after 28 iterations with status: optimal.\n",
      "ADMM terminated after 28 iterations with status: optimal.\n",
      "ADMM terminated after 28 iterations with status: optimal.\n",
      "ADMM terminated after 28 iterations with status: optimal.\n",
      "ADMM terminated after 28 iterations with status: optimal.\n",
      "ADMM terminated after 28 iterations with status: optimal.\n",
      "ADMM terminated after 28 iterations with status: optimal.\n",
      "ADMM terminated after 28 iterations with status: optimal.\n",
      "ADMM terminated after 28 iterations with status: optimal.\n",
      "ADMM terminated after 28 iterations with status: optimal.\n",
      "ADMM terminated after 28 iterations with status: optimal.\n",
      "ADMM terminated after 28 iterations with status: optimal.\n",
      "ADMM terminated after 28 iterations with status: optimal.\n",
      "ADMM terminated after 28 iterations with status: optimal.\n",
      "ADMM terminated after 28 iterations with status: optimal.\n",
      "ADMM terminated after 28 iterations with status: optimal.\n",
      "ADMM terminated after 29 iterations with status: optimal.\n",
      "ADMM terminated after 29 iterations with status: optimal.\n",
      "ADMM terminated after 28 iterations with status: optimal.\n",
      "ADMM terminated after 28 iterations with status: optimal.\n",
      "ADMM terminated after 28 iterations with status: optimal.\n",
      "ADMM terminated after 22 iterations with status: optimal.\n",
      "ADMM terminated after 22 iterations with status: optimal.\n",
      "ADMM terminated after 22 iterations with status: optimal.\n",
      "ADMM terminated after 22 iterations with status: optimal.\n",
      "ADMM terminated after 22 iterations with status: optimal.\n",
      "ADMM terminated after 22 iterations with status: optimal.\n",
      "ADMM terminated after 22 iterations with status: optimal.\n",
      "ADMM terminated after 22 iterations with status: optimal.\n",
      "ADMM terminated after 22 iterations with status: optimal.\n",
      "ADMM terminated after 22 iterations with status: optimal.\n",
      "ADMM terminated after 22 iterations with status: optimal.\n",
      "ADMM terminated after 22 iterations with status: optimal.\n",
      "ADMM terminated after 22 iterations with status: optimal.\n",
      "ADMM terminated after 22 iterations with status: optimal.\n",
      "ADMM terminated after 22 iterations with status: optimal.\n",
      "ADMM terminated after 22 iterations with status: optimal.\n",
      "ADMM terminated after 22 iterations with status: optimal.\n",
      "ADMM terminated after 23 iterations with status: optimal.\n",
      "ADMM terminated after 23 iterations with status: optimal.\n",
      "ADMM terminated after 23 iterations with status: optimal.\n",
      "ADMM terminated after 23 iterations with status: optimal.\n",
      "ADMM terminated after 23 iterations with status: optimal.\n",
      "ADMM terminated after 23 iterations with status: optimal.\n",
      "ADMM terminated after 27 iterations with status: optimal.\n",
      "ADMM terminated after 27 iterations with status: optimal.\n",
      "ADMM terminated after 27 iterations with status: optimal.\n",
      "ADMM terminated after 27 iterations with status: optimal.\n",
      "ADMM terminated after 27 iterations with status: optimal.\n",
      "ADMM terminated after 28 iterations with status: optimal.\n",
      "ADMM terminated after 28 iterations with status: optimal.\n",
      "ADMM terminated after 28 iterations with status: optimal.\n",
      "ADMM terminated after 28 iterations with status: optimal.\n",
      "ADMM terminated after 28 iterations with status: optimal.\n",
      "ADMM terminated after 28 iterations with status: optimal.\n",
      "ADMM terminated after 28 iterations with status: optimal.\n",
      "ADMM terminated after 28 iterations with status: optimal.\n",
      "ADMM terminated after 28 iterations with status: optimal.\n",
      "ADMM terminated after 28 iterations with status: optimal.\n",
      "ADMM terminated after 28 iterations with status: optimal.\n",
      "ADMM terminated after 28 iterations with status: optimal.\n",
      "ADMM terminated after 28 iterations with status: optimal.\n",
      "ADMM terminated after 28 iterations with status: optimal.\n",
      "ADMM terminated after 28 iterations with status: optimal.\n",
      "ADMM terminated after 28 iterations with status: optimal.\n",
      "ADMM terminated after 28 iterations with status: optimal.\n",
      "ADMM terminated after 29 iterations with status: optimal.\n",
      "ADMM terminated after 29 iterations with status: optimal.\n",
      "ADMM terminated after 28 iterations with status: optimal.\n",
      "ADMM terminated after 28 iterations with status: optimal.\n",
      "ADMM terminated after 28 iterations with status: optimal.\n",
      "ADMM terminated after 22 iterations with status: optimal.\n",
      "ADMM terminated after 22 iterations with status: optimal.\n",
      "ADMM terminated after 22 iterations with status: optimal.\n",
      "ADMM terminated after 22 iterations with status: optimal.\n",
      "ADMM terminated after 22 iterations with status: optimal.\n",
      "ADMM terminated after 22 iterations with status: optimal.\n",
      "ADMM terminated after 22 iterations with status: optimal.\n",
      "ADMM terminated after 22 iterations with status: optimal.\n",
      "ADMM terminated after 22 iterations with status: optimal.\n",
      "ADMM terminated after 22 iterations with status: optimal.\n",
      "ADMM terminated after 22 iterations with status: optimal.\n",
      "ADMM terminated after 22 iterations with status: optimal.\n",
      "ADMM terminated after 22 iterations with status: optimal.\n",
      "ADMM terminated after 22 iterations with status: optimal.\n",
      "ADMM terminated after 22 iterations with status: optimal.\n",
      "ADMM terminated after 22 iterations with status: optimal.\n",
      "ADMM terminated after 22 iterations with status: optimal.\n",
      "ADMM terminated after 23 iterations with status: optimal.\n",
      "ADMM terminated after 23 iterations with status: optimal.\n",
      "ADMM terminated after 23 iterations with status: optimal.\n",
      "ADMM terminated after 23 iterations with status: optimal.\n",
      "ADMM terminated after 23 iterations with status: optimal.\n",
      "ADMM terminated after 23 iterations with status: optimal.\n",
      "ADMM terminated after 27 iterations with status: optimal.\n",
      "ADMM terminated after 27 iterations with status: optimal.\n",
      "ADMM terminated after 27 iterations with status: optimal.\n",
      "ADMM terminated after 27 iterations with status: optimal.\n",
      "ADMM terminated after 27 iterations with status: optimal.\n",
      "ADMM terminated after 28 iterations with status: optimal.\n",
      "ADMM terminated after 28 iterations with status: optimal.\n",
      "ADMM terminated after 28 iterations with status: optimal.\n",
      "ADMM terminated after 28 iterations with status: optimal.\n",
      "ADMM terminated after 28 iterations with status: optimal.\n",
      "ADMM terminated after 28 iterations with status: optimal.\n",
      "ADMM terminated after 28 iterations with status: optimal.\n",
      "ADMM terminated after 28 iterations with status: optimal.\n",
      "ADMM terminated after 28 iterations with status: optimal.\n",
      "ADMM terminated after 28 iterations with status: optimal.\n",
      "ADMM terminated after 28 iterations with status: optimal.\n",
      "ADMM terminated after 28 iterations with status: optimal.\n",
      "ADMM terminated after 28 iterations with status: optimal.\n",
      "ADMM terminated after 28 iterations with status: optimal.\n",
      "ADMM terminated after 28 iterations with status: optimal.\n",
      "ADMM terminated after 28 iterations with status: optimal.\n",
      "ADMM terminated after 28 iterations with status: optimal.\n",
      "ADMM terminated after 29 iterations with status: optimal.\n",
      "ADMM terminated after 29 iterations with status: optimal.\n",
      "ADMM terminated after 28 iterations with status: optimal.\n",
      "ADMM terminated after 28 iterations with status: optimal.\n",
      "ADMM terminated after 28 iterations with status: optimal.\n",
      "ADMM terminated after 22 iterations with status: optimal.\n",
      "ADMM terminated after 22 iterations with status: optimal.\n",
      "ADMM terminated after 22 iterations with status: optimal.\n",
      "ADMM terminated after 22 iterations with status: optimal.\n",
      "ADMM terminated after 22 iterations with status: optimal.\n",
      "ADMM terminated after 22 iterations with status: optimal.\n",
      "ADMM terminated after 22 iterations with status: optimal.\n",
      "ADMM terminated after 22 iterations with status: optimal.\n",
      "ADMM terminated after 22 iterations with status: optimal.\n",
      "ADMM terminated after 22 iterations with status: optimal.\n",
      "ADMM terminated after 22 iterations with status: optimal.\n",
      "ADMM terminated after 22 iterations with status: optimal.\n",
      "ADMM terminated after 22 iterations with status: optimal.\n",
      "ADMM terminated after 22 iterations with status: optimal.\n",
      "ADMM terminated after 22 iterations with status: optimal.\n",
      "ADMM terminated after 22 iterations with status: optimal.\n",
      "ADMM terminated after 22 iterations with status: optimal.\n",
      "ADMM terminated after 23 iterations with status: optimal.\n",
      "ADMM terminated after 23 iterations with status: optimal.\n",
      "ADMM terminated after 23 iterations with status: optimal.\n",
      "ADMM terminated after 23 iterations with status: optimal.\n",
      "ADMM terminated after 23 iterations with status: optimal.\n",
      "ADMM terminated after 23 iterations with status: optimal.\n",
      "ADMM terminated after 27 iterations with status: optimal.\n",
      "ADMM terminated after 27 iterations with status: optimal.\n",
      "ADMM terminated after 27 iterations with status: optimal.\n",
      "ADMM terminated after 27 iterations with status: optimal.\n",
      "ADMM terminated after 27 iterations with status: optimal.\n",
      "ADMM terminated after 28 iterations with status: optimal.\n",
      "ADMM terminated after 28 iterations with status: optimal.\n",
      "ADMM terminated after 28 iterations with status: optimal.\n",
      "ADMM terminated after 28 iterations with status: optimal.\n",
      "ADMM terminated after 28 iterations with status: optimal.\n",
      "ADMM terminated after 28 iterations with status: optimal.\n",
      "ADMM terminated after 28 iterations with status: optimal.\n",
      "ADMM terminated after 28 iterations with status: optimal.\n",
      "ADMM terminated after 28 iterations with status: optimal.\n",
      "ADMM terminated after 28 iterations with status: optimal.\n",
      "ADMM terminated after 28 iterations with status: optimal.\n",
      "ADMM terminated after 28 iterations with status: optimal.\n",
      "ADMM terminated after 28 iterations with status: optimal.\n",
      "ADMM terminated after 28 iterations with status: optimal.\n",
      "ADMM terminated after 28 iterations with status: optimal.\n",
      "ADMM terminated after 28 iterations with status: optimal.\n",
      "ADMM terminated after 28 iterations with status: optimal.\n",
      "ADMM terminated after 29 iterations with status: optimal.\n",
      "ADMM terminated after 29 iterations with status: optimal.\n",
      "ADMM terminated after 28 iterations with status: optimal.\n",
      "ADMM terminated after 28 iterations with status: optimal.\n",
      "ADMM terminated after 28 iterations with status: optimal.\n",
      "ADMM terminated after 22 iterations with status: optimal.\n",
      "ADMM terminated after 22 iterations with status: optimal.\n",
      "ADMM terminated after 22 iterations with status: optimal.\n",
      "ADMM terminated after 22 iterations with status: optimal.\n",
      "ADMM terminated after 22 iterations with status: optimal.\n",
      "ADMM terminated after 22 iterations with status: optimal.\n",
      "ADMM terminated after 22 iterations with status: optimal.\n",
      "ADMM terminated after 22 iterations with status: optimal.\n",
      "ADMM terminated after 22 iterations with status: optimal.\n",
      "ADMM terminated after 22 iterations with status: optimal.\n",
      "ADMM terminated after 22 iterations with status: optimal.\n",
      "ADMM terminated after 22 iterations with status: optimal.\n",
      "ADMM terminated after 22 iterations with status: optimal.\n",
      "ADMM terminated after 22 iterations with status: optimal.\n",
      "ADMM terminated after 22 iterations with status: optimal.\n",
      "ADMM terminated after 22 iterations with status: optimal.\n",
      "ADMM terminated after 22 iterations with status: optimal.\n",
      "ADMM terminated after 23 iterations with status: optimal.\n",
      "ADMM terminated after 23 iterations with status: optimal.\n",
      "ADMM terminated after 23 iterations with status: optimal.\n",
      "ADMM terminated after 23 iterations with status: optimal.\n",
      "ADMM terminated after 23 iterations with status: optimal.\n",
      "ADMM terminated after 23 iterations with status: optimal.\n",
      "ADMM terminated after 27 iterations with status: optimal.\n",
      "ADMM terminated after 27 iterations with status: optimal.\n",
      "ADMM terminated after 27 iterations with status: optimal.\n",
      "ADMM terminated after 27 iterations with status: optimal.\n",
      "ADMM terminated after 27 iterations with status: optimal.\n",
      "ADMM terminated after 28 iterations with status: optimal.\n",
      "ADMM terminated after 28 iterations with status: optimal.\n",
      "ADMM terminated after 28 iterations with status: optimal.\n",
      "ADMM terminated after 28 iterations with status: optimal.\n",
      "ADMM terminated after 28 iterations with status: optimal.\n",
      "ADMM terminated after 28 iterations with status: optimal.\n",
      "ADMM terminated after 28 iterations with status: optimal.\n",
      "ADMM terminated after 28 iterations with status: optimal.\n",
      "ADMM terminated after 28 iterations with status: optimal.\n",
      "ADMM terminated after 28 iterations with status: optimal.\n",
      "ADMM terminated after 28 iterations with status: optimal.\n",
      "ADMM terminated after 28 iterations with status: optimal.\n",
      "ADMM terminated after 28 iterations with status: optimal.\n",
      "ADMM terminated after 28 iterations with status: optimal.\n",
      "ADMM terminated after 28 iterations with status: optimal.\n",
      "ADMM terminated after 28 iterations with status: optimal.\n",
      "ADMM terminated after 28 iterations with status: optimal.\n",
      "ADMM terminated after 29 iterations with status: optimal.\n",
      "ADMM terminated after 29 iterations with status: optimal.\n",
      "ADMM terminated after 28 iterations with status: optimal.\n",
      "ADMM terminated after 28 iterations with status: optimal.\n",
      "ADMM terminated after 28 iterations with status: optimal.\n",
      "ADMM terminated after 22 iterations with status: optimal.\n",
      "ADMM terminated after 22 iterations with status: optimal.\n",
      "ADMM terminated after 22 iterations with status: optimal.\n",
      "ADMM terminated after 22 iterations with status: optimal.\n",
      "ADMM terminated after 22 iterations with status: optimal.\n",
      "ADMM terminated after 22 iterations with status: optimal.\n",
      "ADMM terminated after 22 iterations with status: optimal.\n",
      "ADMM terminated after 22 iterations with status: optimal.\n",
      "ADMM terminated after 22 iterations with status: optimal.\n",
      "ADMM terminated after 22 iterations with status: optimal.\n",
      "ADMM terminated after 22 iterations with status: optimal.\n",
      "ADMM terminated after 22 iterations with status: optimal.\n",
      "ADMM terminated after 22 iterations with status: optimal.\n",
      "ADMM terminated after 22 iterations with status: optimal.\n",
      "ADMM terminated after 22 iterations with status: optimal.\n",
      "ADMM terminated after 22 iterations with status: optimal.\n",
      "ADMM terminated after 22 iterations with status: optimal.\n",
      "ADMM terminated after 22 iterations with status: optimal.\n",
      "ADMM terminated after 23 iterations with status: optimal.\n",
      "ADMM terminated after 23 iterations with status: optimal.\n",
      "ADMM terminated after 23 iterations with status: optimal.\n",
      "ADMM terminated after 23 iterations with status: optimal.\n",
      "ADMM terminated after 23 iterations with status: optimal.\n",
      "ADMM terminated after 27 iterations with status: optimal.\n",
      "ADMM terminated after 27 iterations with status: optimal.\n",
      "ADMM terminated after 27 iterations with status: optimal.\n",
      "ADMM terminated after 27 iterations with status: optimal.\n",
      "ADMM terminated after 27 iterations with status: optimal.\n",
      "ADMM terminated after 28 iterations with status: optimal.\n",
      "ADMM terminated after 28 iterations with status: optimal.\n",
      "ADMM terminated after 28 iterations with status: optimal.\n",
      "ADMM terminated after 28 iterations with status: optimal.\n",
      "ADMM terminated after 28 iterations with status: optimal.\n",
      "ADMM terminated after 28 iterations with status: optimal.\n",
      "ADMM terminated after 28 iterations with status: optimal.\n",
      "ADMM terminated after 28 iterations with status: optimal.\n",
      "ADMM terminated after 28 iterations with status: optimal.\n",
      "ADMM terminated after 28 iterations with status: optimal.\n",
      "ADMM terminated after 28 iterations with status: optimal.\n",
      "ADMM terminated after 28 iterations with status: optimal.\n",
      "ADMM terminated after 28 iterations with status: optimal.\n",
      "ADMM terminated after 28 iterations with status: optimal.\n",
      "ADMM terminated after 28 iterations with status: optimal.\n",
      "ADMM terminated after 28 iterations with status: optimal.\n",
      "ADMM terminated after 28 iterations with status: optimal.\n",
      "ADMM terminated after 29 iterations with status: optimal.\n",
      "ADMM terminated after 29 iterations with status: optimal.\n",
      "ADMM terminated after 28 iterations with status: optimal.\n",
      "ADMM terminated after 28 iterations with status: optimal.\n",
      "ADMM terminated after 28 iterations with status: optimal.\n",
      "ADMM terminated after 22 iterations with status: optimal.\n",
      "ADMM terminated after 22 iterations with status: optimal.\n",
      "ADMM terminated after 22 iterations with status: optimal.\n",
      "ADMM terminated after 22 iterations with status: optimal.\n",
      "ADMM terminated after 22 iterations with status: optimal.\n",
      "ADMM terminated after 22 iterations with status: optimal.\n",
      "ADMM terminated after 22 iterations with status: optimal.\n",
      "ADMM terminated after 22 iterations with status: optimal.\n",
      "ADMM terminated after 22 iterations with status: optimal.\n",
      "ADMM terminated after 22 iterations with status: optimal.\n",
      "ADMM terminated after 22 iterations with status: optimal.\n",
      "ADMM terminated after 22 iterations with status: optimal.\n",
      "ADMM terminated after 22 iterations with status: optimal.\n",
      "ADMM terminated after 22 iterations with status: optimal.\n",
      "ADMM terminated after 22 iterations with status: optimal.\n",
      "ADMM terminated after 22 iterations with status: optimal.\n",
      "ADMM terminated after 22 iterations with status: optimal.\n",
      "ADMM terminated after 22 iterations with status: optimal.\n",
      "ADMM terminated after 22 iterations with status: optimal.\n",
      "ADMM terminated after 22 iterations with status: optimal.\n",
      "ADMM terminated after 22 iterations with status: optimal.\n",
      "ADMM terminated after 23 iterations with status: optimal.\n",
      "ADMM terminated after 23 iterations with status: optimal.\n",
      "ADMM terminated after 23 iterations with status: optimal.\n",
      "ADMM terminated after 23 iterations with status: optimal.\n",
      "ADMM terminated after 23 iterations with status: optimal.\n",
      "ADMM terminated after 22 iterations with status: optimal.\n",
      "ADMM terminated after 23 iterations with status: optimal.\n",
      "ADMM terminated after 23 iterations with status: optimal.\n",
      "ADMM terminated after 23 iterations with status: optimal.\n",
      "ADMM terminated after 28 iterations with status: optimal.\n",
      "ADMM terminated after 28 iterations with status: optimal.\n",
      "ADMM terminated after 28 iterations with status: optimal.\n",
      "ADMM terminated after 28 iterations with status: optimal.\n",
      "ADMM terminated after 28 iterations with status: optimal.\n",
      "ADMM terminated after 28 iterations with status: optimal.\n",
      "ADMM terminated after 28 iterations with status: optimal.\n",
      "ADMM terminated after 28 iterations with status: optimal.\n",
      "ADMM terminated after 28 iterations with status: optimal.\n",
      "ADMM terminated after 28 iterations with status: optimal.\n",
      "ADMM terminated after 28 iterations with status: optimal.\n",
      "ADMM terminated after 28 iterations with status: optimal.\n",
      "ADMM terminated after 28 iterations with status: optimal.\n",
      "ADMM terminated after 28 iterations with status: optimal.\n",
      "ADMM terminated after 28 iterations with status: optimal.\n",
      "ADMM terminated after 28 iterations with status: optimal.\n",
      "ADMM terminated after 29 iterations with status: optimal.\n",
      "ADMM terminated after 28 iterations with status: optimal.\n",
      "ADMM terminated after 28 iterations with status: optimal.\n",
      "ADMM terminated after 28 iterations with status: optimal.\n",
      "ADMM terminated after 23 iterations with status: optimal.\n",
      "ADMM terminated after 23 iterations with status: optimal.\n",
      "ADMM terminated after 23 iterations with status: optimal.\n",
      "ADMM terminated after 23 iterations with status: optimal.\n",
      "ADMM terminated after 23 iterations with status: optimal.\n",
      "ADMM terminated after 23 iterations with status: optimal.\n",
      "ADMM terminated after 23 iterations with status: optimal.\n",
      "ADMM terminated after 23 iterations with status: optimal.\n",
      "ADMM terminated after 23 iterations with status: optimal.\n",
      "ADMM terminated after 23 iterations with status: optimal.\n",
      "ADMM terminated after 28 iterations with status: optimal.\n",
      "ADMM terminated after 23 iterations with status: optimal.\n",
      "ADMM terminated after 22 iterations with status: optimal.\n",
      "ADMM terminated after 22 iterations with status: optimal.\n",
      "ADMM terminated after 22 iterations with status: optimal.\n",
      "ADMM terminated after 22 iterations with status: optimal.\n",
      "ADMM terminated after 22 iterations with status: optimal.\n",
      "ADMM terminated after 22 iterations with status: optimal.\n",
      "ADMM terminated after 22 iterations with status: optimal.\n",
      "ADMM terminated after 22 iterations with status: optimal.\n",
      "ADMM terminated after 23 iterations with status: optimal.\n",
      "ADMM terminated after 23 iterations with status: optimal.\n",
      "ADMM terminated after 23 iterations with status: optimal.\n",
      "ADMM terminated after 23 iterations with status: optimal.\n",
      "ADMM terminated after 28 iterations with status: optimal.\n",
      "ADMM terminated after 28 iterations with status: optimal.\n",
      "ADMM terminated after 28 iterations with status: optimal.\n",
      "ADMM terminated after 28 iterations with status: optimal.\n",
      "ADMM terminated after 28 iterations with status: optimal.\n",
      "ADMM terminated after 28 iterations with status: optimal.\n",
      "ADMM terminated after 28 iterations with status: optimal.\n",
      "ADMM terminated after 28 iterations with status: optimal.\n",
      "ADMM terminated after 28 iterations with status: optimal.\n",
      "ADMM terminated after 28 iterations with status: optimal.\n",
      "ADMM terminated after 28 iterations with status: optimal.\n",
      "ADMM terminated after 28 iterations with status: optimal.\n",
      "ADMM terminated after 28 iterations with status: optimal.\n",
      "ADMM terminated after 29 iterations with status: optimal.\n",
      "ADMM terminated after 29 iterations with status: optimal.\n",
      "ADMM terminated after 23 iterations with status: optimal.\n",
      "ADMM terminated after 23 iterations with status: optimal.\n",
      "ADMM terminated after 23 iterations with status: optimal.\n",
      "ADMM terminated after 23 iterations with status: optimal.\n",
      "ADMM terminated after 29 iterations with status: optimal.\n",
      "ADMM terminated after 29 iterations with status: optimal.\n",
      "ADMM terminated after 29 iterations with status: optimal.\n",
      "ADMM terminated after 29 iterations with status: optimal.\n",
      "ADMM terminated after 29 iterations with status: optimal.\n",
      "ADMM terminated after 29 iterations with status: optimal.\n",
      "ADMM terminated after 23 iterations with status: optimal.\n",
      "ADMM terminated after 24 iterations with status: optimal.\n",
      "ADMM terminated after 24 iterations with status: optimal.\n",
      "ADMM terminated after 24 iterations with status: optimal.\n",
      "ADMM terminated after 24 iterations with status: optimal.\n",
      "ADMM terminated after 24 iterations with status: optimal.\n",
      "ADMM terminated after 30 iterations with status: optimal.\n",
      "ADMM terminated after 30 iterations with status: optimal.\n",
      "ADMM terminated after 30 iterations with status: optimal.\n",
      "ADMM terminated after 30 iterations with status: optimal.\n",
      "ADMM terminated after 30 iterations with status: optimal.\n",
      "ADMM terminated after 30 iterations with status: optimal.\n",
      "ADMM terminated after 30 iterations with status: optimal.\n",
      "ADMM terminated after 30 iterations with status: optimal.\n",
      "ADMM terminated after 30 iterations with status: optimal.\n",
      "ADMM terminated after 30 iterations with status: optimal.\n",
      "ADMM terminated after 30 iterations with status: optimal.\n",
      "ADMM terminated after 30 iterations with status: optimal.\n",
      "ADMM terminated after 30 iterations with status: optimal.\n",
      "ADMM terminated after 30 iterations with status: optimal.\n",
      "ADMM terminated after 30 iterations with status: optimal.\n",
      "ADMM terminated after 30 iterations with status: optimal.\n",
      "ADMM terminated after 30 iterations with status: optimal.\n",
      "ADMM terminated after 30 iterations with status: optimal.\n",
      "ADMM terminated after 30 iterations with status: optimal.\n",
      "ADMM terminated after 30 iterations with status: optimal.\n",
      "ADMM terminated after 30 iterations with status: optimal.\n",
      "ADMM terminated after 30 iterations with status: optimal.\n",
      "ADMM terminated after 30 iterations with status: optimal.\n",
      "ADMM terminated after 30 iterations with status: optimal.\n",
      "ADMM terminated after 30 iterations with status: optimal.\n",
      "ADMM terminated after 30 iterations with status: optimal.\n",
      "ADMM terminated after 30 iterations with status: optimal.\n",
      "ADMM terminated after 30 iterations with status: optimal.\n",
      "ADMM terminated after 30 iterations with status: optimal.\n",
      "ADMM terminated after 30 iterations with status: optimal.\n",
      "ADMM terminated after 30 iterations with status: optimal.\n",
      "ADMM terminated after 30 iterations with status: optimal.\n",
      "ADMM terminated after 30 iterations with status: optimal.\n",
      "ADMM terminated after 30 iterations with status: optimal.\n",
      "ADMM terminated after 30 iterations with status: optimal.\n",
      "ADMM terminated after 30 iterations with status: optimal.\n",
      "ADMM terminated after 30 iterations with status: optimal.\n",
      "ADMM terminated after 30 iterations with status: optimal.\n",
      "ADMM terminated after 30 iterations with status: optimal.\n",
      "ADMM terminated after 30 iterations with status: optimal.\n",
      "ADMM terminated after 30 iterations with status: optimal.\n",
      "ADMM terminated after 30 iterations with status: optimal.\n",
      "ADMM terminated after 30 iterations with status: optimal.\n",
      "ADMM terminated after 30 iterations with status: optimal.\n",
      "ADMM terminated after 30 iterations with status: optimal.\n",
      "ADMM terminated after 24 iterations with status: optimal.\n",
      "ADMM terminated after 24 iterations with status: optimal.\n",
      "ADMM terminated after 24 iterations with status: optimal.\n",
      "ADMM terminated after 24 iterations with status: optimal.\n",
      "ADMM terminated after 24 iterations with status: optimal.\n",
      "ADMM terminated after 24 iterations with status: optimal.\n",
      "ADMM terminated after 24 iterations with status: optimal.\n",
      "ADMM terminated after 25 iterations with status: optimal.\n",
      "ADMM terminated after 25 iterations with status: optimal.\n",
      "ADMM terminated after 25 iterations with status: optimal.\n",
      "ADMM terminated after 25 iterations with status: optimal.\n",
      "ADMM terminated after 25 iterations with status: optimal.\n",
      "ADMM terminated after 25 iterations with status: optimal.\n",
      "ADMM terminated after 25 iterations with status: optimal.\n",
      "ADMM terminated after 25 iterations with status: optimal.\n",
      "ADMM terminated after 26 iterations with status: optimal.\n",
      "ADMM terminated after 32 iterations with status: optimal.\n",
      "ADMM terminated after 32 iterations with status: optimal.\n",
      "ADMM terminated after 32 iterations with status: optimal.\n",
      "ADMM terminated after 32 iterations with status: optimal.\n",
      "ADMM terminated after 32 iterations with status: optimal.\n",
      "ADMM terminated after 32 iterations with status: optimal.\n",
      "ADMM terminated after 32 iterations with status: optimal.\n",
      "ADMM terminated after 32 iterations with status: optimal.\n",
      "ADMM terminated after 32 iterations with status: optimal.\n",
      "ADMM terminated after 32 iterations with status: optimal.\n",
      "ADMM terminated after 32 iterations with status: optimal.\n",
      "ADMM terminated after 32 iterations with status: optimal.\n",
      "ADMM terminated after 32 iterations with status: optimal.\n",
      "ADMM terminated after 32 iterations with status: optimal.\n",
      "ADMM terminated after 32 iterations with status: optimal.\n",
      "ADMM terminated after 32 iterations with status: optimal.\n",
      "ADMM terminated after 32 iterations with status: optimal.\n",
      "ADMM terminated after 32 iterations with status: optimal.\n",
      "ADMM terminated after 32 iterations with status: optimal.\n",
      "ADMM terminated after 32 iterations with status: optimal.\n",
      "ADMM terminated after 32 iterations with status: optimal.\n",
      "ADMM terminated after 32 iterations with status: optimal.\n",
      "ADMM terminated after 32 iterations with status: optimal.\n",
      "ADMM terminated after 32 iterations with status: optimal.\n",
      "ADMM terminated after 32 iterations with status: optimal.\n",
      "ADMM terminated after 32 iterations with status: optimal.\n",
      "ADMM terminated after 32 iterations with status: optimal.\n",
      "ADMM terminated after 32 iterations with status: optimal.\n",
      "ADMM terminated after 32 iterations with status: optimal.\n",
      "ADMM terminated after 32 iterations with status: optimal.\n",
      "ADMM terminated after 32 iterations with status: optimal.\n",
      "ADMM terminated after 32 iterations with status: optimal.\n",
      "ADMM terminated after 32 iterations with status: optimal.\n",
      "ADMM terminated after 32 iterations with status: optimal.\n",
      "ADMM terminated after 26 iterations with status: optimal.\n",
      "ADMM terminated after 26 iterations with status: optimal.\n",
      "ADMM terminated after 26 iterations with status: optimal.\n",
      "ADMM terminated after 26 iterations with status: optimal.\n",
      "ADMM terminated after 26 iterations with status: optimal.\n",
      "ADMM terminated after 26 iterations with status: optimal.\n",
      "ADMM terminated after 26 iterations with status: optimal.\n",
      "ADMM terminated after 26 iterations with status: optimal.\n",
      "ADMM terminated after 26 iterations with status: optimal.\n",
      "ADMM terminated after 26 iterations with status: optimal.\n",
      "ADMM terminated after 26 iterations with status: optimal.\n",
      "ADMM terminated after 26 iterations with status: optimal.\n",
      "ADMM terminated after 26 iterations with status: optimal.\n",
      "ADMM terminated after 26 iterations with status: optimal.\n",
      "ADMM terminated after 26 iterations with status: optimal.\n",
      "ADMM terminated after 26 iterations with status: optimal.\n",
      "ADMM terminated after 26 iterations with status: optimal.\n",
      "ADMM terminated after 26 iterations with status: optimal.\n",
      "ADMM terminated after 26 iterations with status: optimal.\n",
      "ADMM terminated after 26 iterations with status: optimal.\n",
      "ADMM terminated after 26 iterations with status: optimal.\n",
      "ADMM terminated after 25 iterations with status: optimal.\n",
      "ADMM terminated after 25 iterations with status: optimal.\n",
      "ADMM terminated after 25 iterations with status: optimal.\n",
      "ADMM terminated after 25 iterations with status: optimal.\n",
      "ADMM terminated after 26 iterations with status: optimal.\n",
      "ADMM terminated after 26 iterations with status: optimal.\n",
      "ADMM terminated after 26 iterations with status: optimal.\n",
      "ADMM terminated after 26 iterations with status: optimal.\n",
      "ADMM terminated after 26 iterations with status: optimal.\n",
      "ADMM terminated after 26 iterations with status: optimal.\n",
      "ADMM terminated after 26 iterations with status: optimal.\n",
      "ADMM terminated after 34 iterations with status: optimal.\n",
      "ADMM terminated after 34 iterations with status: optimal.\n",
      "ADMM terminated after 34 iterations with status: optimal.\n",
      "ADMM terminated after 34 iterations with status: optimal.\n",
      "ADMM terminated after 34 iterations with status: optimal.\n",
      "ADMM terminated after 34 iterations with status: optimal.\n",
      "ADMM terminated after 34 iterations with status: optimal.\n",
      "ADMM terminated after 34 iterations with status: optimal.\n",
      "ADMM terminated after 34 iterations with status: optimal.\n",
      "ADMM terminated after 34 iterations with status: optimal.\n",
      "ADMM terminated after 34 iterations with status: optimal.\n",
      "ADMM terminated after 34 iterations with status: optimal.\n",
      "ADMM terminated after 34 iterations with status: optimal.\n",
      "ADMM terminated after 34 iterations with status: optimal.\n",
      "ADMM terminated after 34 iterations with status: optimal.\n",
      "ADMM terminated after 34 iterations with status: optimal.\n",
      "ADMM terminated after 34 iterations with status: optimal.\n",
      "ADMM terminated after 34 iterations with status: optimal.\n",
      "ADMM terminated after 36 iterations with status: optimal.\n",
      "ADMM terminated after 27 iterations with status: optimal.\n",
      "ADMM terminated after 27 iterations with status: optimal.\n",
      "ADMM terminated after 27 iterations with status: optimal.\n",
      "ADMM terminated after 27 iterations with status: optimal.\n",
      "ADMM terminated after 27 iterations with status: optimal.\n",
      "ADMM terminated after 28 iterations with status: optimal.\n",
      "ADMM terminated after 28 iterations with status: optimal.\n",
      "ADMM terminated after 28 iterations with status: optimal.\n",
      "ADMM terminated after 28 iterations with status: optimal.\n",
      "ADMM terminated after 28 iterations with status: optimal.\n",
      "ADMM terminated after 28 iterations with status: optimal.\n",
      "ADMM terminated after 28 iterations with status: optimal.\n",
      "ADMM terminated after 27 iterations with status: optimal.\n",
      "ADMM terminated after 27 iterations with status: optimal.\n",
      "ADMM terminated after 28 iterations with status: optimal.\n",
      "ADMM terminated after 28 iterations with status: optimal.\n",
      "ADMM terminated after 28 iterations with status: optimal.\n",
      "ADMM terminated after 27 iterations with status: optimal.\n",
      "ADMM terminated after 27 iterations with status: optimal.\n",
      "ADMM terminated after 37 iterations with status: optimal.\n",
      "ADMM terminated after 37 iterations with status: optimal.\n",
      "ADMM terminated after 37 iterations with status: optimal.\n",
      "ADMM terminated after 37 iterations with status: optimal.\n",
      "ADMM terminated after 37 iterations with status: optimal.\n",
      "ADMM terminated after 37 iterations with status: optimal.\n",
      "ADMM terminated after 37 iterations with status: optimal.\n",
      "ADMM terminated after 37 iterations with status: optimal.\n",
      "ADMM terminated after 37 iterations with status: optimal.\n",
      "ADMM terminated after 37 iterations with status: optimal.\n",
      "ADMM terminated after 37 iterations with status: optimal.\n",
      "ADMM terminated after 37 iterations with status: optimal.\n",
      "ADMM terminated after 37 iterations with status: optimal.\n",
      "ADMM terminated after 37 iterations with status: optimal.\n",
      "ADMM terminated after 37 iterations with status: optimal.\n",
      "ADMM terminated after 37 iterations with status: optimal.\n",
      "ADMM terminated after 37 iterations with status: optimal.\n",
      "ADMM terminated after 37 iterations with status: optimal.\n",
      "ADMM terminated after 37 iterations with status: optimal.\n",
      "ADMM terminated after 27 iterations with status: optimal.\n",
      "ADMM terminated after 27 iterations with status: optimal.\n",
      "ADMM terminated after 27 iterations with status: optimal.\n",
      "ADMM terminated after 27 iterations with status: optimal.\n",
      "ADMM terminated after 27 iterations with status: optimal.\n",
      "ADMM terminated after 37 iterations with status: optimal.\n",
      "ADMM terminated after 37 iterations with status: optimal.\n",
      "ADMM terminated after 37 iterations with status: optimal.\n",
      "ADMM terminated after 37 iterations with status: optimal.\n",
      "ADMM terminated after 37 iterations with status: optimal.\n",
      "ADMM terminated after 37 iterations with status: optimal.\n",
      "ADMM terminated after 28 iterations with status: optimal.\n",
      "ADMM terminated after 28 iterations with status: optimal.\n",
      "ADMM terminated after 28 iterations with status: optimal.\n",
      "ADMM terminated after 28 iterations with status: optimal.\n",
      "ADMM terminated after 28 iterations with status: optimal.\n",
      "ADMM terminated after 28 iterations with status: optimal.\n",
      "ADMM terminated after 28 iterations with status: optimal.\n",
      "ADMM terminated after 28 iterations with status: optimal.\n",
      "ADMM terminated after 28 iterations with status: optimal.\n",
      "ADMM terminated after 28 iterations with status: optimal.\n",
      "ADMM terminated after 28 iterations with status: optimal.\n",
      "ADMM terminated after 28 iterations with status: optimal.\n",
      "ADMM terminated after 28 iterations with status: optimal.\n",
      "ADMM terminated after 28 iterations with status: optimal.\n",
      "ADMM terminated after 28 iterations with status: optimal.\n",
      "ADMM terminated after 28 iterations with status: optimal.\n",
      "ADMM terminated after 29 iterations with status: optimal.\n",
      "ADMM terminated after 29 iterations with status: optimal.\n",
      "ADMM terminated after 29 iterations with status: optimal.\n",
      "ADMM terminated after 28 iterations with status: optimal.\n",
      "ADMM terminated after 29 iterations with status: optimal.\n",
      "ADMM terminated after 28 iterations with status: optimal.\n",
      "ADMM terminated after 28 iterations with status: optimal.\n",
      "ADMM terminated after 28 iterations with status: optimal.\n",
      "ADMM terminated after 28 iterations with status: optimal.\n",
      "ADMM terminated after 28 iterations with status: optimal.\n",
      "ADMM terminated after 28 iterations with status: optimal.\n",
      "ADMM terminated after 28 iterations with status: optimal.\n",
      "ADMM terminated after 28 iterations with status: optimal.\n",
      "ADMM terminated after 40 iterations with status: optimal.\n",
      "ADMM terminated after 40 iterations with status: optimal.\n",
      "ADMM terminated after 40 iterations with status: optimal.\n",
      "ADMM terminated after 40 iterations with status: optimal.\n",
      "ADMM terminated after 40 iterations with status: optimal.\n",
      "ADMM terminated after 40 iterations with status: optimal.\n",
      "ADMM terminated after 40 iterations with status: optimal.\n",
      "ADMM terminated after 40 iterations with status: optimal.\n",
      "ADMM terminated after 40 iterations with status: optimal.\n",
      "ADMM terminated after 40 iterations with status: optimal.\n",
      "ADMM terminated after 40 iterations with status: optimal.\n",
      "ADMM terminated after 40 iterations with status: optimal.\n",
      "ADMM terminated after 40 iterations with status: optimal.\n",
      "ADMM terminated after 40 iterations with status: optimal.\n",
      "ADMM terminated after 40 iterations with status: optimal.\n",
      "ADMM terminated after 40 iterations with status: optimal.\n",
      "ADMM terminated after 39 iterations with status: optimal.\n",
      "ADMM terminated after 39 iterations with status: optimal.\n",
      "ADMM terminated after 39 iterations with status: optimal.\n",
      "ADMM terminated after 39 iterations with status: optimal.\n",
      "ADMM terminated after 39 iterations with status: optimal.\n",
      "ADMM terminated after 40 iterations with status: optimal.\n",
      "ADMM terminated after 27 iterations with status: optimal.\n",
      "ADMM terminated after 26 iterations with status: optimal.\n",
      "ADMM terminated after 26 iterations with status: optimal.\n",
      "ADMM terminated after 26 iterations with status: optimal.\n",
      "ADMM terminated after 26 iterations with status: optimal.\n",
      "ADMM terminated after 43 iterations with status: optimal.\n",
      "ADMM terminated after 43 iterations with status: optimal.\n",
      "ADMM terminated after 43 iterations with status: optimal.\n",
      "ADMM terminated after 43 iterations with status: optimal.\n",
      "ADMM terminated after 43 iterations with status: optimal.\n",
      "ADMM terminated after 43 iterations with status: optimal.\n",
      "ADMM terminated after 43 iterations with status: optimal.\n",
      "ADMM terminated after 43 iterations with status: optimal.\n",
      "ADMM terminated after 43 iterations with status: optimal.\n",
      "ADMM terminated after 43 iterations with status: optimal.\n",
      "ADMM terminated after 43 iterations with status: optimal.\n",
      "ADMM terminated after 43 iterations with status: optimal.\n",
      "ADMM terminated after 43 iterations with status: optimal.\n",
      "ADMM terminated after 43 iterations with status: optimal.\n",
      "ADMM terminated after 43 iterations with status: optimal.\n",
      "ADMM terminated after 43 iterations with status: optimal.\n",
      "ADMM terminated after 43 iterations with status: optimal.\n",
      "ADMM terminated after 43 iterations with status: optimal.\n",
      "ADMM terminated after 43 iterations with status: optimal.\n",
      "ADMM terminated after 43 iterations with status: optimal.\n",
      "ADMM terminated after 43 iterations with status: optimal.\n",
      "ADMM terminated after 43 iterations with status: optimal.\n",
      "ADMM terminated after 43 iterations with status: optimal.\n",
      "ADMM terminated after 43 iterations with status: optimal.\n",
      "ADMM terminated after 43 iterations with status: optimal.\n",
      "ADMM terminated after 43 iterations with status: optimal.\n",
      "ADMM terminated after 43 iterations with status: optimal.\n",
      "ADMM terminated after 43 iterations with status: optimal.\n",
      "ADMM terminated after 43 iterations with status: optimal.\n",
      "ADMM terminated after 43 iterations with status: optimal.\n",
      "ADMM terminated after 43 iterations with status: optimal.\n",
      "ADMM terminated after 43 iterations with status: optimal.\n",
      "ADMM terminated after 43 iterations with status: optimal.\n",
      "ADMM terminated after 43 iterations with status: optimal.\n",
      "ADMM terminated after 43 iterations with status: optimal.\n",
      "ADMM terminated after 43 iterations with status: optimal.\n",
      "ADMM terminated after 43 iterations with status: optimal.\n",
      "ADMM terminated after 43 iterations with status: optimal.\n",
      "ADMM terminated after 43 iterations with status: optimal.\n",
      "ADMM terminated after 43 iterations with status: optimal.\n",
      "ADMM terminated after 43 iterations with status: optimal.\n",
      "ADMM terminated after 43 iterations with status: optimal.\n",
      "ADMM terminated after 43 iterations with status: optimal.\n",
      "ADMM terminated after 43 iterations with status: optimal.\n",
      "ADMM terminated after 28 iterations with status: optimal.\n",
      "ADMM terminated after 27 iterations with status: optimal.\n",
      "ADMM terminated after 29 iterations with status: optimal.\n",
      "ADMM terminated after 32 iterations with status: optimal.\n",
      "ADMM terminated after 31 iterations with status: optimal.\n",
      "ADMM terminated after 29 iterations with status: optimal.\n",
      "ADMM terminated after 27 iterations with status: optimal.\n",
      "ADMM terminated after 27 iterations with status: optimal.\n",
      "ADMM terminated after 27 iterations with status: optimal.\n",
      "ADMM terminated after 27 iterations with status: optimal.\n",
      "ADMM terminated after 27 iterations with status: optimal.\n",
      "ADMM terminated after 27 iterations with status: optimal.\n",
      "ADMM terminated after 27 iterations with status: optimal.\n",
      "ADMM terminated after 27 iterations with status: optimal.\n",
      "ADMM terminated after 27 iterations with status: optimal.\n",
      "ADMM terminated after 27 iterations with status: optimal.\n",
      "ADMM terminated after 27 iterations with status: optimal.\n",
      "ADMM terminated after 46 iterations with status: optimal.\n",
      "ADMM terminated after 46 iterations with status: optimal.\n",
      "ADMM terminated after 46 iterations with status: optimal.\n",
      "ADMM terminated after 46 iterations with status: optimal.\n",
      "ADMM terminated after 46 iterations with status: optimal.\n",
      "ADMM terminated after 46 iterations with status: optimal.\n",
      "ADMM terminated after 46 iterations with status: optimal.\n",
      "ADMM terminated after 46 iterations with status: optimal.\n",
      "ADMM terminated after 46 iterations with status: optimal.\n",
      "ADMM terminated after 46 iterations with status: optimal.\n",
      "ADMM terminated after 46 iterations with status: optimal.\n",
      "ADMM terminated after 46 iterations with status: optimal.\n",
      "ADMM terminated after 46 iterations with status: optimal.\n",
      "ADMM terminated after 46 iterations with status: optimal.\n",
      "ADMM terminated after 46 iterations with status: optimal.\n",
      "ADMM terminated after 46 iterations with status: optimal.\n",
      "ADMM terminated after 46 iterations with status: optimal.\n",
      "ADMM terminated after 46 iterations with status: optimal.\n",
      "ADMM terminated after 46 iterations with status: optimal.\n",
      "ADMM terminated after 46 iterations with status: optimal.\n",
      "ADMM terminated after 46 iterations with status: optimal.\n",
      "ADMM terminated after 46 iterations with status: optimal.\n",
      "ADMM terminated after 46 iterations with status: optimal.\n",
      "ADMM terminated after 46 iterations with status: optimal.\n",
      "ADMM terminated after 46 iterations with status: optimal.\n",
      "ADMM terminated after 46 iterations with status: optimal.\n",
      "ADMM terminated after 46 iterations with status: optimal.\n",
      "ADMM terminated after 46 iterations with status: optimal.\n",
      "ADMM terminated after 46 iterations with status: optimal.\n",
      "ADMM terminated after 46 iterations with status: optimal.\n",
      "ADMM terminated after 46 iterations with status: optimal.\n",
      "ADMM terminated after 46 iterations with status: optimal.\n",
      "ADMM terminated after 46 iterations with status: optimal.\n",
      "ADMM terminated after 30 iterations with status: optimal.\n",
      "ADMM terminated after 29 iterations with status: optimal.\n",
      "ADMM terminated after 29 iterations with status: optimal.\n",
      "ADMM terminated after 29 iterations with status: optimal.\n",
      "ADMM terminated after 29 iterations with status: optimal.\n",
      "ADMM terminated after 29 iterations with status: optimal.\n",
      "ADMM terminated after 29 iterations with status: optimal.\n",
      "ADMM terminated after 29 iterations with status: optimal.\n",
      "ADMM terminated after 29 iterations with status: optimal.\n",
      "ADMM terminated after 29 iterations with status: optimal.\n",
      "ADMM terminated after 29 iterations with status: optimal.\n",
      "ADMM terminated after 29 iterations with status: optimal.\n",
      "ADMM terminated after 29 iterations with status: optimal.\n",
      "ADMM terminated after 29 iterations with status: optimal.\n",
      "ADMM terminated after 29 iterations with status: optimal.\n",
      "ADMM terminated after 29 iterations with status: optimal.\n",
      "ADMM terminated after 29 iterations with status: optimal.\n",
      "ADMM terminated after 29 iterations with status: optimal.\n",
      "ADMM terminated after 29 iterations with status: optimal.\n",
      "ADMM terminated after 29 iterations with status: optimal.\n",
      "ADMM terminated after 32 iterations with status: optimal.\n",
      "ADMM terminated after 32 iterations with status: optimal.\n",
      "ADMM terminated after 29 iterations with status: optimal.\n",
      "ADMM terminated after 29 iterations with status: optimal.\n",
      "ADMM terminated after 29 iterations with status: optimal.\n",
      "ADMM terminated after 29 iterations with status: optimal.\n",
      "ADMM terminated after 29 iterations with status: optimal.\n",
      "ADMM terminated after 29 iterations with status: optimal.\n",
      "ADMM terminated after 29 iterations with status: optimal.\n",
      "ADMM terminated after 50 iterations with status: optimal.\n",
      "ADMM terminated after 48 iterations with status: optimal.\n",
      "ADMM terminated after 49 iterations with status: optimal.\n",
      "ADMM terminated after 50 iterations with status: optimal.\n",
      "ADMM terminated after 49 iterations with status: optimal.\n",
      "ADMM terminated after 49 iterations with status: optimal.\n",
      "ADMM terminated after 49 iterations with status: optimal.\n",
      "ADMM terminated after 49 iterations with status: optimal.\n",
      "ADMM terminated after 49 iterations with status: optimal.\n",
      "ADMM terminated after 49 iterations with status: optimal.\n",
      "ADMM terminated after 49 iterations with status: optimal.\n",
      "ADMM terminated after 49 iterations with status: optimal.\n",
      "ADMM terminated after 48 iterations with status: optimal.\n",
      "ADMM terminated after 46 iterations with status: optimal.\n",
      "ADMM terminated after 46 iterations with status: optimal.\n",
      "ADMM terminated after 45 iterations with status: optimal.\n",
      "ADMM terminated after 45 iterations with status: optimal.\n",
      "ADMM terminated after 44 iterations with status: optimal.\n",
      "ADMM terminated after 44 iterations with status: optimal.\n",
      "ADMM terminated after 43 iterations with status: optimal.\n",
      "ADMM terminated after 43 iterations with status: optimal.\n",
      "ADMM terminated after 28 iterations with status: optimal.\n",
      "ADMM terminated after 30 iterations with status: optimal.\n",
      "ADMM terminated after 30 iterations with status: optimal.\n",
      "ADMM terminated after 30 iterations with status: optimal.\n",
      "ADMM terminated after 30 iterations with status: optimal.\n",
      "ADMM terminated after 30 iterations with status: optimal.\n",
      "ADMM terminated after 30 iterations with status: optimal.\n",
      "ADMM terminated after 30 iterations with status: optimal.\n",
      "ADMM terminated after 30 iterations with status: optimal.\n",
      "ADMM terminated after 30 iterations with status: optimal.\n",
      "ADMM terminated after 30 iterations with status: optimal.\n",
      "ADMM terminated after 30 iterations with status: optimal.\n",
      "ADMM terminated after 30 iterations with status: optimal.\n",
      "ADMM terminated after 30 iterations with status: optimal.\n",
      "ADMM terminated after 30 iterations with status: optimal.\n",
      "ADMM terminated after 30 iterations with status: optimal.\n",
      "ADMM terminated after 30 iterations with status: optimal.\n",
      "ADMM terminated after 30 iterations with status: optimal.\n",
      "ADMM terminated after 30 iterations with status: optimal.\n",
      "ADMM terminated after 30 iterations with status: optimal.\n",
      "ADMM terminated after 30 iterations with status: optimal.\n",
      "ADMM terminated after 30 iterations with status: optimal.\n",
      "ADMM terminated after 30 iterations with status: optimal.\n",
      "ADMM terminated after 30 iterations with status: optimal.\n",
      "ADMM terminated after 30 iterations with status: optimal.\n",
      "ADMM terminated after 30 iterations with status: optimal.\n",
      "ADMM terminated after 30 iterations with status: optimal.\n",
      "ADMM terminated after 30 iterations with status: optimal.\n",
      "ADMM terminated after 30 iterations with status: optimal.\n",
      "ADMM terminated after 30 iterations with status: optimal.\n",
      "ADMM terminated after 30 iterations with status: optimal.\n",
      "ADMM terminated after 30 iterations with status: optimal.\n",
      "ADMM terminated after 30 iterations with status: optimal.\n",
      "ADMM terminated after 30 iterations with status: optimal.\n",
      "ADMM terminated after 30 iterations with status: optimal.\n",
      "ADMM terminated after 30 iterations with status: optimal.\n",
      "ADMM terminated after 30 iterations with status: optimal.\n",
      "ADMM terminated after 30 iterations with status: optimal.\n",
      "ADMM terminated after 32 iterations with status: optimal.\n",
      "ADMM terminated after 31 iterations with status: optimal.\n",
      "ADMM terminated after 59 iterations with status: optimal.\n",
      "ADMM terminated after 65 iterations with status: optimal.\n",
      "ADMM terminated after 36 iterations with status: optimal.\n",
      "ADMM terminated after 35 iterations with status: optimal.\n",
      "ADMM terminated after 33 iterations with status: optimal.\n",
      "ADMM terminated after 32 iterations with status: optimal.\n",
      "ADMM terminated after 32 iterations with status: optimal.\n",
      "ADMM terminated after 54 iterations with status: optimal.\n",
      "ADMM terminated after 45 iterations with status: optimal.\n",
      "ADMM terminated after 44 iterations with status: optimal.\n",
      "ADMM terminated after 30 iterations with status: optimal.\n",
      "ADMM terminated after 32 iterations with status: optimal.\n",
      "ADMM terminated after 32 iterations with status: optimal.\n",
      "ADMM terminated after 32 iterations with status: optimal.\n",
      "ADMM terminated after 32 iterations with status: optimal.\n",
      "ADMM terminated after 32 iterations with status: optimal.\n",
      "ADMM terminated after 32 iterations with status: optimal.\n",
      "ADMM terminated after 32 iterations with status: optimal.\n",
      "ADMM terminated after 32 iterations with status: optimal.\n",
      "ADMM terminated after 32 iterations with status: optimal.\n",
      "ADMM terminated after 32 iterations with status: optimal.\n",
      "ADMM terminated after 32 iterations with status: optimal.\n",
      "ADMM terminated after 32 iterations with status: optimal.\n",
      "ADMM terminated after 32 iterations with status: optimal.\n",
      "ADMM terminated after 32 iterations with status: optimal.\n",
      "ADMM terminated after 32 iterations with status: optimal.\n",
      "ADMM terminated after 32 iterations with status: optimal.\n",
      "ADMM terminated after 32 iterations with status: optimal.\n",
      "ADMM terminated after 32 iterations with status: optimal.\n",
      "ADMM terminated after 32 iterations with status: optimal.\n",
      "ADMM terminated after 32 iterations with status: optimal.\n",
      "ADMM terminated after 32 iterations with status: optimal.\n",
      "ADMM terminated after 32 iterations with status: optimal.\n",
      "ADMM terminated after 32 iterations with status: optimal.\n",
      "ADMM terminated after 32 iterations with status: optimal.\n",
      "ADMM terminated after 32 iterations with status: optimal.\n",
      "ADMM terminated after 32 iterations with status: optimal.\n",
      "ADMM terminated after 32 iterations with status: optimal.\n",
      "ADMM terminated after 32 iterations with status: optimal.\n",
      "ADMM terminated after 32 iterations with status: optimal.\n",
      "ADMM terminated after 32 iterations with status: optimal.\n",
      "ADMM terminated after 32 iterations with status: optimal.\n",
      "ADMM terminated after 32 iterations with status: optimal.\n",
      "ADMM terminated after 32 iterations with status: optimal.\n",
      "ADMM terminated after 32 iterations with status: optimal.\n",
      "ADMM terminated after 32 iterations with status: optimal.\n",
      "ADMM terminated after 32 iterations with status: optimal.\n",
      "ADMM terminated after 32 iterations with status: optimal.\n",
      "ADMM terminated after 32 iterations with status: optimal.\n",
      "ADMM terminated after 32 iterations with status: optimal.\n",
      "ADMM terminated after 32 iterations with status: optimal.\n",
      "ADMM terminated after 32 iterations with status: optimal.\n",
      "ADMM terminated after 32 iterations with status: optimal.\n",
      "ADMM terminated after 32 iterations with status: optimal.\n",
      "ADMM terminated after 32 iterations with status: optimal.\n",
      "ADMM terminated after 32 iterations with status: optimal.\n",
      "ADMM terminated after 32 iterations with status: optimal.\n",
      "ADMM terminated after 32 iterations with status: optimal.\n",
      "ADMM terminated after 32 iterations with status: optimal.\n",
      "ADMM terminated after 32 iterations with status: optimal.\n",
      "ADMM terminated after 39 iterations with status: optimal.\n",
      "ADMM terminated after 34 iterations with status: optimal.\n",
      "ADMM terminated after 34 iterations with status: optimal.\n",
      "ADMM terminated after 34 iterations with status: optimal.\n",
      "ADMM terminated after 34 iterations with status: optimal.\n",
      "ADMM terminated after 34 iterations with status: optimal.\n",
      "ADMM terminated after 34 iterations with status: optimal.\n",
      "ADMM terminated after 34 iterations with status: optimal.\n",
      "ADMM terminated after 34 iterations with status: optimal.\n",
      "ADMM terminated after 34 iterations with status: optimal.\n",
      "ADMM terminated after 34 iterations with status: optimal.\n",
      "ADMM terminated after 34 iterations with status: optimal.\n",
      "ADMM terminated after 34 iterations with status: optimal.\n",
      "ADMM terminated after 34 iterations with status: optimal.\n",
      "ADMM terminated after 34 iterations with status: optimal.\n",
      "ADMM terminated after 34 iterations with status: optimal.\n",
      "ADMM terminated after 34 iterations with status: optimal.\n",
      "ADMM terminated after 34 iterations with status: optimal.\n",
      "ADMM terminated after 34 iterations with status: optimal.\n",
      "ADMM terminated after 34 iterations with status: optimal.\n",
      "ADMM terminated after 34 iterations with status: optimal.\n",
      "ADMM terminated after 34 iterations with status: optimal.\n",
      "ADMM terminated after 34 iterations with status: optimal.\n",
      "ADMM terminated after 34 iterations with status: optimal.\n",
      "ADMM terminated after 34 iterations with status: optimal.\n",
      "ADMM terminated after 34 iterations with status: optimal.\n",
      "ADMM terminated after 34 iterations with status: optimal.\n",
      "ADMM terminated after 34 iterations with status: optimal.\n",
      "ADMM terminated after 34 iterations with status: optimal.\n",
      "ADMM terminated after 34 iterations with status: optimal.\n",
      "ADMM terminated after 34 iterations with status: optimal.\n",
      "ADMM terminated after 34 iterations with status: optimal.\n",
      "ADMM terminated after 34 iterations with status: optimal.\n",
      "ADMM terminated after 34 iterations with status: optimal.\n",
      "ADMM terminated after 34 iterations with status: optimal.\n",
      "ADMM terminated after 34 iterations with status: optimal.\n",
      "ADMM terminated after 34 iterations with status: optimal.\n",
      "ADMM terminated after 34 iterations with status: optimal.\n",
      "ADMM terminated after 34 iterations with status: optimal.\n",
      "ADMM terminated after 34 iterations with status: optimal.\n",
      "ADMM terminated after 34 iterations with status: optimal.\n",
      "ADMM terminated after 34 iterations with status: optimal.\n",
      "ADMM terminated after 34 iterations with status: optimal.\n",
      "ADMM terminated after 34 iterations with status: optimal.\n",
      "ADMM terminated after 34 iterations with status: optimal.\n",
      "ADMM terminated after 34 iterations with status: optimal.\n",
      "ADMM terminated after 34 iterations with status: optimal.\n",
      "ADMM terminated after 34 iterations with status: optimal.\n",
      "ADMM terminated after 34 iterations with status: optimal.\n",
      "ADMM terminated after 34 iterations with status: optimal.\n",
      "ADMM terminated after 41 iterations with status: optimal.\n",
      "ADMM terminated after 37 iterations with status: optimal.\n",
      "ADMM terminated after 37 iterations with status: optimal.\n",
      "ADMM terminated after 37 iterations with status: optimal.\n",
      "ADMM terminated after 37 iterations with status: optimal.\n",
      "ADMM terminated after 37 iterations with status: optimal.\n",
      "ADMM terminated after 37 iterations with status: optimal.\n",
      "ADMM terminated after 37 iterations with status: optimal.\n",
      "ADMM terminated after 37 iterations with status: optimal.\n",
      "ADMM terminated after 37 iterations with status: optimal.\n",
      "ADMM terminated after 37 iterations with status: optimal.\n",
      "ADMM terminated after 37 iterations with status: optimal.\n",
      "ADMM terminated after 37 iterations with status: optimal.\n",
      "ADMM terminated after 37 iterations with status: optimal.\n",
      "ADMM terminated after 37 iterations with status: optimal.\n",
      "ADMM terminated after 37 iterations with status: optimal.\n",
      "ADMM terminated after 37 iterations with status: optimal.\n",
      "ADMM terminated after 37 iterations with status: optimal.\n",
      "ADMM terminated after 37 iterations with status: optimal.\n",
      "ADMM terminated after 37 iterations with status: optimal.\n",
      "ADMM terminated after 37 iterations with status: optimal.\n",
      "ADMM terminated after 37 iterations with status: optimal.\n",
      "ADMM terminated after 37 iterations with status: optimal.\n",
      "ADMM terminated after 37 iterations with status: optimal.\n",
      "ADMM terminated after 37 iterations with status: optimal.\n",
      "ADMM terminated after 37 iterations with status: optimal.\n",
      "ADMM terminated after 37 iterations with status: optimal.\n",
      "ADMM terminated after 37 iterations with status: optimal.\n",
      "ADMM terminated after 37 iterations with status: optimal.\n",
      "ADMM terminated after 37 iterations with status: optimal.\n",
      "ADMM terminated after 37 iterations with status: optimal.\n",
      "ADMM terminated after 37 iterations with status: optimal.\n",
      "ADMM terminated after 37 iterations with status: optimal.\n",
      "ADMM terminated after 37 iterations with status: optimal.\n",
      "ADMM terminated after 37 iterations with status: optimal.\n",
      "ADMM terminated after 37 iterations with status: optimal.\n",
      "ADMM terminated after 37 iterations with status: optimal.\n",
      "ADMM terminated after 37 iterations with status: optimal.\n",
      "ADMM terminated after 37 iterations with status: optimal.\n",
      "ADMM terminated after 37 iterations with status: optimal.\n",
      "ADMM terminated after 37 iterations with status: optimal.\n",
      "ADMM terminated after 37 iterations with status: optimal.\n",
      "ADMM terminated after 37 iterations with status: optimal.\n",
      "ADMM terminated after 37 iterations with status: optimal.\n",
      "ADMM terminated after 37 iterations with status: optimal.\n",
      "ADMM terminated after 37 iterations with status: optimal.\n",
      "ADMM terminated after 37 iterations with status: optimal.\n",
      "ADMM terminated after 37 iterations with status: optimal.\n",
      "ADMM terminated after 37 iterations with status: optimal.\n",
      "ADMM terminated after 37 iterations with status: optimal.\n",
      "ADMM terminated after 33 iterations with status: optimal.\n",
      "ADMM terminated after 37 iterations with status: optimal.\n",
      "ADMM terminated after 37 iterations with status: optimal.\n",
      "ADMM terminated after 37 iterations with status: optimal.\n",
      "ADMM terminated after 37 iterations with status: optimal.\n",
      "ADMM terminated after 37 iterations with status: optimal.\n",
      "ADMM terminated after 37 iterations with status: optimal.\n",
      "ADMM terminated after 37 iterations with status: optimal.\n",
      "ADMM terminated after 37 iterations with status: optimal.\n",
      "ADMM terminated after 37 iterations with status: optimal.\n",
      "ADMM terminated after 37 iterations with status: optimal.\n",
      "ADMM terminated after 37 iterations with status: optimal.\n",
      "ADMM terminated after 37 iterations with status: optimal.\n",
      "ADMM terminated after 37 iterations with status: optimal.\n",
      "ADMM terminated after 37 iterations with status: optimal.\n",
      "ADMM terminated after 37 iterations with status: optimal.\n",
      "ADMM terminated after 37 iterations with status: optimal.\n",
      "ADMM terminated after 37 iterations with status: optimal.\n",
      "ADMM terminated after 37 iterations with status: optimal.\n",
      "ADMM terminated after 37 iterations with status: optimal.\n",
      "ADMM terminated after 37 iterations with status: optimal.\n",
      "ADMM terminated after 37 iterations with status: optimal.\n",
      "ADMM terminated after 37 iterations with status: optimal.\n",
      "ADMM terminated after 37 iterations with status: optimal.\n",
      "ADMM terminated after 37 iterations with status: optimal.\n",
      "ADMM terminated after 37 iterations with status: optimal.\n",
      "ADMM terminated after 37 iterations with status: optimal.\n",
      "ADMM terminated after 37 iterations with status: optimal.\n",
      "ADMM terminated after 37 iterations with status: optimal.\n",
      "ADMM terminated after 37 iterations with status: optimal.\n",
      "ADMM terminated after 37 iterations with status: optimal.\n",
      "ADMM terminated after 37 iterations with status: optimal.\n",
      "ADMM terminated after 37 iterations with status: optimal.\n",
      "ADMM terminated after 37 iterations with status: optimal.\n",
      "ADMM terminated after 37 iterations with status: optimal.\n",
      "ADMM terminated after 37 iterations with status: optimal.\n",
      "ADMM terminated after 37 iterations with status: optimal.\n",
      "ADMM terminated after 37 iterations with status: optimal.\n",
      "ADMM terminated after 37 iterations with status: optimal.\n",
      "ADMM terminated after 37 iterations with status: optimal.\n",
      "ADMM terminated after 37 iterations with status: optimal.\n",
      "ADMM terminated after 37 iterations with status: optimal.\n",
      "ADMM terminated after 37 iterations with status: optimal.\n",
      "ADMM terminated after 37 iterations with status: optimal.\n",
      "ADMM terminated after 37 iterations with status: optimal.\n",
      "ADMM terminated after 37 iterations with status: optimal.\n",
      "ADMM terminated after 37 iterations with status: optimal.\n",
      "ADMM terminated after 37 iterations with status: optimal.\n",
      "ADMM terminated after 37 iterations with status: optimal.\n",
      "ADMM terminated after 37 iterations with status: optimal.\n",
      "ADMM terminated after 33 iterations with status: optimal.\n",
      "ADMM terminated after 39 iterations with status: optimal.\n",
      "ADMM terminated after 39 iterations with status: optimal.\n",
      "ADMM terminated after 39 iterations with status: optimal.\n",
      "ADMM terminated after 39 iterations with status: optimal.\n",
      "ADMM terminated after 39 iterations with status: optimal.\n",
      "ADMM terminated after 39 iterations with status: optimal.\n",
      "ADMM terminated after 39 iterations with status: optimal.\n",
      "ADMM terminated after 39 iterations with status: optimal.\n",
      "ADMM terminated after 39 iterations with status: optimal.\n",
      "ADMM terminated after 39 iterations with status: optimal.\n",
      "ADMM terminated after 39 iterations with status: optimal.\n",
      "ADMM terminated after 39 iterations with status: optimal.\n",
      "ADMM terminated after 39 iterations with status: optimal.\n",
      "ADMM terminated after 39 iterations with status: optimal.\n",
      "ADMM terminated after 39 iterations with status: optimal.\n",
      "ADMM terminated after 39 iterations with status: optimal.\n",
      "ADMM terminated after 39 iterations with status: optimal.\n",
      "ADMM terminated after 39 iterations with status: optimal.\n",
      "ADMM terminated after 39 iterations with status: optimal.\n",
      "ADMM terminated after 39 iterations with status: optimal.\n",
      "ADMM terminated after 39 iterations with status: optimal.\n",
      "ADMM terminated after 39 iterations with status: optimal.\n",
      "ADMM terminated after 39 iterations with status: optimal.\n",
      "ADMM terminated after 39 iterations with status: optimal.\n",
      "ADMM terminated after 39 iterations with status: optimal.\n",
      "ADMM terminated after 39 iterations with status: optimal.\n",
      "ADMM terminated after 39 iterations with status: optimal.\n",
      "ADMM terminated after 39 iterations with status: optimal.\n",
      "ADMM terminated after 39 iterations with status: optimal.\n",
      "ADMM terminated after 39 iterations with status: optimal.\n",
      "ADMM terminated after 39 iterations with status: optimal.\n",
      "ADMM terminated after 39 iterations with status: optimal.\n",
      "ADMM terminated after 39 iterations with status: optimal.\n",
      "ADMM terminated after 39 iterations with status: optimal.\n",
      "ADMM terminated after 39 iterations with status: optimal.\n",
      "ADMM terminated after 39 iterations with status: optimal.\n",
      "ADMM terminated after 39 iterations with status: optimal.\n",
      "ADMM terminated after 39 iterations with status: optimal.\n",
      "ADMM terminated after 39 iterations with status: optimal.\n",
      "ADMM terminated after 39 iterations with status: optimal.\n",
      "ADMM terminated after 39 iterations with status: optimal.\n",
      "ADMM terminated after 39 iterations with status: optimal.\n",
      "ADMM terminated after 39 iterations with status: optimal.\n",
      "ADMM terminated after 39 iterations with status: optimal.\n",
      "ADMM terminated after 39 iterations with status: optimal.\n",
      "ADMM terminated after 39 iterations with status: optimal.\n",
      "ADMM terminated after 39 iterations with status: optimal.\n",
      "ADMM terminated after 39 iterations with status: optimal.\n",
      "ADMM terminated after 39 iterations with status: optimal.\n",
      "ADMM terminated after 33 iterations with status: optimal.\n",
      "ADMM terminated after 42 iterations with status: optimal.\n",
      "ADMM terminated after 42 iterations with status: optimal.\n",
      "ADMM terminated after 42 iterations with status: optimal.\n",
      "ADMM terminated after 42 iterations with status: optimal.\n",
      "ADMM terminated after 42 iterations with status: optimal.\n",
      "ADMM terminated after 42 iterations with status: optimal.\n",
      "ADMM terminated after 42 iterations with status: optimal.\n",
      "ADMM terminated after 42 iterations with status: optimal.\n",
      "ADMM terminated after 42 iterations with status: optimal.\n",
      "ADMM terminated after 42 iterations with status: optimal.\n",
      "ADMM terminated after 42 iterations with status: optimal.\n",
      "ADMM terminated after 42 iterations with status: optimal.\n",
      "ADMM terminated after 42 iterations with status: optimal.\n",
      "ADMM terminated after 42 iterations with status: optimal.\n",
      "ADMM terminated after 42 iterations with status: optimal.\n",
      "ADMM terminated after 42 iterations with status: optimal.\n",
      "ADMM terminated after 42 iterations with status: optimal.\n",
      "ADMM terminated after 42 iterations with status: optimal.\n",
      "ADMM terminated after 42 iterations with status: optimal.\n",
      "ADMM terminated after 42 iterations with status: optimal.\n",
      "ADMM terminated after 42 iterations with status: optimal.\n",
      "ADMM terminated after 42 iterations with status: optimal.\n",
      "ADMM terminated after 42 iterations with status: optimal.\n",
      "ADMM terminated after 42 iterations with status: optimal.\n",
      "ADMM terminated after 42 iterations with status: optimal.\n",
      "ADMM terminated after 42 iterations with status: optimal.\n",
      "ADMM terminated after 42 iterations with status: optimal.\n",
      "ADMM terminated after 42 iterations with status: optimal.\n",
      "ADMM terminated after 42 iterations with status: optimal.\n",
      "ADMM terminated after 42 iterations with status: optimal.\n",
      "ADMM terminated after 42 iterations with status: optimal.\n",
      "ADMM terminated after 42 iterations with status: optimal.\n",
      "ADMM terminated after 42 iterations with status: optimal.\n",
      "ADMM terminated after 42 iterations with status: optimal.\n",
      "ADMM terminated after 42 iterations with status: optimal.\n",
      "ADMM terminated after 42 iterations with status: optimal.\n",
      "ADMM terminated after 42 iterations with status: optimal.\n",
      "ADMM terminated after 42 iterations with status: optimal.\n",
      "ADMM terminated after 42 iterations with status: optimal.\n",
      "ADMM terminated after 42 iterations with status: optimal.\n",
      "ADMM terminated after 42 iterations with status: optimal.\n",
      "ADMM terminated after 42 iterations with status: optimal.\n",
      "ADMM terminated after 42 iterations with status: optimal.\n",
      "ADMM terminated after 42 iterations with status: optimal.\n",
      "ADMM terminated after 42 iterations with status: optimal.\n",
      "ADMM terminated after 42 iterations with status: optimal.\n",
      "ADMM terminated after 42 iterations with status: optimal.\n",
      "ADMM terminated after 42 iterations with status: optimal.\n",
      "ADMM terminated after 42 iterations with status: optimal.\n",
      "ADMM terminated after 38 iterations with status: optimal.\n",
      "ADMM terminated after 46 iterations with status: optimal.\n",
      "ADMM terminated after 46 iterations with status: optimal.\n",
      "ADMM terminated after 46 iterations with status: optimal.\n",
      "ADMM terminated after 46 iterations with status: optimal.\n",
      "ADMM terminated after 46 iterations with status: optimal.\n",
      "ADMM terminated after 46 iterations with status: optimal.\n",
      "ADMM terminated after 46 iterations with status: optimal.\n",
      "ADMM terminated after 46 iterations with status: optimal.\n",
      "ADMM terminated after 46 iterations with status: optimal.\n",
      "ADMM terminated after 46 iterations with status: optimal.\n",
      "ADMM terminated after 46 iterations with status: optimal.\n",
      "ADMM terminated after 46 iterations with status: optimal.\n",
      "ADMM terminated after 46 iterations with status: optimal.\n",
      "ADMM terminated after 46 iterations with status: optimal.\n",
      "ADMM terminated after 46 iterations with status: optimal.\n",
      "ADMM terminated after 46 iterations with status: optimal.\n",
      "ADMM terminated after 46 iterations with status: optimal.\n",
      "ADMM terminated after 46 iterations with status: optimal.\n",
      "ADMM terminated after 46 iterations with status: optimal.\n",
      "ADMM terminated after 46 iterations with status: optimal.\n",
      "ADMM terminated after 46 iterations with status: optimal.\n",
      "ADMM terminated after 46 iterations with status: optimal.\n",
      "ADMM terminated after 46 iterations with status: optimal.\n",
      "ADMM terminated after 46 iterations with status: optimal.\n",
      "ADMM terminated after 46 iterations with status: optimal.\n",
      "ADMM terminated after 46 iterations with status: optimal.\n",
      "ADMM terminated after 46 iterations with status: optimal.\n",
      "ADMM terminated after 46 iterations with status: optimal.\n",
      "ADMM terminated after 46 iterations with status: optimal.\n",
      "ADMM terminated after 46 iterations with status: optimal.\n",
      "ADMM terminated after 46 iterations with status: optimal.\n",
      "ADMM terminated after 46 iterations with status: optimal.\n",
      "ADMM terminated after 46 iterations with status: optimal.\n",
      "ADMM terminated after 46 iterations with status: optimal.\n",
      "ADMM terminated after 46 iterations with status: optimal.\n",
      "ADMM terminated after 46 iterations with status: optimal.\n",
      "ADMM terminated after 46 iterations with status: optimal.\n",
      "ADMM terminated after 46 iterations with status: optimal.\n",
      "ADMM terminated after 46 iterations with status: optimal.\n",
      "ADMM terminated after 46 iterations with status: optimal.\n",
      "ADMM terminated after 46 iterations with status: optimal.\n",
      "ADMM terminated after 46 iterations with status: optimal.\n",
      "ADMM terminated after 46 iterations with status: optimal.\n",
      "ADMM terminated after 46 iterations with status: optimal.\n",
      "ADMM terminated after 46 iterations with status: optimal.\n",
      "ADMM terminated after 46 iterations with status: optimal.\n",
      "ADMM terminated after 46 iterations with status: optimal.\n",
      "ADMM terminated after 46 iterations with status: optimal.\n",
      "ADMM terminated after 46 iterations with status: optimal.\n",
      "ADMM terminated after 45 iterations with status: optimal.\n",
      "ADMM terminated after 48 iterations with status: optimal.\n",
      "ADMM terminated after 48 iterations with status: optimal.\n",
      "ADMM terminated after 48 iterations with status: optimal.\n",
      "ADMM terminated after 48 iterations with status: optimal.\n",
      "ADMM terminated after 48 iterations with status: optimal.\n",
      "ADMM terminated after 48 iterations with status: optimal.\n",
      "ADMM terminated after 48 iterations with status: optimal.\n",
      "ADMM terminated after 48 iterations with status: optimal.\n",
      "ADMM terminated after 48 iterations with status: optimal.\n",
      "ADMM terminated after 48 iterations with status: optimal.\n",
      "ADMM terminated after 48 iterations with status: optimal.\n",
      "ADMM terminated after 48 iterations with status: optimal.\n",
      "ADMM terminated after 48 iterations with status: optimal.\n",
      "ADMM terminated after 48 iterations with status: optimal.\n",
      "ADMM terminated after 48 iterations with status: optimal.\n",
      "ADMM terminated after 48 iterations with status: optimal.\n",
      "ADMM terminated after 48 iterations with status: optimal.\n",
      "ADMM terminated after 48 iterations with status: optimal.\n",
      "ADMM terminated after 48 iterations with status: optimal.\n",
      "ADMM terminated after 48 iterations with status: optimal.\n",
      "ADMM terminated after 48 iterations with status: optimal.\n",
      "ADMM terminated after 48 iterations with status: optimal.\n",
      "ADMM terminated after 48 iterations with status: optimal.\n",
      "ADMM terminated after 48 iterations with status: optimal.\n",
      "ADMM terminated after 48 iterations with status: optimal.\n",
      "ADMM terminated after 48 iterations with status: optimal.\n",
      "ADMM terminated after 48 iterations with status: optimal.\n",
      "ADMM terminated after 48 iterations with status: optimal.\n",
      "ADMM terminated after 48 iterations with status: optimal.\n",
      "ADMM terminated after 48 iterations with status: optimal.\n",
      "ADMM terminated after 48 iterations with status: optimal.\n",
      "ADMM terminated after 48 iterations with status: optimal.\n",
      "ADMM terminated after 48 iterations with status: optimal.\n",
      "ADMM terminated after 48 iterations with status: optimal.\n",
      "ADMM terminated after 48 iterations with status: optimal.\n",
      "ADMM terminated after 48 iterations with status: optimal.\n",
      "ADMM terminated after 48 iterations with status: optimal.\n",
      "ADMM terminated after 48 iterations with status: optimal.\n",
      "ADMM terminated after 48 iterations with status: optimal.\n",
      "ADMM terminated after 48 iterations with status: optimal.\n",
      "ADMM terminated after 48 iterations with status: optimal.\n",
      "ADMM terminated after 48 iterations with status: optimal.\n",
      "ADMM terminated after 48 iterations with status: optimal.\n",
      "ADMM terminated after 48 iterations with status: optimal.\n",
      "ADMM terminated after 48 iterations with status: optimal.\n",
      "ADMM terminated after 48 iterations with status: optimal.\n",
      "ADMM terminated after 48 iterations with status: optimal.\n",
      "ADMM terminated after 48 iterations with status: optimal.\n",
      "ADMM terminated after 48 iterations with status: optimal.\n",
      "ADMM terminated after 47 iterations with status: optimal.\n",
      "ADMM terminated after 50 iterations with status: optimal.\n",
      "ADMM terminated after 50 iterations with status: optimal.\n",
      "ADMM terminated after 50 iterations with status: optimal.\n",
      "ADMM terminated after 50 iterations with status: optimal.\n",
      "ADMM terminated after 50 iterations with status: optimal.\n",
      "ADMM terminated after 50 iterations with status: optimal.\n",
      "ADMM terminated after 50 iterations with status: optimal.\n",
      "ADMM terminated after 50 iterations with status: optimal.\n",
      "ADMM terminated after 50 iterations with status: optimal.\n",
      "ADMM terminated after 50 iterations with status: optimal.\n",
      "ADMM terminated after 50 iterations with status: optimal.\n",
      "ADMM terminated after 50 iterations with status: optimal.\n",
      "ADMM terminated after 50 iterations with status: optimal.\n",
      "ADMM terminated after 50 iterations with status: optimal.\n",
      "ADMM terminated after 50 iterations with status: optimal.\n",
      "ADMM terminated after 50 iterations with status: optimal.\n",
      "ADMM terminated after 50 iterations with status: optimal.\n",
      "ADMM terminated after 50 iterations with status: optimal.\n",
      "ADMM terminated after 50 iterations with status: optimal.\n",
      "ADMM terminated after 50 iterations with status: optimal.\n",
      "ADMM terminated after 50 iterations with status: optimal.\n",
      "ADMM terminated after 50 iterations with status: optimal.\n",
      "ADMM terminated after 50 iterations with status: optimal.\n",
      "ADMM terminated after 50 iterations with status: optimal.\n",
      "ADMM terminated after 50 iterations with status: optimal.\n",
      "ADMM terminated after 50 iterations with status: optimal.\n",
      "ADMM terminated after 50 iterations with status: optimal.\n",
      "ADMM terminated after 50 iterations with status: optimal.\n",
      "ADMM terminated after 50 iterations with status: optimal.\n",
      "ADMM terminated after 50 iterations with status: optimal.\n",
      "ADMM terminated after 50 iterations with status: optimal.\n",
      "ADMM terminated after 50 iterations with status: optimal.\n",
      "ADMM terminated after 50 iterations with status: optimal.\n",
      "ADMM terminated after 50 iterations with status: optimal.\n",
      "ADMM terminated after 50 iterations with status: optimal.\n",
      "ADMM terminated after 50 iterations with status: optimal.\n",
      "ADMM terminated after 50 iterations with status: optimal.\n",
      "ADMM terminated after 50 iterations with status: optimal.\n",
      "ADMM terminated after 50 iterations with status: optimal.\n",
      "ADMM terminated after 50 iterations with status: optimal.\n",
      "ADMM terminated after 50 iterations with status: optimal.\n",
      "ADMM terminated after 50 iterations with status: optimal.\n",
      "ADMM terminated after 50 iterations with status: optimal.\n",
      "ADMM terminated after 50 iterations with status: optimal.\n",
      "ADMM terminated after 50 iterations with status: optimal.\n",
      "ADMM terminated after 50 iterations with status: optimal.\n",
      "ADMM terminated after 50 iterations with status: optimal.\n",
      "ADMM terminated after 50 iterations with status: optimal.\n",
      "ADMM terminated after 50 iterations with status: optimal.\n",
      "ADMM terminated after 49 iterations with status: optimal.\n",
      "ADMM terminated after 53 iterations with status: optimal.\n",
      "ADMM terminated after 53 iterations with status: optimal.\n",
      "ADMM terminated after 53 iterations with status: optimal.\n",
      "ADMM terminated after 53 iterations with status: optimal.\n",
      "ADMM terminated after 53 iterations with status: optimal.\n",
      "ADMM terminated after 53 iterations with status: optimal.\n",
      "ADMM terminated after 53 iterations with status: optimal.\n",
      "ADMM terminated after 53 iterations with status: optimal.\n",
      "ADMM terminated after 53 iterations with status: optimal.\n",
      "ADMM terminated after 53 iterations with status: optimal.\n",
      "ADMM terminated after 53 iterations with status: optimal.\n",
      "ADMM terminated after 53 iterations with status: optimal.\n",
      "ADMM terminated after 53 iterations with status: optimal.\n",
      "ADMM terminated after 53 iterations with status: optimal.\n",
      "ADMM terminated after 53 iterations with status: optimal.\n",
      "ADMM terminated after 53 iterations with status: optimal.\n",
      "ADMM terminated after 53 iterations with status: optimal.\n",
      "ADMM terminated after 53 iterations with status: optimal.\n",
      "ADMM terminated after 53 iterations with status: optimal.\n",
      "ADMM terminated after 53 iterations with status: optimal.\n",
      "ADMM terminated after 53 iterations with status: optimal.\n",
      "ADMM terminated after 53 iterations with status: optimal.\n",
      "ADMM terminated after 53 iterations with status: optimal.\n",
      "ADMM terminated after 53 iterations with status: optimal.\n",
      "ADMM terminated after 53 iterations with status: optimal.\n",
      "ADMM terminated after 53 iterations with status: optimal.\n",
      "ADMM terminated after 53 iterations with status: optimal.\n",
      "ADMM terminated after 53 iterations with status: optimal.\n",
      "ADMM terminated after 53 iterations with status: optimal.\n",
      "ADMM terminated after 53 iterations with status: optimal.\n",
      "ADMM terminated after 53 iterations with status: optimal.\n",
      "ADMM terminated after 53 iterations with status: optimal.\n",
      "ADMM terminated after 53 iterations with status: optimal.\n",
      "ADMM terminated after 53 iterations with status: optimal.\n",
      "ADMM terminated after 53 iterations with status: optimal.\n",
      "ADMM terminated after 53 iterations with status: optimal.\n",
      "ADMM terminated after 53 iterations with status: optimal.\n",
      "ADMM terminated after 53 iterations with status: optimal.\n",
      "ADMM terminated after 53 iterations with status: optimal.\n",
      "ADMM terminated after 53 iterations with status: optimal.\n",
      "ADMM terminated after 53 iterations with status: optimal.\n",
      "ADMM terminated after 53 iterations with status: optimal.\n",
      "ADMM terminated after 53 iterations with status: optimal.\n",
      "ADMM terminated after 53 iterations with status: optimal.\n",
      "ADMM terminated after 53 iterations with status: optimal.\n",
      "ADMM terminated after 53 iterations with status: optimal.\n",
      "ADMM terminated after 53 iterations with status: optimal.\n",
      "ADMM terminated after 53 iterations with status: optimal.\n",
      "ADMM terminated after 53 iterations with status: optimal.\n",
      "ADMM terminated after 54 iterations with status: optimal.\n",
      "ADMM terminated after 34 iterations with status: optimal.\n",
      "ADMM terminated after 34 iterations with status: optimal.\n",
      "ADMM terminated after 34 iterations with status: optimal.\n",
      "ADMM terminated after 34 iterations with status: optimal.\n",
      "ADMM terminated after 34 iterations with status: optimal.\n",
      "ADMM terminated after 34 iterations with status: optimal.\n",
      "ADMM terminated after 34 iterations with status: optimal.\n",
      "ADMM terminated after 34 iterations with status: optimal.\n",
      "ADMM terminated after 34 iterations with status: optimal.\n",
      "ADMM terminated after 34 iterations with status: optimal.\n",
      "ADMM terminated after 34 iterations with status: optimal.\n",
      "ADMM terminated after 34 iterations with status: optimal.\n",
      "ADMM terminated after 34 iterations with status: optimal.\n",
      "ADMM terminated after 34 iterations with status: optimal.\n",
      "ADMM terminated after 34 iterations with status: optimal.\n",
      "ADMM terminated after 34 iterations with status: optimal.\n",
      "ADMM terminated after 34 iterations with status: optimal.\n",
      "ADMM terminated after 34 iterations with status: optimal.\n",
      "ADMM terminated after 34 iterations with status: optimal.\n",
      "ADMM terminated after 34 iterations with status: optimal.\n",
      "ADMM terminated after 34 iterations with status: optimal.\n",
      "ADMM terminated after 34 iterations with status: optimal.\n",
      "ADMM terminated after 34 iterations with status: optimal.\n",
      "ADMM terminated after 34 iterations with status: optimal.\n",
      "ADMM terminated after 34 iterations with status: optimal.\n",
      "ADMM terminated after 34 iterations with status: optimal.\n",
      "ADMM terminated after 34 iterations with status: optimal.\n",
      "ADMM terminated after 34 iterations with status: optimal.\n",
      "ADMM terminated after 34 iterations with status: optimal.\n",
      "ADMM terminated after 34 iterations with status: optimal.\n",
      "ADMM terminated after 34 iterations with status: optimal.\n",
      "ADMM terminated after 34 iterations with status: optimal.\n",
      "ADMM terminated after 34 iterations with status: optimal.\n",
      "ADMM terminated after 34 iterations with status: optimal.\n",
      "ADMM terminated after 34 iterations with status: optimal.\n",
      "ADMM terminated after 34 iterations with status: optimal.\n",
      "ADMM terminated after 34 iterations with status: optimal.\n",
      "ADMM terminated after 34 iterations with status: optimal.\n",
      "ADMM terminated after 34 iterations with status: optimal.\n",
      "ADMM terminated after 34 iterations with status: optimal.\n",
      "ADMM terminated after 34 iterations with status: optimal.\n",
      "ADMM terminated after 34 iterations with status: optimal.\n",
      "ADMM terminated after 34 iterations with status: optimal.\n",
      "ADMM terminated after 34 iterations with status: optimal.\n",
      "ADMM terminated after 34 iterations with status: optimal.\n",
      "ADMM terminated after 34 iterations with status: optimal.\n",
      "ADMM terminated after 34 iterations with status: optimal.\n",
      "ADMM terminated after 34 iterations with status: optimal.\n",
      "ADMM terminated after 34 iterations with status: optimal.\n",
      "ADMM terminated after 57 iterations with status: optimal.\n",
      "ADMM terminated after 35 iterations with status: optimal.\n",
      "ADMM terminated after 35 iterations with status: optimal.\n",
      "ADMM terminated after 35 iterations with status: optimal.\n",
      "ADMM terminated after 35 iterations with status: optimal.\n",
      "ADMM terminated after 35 iterations with status: optimal.\n",
      "ADMM terminated after 35 iterations with status: optimal.\n",
      "ADMM terminated after 35 iterations with status: optimal.\n",
      "ADMM terminated after 35 iterations with status: optimal.\n",
      "ADMM terminated after 35 iterations with status: optimal.\n",
      "ADMM terminated after 35 iterations with status: optimal.\n",
      "ADMM terminated after 35 iterations with status: optimal.\n",
      "ADMM terminated after 35 iterations with status: optimal.\n",
      "ADMM terminated after 35 iterations with status: optimal.\n",
      "ADMM terminated after 35 iterations with status: optimal.\n",
      "ADMM terminated after 35 iterations with status: optimal.\n",
      "ADMM terminated after 35 iterations with status: optimal.\n",
      "ADMM terminated after 35 iterations with status: optimal.\n",
      "ADMM terminated after 35 iterations with status: optimal.\n",
      "ADMM terminated after 35 iterations with status: optimal.\n",
      "ADMM terminated after 35 iterations with status: optimal.\n",
      "ADMM terminated after 35 iterations with status: optimal.\n",
      "ADMM terminated after 35 iterations with status: optimal.\n",
      "ADMM terminated after 35 iterations with status: optimal.\n",
      "ADMM terminated after 35 iterations with status: optimal.\n",
      "ADMM terminated after 35 iterations with status: optimal.\n",
      "ADMM terminated after 35 iterations with status: optimal.\n",
      "ADMM terminated after 35 iterations with status: optimal.\n",
      "ADMM terminated after 35 iterations with status: optimal.\n",
      "ADMM terminated after 35 iterations with status: optimal.\n",
      "ADMM terminated after 35 iterations with status: optimal.\n",
      "ADMM terminated after 35 iterations with status: optimal.\n",
      "ADMM terminated after 35 iterations with status: optimal.\n",
      "ADMM terminated after 35 iterations with status: optimal.\n",
      "ADMM terminated after 35 iterations with status: optimal.\n",
      "ADMM terminated after 35 iterations with status: optimal.\n",
      "ADMM terminated after 35 iterations with status: optimal.\n",
      "ADMM terminated after 35 iterations with status: optimal.\n",
      "ADMM terminated after 35 iterations with status: optimal.\n",
      "ADMM terminated after 35 iterations with status: optimal.\n",
      "ADMM terminated after 35 iterations with status: optimal.\n",
      "ADMM terminated after 35 iterations with status: optimal.\n",
      "ADMM terminated after 35 iterations with status: optimal.\n",
      "ADMM terminated after 35 iterations with status: optimal.\n",
      "ADMM terminated after 35 iterations with status: optimal.\n",
      "ADMM terminated after 35 iterations with status: optimal.\n",
      "ADMM terminated after 35 iterations with status: optimal.\n",
      "ADMM terminated after 35 iterations with status: optimal.\n",
      "ADMM terminated after 35 iterations with status: optimal.\n",
      "ADMM terminated after 35 iterations with status: optimal.\n",
      "ADMM terminated after 58 iterations with status: optimal.\n",
      "ADMM terminated after 36 iterations with status: optimal.\n",
      "ADMM terminated after 36 iterations with status: optimal.\n",
      "ADMM terminated after 36 iterations with status: optimal.\n",
      "ADMM terminated after 36 iterations with status: optimal.\n",
      "ADMM terminated after 36 iterations with status: optimal.\n",
      "ADMM terminated after 36 iterations with status: optimal.\n",
      "ADMM terminated after 36 iterations with status: optimal.\n",
      "ADMM terminated after 36 iterations with status: optimal.\n",
      "ADMM terminated after 36 iterations with status: optimal.\n",
      "ADMM terminated after 36 iterations with status: optimal.\n",
      "ADMM terminated after 36 iterations with status: optimal.\n",
      "ADMM terminated after 36 iterations with status: optimal.\n",
      "ADMM terminated after 36 iterations with status: optimal.\n",
      "ADMM terminated after 36 iterations with status: optimal.\n",
      "ADMM terminated after 36 iterations with status: optimal.\n",
      "ADMM terminated after 36 iterations with status: optimal.\n",
      "ADMM terminated after 36 iterations with status: optimal.\n",
      "ADMM terminated after 36 iterations with status: optimal.\n",
      "ADMM terminated after 36 iterations with status: optimal.\n",
      "ADMM terminated after 36 iterations with status: optimal.\n",
      "ADMM terminated after 36 iterations with status: optimal.\n",
      "ADMM terminated after 36 iterations with status: optimal.\n",
      "ADMM terminated after 36 iterations with status: optimal.\n",
      "ADMM terminated after 36 iterations with status: optimal.\n",
      "ADMM terminated after 36 iterations with status: optimal.\n",
      "ADMM terminated after 36 iterations with status: optimal.\n",
      "ADMM terminated after 36 iterations with status: optimal.\n",
      "ADMM terminated after 36 iterations with status: optimal.\n",
      "ADMM terminated after 36 iterations with status: optimal.\n",
      "ADMM terminated after 36 iterations with status: optimal.\n",
      "ADMM terminated after 36 iterations with status: optimal.\n",
      "ADMM terminated after 36 iterations with status: optimal.\n",
      "ADMM terminated after 36 iterations with status: optimal.\n",
      "ADMM terminated after 36 iterations with status: optimal.\n",
      "ADMM terminated after 36 iterations with status: optimal.\n",
      "ADMM terminated after 36 iterations with status: optimal.\n",
      "ADMM terminated after 36 iterations with status: optimal.\n",
      "ADMM terminated after 36 iterations with status: optimal.\n",
      "ADMM terminated after 36 iterations with status: optimal.\n",
      "ADMM terminated after 36 iterations with status: optimal.\n",
      "ADMM terminated after 36 iterations with status: optimal.\n",
      "ADMM terminated after 36 iterations with status: optimal.\n",
      "ADMM terminated after 36 iterations with status: optimal.\n",
      "ADMM terminated after 36 iterations with status: optimal.\n",
      "ADMM terminated after 36 iterations with status: optimal.\n",
      "ADMM terminated after 36 iterations with status: optimal.\n",
      "ADMM terminated after 36 iterations with status: optimal.\n",
      "ADMM terminated after 36 iterations with status: optimal.\n",
      "ADMM terminated after 36 iterations with status: optimal.\n",
      "ADMM terminated after 44 iterations with status: optimal.\n",
      "ADMM terminated after 42 iterations with status: optimal.\n",
      "ADMM terminated after 42 iterations with status: optimal.\n",
      "ADMM terminated after 42 iterations with status: optimal.\n",
      "ADMM terminated after 42 iterations with status: optimal.\n",
      "ADMM terminated after 42 iterations with status: optimal.\n",
      "ADMM terminated after 42 iterations with status: optimal.\n",
      "ADMM terminated after 42 iterations with status: optimal.\n",
      "ADMM terminated after 42 iterations with status: optimal.\n",
      "ADMM terminated after 42 iterations with status: optimal.\n",
      "ADMM terminated after 42 iterations with status: optimal.\n",
      "ADMM terminated after 42 iterations with status: optimal.\n",
      "ADMM terminated after 42 iterations with status: optimal.\n",
      "ADMM terminated after 42 iterations with status: optimal.\n",
      "ADMM terminated after 42 iterations with status: optimal.\n",
      "ADMM terminated after 42 iterations with status: optimal.\n",
      "ADMM terminated after 42 iterations with status: optimal.\n",
      "ADMM terminated after 42 iterations with status: optimal.\n",
      "ADMM terminated after 42 iterations with status: optimal.\n",
      "ADMM terminated after 42 iterations with status: optimal.\n",
      "ADMM terminated after 42 iterations with status: optimal.\n",
      "ADMM terminated after 42 iterations with status: optimal.\n",
      "ADMM terminated after 42 iterations with status: optimal.\n",
      "ADMM terminated after 42 iterations with status: optimal.\n",
      "ADMM terminated after 42 iterations with status: optimal.\n",
      "ADMM terminated after 42 iterations with status: optimal.\n",
      "ADMM terminated after 42 iterations with status: optimal.\n",
      "ADMM terminated after 42 iterations with status: optimal.\n",
      "ADMM terminated after 42 iterations with status: optimal.\n",
      "ADMM terminated after 42 iterations with status: optimal.\n",
      "ADMM terminated after 42 iterations with status: optimal.\n",
      "ADMM terminated after 42 iterations with status: optimal.\n",
      "ADMM terminated after 42 iterations with status: optimal.\n",
      "ADMM terminated after 42 iterations with status: optimal.\n",
      "ADMM terminated after 42 iterations with status: optimal.\n",
      "ADMM terminated after 42 iterations with status: optimal.\n",
      "ADMM terminated after 42 iterations with status: optimal.\n",
      "ADMM terminated after 42 iterations with status: optimal.\n",
      "ADMM terminated after 42 iterations with status: optimal.\n",
      "ADMM terminated after 42 iterations with status: optimal.\n",
      "ADMM terminated after 42 iterations with status: optimal.\n",
      "ADMM terminated after 42 iterations with status: optimal.\n",
      "ADMM terminated after 42 iterations with status: optimal.\n",
      "ADMM terminated after 42 iterations with status: optimal.\n",
      "ADMM terminated after 42 iterations with status: optimal.\n",
      "ADMM terminated after 42 iterations with status: optimal.\n",
      "ADMM terminated after 42 iterations with status: optimal.\n",
      "ADMM terminated after 42 iterations with status: optimal.\n",
      "ADMM terminated after 42 iterations with status: optimal.\n",
      "ADMM terminated after 42 iterations with status: optimal.\n",
      "ADMM terminated after 48 iterations with status: optimal.\n",
      "ADMM terminated after 43 iterations with status: optimal.\n",
      "ADMM terminated after 43 iterations with status: optimal.\n",
      "ADMM terminated after 43 iterations with status: optimal.\n",
      "ADMM terminated after 43 iterations with status: optimal.\n",
      "ADMM terminated after 43 iterations with status: optimal.\n",
      "ADMM terminated after 43 iterations with status: optimal.\n",
      "ADMM terminated after 43 iterations with status: optimal.\n",
      "ADMM terminated after 43 iterations with status: optimal.\n",
      "ADMM terminated after 43 iterations with status: optimal.\n",
      "ADMM terminated after 43 iterations with status: optimal.\n",
      "ADMM terminated after 43 iterations with status: optimal.\n",
      "ADMM terminated after 43 iterations with status: optimal.\n",
      "ADMM terminated after 43 iterations with status: optimal.\n",
      "ADMM terminated after 43 iterations with status: optimal.\n",
      "ADMM terminated after 43 iterations with status: optimal.\n",
      "ADMM terminated after 43 iterations with status: optimal.\n",
      "ADMM terminated after 43 iterations with status: optimal.\n",
      "ADMM terminated after 43 iterations with status: optimal.\n",
      "ADMM terminated after 43 iterations with status: optimal.\n",
      "ADMM terminated after 43 iterations with status: optimal.\n",
      "ADMM terminated after 43 iterations with status: optimal.\n",
      "ADMM terminated after 43 iterations with status: optimal.\n",
      "ADMM terminated after 43 iterations with status: optimal.\n",
      "ADMM terminated after 43 iterations with status: optimal.\n",
      "ADMM terminated after 43 iterations with status: optimal.\n",
      "ADMM terminated after 43 iterations with status: optimal.\n",
      "ADMM terminated after 43 iterations with status: optimal.\n",
      "ADMM terminated after 43 iterations with status: optimal.\n",
      "ADMM terminated after 43 iterations with status: optimal.\n",
      "ADMM terminated after 43 iterations with status: optimal.\n",
      "ADMM terminated after 43 iterations with status: optimal.\n",
      "ADMM terminated after 43 iterations with status: optimal.\n",
      "ADMM terminated after 43 iterations with status: optimal.\n",
      "ADMM terminated after 43 iterations with status: optimal.\n",
      "ADMM terminated after 43 iterations with status: optimal.\n",
      "ADMM terminated after 43 iterations with status: optimal.\n",
      "ADMM terminated after 43 iterations with status: optimal.\n",
      "ADMM terminated after 43 iterations with status: optimal.\n",
      "ADMM terminated after 43 iterations with status: optimal.\n",
      "ADMM terminated after 43 iterations with status: optimal.\n",
      "ADMM terminated after 43 iterations with status: optimal.\n",
      "ADMM terminated after 43 iterations with status: optimal.\n",
      "ADMM terminated after 43 iterations with status: optimal.\n",
      "ADMM terminated after 43 iterations with status: optimal.\n",
      "ADMM terminated after 43 iterations with status: optimal.\n",
      "ADMM terminated after 43 iterations with status: optimal.\n",
      "ADMM terminated after 43 iterations with status: optimal.\n",
      "ADMM terminated after 43 iterations with status: optimal.\n",
      "ADMM terminated after 43 iterations with status: optimal.\n",
      "ADMM terminated after 47 iterations with status: optimal.\n",
      "ADMM terminated after 44 iterations with status: optimal.\n",
      "ADMM terminated after 44 iterations with status: optimal.\n",
      "ADMM terminated after 44 iterations with status: optimal.\n",
      "ADMM terminated after 44 iterations with status: optimal.\n",
      "ADMM terminated after 44 iterations with status: optimal.\n",
      "ADMM terminated after 44 iterations with status: optimal.\n",
      "ADMM terminated after 44 iterations with status: optimal.\n",
      "ADMM terminated after 44 iterations with status: optimal.\n",
      "ADMM terminated after 44 iterations with status: optimal.\n",
      "ADMM terminated after 44 iterations with status: optimal.\n",
      "ADMM terminated after 44 iterations with status: optimal.\n",
      "ADMM terminated after 44 iterations with status: optimal.\n",
      "ADMM terminated after 44 iterations with status: optimal.\n",
      "ADMM terminated after 44 iterations with status: optimal.\n",
      "ADMM terminated after 44 iterations with status: optimal.\n",
      "ADMM terminated after 44 iterations with status: optimal.\n",
      "ADMM terminated after 44 iterations with status: optimal.\n",
      "ADMM terminated after 44 iterations with status: optimal.\n",
      "ADMM terminated after 44 iterations with status: optimal.\n",
      "ADMM terminated after 44 iterations with status: optimal.\n",
      "ADMM terminated after 44 iterations with status: optimal.\n",
      "ADMM terminated after 44 iterations with status: optimal.\n",
      "ADMM terminated after 44 iterations with status: optimal.\n",
      "ADMM terminated after 44 iterations with status: optimal.\n",
      "ADMM terminated after 44 iterations with status: optimal.\n",
      "ADMM terminated after 44 iterations with status: optimal.\n",
      "ADMM terminated after 44 iterations with status: optimal.\n",
      "ADMM terminated after 44 iterations with status: optimal.\n",
      "ADMM terminated after 44 iterations with status: optimal.\n",
      "ADMM terminated after 44 iterations with status: optimal.\n",
      "ADMM terminated after 44 iterations with status: optimal.\n",
      "ADMM terminated after 44 iterations with status: optimal.\n",
      "ADMM terminated after 44 iterations with status: optimal.\n",
      "ADMM terminated after 44 iterations with status: optimal.\n",
      "ADMM terminated after 44 iterations with status: optimal.\n",
      "ADMM terminated after 44 iterations with status: optimal.\n",
      "ADMM terminated after 44 iterations with status: optimal.\n",
      "ADMM terminated after 44 iterations with status: optimal.\n",
      "ADMM terminated after 44 iterations with status: optimal.\n",
      "ADMM terminated after 44 iterations with status: optimal.\n",
      "ADMM terminated after 44 iterations with status: optimal.\n",
      "ADMM terminated after 44 iterations with status: optimal.\n",
      "ADMM terminated after 44 iterations with status: optimal.\n",
      "ADMM terminated after 44 iterations with status: optimal.\n",
      "ADMM terminated after 44 iterations with status: optimal.\n",
      "ADMM terminated after 44 iterations with status: optimal.\n",
      "ADMM terminated after 44 iterations with status: optimal.\n",
      "ADMM terminated after 44 iterations with status: optimal.\n",
      "ADMM terminated after 44 iterations with status: optimal.\n",
      "ADMM terminated after 49 iterations with status: optimal.\n",
      "ADMM terminated after 45 iterations with status: optimal.\n",
      "ADMM terminated after 45 iterations with status: optimal.\n",
      "ADMM terminated after 45 iterations with status: optimal.\n",
      "ADMM terminated after 45 iterations with status: optimal.\n",
      "ADMM terminated after 45 iterations with status: optimal.\n",
      "ADMM terminated after 45 iterations with status: optimal.\n",
      "ADMM terminated after 45 iterations with status: optimal.\n",
      "ADMM terminated after 45 iterations with status: optimal.\n",
      "ADMM terminated after 45 iterations with status: optimal.\n",
      "ADMM terminated after 45 iterations with status: optimal.\n",
      "ADMM terminated after 45 iterations with status: optimal.\n",
      "ADMM terminated after 45 iterations with status: optimal.\n",
      "ADMM terminated after 45 iterations with status: optimal.\n",
      "ADMM terminated after 45 iterations with status: optimal.\n",
      "ADMM terminated after 45 iterations with status: optimal.\n",
      "ADMM terminated after 45 iterations with status: optimal.\n",
      "ADMM terminated after 45 iterations with status: optimal.\n",
      "ADMM terminated after 45 iterations with status: optimal.\n",
      "ADMM terminated after 45 iterations with status: optimal.\n",
      "ADMM terminated after 45 iterations with status: optimal.\n",
      "ADMM terminated after 45 iterations with status: optimal.\n",
      "ADMM terminated after 45 iterations with status: optimal.\n",
      "ADMM terminated after 45 iterations with status: optimal.\n",
      "ADMM terminated after 45 iterations with status: optimal.\n",
      "ADMM terminated after 45 iterations with status: optimal.\n",
      "ADMM terminated after 45 iterations with status: optimal.\n",
      "ADMM terminated after 45 iterations with status: optimal.\n",
      "ADMM terminated after 45 iterations with status: optimal.\n",
      "ADMM terminated after 45 iterations with status: optimal.\n",
      "ADMM terminated after 45 iterations with status: optimal.\n",
      "ADMM terminated after 45 iterations with status: optimal.\n",
      "ADMM terminated after 45 iterations with status: optimal.\n",
      "ADMM terminated after 45 iterations with status: optimal.\n",
      "ADMM terminated after 45 iterations with status: optimal.\n",
      "ADMM terminated after 45 iterations with status: optimal.\n",
      "ADMM terminated after 45 iterations with status: optimal.\n",
      "ADMM terminated after 45 iterations with status: optimal.\n",
      "ADMM terminated after 45 iterations with status: optimal.\n",
      "ADMM terminated after 45 iterations with status: optimal.\n",
      "ADMM terminated after 45 iterations with status: optimal.\n",
      "ADMM terminated after 45 iterations with status: optimal.\n",
      "ADMM terminated after 45 iterations with status: optimal.\n",
      "ADMM terminated after 45 iterations with status: optimal.\n",
      "ADMM terminated after 45 iterations with status: optimal.\n",
      "ADMM terminated after 45 iterations with status: optimal.\n",
      "ADMM terminated after 45 iterations with status: optimal.\n",
      "ADMM terminated after 45 iterations with status: optimal.\n",
      "ADMM terminated after 45 iterations with status: optimal.\n",
      "ADMM terminated after 45 iterations with status: optimal.\n",
      "ADMM terminated after 49 iterations with status: optimal.\n",
      "ADMM terminated after 47 iterations with status: optimal.\n",
      "ADMM terminated after 47 iterations with status: optimal.\n",
      "ADMM terminated after 47 iterations with status: optimal.\n",
      "ADMM terminated after 47 iterations with status: optimal.\n",
      "ADMM terminated after 47 iterations with status: optimal.\n",
      "ADMM terminated after 47 iterations with status: optimal.\n",
      "ADMM terminated after 47 iterations with status: optimal.\n",
      "ADMM terminated after 47 iterations with status: optimal.\n",
      "ADMM terminated after 47 iterations with status: optimal.\n",
      "ADMM terminated after 47 iterations with status: optimal.\n",
      "ADMM terminated after 47 iterations with status: optimal.\n",
      "ADMM terminated after 47 iterations with status: optimal.\n",
      "ADMM terminated after 47 iterations with status: optimal.\n",
      "ADMM terminated after 47 iterations with status: optimal.\n",
      "ADMM terminated after 47 iterations with status: optimal.\n",
      "ADMM terminated after 47 iterations with status: optimal.\n",
      "ADMM terminated after 47 iterations with status: optimal.\n",
      "ADMM terminated after 47 iterations with status: optimal.\n",
      "ADMM terminated after 47 iterations with status: optimal.\n",
      "ADMM terminated after 47 iterations with status: optimal.\n",
      "ADMM terminated after 47 iterations with status: optimal.\n",
      "ADMM terminated after 47 iterations with status: optimal.\n",
      "ADMM terminated after 47 iterations with status: optimal.\n",
      "ADMM terminated after 47 iterations with status: optimal.\n",
      "ADMM terminated after 47 iterations with status: optimal.\n",
      "ADMM terminated after 47 iterations with status: optimal.\n",
      "ADMM terminated after 47 iterations with status: optimal.\n",
      "ADMM terminated after 47 iterations with status: optimal.\n",
      "ADMM terminated after 47 iterations with status: optimal.\n",
      "ADMM terminated after 47 iterations with status: optimal.\n",
      "ADMM terminated after 47 iterations with status: optimal.\n",
      "ADMM terminated after 47 iterations with status: optimal.\n",
      "ADMM terminated after 47 iterations with status: optimal.\n",
      "ADMM terminated after 47 iterations with status: optimal.\n",
      "ADMM terminated after 47 iterations with status: optimal.\n",
      "ADMM terminated after 47 iterations with status: optimal.\n",
      "ADMM terminated after 47 iterations with status: optimal.\n",
      "ADMM terminated after 47 iterations with status: optimal.\n",
      "ADMM terminated after 47 iterations with status: optimal.\n",
      "ADMM terminated after 47 iterations with status: optimal.\n",
      "ADMM terminated after 47 iterations with status: optimal.\n",
      "ADMM terminated after 47 iterations with status: optimal.\n",
      "ADMM terminated after 47 iterations with status: optimal.\n",
      "ADMM terminated after 47 iterations with status: optimal.\n",
      "ADMM terminated after 47 iterations with status: optimal.\n",
      "ADMM terminated after 47 iterations with status: optimal.\n",
      "ADMM terminated after 47 iterations with status: optimal.\n",
      "ADMM terminated after 47 iterations with status: optimal.\n",
      "ADMM terminated after 47 iterations with status: optimal.\n",
      "ADMM terminated after 49 iterations with status: optimal.\n",
      "ADMM terminated after 47 iterations with status: optimal.\n",
      "ADMM terminated after 47 iterations with status: optimal.\n",
      "ADMM terminated after 47 iterations with status: optimal.\n",
      "ADMM terminated after 47 iterations with status: optimal.\n",
      "ADMM terminated after 47 iterations with status: optimal.\n",
      "ADMM terminated after 47 iterations with status: optimal.\n",
      "ADMM terminated after 47 iterations with status: optimal.\n",
      "ADMM terminated after 47 iterations with status: optimal.\n",
      "ADMM terminated after 47 iterations with status: optimal.\n",
      "ADMM terminated after 47 iterations with status: optimal.\n",
      "ADMM terminated after 47 iterations with status: optimal.\n",
      "ADMM terminated after 47 iterations with status: optimal.\n",
      "ADMM terminated after 47 iterations with status: optimal.\n",
      "ADMM terminated after 47 iterations with status: optimal.\n",
      "ADMM terminated after 47 iterations with status: optimal.\n",
      "ADMM terminated after 47 iterations with status: optimal.\n",
      "ADMM terminated after 47 iterations with status: optimal.\n",
      "ADMM terminated after 47 iterations with status: optimal.\n",
      "ADMM terminated after 47 iterations with status: optimal.\n",
      "ADMM terminated after 47 iterations with status: optimal.\n",
      "ADMM terminated after 47 iterations with status: optimal.\n",
      "ADMM terminated after 47 iterations with status: optimal.\n",
      "ADMM terminated after 47 iterations with status: optimal.\n",
      "ADMM terminated after 47 iterations with status: optimal.\n",
      "ADMM terminated after 47 iterations with status: optimal.\n",
      "ADMM terminated after 47 iterations with status: optimal.\n",
      "ADMM terminated after 47 iterations with status: optimal.\n",
      "ADMM terminated after 47 iterations with status: optimal.\n",
      "ADMM terminated after 47 iterations with status: optimal.\n",
      "ADMM terminated after 47 iterations with status: optimal.\n",
      "ADMM terminated after 47 iterations with status: optimal.\n",
      "ADMM terminated after 47 iterations with status: optimal.\n",
      "ADMM terminated after 47 iterations with status: optimal.\n",
      "ADMM terminated after 47 iterations with status: optimal.\n",
      "ADMM terminated after 47 iterations with status: optimal.\n",
      "ADMM terminated after 47 iterations with status: optimal.\n",
      "ADMM terminated after 47 iterations with status: optimal.\n",
      "ADMM terminated after 47 iterations with status: optimal.\n",
      "ADMM terminated after 47 iterations with status: optimal.\n",
      "ADMM terminated after 47 iterations with status: optimal.\n",
      "ADMM terminated after 47 iterations with status: optimal.\n",
      "ADMM terminated after 47 iterations with status: optimal.\n",
      "ADMM terminated after 47 iterations with status: optimal.\n",
      "ADMM terminated after 47 iterations with status: optimal.\n",
      "ADMM terminated after 47 iterations with status: optimal.\n",
      "ADMM terminated after 47 iterations with status: optimal.\n",
      "ADMM terminated after 47 iterations with status: optimal.\n",
      "ADMM terminated after 47 iterations with status: optimal.\n",
      "ADMM terminated after 47 iterations with status: optimal.\n",
      "ADMM terminated after 41 iterations with status: optimal.\n",
      "ADMM terminated after 40 iterations with status: optimal.\n",
      "ADMM terminated after 40 iterations with status: optimal.\n",
      "ADMM terminated after 40 iterations with status: optimal.\n",
      "ADMM terminated after 40 iterations with status: optimal.\n",
      "ADMM terminated after 40 iterations with status: optimal.\n",
      "ADMM terminated after 40 iterations with status: optimal.\n",
      "ADMM terminated after 40 iterations with status: optimal.\n",
      "ADMM terminated after 40 iterations with status: optimal.\n",
      "ADMM terminated after 40 iterations with status: optimal.\n",
      "ADMM terminated after 40 iterations with status: optimal.\n",
      "ADMM terminated after 40 iterations with status: optimal.\n",
      "ADMM terminated after 40 iterations with status: optimal.\n",
      "ADMM terminated after 40 iterations with status: optimal.\n",
      "ADMM terminated after 40 iterations with status: optimal.\n",
      "ADMM terminated after 40 iterations with status: optimal.\n",
      "ADMM terminated after 40 iterations with status: optimal.\n",
      "ADMM terminated after 40 iterations with status: optimal.\n",
      "ADMM terminated after 40 iterations with status: optimal.\n",
      "ADMM terminated after 40 iterations with status: optimal.\n",
      "ADMM terminated after 40 iterations with status: optimal.\n",
      "ADMM terminated after 40 iterations with status: optimal.\n",
      "ADMM terminated after 40 iterations with status: optimal.\n",
      "ADMM terminated after 40 iterations with status: optimal.\n",
      "ADMM terminated after 40 iterations with status: optimal.\n",
      "ADMM terminated after 40 iterations with status: optimal.\n",
      "ADMM terminated after 40 iterations with status: optimal.\n",
      "ADMM terminated after 40 iterations with status: optimal.\n",
      "ADMM terminated after 40 iterations with status: optimal.\n",
      "ADMM terminated after 40 iterations with status: optimal.\n",
      "ADMM terminated after 40 iterations with status: optimal.\n",
      "ADMM terminated after 40 iterations with status: optimal.\n",
      "ADMM terminated after 40 iterations with status: optimal.\n",
      "ADMM terminated after 40 iterations with status: optimal.\n",
      "ADMM terminated after 40 iterations with status: optimal.\n",
      "ADMM terminated after 40 iterations with status: optimal.\n",
      "ADMM terminated after 40 iterations with status: optimal.\n",
      "ADMM terminated after 40 iterations with status: optimal.\n",
      "ADMM terminated after 40 iterations with status: optimal.\n",
      "ADMM terminated after 40 iterations with status: optimal.\n",
      "ADMM terminated after 40 iterations with status: optimal.\n",
      "ADMM terminated after 40 iterations with status: optimal.\n",
      "ADMM terminated after 40 iterations with status: optimal.\n",
      "ADMM terminated after 40 iterations with status: optimal.\n",
      "ADMM terminated after 40 iterations with status: optimal.\n",
      "ADMM terminated after 40 iterations with status: optimal.\n",
      "ADMM terminated after 40 iterations with status: optimal.\n",
      "ADMM terminated after 40 iterations with status: optimal.\n",
      "ADMM terminated after 40 iterations with status: optimal.\n",
      "ADMM terminated after 40 iterations with status: optimal.\n",
      "ADMM terminated after 40 iterations with status: optimal.\n",
      "ADMM terminated after 41 iterations with status: optimal.\n",
      "ADMM terminated after 41 iterations with status: optimal.\n",
      "ADMM terminated after 41 iterations with status: optimal.\n",
      "ADMM terminated after 41 iterations with status: optimal.\n",
      "ADMM terminated after 41 iterations with status: optimal.\n",
      "ADMM terminated after 41 iterations with status: optimal.\n",
      "ADMM terminated after 41 iterations with status: optimal.\n",
      "ADMM terminated after 41 iterations with status: optimal.\n",
      "ADMM terminated after 41 iterations with status: optimal.\n",
      "ADMM terminated after 41 iterations with status: optimal.\n",
      "ADMM terminated after 41 iterations with status: optimal.\n",
      "ADMM terminated after 41 iterations with status: optimal.\n",
      "ADMM terminated after 41 iterations with status: optimal.\n",
      "ADMM terminated after 41 iterations with status: optimal.\n",
      "ADMM terminated after 41 iterations with status: optimal.\n",
      "ADMM terminated after 41 iterations with status: optimal.\n",
      "ADMM terminated after 41 iterations with status: optimal.\n",
      "ADMM terminated after 41 iterations with status: optimal.\n",
      "ADMM terminated after 41 iterations with status: optimal.\n",
      "ADMM terminated after 41 iterations with status: optimal.\n",
      "ADMM terminated after 41 iterations with status: optimal.\n",
      "ADMM terminated after 41 iterations with status: optimal.\n",
      "ADMM terminated after 41 iterations with status: optimal.\n",
      "ADMM terminated after 41 iterations with status: optimal.\n",
      "ADMM terminated after 41 iterations with status: optimal.\n",
      "ADMM terminated after 41 iterations with status: optimal.\n",
      "ADMM terminated after 41 iterations with status: optimal.\n",
      "ADMM terminated after 41 iterations with status: optimal.\n",
      "ADMM terminated after 41 iterations with status: optimal.\n",
      "ADMM terminated after 41 iterations with status: optimal.\n",
      "ADMM terminated after 41 iterations with status: optimal.\n",
      "ADMM terminated after 41 iterations with status: optimal.\n",
      "ADMM terminated after 41 iterations with status: optimal.\n",
      "ADMM terminated after 41 iterations with status: optimal.\n",
      "ADMM terminated after 41 iterations with status: optimal.\n",
      "ADMM terminated after 41 iterations with status: optimal.\n",
      "ADMM terminated after 41 iterations with status: optimal.\n",
      "ADMM terminated after 41 iterations with status: optimal.\n",
      "ADMM terminated after 41 iterations with status: optimal.\n",
      "ADMM terminated after 41 iterations with status: optimal.\n",
      "ADMM terminated after 41 iterations with status: optimal.\n",
      "ADMM terminated after 41 iterations with status: optimal.\n",
      "ADMM terminated after 41 iterations with status: optimal.\n",
      "ADMM terminated after 41 iterations with status: optimal.\n",
      "ADMM terminated after 41 iterations with status: optimal.\n",
      "ADMM terminated after 41 iterations with status: optimal.\n",
      "ADMM terminated after 41 iterations with status: optimal.\n",
      "ADMM terminated after 41 iterations with status: optimal.\n",
      "ADMM terminated after 41 iterations with status: optimal.\n",
      "ADMM terminated after 39 iterations with status: optimal.\n",
      "ADMM terminated after 35 iterations with status: optimal.\n",
      "ADMM terminated after 35 iterations with status: optimal.\n",
      "ADMM terminated after 35 iterations with status: optimal.\n",
      "ADMM terminated after 35 iterations with status: optimal.\n",
      "ADMM terminated after 35 iterations with status: optimal.\n",
      "ADMM terminated after 35 iterations with status: optimal.\n",
      "ADMM terminated after 35 iterations with status: optimal.\n",
      "ADMM terminated after 35 iterations with status: optimal.\n",
      "ADMM terminated after 35 iterations with status: optimal.\n",
      "ADMM terminated after 35 iterations with status: optimal.\n",
      "ADMM terminated after 35 iterations with status: optimal.\n",
      "ADMM terminated after 35 iterations with status: optimal.\n",
      "ADMM terminated after 35 iterations with status: optimal.\n",
      "ADMM terminated after 35 iterations with status: optimal.\n",
      "ADMM terminated after 35 iterations with status: optimal.\n",
      "ADMM terminated after 35 iterations with status: optimal.\n",
      "ADMM terminated after 35 iterations with status: optimal.\n",
      "ADMM terminated after 35 iterations with status: optimal.\n",
      "ADMM terminated after 35 iterations with status: optimal.\n",
      "ADMM terminated after 35 iterations with status: optimal.\n",
      "ADMM terminated after 35 iterations with status: optimal.\n",
      "ADMM terminated after 35 iterations with status: optimal.\n",
      "ADMM terminated after 35 iterations with status: optimal.\n",
      "ADMM terminated after 35 iterations with status: optimal.\n",
      "ADMM terminated after 35 iterations with status: optimal.\n",
      "ADMM terminated after 35 iterations with status: optimal.\n",
      "ADMM terminated after 35 iterations with status: optimal.\n",
      "ADMM terminated after 35 iterations with status: optimal.\n",
      "ADMM terminated after 35 iterations with status: optimal.\n",
      "ADMM terminated after 35 iterations with status: optimal.\n",
      "ADMM terminated after 35 iterations with status: optimal.\n",
      "ADMM terminated after 35 iterations with status: optimal.\n",
      "ADMM terminated after 35 iterations with status: optimal.\n",
      "ADMM terminated after 35 iterations with status: optimal.\n",
      "ADMM terminated after 35 iterations with status: optimal.\n",
      "ADMM terminated after 35 iterations with status: optimal.\n",
      "ADMM terminated after 35 iterations with status: optimal.\n",
      "ADMM terminated after 35 iterations with status: optimal.\n",
      "ADMM terminated after 35 iterations with status: optimal.\n",
      "ADMM terminated after 35 iterations with status: optimal.\n",
      "ADMM terminated after 35 iterations with status: optimal.\n",
      "ADMM terminated after 35 iterations with status: optimal.\n",
      "ADMM terminated after 35 iterations with status: optimal.\n",
      "ADMM terminated after 35 iterations with status: optimal.\n",
      "ADMM terminated after 35 iterations with status: optimal.\n",
      "ADMM terminated after 35 iterations with status: optimal.\n",
      "ADMM terminated after 35 iterations with status: optimal.\n",
      "ADMM terminated after 35 iterations with status: optimal.\n",
      "ADMM terminated after 35 iterations with status: optimal.\n",
      "ADMM terminated after 39 iterations with status: optimal.\n",
      "ADMM terminated after 36 iterations with status: optimal.\n",
      "ADMM terminated after 36 iterations with status: optimal.\n",
      "ADMM terminated after 36 iterations with status: optimal.\n",
      "ADMM terminated after 36 iterations with status: optimal.\n",
      "ADMM terminated after 36 iterations with status: optimal.\n",
      "ADMM terminated after 36 iterations with status: optimal.\n",
      "ADMM terminated after 36 iterations with status: optimal.\n",
      "ADMM terminated after 36 iterations with status: optimal.\n",
      "ADMM terminated after 36 iterations with status: optimal.\n",
      "ADMM terminated after 36 iterations with status: optimal.\n",
      "ADMM terminated after 36 iterations with status: optimal.\n",
      "ADMM terminated after 36 iterations with status: optimal.\n",
      "ADMM terminated after 36 iterations with status: optimal.\n",
      "ADMM terminated after 36 iterations with status: optimal.\n",
      "ADMM terminated after 36 iterations with status: optimal.\n",
      "ADMM terminated after 36 iterations with status: optimal.\n",
      "ADMM terminated after 36 iterations with status: optimal.\n",
      "ADMM terminated after 36 iterations with status: optimal.\n",
      "ADMM terminated after 36 iterations with status: optimal.\n",
      "ADMM terminated after 36 iterations with status: optimal.\n",
      "ADMM terminated after 36 iterations with status: optimal.\n",
      "ADMM terminated after 36 iterations with status: optimal.\n",
      "ADMM terminated after 36 iterations with status: optimal.\n",
      "ADMM terminated after 36 iterations with status: optimal.\n",
      "ADMM terminated after 36 iterations with status: optimal.\n",
      "ADMM terminated after 36 iterations with status: optimal.\n",
      "ADMM terminated after 36 iterations with status: optimal.\n",
      "ADMM terminated after 36 iterations with status: optimal.\n",
      "ADMM terminated after 36 iterations with status: optimal.\n",
      "ADMM terminated after 36 iterations with status: optimal.\n",
      "ADMM terminated after 36 iterations with status: optimal.\n",
      "ADMM terminated after 36 iterations with status: optimal.\n",
      "ADMM terminated after 36 iterations with status: optimal.\n",
      "ADMM terminated after 36 iterations with status: optimal.\n",
      "ADMM terminated after 36 iterations with status: optimal.\n",
      "ADMM terminated after 36 iterations with status: optimal.\n",
      "ADMM terminated after 36 iterations with status: optimal.\n",
      "ADMM terminated after 36 iterations with status: optimal.\n",
      "ADMM terminated after 36 iterations with status: optimal.\n",
      "ADMM terminated after 36 iterations with status: optimal.\n",
      "ADMM terminated after 36 iterations with status: optimal.\n",
      "ADMM terminated after 36 iterations with status: optimal.\n",
      "ADMM terminated after 36 iterations with status: optimal.\n",
      "ADMM terminated after 36 iterations with status: optimal.\n",
      "ADMM terminated after 36 iterations with status: optimal.\n",
      "ADMM terminated after 36 iterations with status: optimal.\n",
      "ADMM terminated after 36 iterations with status: optimal.\n",
      "ADMM terminated after 36 iterations with status: optimal.\n",
      "ADMM terminated after 36 iterations with status: optimal.\n",
      "ADMM terminated after 17 iterations with status: optimal.\n",
      "ADMM terminated after 15 iterations with status: optimal.\n",
      "ADMM terminated after 15 iterations with status: optimal.\n",
      "ADMM terminated after 15 iterations with status: optimal.\n",
      "ADMM terminated after 15 iterations with status: optimal.\n",
      "ADMM terminated after 15 iterations with status: optimal.\n",
      "ADMM terminated after 15 iterations with status: optimal.\n",
      "ADMM terminated after 15 iterations with status: optimal.\n",
      "ADMM terminated after 15 iterations with status: optimal.\n",
      "ADMM terminated after 15 iterations with status: optimal.\n",
      "ADMM terminated after 15 iterations with status: optimal.\n",
      "ADMM terminated after 15 iterations with status: optimal.\n",
      "ADMM terminated after 15 iterations with status: optimal.\n",
      "ADMM terminated after 15 iterations with status: optimal.\n",
      "ADMM terminated after 15 iterations with status: optimal.\n",
      "ADMM terminated after 15 iterations with status: optimal.\n",
      "ADMM terminated after 15 iterations with status: optimal.\n",
      "ADMM terminated after 15 iterations with status: optimal.\n",
      "ADMM terminated after 15 iterations with status: optimal.\n",
      "ADMM terminated after 15 iterations with status: optimal.\n",
      "ADMM terminated after 15 iterations with status: optimal.\n",
      "ADMM terminated after 15 iterations with status: optimal.\n",
      "ADMM terminated after 15 iterations with status: optimal.\n",
      "ADMM terminated after 15 iterations with status: optimal.\n",
      "ADMM terminated after 15 iterations with status: optimal.\n",
      "ADMM terminated after 15 iterations with status: optimal.\n",
      "ADMM terminated after 15 iterations with status: optimal.\n",
      "ADMM terminated after 15 iterations with status: optimal.\n",
      "ADMM terminated after 15 iterations with status: optimal.\n",
      "ADMM terminated after 15 iterations with status: optimal.\n",
      "ADMM terminated after 15 iterations with status: optimal.\n",
      "ADMM terminated after 15 iterations with status: optimal.\n",
      "ADMM terminated after 15 iterations with status: optimal.\n",
      "ADMM terminated after 15 iterations with status: optimal.\n",
      "ADMM terminated after 15 iterations with status: optimal.\n",
      "ADMM terminated after 15 iterations with status: optimal.\n",
      "ADMM terminated after 15 iterations with status: optimal.\n",
      "ADMM terminated after 15 iterations with status: optimal.\n",
      "ADMM terminated after 15 iterations with status: optimal.\n",
      "ADMM terminated after 15 iterations with status: optimal.\n",
      "ADMM terminated after 15 iterations with status: optimal.\n",
      "ADMM terminated after 15 iterations with status: optimal.\n",
      "ADMM terminated after 15 iterations with status: optimal.\n",
      "ADMM terminated after 15 iterations with status: optimal.\n",
      "ADMM terminated after 15 iterations with status: optimal.\n",
      "ADMM terminated after 15 iterations with status: optimal.\n",
      "ADMM terminated after 15 iterations with status: optimal.\n",
      "ADMM terminated after 15 iterations with status: optimal.\n",
      "ADMM terminated after 15 iterations with status: optimal.\n",
      "ADMM terminated after 15 iterations with status: optimal.\n",
      "ADMM terminated after 13 iterations with status: optimal.\n",
      "ADMM terminated after 12 iterations with status: optimal.\n",
      "ADMM terminated after 12 iterations with status: optimal.\n",
      "ADMM terminated after 12 iterations with status: optimal.\n",
      "ADMM terminated after 12 iterations with status: optimal.\n",
      "ADMM terminated after 12 iterations with status: optimal.\n",
      "ADMM terminated after 12 iterations with status: optimal.\n",
      "ADMM terminated after 12 iterations with status: optimal.\n",
      "ADMM terminated after 12 iterations with status: optimal.\n",
      "ADMM terminated after 12 iterations with status: optimal.\n",
      "ADMM terminated after 12 iterations with status: optimal.\n",
      "ADMM terminated after 12 iterations with status: optimal.\n",
      "ADMM terminated after 12 iterations with status: optimal.\n",
      "ADMM terminated after 12 iterations with status: optimal.\n",
      "ADMM terminated after 12 iterations with status: optimal.\n",
      "ADMM terminated after 12 iterations with status: optimal.\n",
      "ADMM terminated after 12 iterations with status: optimal.\n",
      "ADMM terminated after 12 iterations with status: optimal.\n",
      "ADMM terminated after 12 iterations with status: optimal.\n",
      "ADMM terminated after 12 iterations with status: optimal.\n",
      "ADMM terminated after 12 iterations with status: optimal.\n",
      "ADMM terminated after 12 iterations with status: optimal.\n",
      "ADMM terminated after 12 iterations with status: optimal.\n",
      "ADMM terminated after 12 iterations with status: optimal.\n",
      "ADMM terminated after 12 iterations with status: optimal.\n",
      "ADMM terminated after 12 iterations with status: optimal.\n",
      "ADMM terminated after 12 iterations with status: optimal.\n",
      "ADMM terminated after 12 iterations with status: optimal.\n",
      "ADMM terminated after 12 iterations with status: optimal.\n",
      "ADMM terminated after 12 iterations with status: optimal.\n",
      "ADMM terminated after 12 iterations with status: optimal.\n",
      "ADMM terminated after 12 iterations with status: optimal.\n",
      "ADMM terminated after 12 iterations with status: optimal.\n",
      "ADMM terminated after 12 iterations with status: optimal.\n",
      "ADMM terminated after 12 iterations with status: optimal.\n",
      "ADMM terminated after 12 iterations with status: optimal.\n",
      "ADMM terminated after 12 iterations with status: optimal.\n",
      "ADMM terminated after 12 iterations with status: optimal.\n",
      "ADMM terminated after 12 iterations with status: optimal.\n",
      "ADMM terminated after 12 iterations with status: optimal.\n",
      "ADMM terminated after 12 iterations with status: optimal.\n",
      "ADMM terminated after 12 iterations with status: optimal.\n",
      "ADMM terminated after 12 iterations with status: optimal.\n",
      "ADMM terminated after 12 iterations with status: optimal.\n",
      "ADMM terminated after 12 iterations with status: optimal.\n",
      "ADMM terminated after 12 iterations with status: optimal.\n",
      "ADMM terminated after 12 iterations with status: optimal.\n",
      "ADMM terminated after 12 iterations with status: optimal.\n",
      "ADMM terminated after 12 iterations with status: optimal.\n",
      "ADMM terminated after 12 iterations with status: optimal.\n",
      "ADMM terminated after 11 iterations with status: optimal.\n",
      "ADMM terminated after 11 iterations with status: optimal.\n",
      "ADMM terminated after 11 iterations with status: optimal.\n",
      "ADMM terminated after 11 iterations with status: optimal.\n",
      "ADMM terminated after 11 iterations with status: optimal.\n",
      "ADMM terminated after 11 iterations with status: optimal.\n",
      "ADMM terminated after 11 iterations with status: optimal.\n",
      "ADMM terminated after 11 iterations with status: optimal.\n",
      "ADMM terminated after 11 iterations with status: optimal.\n",
      "ADMM terminated after 11 iterations with status: optimal.\n",
      "ADMM terminated after 11 iterations with status: optimal.\n",
      "ADMM terminated after 11 iterations with status: optimal.\n",
      "ADMM terminated after 11 iterations with status: optimal.\n",
      "ADMM terminated after 11 iterations with status: optimal.\n",
      "ADMM terminated after 11 iterations with status: optimal.\n",
      "ADMM terminated after 11 iterations with status: optimal.\n",
      "ADMM terminated after 11 iterations with status: optimal.\n",
      "ADMM terminated after 11 iterations with status: optimal.\n",
      "ADMM terminated after 11 iterations with status: optimal.\n",
      "ADMM terminated after 11 iterations with status: optimal.\n",
      "ADMM terminated after 11 iterations with status: optimal.\n",
      "ADMM terminated after 11 iterations with status: optimal.\n",
      "ADMM terminated after 11 iterations with status: optimal.\n",
      "ADMM terminated after 11 iterations with status: optimal.\n",
      "ADMM terminated after 11 iterations with status: optimal.\n",
      "ADMM terminated after 11 iterations with status: optimal.\n",
      "ADMM terminated after 11 iterations with status: optimal.\n",
      "ADMM terminated after 11 iterations with status: optimal.\n",
      "ADMM terminated after 11 iterations with status: optimal.\n",
      "ADMM terminated after 11 iterations with status: optimal.\n",
      "ADMM terminated after 11 iterations with status: optimal.\n",
      "ADMM terminated after 11 iterations with status: optimal.\n",
      "ADMM terminated after 11 iterations with status: optimal.\n",
      "ADMM terminated after 11 iterations with status: optimal.\n",
      "ADMM terminated after 11 iterations with status: optimal.\n",
      "ADMM terminated after 11 iterations with status: optimal.\n",
      "ADMM terminated after 11 iterations with status: optimal.\n",
      "ADMM terminated after 11 iterations with status: optimal.\n",
      "ADMM terminated after 11 iterations with status: optimal.\n",
      "ADMM terminated after 11 iterations with status: optimal.\n",
      "ADMM terminated after 11 iterations with status: optimal.\n",
      "ADMM terminated after 11 iterations with status: optimal.\n",
      "ADMM terminated after 11 iterations with status: optimal.\n",
      "ADMM terminated after 11 iterations with status: optimal.\n",
      "ADMM terminated after 11 iterations with status: optimal.\n",
      "ADMM terminated after 11 iterations with status: optimal.\n",
      "ADMM terminated after 11 iterations with status: optimal.\n",
      "ADMM terminated after 11 iterations with status: optimal.\n",
      "ADMM terminated after 11 iterations with status: optimal.\n",
      "ADMM terminated after 11 iterations with status: optimal.\n",
      "ADMM terminated after 10 iterations with status: optimal.\n",
      "ADMM terminated after 11 iterations with status: optimal.\n",
      "ADMM terminated after 11 iterations with status: optimal.\n",
      "ADMM terminated after 11 iterations with status: optimal.\n",
      "ADMM terminated after 11 iterations with status: optimal.\n",
      "ADMM terminated after 11 iterations with status: optimal.\n",
      "ADMM terminated after 11 iterations with status: optimal.\n",
      "ADMM terminated after 11 iterations with status: optimal.\n",
      "ADMM terminated after 11 iterations with status: optimal.\n",
      "ADMM terminated after 11 iterations with status: optimal.\n",
      "ADMM terminated after 11 iterations with status: optimal.\n",
      "ADMM terminated after 11 iterations with status: optimal.\n",
      "ADMM terminated after 11 iterations with status: optimal.\n",
      "ADMM terminated after 11 iterations with status: optimal.\n",
      "ADMM terminated after 11 iterations with status: optimal.\n",
      "ADMM terminated after 11 iterations with status: optimal.\n",
      "ADMM terminated after 11 iterations with status: optimal.\n",
      "ADMM terminated after 11 iterations with status: optimal.\n",
      "ADMM terminated after 11 iterations with status: optimal.\n",
      "ADMM terminated after 11 iterations with status: optimal.\n",
      "ADMM terminated after 11 iterations with status: optimal.\n",
      "ADMM terminated after 11 iterations with status: optimal.\n",
      "ADMM terminated after 11 iterations with status: optimal.\n",
      "ADMM terminated after 11 iterations with status: optimal.\n",
      "ADMM terminated after 11 iterations with status: optimal.\n",
      "ADMM terminated after 11 iterations with status: optimal.\n",
      "ADMM terminated after 11 iterations with status: optimal.\n",
      "ADMM terminated after 11 iterations with status: optimal.\n",
      "ADMM terminated after 11 iterations with status: optimal.\n",
      "ADMM terminated after 11 iterations with status: optimal.\n",
      "ADMM terminated after 11 iterations with status: optimal.\n",
      "ADMM terminated after 11 iterations with status: optimal.\n",
      "ADMM terminated after 11 iterations with status: optimal.\n",
      "ADMM terminated after 11 iterations with status: optimal.\n",
      "ADMM terminated after 11 iterations with status: optimal.\n",
      "ADMM terminated after 11 iterations with status: optimal.\n",
      "ADMM terminated after 11 iterations with status: optimal.\n",
      "ADMM terminated after 11 iterations with status: optimal.\n",
      "ADMM terminated after 11 iterations with status: optimal.\n",
      "ADMM terminated after 11 iterations with status: optimal.\n",
      "ADMM terminated after 11 iterations with status: optimal.\n",
      "ADMM terminated after 11 iterations with status: optimal.\n",
      "ADMM terminated after 11 iterations with status: optimal.\n",
      "ADMM terminated after 11 iterations with status: optimal.\n",
      "ADMM terminated after 11 iterations with status: optimal.\n",
      "ADMM terminated after 11 iterations with status: optimal.\n",
      "ADMM terminated after 11 iterations with status: optimal.\n",
      "ADMM terminated after 11 iterations with status: optimal.\n",
      "ADMM terminated after 11 iterations with status: optimal.\n",
      "ADMM terminated after 11 iterations with status: optimal.\n",
      "ADMM terminated after 10 iterations with status: optimal.\n",
      "ADMM terminated after 10 iterations with status: optimal.\n",
      "ADMM terminated after 10 iterations with status: optimal.\n",
      "ADMM terminated after 10 iterations with status: optimal.\n",
      "ADMM terminated after 10 iterations with status: optimal.\n",
      "ADMM terminated after 10 iterations with status: optimal.\n",
      "ADMM terminated after 10 iterations with status: optimal.\n",
      "ADMM terminated after 10 iterations with status: optimal.\n",
      "ADMM terminated after 10 iterations with status: optimal.\n",
      "ADMM terminated after 10 iterations with status: optimal.\n",
      "ADMM terminated after 10 iterations with status: optimal.\n",
      "ADMM terminated after 10 iterations with status: optimal.\n",
      "ADMM terminated after 10 iterations with status: optimal.\n",
      "ADMM terminated after 10 iterations with status: optimal.\n",
      "ADMM terminated after 10 iterations with status: optimal.\n",
      "ADMM terminated after 10 iterations with status: optimal.\n",
      "ADMM terminated after 10 iterations with status: optimal.\n",
      "ADMM terminated after 10 iterations with status: optimal.\n",
      "ADMM terminated after 10 iterations with status: optimal.\n",
      "ADMM terminated after 10 iterations with status: optimal.\n",
      "ADMM terminated after 10 iterations with status: optimal.\n",
      "ADMM terminated after 10 iterations with status: optimal.\n",
      "ADMM terminated after 10 iterations with status: optimal.\n",
      "ADMM terminated after 10 iterations with status: optimal.\n",
      "ADMM terminated after 10 iterations with status: optimal.\n",
      "ADMM terminated after 10 iterations with status: optimal.\n",
      "ADMM terminated after 10 iterations with status: optimal.\n",
      "ADMM terminated after 10 iterations with status: optimal.\n",
      "ADMM terminated after 10 iterations with status: optimal.\n",
      "ADMM terminated after 10 iterations with status: optimal.\n",
      "ADMM terminated after 10 iterations with status: optimal.\n",
      "ADMM terminated after 10 iterations with status: optimal.\n",
      "ADMM terminated after 10 iterations with status: optimal.\n",
      "ADMM terminated after 10 iterations with status: optimal.\n",
      "ADMM terminated after 10 iterations with status: optimal.\n",
      "ADMM terminated after 10 iterations with status: optimal.\n",
      "ADMM terminated after 10 iterations with status: optimal.\n",
      "ADMM terminated after 10 iterations with status: optimal.\n",
      "ADMM terminated after 10 iterations with status: optimal.\n",
      "ADMM terminated after 10 iterations with status: optimal.\n",
      "ADMM terminated after 10 iterations with status: optimal.\n",
      "ADMM terminated after 10 iterations with status: optimal.\n",
      "ADMM terminated after 10 iterations with status: optimal.\n",
      "ADMM terminated after 10 iterations with status: optimal.\n",
      "ADMM terminated after 10 iterations with status: optimal.\n",
      "ADMM terminated after 10 iterations with status: optimal.\n",
      "ADMM terminated after 10 iterations with status: optimal.\n",
      "ADMM terminated after 10 iterations with status: optimal.\n",
      "ADMM terminated after 10 iterations with status: optimal.\n",
      "ADMM terminated after 10 iterations with status: optimal.\n",
      "ADMM terminated after 9 iterations with status: optimal.\n",
      "ADMM terminated after 10 iterations with status: optimal.\n",
      "ADMM terminated after 10 iterations with status: optimal.\n",
      "ADMM terminated after 10 iterations with status: optimal.\n",
      "ADMM terminated after 10 iterations with status: optimal.\n",
      "ADMM terminated after 10 iterations with status: optimal.\n",
      "ADMM terminated after 10 iterations with status: optimal.\n",
      "ADMM terminated after 10 iterations with status: optimal.\n",
      "ADMM terminated after 10 iterations with status: optimal.\n",
      "ADMM terminated after 10 iterations with status: optimal.\n",
      "ADMM terminated after 10 iterations with status: optimal.\n",
      "ADMM terminated after 10 iterations with status: optimal.\n",
      "ADMM terminated after 10 iterations with status: optimal.\n",
      "ADMM terminated after 10 iterations with status: optimal.\n",
      "ADMM terminated after 10 iterations with status: optimal.\n",
      "ADMM terminated after 10 iterations with status: optimal.\n",
      "ADMM terminated after 10 iterations with status: optimal.\n",
      "ADMM terminated after 10 iterations with status: optimal.\n",
      "ADMM terminated after 10 iterations with status: optimal.\n",
      "ADMM terminated after 10 iterations with status: optimal.\n",
      "ADMM terminated after 10 iterations with status: optimal.\n",
      "ADMM terminated after 10 iterations with status: optimal.\n",
      "ADMM terminated after 10 iterations with status: optimal.\n",
      "ADMM terminated after 10 iterations with status: optimal.\n",
      "ADMM terminated after 10 iterations with status: optimal.\n",
      "ADMM terminated after 10 iterations with status: optimal.\n",
      "ADMM terminated after 10 iterations with status: optimal.\n",
      "ADMM terminated after 10 iterations with status: optimal.\n",
      "ADMM terminated after 10 iterations with status: optimal.\n",
      "ADMM terminated after 10 iterations with status: optimal.\n",
      "ADMM terminated after 10 iterations with status: optimal.\n",
      "ADMM terminated after 10 iterations with status: optimal.\n",
      "ADMM terminated after 10 iterations with status: optimal.\n",
      "ADMM terminated after 10 iterations with status: optimal.\n",
      "ADMM terminated after 10 iterations with status: optimal.\n",
      "ADMM terminated after 10 iterations with status: optimal.\n",
      "ADMM terminated after 10 iterations with status: optimal.\n",
      "ADMM terminated after 10 iterations with status: optimal.\n",
      "ADMM terminated after 10 iterations with status: optimal.\n",
      "ADMM terminated after 10 iterations with status: optimal.\n",
      "ADMM terminated after 10 iterations with status: optimal.\n",
      "ADMM terminated after 10 iterations with status: optimal.\n",
      "ADMM terminated after 10 iterations with status: optimal.\n",
      "ADMM terminated after 10 iterations with status: optimal.\n",
      "ADMM terminated after 10 iterations with status: optimal.\n",
      "ADMM terminated after 10 iterations with status: optimal.\n",
      "ADMM terminated after 10 iterations with status: optimal.\n",
      "ADMM terminated after 10 iterations with status: optimal.\n",
      "ADMM terminated after 10 iterations with status: optimal.\n",
      "ADMM terminated after 10 iterations with status: optimal.\n",
      "ADMM terminated after 9 iterations with status: optimal.\n",
      "ADMM terminated after 10 iterations with status: optimal.\n",
      "ADMM terminated after 10 iterations with status: optimal.\n",
      "ADMM terminated after 10 iterations with status: optimal.\n",
      "ADMM terminated after 10 iterations with status: optimal.\n",
      "ADMM terminated after 10 iterations with status: optimal.\n",
      "ADMM terminated after 10 iterations with status: optimal.\n",
      "ADMM terminated after 10 iterations with status: optimal.\n",
      "ADMM terminated after 10 iterations with status: optimal.\n",
      "ADMM terminated after 10 iterations with status: optimal.\n",
      "ADMM terminated after 10 iterations with status: optimal.\n",
      "ADMM terminated after 10 iterations with status: optimal.\n",
      "ADMM terminated after 10 iterations with status: optimal.\n",
      "ADMM terminated after 10 iterations with status: optimal.\n",
      "ADMM terminated after 10 iterations with status: optimal.\n",
      "ADMM terminated after 10 iterations with status: optimal.\n",
      "ADMM terminated after 10 iterations with status: optimal.\n",
      "ADMM terminated after 10 iterations with status: optimal.\n",
      "ADMM terminated after 10 iterations with status: optimal.\n",
      "ADMM terminated after 10 iterations with status: optimal.\n",
      "ADMM terminated after 10 iterations with status: optimal.\n",
      "ADMM terminated after 10 iterations with status: optimal.\n",
      "ADMM terminated after 10 iterations with status: optimal.\n",
      "ADMM terminated after 10 iterations with status: optimal.\n",
      "ADMM terminated after 10 iterations with status: optimal.\n",
      "ADMM terminated after 10 iterations with status: optimal.\n",
      "ADMM terminated after 10 iterations with status: optimal.\n",
      "ADMM terminated after 10 iterations with status: optimal.\n",
      "ADMM terminated after 10 iterations with status: optimal.\n",
      "ADMM terminated after 10 iterations with status: optimal.\n",
      "ADMM terminated after 10 iterations with status: optimal.\n",
      "ADMM terminated after 10 iterations with status: optimal.\n",
      "ADMM terminated after 10 iterations with status: optimal.\n",
      "ADMM terminated after 10 iterations with status: optimal.\n",
      "ADMM terminated after 10 iterations with status: optimal.\n",
      "ADMM terminated after 10 iterations with status: optimal.\n",
      "ADMM terminated after 10 iterations with status: optimal.\n",
      "ADMM terminated after 10 iterations with status: optimal.\n",
      "ADMM terminated after 10 iterations with status: optimal.\n",
      "ADMM terminated after 10 iterations with status: optimal.\n",
      "ADMM terminated after 10 iterations with status: optimal.\n",
      "ADMM terminated after 10 iterations with status: optimal.\n",
      "ADMM terminated after 10 iterations with status: optimal.\n",
      "ADMM terminated after 10 iterations with status: optimal.\n",
      "ADMM terminated after 10 iterations with status: optimal.\n",
      "ADMM terminated after 10 iterations with status: optimal.\n",
      "ADMM terminated after 10 iterations with status: optimal.\n",
      "ADMM terminated after 10 iterations with status: optimal.\n",
      "ADMM terminated after 10 iterations with status: optimal.\n",
      "ADMM terminated after 10 iterations with status: optimal.\n",
      "ADMM terminated after 9 iterations with status: optimal.\n",
      "ADMM terminated after 10 iterations with status: optimal.\n",
      "ADMM terminated after 10 iterations with status: optimal.\n",
      "ADMM terminated after 10 iterations with status: optimal.\n",
      "ADMM terminated after 10 iterations with status: optimal.\n",
      "ADMM terminated after 10 iterations with status: optimal.\n",
      "ADMM terminated after 10 iterations with status: optimal.\n",
      "ADMM terminated after 10 iterations with status: optimal.\n",
      "ADMM terminated after 10 iterations with status: optimal.\n",
      "ADMM terminated after 10 iterations with status: optimal.\n",
      "ADMM terminated after 10 iterations with status: optimal.\n",
      "ADMM terminated after 10 iterations with status: optimal.\n",
      "ADMM terminated after 10 iterations with status: optimal.\n",
      "ADMM terminated after 10 iterations with status: optimal.\n",
      "ADMM terminated after 10 iterations with status: optimal.\n",
      "ADMM terminated after 10 iterations with status: optimal.\n",
      "ADMM terminated after 10 iterations with status: optimal.\n",
      "ADMM terminated after 10 iterations with status: optimal.\n",
      "ADMM terminated after 10 iterations with status: optimal.\n",
      "ADMM terminated after 10 iterations with status: optimal.\n",
      "ADMM terminated after 10 iterations with status: optimal.\n",
      "ADMM terminated after 10 iterations with status: optimal.\n",
      "ADMM terminated after 10 iterations with status: optimal.\n",
      "ADMM terminated after 10 iterations with status: optimal.\n",
      "ADMM terminated after 10 iterations with status: optimal.\n",
      "ADMM terminated after 10 iterations with status: optimal.\n",
      "ADMM terminated after 10 iterations with status: optimal.\n",
      "ADMM terminated after 10 iterations with status: optimal.\n",
      "ADMM terminated after 10 iterations with status: optimal.\n",
      "ADMM terminated after 10 iterations with status: optimal.\n",
      "ADMM terminated after 10 iterations with status: optimal.\n",
      "ADMM terminated after 10 iterations with status: optimal.\n",
      "ADMM terminated after 10 iterations with status: optimal.\n",
      "ADMM terminated after 10 iterations with status: optimal.\n",
      "ADMM terminated after 10 iterations with status: optimal.\n",
      "ADMM terminated after 10 iterations with status: optimal.\n",
      "ADMM terminated after 10 iterations with status: optimal.\n",
      "ADMM terminated after 10 iterations with status: optimal.\n",
      "ADMM terminated after 10 iterations with status: optimal.\n",
      "ADMM terminated after 10 iterations with status: optimal.\n",
      "ADMM terminated after 10 iterations with status: optimal.\n",
      "ADMM terminated after 10 iterations with status: optimal.\n",
      "ADMM terminated after 10 iterations with status: optimal.\n",
      "ADMM terminated after 10 iterations with status: optimal.\n",
      "ADMM terminated after 10 iterations with status: optimal.\n",
      "ADMM terminated after 10 iterations with status: optimal.\n",
      "ADMM terminated after 10 iterations with status: optimal.\n",
      "ADMM terminated after 10 iterations with status: optimal.\n",
      "ADMM terminated after 10 iterations with status: optimal.\n",
      "ADMM terminated after 10 iterations with status: optimal.\n",
      "ADMM terminated after 504 iterations with status: optimal.\n",
      "ADMM terminated after 426 iterations with status: optimal.\n",
      "ADMM terminated after 469 iterations with status: optimal.\n",
      "ADMM terminated after 513 iterations with status: optimal.\n",
      "ADMM terminated after 558 iterations with status: optimal.\n",
      "ADMM terminated after 610 iterations with status: optimal.\n",
      "ADMM terminated after 842 iterations with status: optimal.\n",
      "ADMM terminated after 1000 iterations with status: primal optimal.\n",
      "ADMM terminated after 1000 iterations with status: primal optimal.\n",
      "ADMM terminated after 1000 iterations with status: primal optimal.\n",
      "ADMM terminated after 671 iterations with status: optimal.\n",
      "ADMM terminated after 677 iterations with status: optimal.\n",
      "ADMM terminated after 658 iterations with status: optimal.\n",
      "ADMM terminated after 630 iterations with status: optimal.\n",
      "ADMM terminated after 589 iterations with status: optimal.\n",
      "ADMM terminated after 587 iterations with status: optimal.\n",
      "ADMM terminated after 597 iterations with status: optimal.\n",
      "ADMM terminated after 580 iterations with status: optimal.\n",
      "ADMM terminated after 599 iterations with status: optimal.\n",
      "ADMM terminated after 594 iterations with status: optimal.\n",
      "ADMM terminated after 584 iterations with status: optimal.\n",
      "ADMM terminated after 595 iterations with status: optimal.\n",
      "ADMM terminated after 513 iterations with status: optimal.\n",
      "ADMM terminated after 497 iterations with status: optimal.\n",
      "ADMM terminated after 548 iterations with status: optimal.\n",
      "ADMM terminated after 537 iterations with status: optimal.\n",
      "ADMM terminated after 542 iterations with status: optimal.\n",
      "ADMM terminated after 529 iterations with status: optimal.\n",
      "ADMM terminated after 565 iterations with status: optimal.\n",
      "ADMM terminated after 556 iterations with status: optimal.\n",
      "ADMM terminated after 365 iterations with status: optimal.\n",
      "ADMM terminated after 342 iterations with status: optimal.\n",
      "ADMM terminated after 318 iterations with status: optimal.\n",
      "ADMM terminated after 289 iterations with status: optimal.\n",
      "ADMM terminated after 280 iterations with status: optimal.\n",
      "ADMM terminated after 245 iterations with status: optimal.\n",
      "ADMM terminated after 117 iterations with status: optimal.\n",
      "ADMM terminated after 129 iterations with status: optimal.\n",
      "ADMM terminated after 74 iterations with status: optimal.\n",
      "ADMM terminated after 105 iterations with status: optimal.\n",
      "ADMM terminated after 100 iterations with status: optimal.\n",
      "ADMM terminated after 73 iterations with status: optimal.\n",
      "ADMM terminated after 19 iterations with status: optimal.\n",
      "ADMM terminated after 18 iterations with status: optimal.\n",
      "ADMM terminated after 19 iterations with status: optimal.\n",
      "ADMM terminated after 140 iterations with status: optimal.\n",
      "ADMM terminated after 127 iterations with status: optimal.\n",
      "ADMM terminated after 54 iterations with status: optimal.\n",
      "ADMM terminated after 54 iterations with status: optimal.\n",
      "ADMM terminated after 55 iterations with status: optimal.\n"
     ]
    }
   ],
   "source": [
    "counts = load_data(\"data/merged_data.csv\")\n",
    "\n",
    "N = counts.shape[0]\n",
    "p = counts.shape[1] - n_cov\n",
    "p_meta = counts.shape[1]\n",
    "print(\"Shape of data without covariates: {0}, {1}\".format(N, p))\n",
    "print(\"Shape of data with covariates: {0}, {1}\".format(N, p_meta))\n",
    "\n",
    "lambda1_range = np.logspace(0, -3, 50)\n",
    "# mu1_range = np.logspace(-0.2, -0.5, 10)\n",
    "mu1_range = np.logspace(-0.1, -0.3, 50)\n",
    "gamma = 0.01\n",
    "\n",
    "modelselect_params = {'lambda1_range': lambda1_range, 'mu1_range': mu1_range}\n",
    "\n",
    "P_SGL = glasso_problem(vis_S.values, N, latent=False, do_scaling=False)\n",
    "P_SGL.model_selection(modelselect_params=modelselect_params, method='eBIC', gamma=gamma)\n",
    "\n",
    "P_SGL_low = glasso_problem(vis_S.values, N, latent=True, do_scaling=False)\n",
    "P_SGL_low.model_selection(modelselect_params=modelselect_params, method='eBIC', gamma=gamma)\n",
    "\n",
    "lambda_mask = create_lambda_mask(counts, p, p_meta)\n",
    "modelselect_params[\"lambda1_mask\"] = lambda_mask\n",
    "\n",
    "P_SGL_adapt = glasso_problem(vis_S_meta.values, N, latent=False, do_scaling=False)\n",
    "P_SGL_adapt.model_selection(modelselect_params=modelselect_params, method='eBIC', gamma=gamma)"
   ]
  },
  {
   "cell_type": "code",
   "execution_count": 12,
   "id": "a9f5e008-a8eb-48d2-b584-8fb34fb8a12a",
   "metadata": {},
   "outputs": [
    {
     "name": "stdout",
     "output_type": "stream",
     "text": [
      "SGL solution with lambda=0.42919342601287785 and mu=0\n",
      "Adaptive SGL+low-rank solution with lambda=0.28117686979742307 and mu=0\n",
      "SGL+low-rank solution with lambda=0.37275937203149406 and mu=0.5557736586486878\n"
     ]
    }
   ],
   "source": [
    "print(\"SGL solution with lambda={lambda1} and mu={mu1}\".format(**P_SGL.reg_params))\n",
    "print(\"Adaptive SGL+low-rank solution with lambda={lambda1} and mu={mu1}\".format(**P_SGL_adapt.reg_params))\n",
    "print(\"SGL+low-rank solution with lambda={lambda1} and mu={mu1}\".format(**P_SGL_low.reg_params))"
   ]
  },
  {
   "cell_type": "code",
   "execution_count": 13,
   "id": "1866a138-f42f-4253-8ce9-f3229fbd24df",
   "metadata": {},
   "outputs": [
    {
     "data": {
      "text/plain": [
       "array([0.63095734, 0.62799933, 0.62505519, 0.62212485, 0.61920825,\n",
       "       0.61630532, 0.613416  , 0.61054023, 0.60767794, 0.60482907,\n",
       "       0.60199355, 0.59917132, 0.59636233, 0.59356651, 0.59078379,\n",
       "       0.58801412, 0.58525743, 0.58251367, 0.57978277, 0.57706467,\n",
       "       0.57435932, 0.57166665, 0.5689866 , 0.56631912, 0.56366414,\n",
       "       0.56102161, 0.55839147, 0.55577366, 0.55316812, 0.5505748 ,\n",
       "       0.54799363, 0.54542456, 0.54286754, 0.54032251, 0.53778941,\n",
       "       0.53526818, 0.53275878, 0.53026113, 0.5277752 , 0.52530092,\n",
       "       0.52283824, 0.52038711, 0.51794747, 0.51551926, 0.51310244,\n",
       "       0.51069695, 0.50830274, 0.50591975, 0.50354793, 0.50118723])"
      ]
     },
     "execution_count": 13,
     "metadata": {},
     "output_type": "execute_result"
    }
   ],
   "source": [
    "mu1_range = np.logspace(-0.2, -0.3, 50)\n",
    "mu1_range"
   ]
  },
  {
   "cell_type": "code",
   "execution_count": 14,
   "id": "81969282-d89c-4b65-862e-daf22774cac1",
   "metadata": {},
   "outputs": [
    {
     "data": {
      "text/plain": [
       "array([1.        , 0.86851137, 0.75431201, 0.65512856, 0.5689866 ,\n",
       "       0.49417134, 0.42919343, 0.37275937, 0.32374575, 0.28117687,\n",
       "       0.24420531, 0.21209509, 0.184207  , 0.15998587, 0.13894955,\n",
       "       0.12067926, 0.10481131, 0.09102982, 0.07906043, 0.06866488,\n",
       "       0.05963623, 0.05179475, 0.04498433, 0.0390694 , 0.03393222,\n",
       "       0.02947052, 0.02559548, 0.02222996, 0.01930698, 0.01676833,\n",
       "       0.01456348, 0.01264855, 0.01098541, 0.00954095, 0.00828643,\n",
       "       0.00719686, 0.00625055, 0.00542868, 0.00471487, 0.00409492,\n",
       "       0.00355648, 0.00308884, 0.0026827 , 0.00232995, 0.00202359,\n",
       "       0.00175751, 0.00152642, 0.00132571, 0.0011514 , 0.001     ])"
      ]
     },
     "execution_count": 14,
     "metadata": {},
     "output_type": "execute_result"
    }
   ],
   "source": [
    "lambda1_range"
   ]
  },
  {
   "cell_type": "code",
   "execution_count": 15,
   "id": "b5ad54d5-6da3-47ad-9540-f9de65a3c25e",
   "metadata": {
    "tags": []
   },
   "outputs": [
    {
     "data": {
      "text/plain": [
       "{'lambda1': 0.37275937203149406, 'mu1': 0.5557736586486878}"
      ]
     },
     "execution_count": 15,
     "metadata": {},
     "output_type": "execute_result"
    }
   ],
   "source": [
    "P_SGL_low.modelselect_stats[\"BEST\"]"
   ]
  },
  {
   "cell_type": "code",
   "execution_count": 16,
   "id": "291b4bf7-f0a7-48a5-b914-3568d45c6c8e",
   "metadata": {
    "tags": []
   },
   "outputs": [
    {
     "data": {
      "text/plain": [
       "2"
      ]
     },
     "execution_count": 16,
     "metadata": {},
     "output_type": "execute_result"
    }
   ],
   "source": [
    "tmp = P_SGL_low.solution.lowrank_\n",
    "\n",
    "np.linalg.matrix_rank(tmp)"
   ]
  },
  {
   "cell_type": "code",
   "execution_count": 17,
   "id": "f155cffb-1ff7-459e-b68f-d5517ea65492",
   "metadata": {
    "collapsed": true,
    "jupyter": {
     "outputs_hidden": true
    },
    "tags": []
   },
   "outputs": [
    {
     "data": {
      "text/plain": [
       "{0.1: array([[657.42215312, 656.90565939, 656.40155106, ..., 694.14842717,\n",
       "         693.323855  , 692.51572481],\n",
       "        [657.42215888, 656.90565939, 656.40155106, ..., 694.14842717,\n",
       "         693.323855  , 692.51572481],\n",
       "        [657.42215888, 656.90565939, 656.40155106, ..., 694.14842717,\n",
       "         693.323855  , 692.51572481],\n",
       "        ...,\n",
       "        [849.66113532, 849.6611242 , 849.66112414, ..., 849.66112414,\n",
       "         849.66112414, 849.66112414],\n",
       "        [849.64349996, 849.64351088, 849.64351087, ..., 849.64351087,\n",
       "         849.64351087, 849.64351087],\n",
       "        [849.63006611, 849.63009236, 849.63009238, ..., 849.63009238,\n",
       "         849.63009238, 849.63009238]]),\n",
       " 0.5: array([[ 657.42215312,  656.90565939,  656.40155106, ...,  694.14842717,\n",
       "          693.323855  ,  692.51572481],\n",
       "        [ 657.42215888,  656.90565939,  656.40155106, ...,  694.14842717,\n",
       "          693.323855  ,  692.51572481],\n",
       "        [ 657.42215888,  656.90565939,  656.40155106, ...,  694.14842717,\n",
       "          693.323855  ,  692.51572481],\n",
       "        ...,\n",
       "        [1169.76681513, 1169.76680401, 1169.76680395, ..., 1169.76680395,\n",
       "         1169.76680395, 1169.76680395],\n",
       "        [1169.74917977, 1169.7491907 , 1169.74919068, ..., 1169.74919068,\n",
       "         1169.74919068, 1169.74919068],\n",
       "        [1169.73574592, 1169.73577217, 1169.73577219, ..., 1169.73577219,\n",
       "         1169.73577219, 1169.73577219]]),\n",
       " 0.3: array([[ 657.42215312,  656.90565939,  656.40155106, ...,  694.14842717,\n",
       "          693.323855  ,  692.51572481],\n",
       "        [ 657.42215888,  656.90565939,  656.40155106, ...,  694.14842717,\n",
       "          693.323855  ,  692.51572481],\n",
       "        [ 657.42215888,  656.90565939,  656.40155106, ...,  694.14842717,\n",
       "          693.323855  ,  692.51572481],\n",
       "        ...,\n",
       "        [1009.71397522, 1009.71396411, 1009.71396405, ..., 1009.71396405,\n",
       "         1009.71396405, 1009.71396405],\n",
       "        [1009.69633986, 1009.69635079, 1009.69635078, ..., 1009.69635078,\n",
       "         1009.69635078, 1009.69635078],\n",
       "        [1009.68290601, 1009.68293226, 1009.68293228, ..., 1009.68293228,\n",
       "         1009.68293228, 1009.68293228]]),\n",
       " 0.7: array([[ 657.42215312,  656.90565939,  656.40155106, ...,  694.14842717,\n",
       "          693.323855  ,  692.51572481],\n",
       "        [ 657.42215888,  656.90565939,  656.40155106, ...,  694.14842717,\n",
       "          693.323855  ,  692.51572481],\n",
       "        [ 657.42215888,  656.90565939,  656.40155106, ...,  694.14842717,\n",
       "          693.323855  ,  692.51572481],\n",
       "        ...,\n",
       "        [1329.81965503, 1329.81964392, 1329.81964386, ..., 1329.81964386,\n",
       "         1329.81964386, 1329.81964386],\n",
       "        [1329.80201967, 1329.8020306 , 1329.80203059, ..., 1329.80203059,\n",
       "         1329.80203059, 1329.80203059],\n",
       "        [1329.78858583, 1329.78861207, 1329.78861209, ..., 1329.78861209,\n",
       "         1329.78861209, 1329.78861209]]),\n",
       " 0.01: array([[657.42215312, 656.90565939, 656.40155106, ..., 694.14842717,\n",
       "         693.323855  , 692.51572481],\n",
       "        [657.42215888, 656.90565939, 656.40155106, ..., 694.14842717,\n",
       "         693.323855  , 692.51572481],\n",
       "        [657.42215888, 656.90565939, 656.40155106, ..., 694.14842717,\n",
       "         693.323855  , 692.51572481],\n",
       "        ...,\n",
       "        [777.63735736, 777.63734624, 777.63734619, ..., 777.63734619,\n",
       "         777.63734619, 777.63734619],\n",
       "        [777.619722  , 777.61973293, 777.61973291, ..., 777.61973291,\n",
       "         777.61973291, 777.61973291],\n",
       "        [777.60628815, 777.6063144 , 777.60631442, ..., 777.60631442,\n",
       "         777.60631442, 777.60631442]])}"
      ]
     },
     "execution_count": 17,
     "metadata": {},
     "output_type": "execute_result"
    }
   ],
   "source": [
    "P_SGL_low.modelselect_stats[\"BIC\"]"
   ]
  },
  {
   "cell_type": "code",
   "execution_count": 18,
   "id": "67f0e26c-7cfa-4b4d-b7d7-0579042293d3",
   "metadata": {},
   "outputs": [],
   "source": [
    "width = 1500\n",
    "height = 1500\n",
    "label_size = \"16pt\"\n",
    "asv_names = vis_S.columns\n",
    "meta_names = vis_S_meta.columns\n",
    "\n",
    "\n",
    "# for visualization reasons we transform inverse covaraince to negative inverse covaraince, i.e., multiply by -1\n",
    "sgl = -3.5 * pd.DataFrame(P_SGL.solution.precision_, columns=asv_names, index=asv_names) # we scale the color by 3.5 for the example\n",
    "adapt = -1 * pd.DataFrame(P_SGL_adapt.solution.precision_, columns=meta_names, index=meta_names)\n",
    "low = -1 * pd.DataFrame(P_SGL_low.solution.precision_, columns=asv_names, index=asv_names)\n",
    "lrp = -1 * pd.DataFrame(P_SGL_low.solution.lowrank_, columns=asv_names, index=asv_names)\n",
    "\n",
    "\n",
    "p_sgl = plot_ordered_heatmap(sgl, order=clust_order, \n",
    "                     title=\"SGL estimated (negative) inverse covariance\")\n",
    "p_adapt = plot_ordered_heatmap(adapt, order=clust_order, n_covariates=n_cov, \n",
    "                     title=\"Adaptive estimated (negative) inverse covariance\")\n",
    "p_low = plot_ordered_heatmap(low, order=clust_order, \n",
    "                     title=\"SGL+low-rank estimated (negative) inverse covariance\")\n",
    "\n",
    "p_lrp = plot_ordered_heatmap(5*lrp, order=clust_order, title=\"Low-rank\")\n",
    "\n",
    "show(p_sgl)\n",
    "show(p_adapt)\n",
    "show(p_low)\n",
    "show(p_lrp)\n",
    "\n",
    "# a= lrp.iloc[:, 4].values\n",
    "\n",
    "# # matrix = np.outer(a, -1*a)\n",
    "# print(matrix)"
   ]
  },
  {
   "cell_type": "code",
   "execution_count": 19,
   "id": "202bcca7-f684-4d82-94aa-37f4e8a21756",
   "metadata": {},
   "outputs": [],
   "source": [
    "# # Define the labels dictionary\n",
    "# toy_labels = {'ASV2': 'A', 'ASV7': 'B', 'ASV8': 'C', 'ASV11': 'D'}\n",
    "\n",
    "# # Perform renaming for each DataFrame\n",
    "# dfs = [sgl, adapt, low, lrp, vis_S]\n",
    "\n",
    "# for df in dfs:\n",
    "#     # Rename the index labels\n",
    "#     df.rename(index=toy_labels, inplace=True)\n",
    "    \n",
    "#     # Rename the column labels\n",
    "#     df.rename(columns=toy_labels, inplace=True)"
   ]
  },
  {
   "cell_type": "code",
   "execution_count": 20,
   "id": "6d60f5fc-335b-449e-92dc-19f307f61873",
   "metadata": {
    "tags": []
   },
   "outputs": [],
   "source": [
    "vis_S_clust = hierarchical_clustering(vis_S, clust_order)"
   ]
  },
  {
   "cell_type": "code",
   "execution_count": 21,
   "id": "03f8b5da-a2bd-45b5-966f-5e05b61b1605",
   "metadata": {},
   "outputs": [],
   "source": [
    "### for 0.9\n",
    "# test = ['g__Nitriliruptoraceae', \"ASV7\", 'g__wb1-P19']\n",
    "#test = [\"ASV8\", \"ASV16\", 'g__Nitriliruptoraceae', \"ASV20\", \"ASV7\", \"ASV12\", 'g__wb1-P19', 'g__Nitrosococcus']\n",
    "# test = [\"ASV16\", 'g__Nitriliruptoraceae', \"ASV8\", \"ASV23\", \"ASV12\", 'g__wb1-P19']\n",
    "# test = [ \"A\", \"B\", \"C\", \"D\"]\n",
    "test = [ \"ASV-6\", \"ASV-11\", \"ASV-1\", \"ASV-5\"]\n",
    "#test = ['g__Nitriliruptoraceae', 'g__Gaiella', 'g__Rokubacteriales', 'g__Candidatus_Nitrososphaera', 'g__wb1-P19', 'g__Nitrosococcus']\n",
    "# asv_meta = list(meta_names[-n_cov:]) + test\n",
    "asv_meta = ['average-soil-temperature', 'average-soil-relative-humidity', 'elevation', 'ph'] + test\n",
    "\n",
    "sgl_edges = sgl[sgl.columns.intersection(asv_meta)].loc[test]\n",
    "adapt_edges = adapt[adapt.columns.intersection(asv_meta)].loc[asv_meta]\n",
    "low_edges = low[low.columns.intersection(asv_meta)].loc[test]\n",
    "org_edges = vis_S_clust[vis_S_clust.columns.intersection(asv_meta)].loc[test]\n",
    "\n",
    "G_SGL = create_graph(sgl_edges, threshold=0.0)\n",
    "G_adapt = create_graph(adapt_edges, threshold=0.0)\n",
    "G_low = create_graph(low_edges, threshold=0.0)\n",
    "G_org = create_graph(org_edges, threshold=0.0)"
   ]
  },
  {
   "cell_type": "code",
   "execution_count": 22,
   "id": "a4da447d-cfc8-4c04-a1d3-9b1f17250bec",
   "metadata": {},
   "outputs": [
    {
     "name": "stdout",
     "output_type": "stream",
     "text": [
      "plots/network.html\n"
     ]
    },
    {
     "data": {
      "text/html": [
       "\n",
       "        <iframe\n",
       "            width=\"800px\"\n",
       "            height=\"500px\"\n",
       "            src=\"plots/network.html\"\n",
       "            frameborder=\"0\"\n",
       "            allowfullscreen\n",
       "            \n",
       "        ></iframe>\n",
       "        "
      ],
      "text/plain": [
       "<IPython.lib.display.IFrame at 0x7fc97bed9d30>"
      ]
     },
     "execution_count": 22,
     "metadata": {},
     "output_type": "execute_result"
    }
   ],
   "source": [
    "test = create_network_visualization(G_org, height=500, width=800, show_labels=False, size_degree=True, scale_edge=20, scale_node=17)\n",
    "test.show('plots/network.html')"
   ]
  },
  {
   "cell_type": "code",
   "execution_count": 23,
   "id": "eda5d01a-3518-4255-814a-8ee25b733f3c",
   "metadata": {},
   "outputs": [
    {
     "name": "stdout",
     "output_type": "stream",
     "text": [
      "plots/network.html\n"
     ]
    },
    {
     "data": {
      "text/html": [
       "\n",
       "        <iframe\n",
       "            width=\"800px\"\n",
       "            height=\"500px\"\n",
       "            src=\"plots/network.html\"\n",
       "            frameborder=\"0\"\n",
       "            allowfullscreen\n",
       "            \n",
       "        ></iframe>\n",
       "        "
      ],
      "text/plain": [
       "<IPython.lib.display.IFrame at 0x7fc97beccc10>"
      ]
     },
     "execution_count": 23,
     "metadata": {},
     "output_type": "execute_result"
    }
   ],
   "source": [
    "test = create_network_visualization(G_SGL, height=500, width=800, show_labels=False, size_degree=True, scale_edge=20, scale_node=17)\n",
    "test.show('plots/network.html')"
   ]
  },
  {
   "cell_type": "code",
   "execution_count": 24,
   "id": "f74bd784-42e5-4f45-85be-8d12bba707b8",
   "metadata": {},
   "outputs": [
    {
     "name": "stdout",
     "output_type": "stream",
     "text": [
      "plots/network.html\n"
     ]
    },
    {
     "data": {
      "text/html": [
       "\n",
       "        <iframe\n",
       "            width=\"800px\"\n",
       "            height=\"500px\"\n",
       "            src=\"plots/network.html\"\n",
       "            frameborder=\"0\"\n",
       "            allowfullscreen\n",
       "            \n",
       "        ></iframe>\n",
       "        "
      ],
      "text/plain": [
       "<IPython.lib.display.IFrame at 0x7fc97cc84550>"
      ]
     },
     "execution_count": 24,
     "metadata": {},
     "output_type": "execute_result"
    }
   ],
   "source": [
    "# G_low.add_node(\"A\")\n",
    "# G_low.add_node(\"B\")\n",
    "\n",
    "test = create_network_visualization(G_low, height=500, width=800, show_labels=False, size_degree=True, scale_edge=50, scale_node=17)\n",
    "test.show('plots/network.html')"
   ]
  },
  {
   "cell_type": "code",
   "execution_count": 25,
   "id": "691d4410-4b5d-4b96-b8dd-9f5cc3c14f42",
   "metadata": {},
   "outputs": [
    {
     "name": "stdout",
     "output_type": "stream",
     "text": [
      "plots/network.html\n"
     ]
    },
    {
     "data": {
      "text/html": [
       "\n",
       "        <iframe\n",
       "            width=\"800px\"\n",
       "            height=\"500px\"\n",
       "            src=\"plots/network.html\"\n",
       "            frameborder=\"0\"\n",
       "            allowfullscreen\n",
       "            \n",
       "        ></iframe>\n",
       "        "
      ],
      "text/plain": [
       "<IPython.lib.display.IFrame at 0x7fc97e08aa30>"
      ]
     },
     "execution_count": 25,
     "metadata": {},
     "output_type": "execute_result"
    }
   ],
   "source": [
    "test = create_network_visualization(G_adapt, height=500, width=800, show_labels=False, size_degree=True, scale_edge=2, scale_node=7)\n",
    "test.show('plots/network.html')"
   ]
  },
  {
   "cell_type": "code",
   "execution_count": 26,
   "id": "943041ed-853f-4087-8836-755f75d20c49",
   "metadata": {
    "jupyter": {
     "source_hidden": true
    },
    "tags": []
   },
   "outputs": [],
   "source": [
    "def project_covariates(transformed_counts=pd.DataFrame(), raw_counts = pd.DataFrame(), metadata=pd.DataFrame(), L=np.ndarray, y=str, PC=0):\n",
    "    \"\"\"\n",
    "    Perform covariate projection and create a scatter plot using PCA results.\n",
    "\n",
    "    Parameters:\n",
    "        transformed_counts (pandas.DataFrame, optional): Transformed count data. Default is an empty DataFrame.\n",
    "        raw_counts (pandas.DataFrame, optional): Raw count data. Default is an empty DataFrame.\n",
    "        metadata (pandas.DataFrame, optional): Metadata associated with the samples. Default is an empty DataFrame.\n",
    "        L (numpy.ndarray): Eigenvalues matrix.\n",
    "        y (str): Name of the variable to plot on the y-axis.\n",
    "        PC (int): Index of the principal component to plot on the x-axis. Default is 0.\n",
    "\n",
    "    Returns:\n",
    "        bokeh.layouts.row: A row layout containing the scatter plot and color bar.\n",
    "\n",
    "    \"\"\"\n",
    "    r = np.linalg.matrix_rank(L)\n",
    "    proj, loadings, eigv = PCA(transformed_counts, L, inverse=True)\n",
    "\n",
    "    eigv_sum = np.sum(eigv)\n",
    "    var_exp = [(value / eigv_sum) for value in sorted(eigv, reverse=True)]\n",
    "\n",
    "    counts_sum = raw_counts.sum(axis=0)\n",
    "    depth = pd.DataFrame(data=counts_sum, columns=[\"sequencing depth\"])\n",
    "    metadata = depth.join(metadata)\n",
    "\n",
    "    pc_columns = list('PC{0} ({1}%)'.format(i+1, str(100 * var_exp[i])[:4]) for i in range(0, r))\n",
    "    df_proj = pd.DataFrame(proj, columns=pc_columns, index=Z_mclr.index)\n",
    "    df = df_proj.join(metadata)\n",
    "    \n",
    "    varName1 = 'PC{0} ({1}%)'.format(PC+1, str(100 * var_exp[PC])[:4])\n",
    "    varName2 = y\n",
    "    # varName2 = 'PC{0} ({1}%)'.format(PC+2, str(100 * var_exp[1])[:4])\n",
    "    df['x'] = df[varName1]\n",
    "    df['y'] = df[varName2]\n",
    "\n",
    "    source = ColumnDataSource(df)\n",
    "\n",
    "    p0 = figure(tools='save, zoom_in, zoom_out, wheel_zoom, box_zoom, reset', plot_width=800, plot_height=800,\n",
    "                active_scroll=\"wheel_zoom\",\n",
    "                x_axis_label=varName1, y_axis_label=varName2,\n",
    "                tooltips=[(varName1, \"@\" + varName1),\n",
    "                          (varName2, \"@\" + varName2)\n",
    "                          ],\n",
    "                title=varName1 + \" vs \" + varName2)\n",
    "    \n",
    "    \n",
    "    \n",
    "    rdbu = plt.get_cmap('RdPu_r')\n",
    "    cmap = ListedColormap(rdbu(np.arange(256)))\n",
    "    # Create a list of hex color codes from the colormap\n",
    "    colors = [cmap(i)[:3] for i in range(256)]\n",
    "    colors = ['#' + ''.join([format(int(c * 255), '02x') for c in color]) for color in colors]\n",
    "    colors = colors[::-1]  # red - positive, blue - negative\n",
    "    exp_cmap = LinearColorMapper(palette=colors, low=depth.values.min(), high=depth.values.max())\n",
    "    \n",
    "    #exp_cmap = LinearColorMapper(palette=Blues8[::-1], low=min(df['sequencing depth'].values), high=max(df['sequencing depth'].values))\n",
    "    p0.circle('x', 'y', source=source, size=15, line_color=None, fill_color={\"field\": \"sequencing depth\", \"transform\": exp_cmap}, fill_alpha=0.3)\n",
    "\n",
    "    color_bar_plot = figure(title='sequencing depth', title_location=\"right\",\n",
    "                            height=500, width=150, toolbar_location=None, min_border=0,\n",
    "                            outline_line_color=None)\n",
    "\n",
    "    bar = ColorBar(color_mapper=exp_cmap, location=(1, 1))\n",
    "    #bar = ColorBar(color_mapper=exp_cmap, location=(1, 1))\n",
    "\n",
    "    color_bar_plot.add_layout(bar, 'right')\n",
    "    color_bar_plot.title.align = \"center\"\n",
    "    color_bar_plot.title.text_font_size = '12pt'\n",
    "\n",
    "    layout = row(p0, color_bar_plot)\n",
    "\n",
    "    return layout"
   ]
  },
  {
   "cell_type": "code",
   "execution_count": 27,
   "id": "f52a94d5-5101-4560-93ee-ebc3ce5a0e74",
   "metadata": {
    "tags": []
   },
   "outputs": [
    {
     "name": "stdout",
     "output_type": "stream",
     "text": [
      "Low rank: 2\n",
      "Variance explained by PCs: [0.673773987206823, 0.326226012793177]\n"
     ]
    }
   ],
   "source": [
    "L = P_SGL_low.solution.lowrank_\n",
    "Z_mclr = counts.iloc[:, :-n_cov]\n",
    "r = np.linalg.matrix_rank(L)\n",
    "print(\"Low rank:\", r)\n",
    "proj, loadings, eigv = PCA(Z_mclr, L, inverse=True)\n",
    "\n",
    "eigv_sum = np.sum(eigv)\n",
    "var_exp = [(value / eigv_sum) for value in sorted(eigv, reverse=True)]\n",
    "print(\"Variance explained by PCs:\", var_exp)"
   ]
  },
  {
   "cell_type": "code",
   "execution_count": 28,
   "id": "1844fd5f-d12d-43f8-9f8f-1111f5e7a1ea",
   "metadata": {},
   "outputs": [
    {
     "name": "stderr",
     "output_type": "stream",
     "text": [
      "WARNING:bokeh.core.validation.check:W-1000 (MISSING_RENDERERS): Plot has no renderers: Figure(id='1995', ...)\n"
     ]
    }
   ],
   "source": [
    "pca_plot = project_covariates(transformed_counts=Z_mclr, raw_counts=filtered_counts, metadata=unscaled_covariates, L=L, y='average-soil-temperature')\n",
    "show(pca_plot)"
   ]
  },
  {
   "cell_type": "code",
   "execution_count": 29,
   "id": "f38f6676-5e4e-414c-825e-6502ff84ee6d",
   "metadata": {
    "tags": []
   },
   "outputs": [],
   "source": [
    "adapt_pc3 = concatenate_PC(solution=adapt, pc_components=-1 * loadings[:, :2], number_pc=2, index=asv_names, clust_order=clust_order)\n",
    "\n",
    "sorted_lables_pc3, sorted_re_labels_pc3 = create_label_dict(adapt_pc3)\n",
    "\n",
    "\n",
    "p_adapt_pc3 = _make_heatmap(data=adapt_pc3, labels_dict=sorted_lables_pc3, labels_dict_reversed=sorted_re_labels_pc3,\n",
    "                       title=\"Clustered Adaptive solution with attached principal components\", width=width, height=height,\n",
    "                       label_size=label_size)\n",
    "\n",
    "show(p_adapt_pc3)"
   ]
  },
  {
   "cell_type": "code",
   "execution_count": 30,
   "id": "c545ad11-5b2b-417f-8241-866966615c3d",
   "metadata": {},
   "outputs": [],
   "source": [
    "pc_1 = pd.Series(proj[:, 0], index=Z_mclr.index, name='PC1')\n",
    "\n",
    "org_temp = unscaled_covariates.loc[counts['average-soil-temperature'].index, 'average-soil-temperature']\n",
    "org_elevation = unscaled_covariates.loc[counts['elevation'].index, 'elevation']\n",
    "\n",
    "show(scatter_plot(pc_1, org_temp))\n",
    "show(scatter_plot(pc_1, org_elevation, color='#FA4665'))"
   ]
  },
  {
   "cell_type": "code",
   "execution_count": 31,
   "id": "a075ab1b-810f-4747-b450-33a02f2bbc56",
   "metadata": {},
   "outputs": [],
   "source": [
    "show(scatter_plot(pc_1, counts['ASV-8']))\n",
    "show(scatter_plot(pc_1, counts['ASV-11']))\n",
    "show(scatter_plot(counts['ASV-8'], counts['ASV-11']))"
   ]
  },
  {
   "cell_type": "code",
   "execution_count": 32,
   "id": "351be874-aa59-4b9e-830c-c6eafbdc4fa4",
   "metadata": {},
   "outputs": [],
   "source": [
    "show(scatter_plot(counts['ASV-8'], counts['average-soil-temperature']))\n",
    "show(scatter_plot(counts['ASV-8'], counts['elevation']))"
   ]
  },
  {
   "cell_type": "code",
   "execution_count": 33,
   "id": "0f6e630f-0ef5-462a-b7f9-58ee40c9777d",
   "metadata": {},
   "outputs": [],
   "source": [
    "show(scatter_plot(counts['ASV-11'], counts['average-soil-temperature']))\n",
    "show(scatter_plot(counts['ASV-11'], counts['elevation']))"
   ]
  },
  {
   "cell_type": "code",
   "execution_count": 34,
   "id": "5a90124c-0bd8-42d7-bab9-f01c0be0b1fd",
   "metadata": {},
   "outputs": [
    {
     "data": {
      "text/plain": [
       "array([[1.       , 0.6077952],\n",
       "       [0.6077952, 1.       ]])"
      ]
     },
     "execution_count": 34,
     "metadata": {},
     "output_type": "execute_result"
    }
   ],
   "source": [
    "np.corrcoef(pc_1, org_temp)"
   ]
  },
  {
   "cell_type": "code",
   "execution_count": 35,
   "id": "03794600-efb2-4c09-9b58-fcd77ee275c9",
   "metadata": {
    "tags": []
   },
   "outputs": [
    {
     "data": {
      "text/plain": [
       "(0.6077952010181156, 2.853470016412652e-06)"
      ]
     },
     "execution_count": 35,
     "metadata": {},
     "output_type": "execute_result"
    }
   ],
   "source": [
    "pearsonr(pc_1, org_temp)"
   ]
  },
  {
   "cell_type": "code",
   "execution_count": 36,
   "id": "8b3d9adb-511e-474f-a038-ffa5ae4198b4",
   "metadata": {},
   "outputs": [
    {
     "data": {
      "text/plain": [
       "(-0.6647679353295552, 1.4021541014289615e-07)"
      ]
     },
     "execution_count": 36,
     "metadata": {},
     "output_type": "execute_result"
    }
   ],
   "source": [
    "pearsonr(pc_1, org_elevation)"
   ]
  },
  {
   "cell_type": "markdown",
   "id": "38fac6ee-e08b-4817-a9be-21256820923d",
   "metadata": {},
   "source": [
    "# q2-classo"
   ]
  },
  {
   "cell_type": "code",
   "execution_count": 44,
   "id": "618584da-dc3c-4db0-9b46-e058cc9ad5a6",
   "metadata": {
    "collapsed": true,
    "jupyter": {
     "outputs_hidden": true
    }
   },
   "outputs": [
    {
     "ename": "NameError",
     "evalue": "name 'load_data' is not defined",
     "output_type": "error",
     "traceback": [
      "\u001b[0;31m---------------------------------------------------------------------------\u001b[0m",
      "\u001b[0;31mNameError\u001b[0m                                 Traceback (most recent call last)",
      "Cell \u001b[0;32mIn[44], line 1\u001b[0m\n\u001b[0;32m----> 1\u001b[0m counts \u001b[38;5;241m=\u001b[39m \u001b[43mload_data\u001b[49m(\u001b[38;5;124m\"\u001b[39m\u001b[38;5;124mdata/org_named_counts.csv\u001b[39m\u001b[38;5;124m\"\u001b[39m)\n\u001b[1;32m      2\u001b[0m counts[\u001b[38;5;124m'\u001b[39m\u001b[38;5;124mFeature ID\u001b[39m\u001b[38;5;124m'\u001b[39m] \u001b[38;5;241m=\u001b[39m counts\u001b[38;5;241m.\u001b[39mindex\n\u001b[1;32m      3\u001b[0m counts \u001b[38;5;241m=\u001b[39m rename_index_with_sum(counts)\n",
      "\u001b[0;31mNameError\u001b[0m: name 'load_data' is not defined"
     ]
    }
   ],
   "source": [
    "counts = load_data(\"data/org_named_counts.csv\")\n",
    "counts['Feature ID'] = counts.index\n",
    "counts = rename_index_with_sum(counts)\n",
    "names = pd.DataFrame(\"s__\" + counts['Feature ID'].index, columns=['name'], index=counts['Feature ID'])\n",
    "\n",
    "taxonomy = pd.read_csv(\"data/taxonomy.tsv\", sep= '\\t')\n",
    "selected_rows = taxonomy[taxonomy['Feature ID'].isin(counts['Feature ID'])]\n",
    "\n",
    "ranks = ['domain', 'phylum', 'class', 'order', 'family', 'genus', 'species']\n",
    "taxon = selected_rows['Taxon'].str.split(';', expand=True)\n",
    "taxon.columns = ranks\n",
    "taxon.index = selected_rows['Feature ID']\n",
    "taxon['order'].fillna('o__', inplace=True)\n",
    "taxon['family'].fillna('f__', inplace=True)\n",
    "taxon['genus'].fillna('g__', inplace=True)\n",
    "taxon['species'].fillna('s__', inplace=True)\n",
    "\n",
    "taxon\n",
    "\n",
    "taxon = taxon.assign(**names)\n",
    "taxon = taxon.drop(columns=['species'])\n",
    "\n",
    "taxon['Taxon'] = taxon.apply(lambda row: ';'.join(str(val) for val in row if val is not None), axis=1)\n",
    "# taxon = taxon.drop(columns=[0,1,2,3,4,5, 'name'])\n",
    "taxon['Confidence'] = selected_rows['Confidence'].values\n",
    "taxon[['Taxon','Confidence']].to_csv(\"data/edited_taxonomy.tsv\", sep='\\t', index=True)"
   ]
  },
  {
   "cell_type": "code",
   "execution_count": 39,
   "id": "c0274c65-6d12-4ce2-b1a3-8524bbe382e7",
   "metadata": {
    "collapsed": true,
    "jupyter": {
     "outputs_hidden": true
    },
    "tags": []
   },
   "outputs": [
    {
     "name": "stdout",
     "output_type": "stream",
     "text": [
      "Collecting biom-format\n",
      "  Downloading biom_format-2.1.15-cp39-cp39-macosx_10_9_x86_64.whl (11.7 MB)\n",
      "\u001b[2K     \u001b[90m━━━━━━━━━━━━━━━━━━━━━━━━━━━━━━━━━━━━━━━━\u001b[0m \u001b[32m11.7/11.7 MB\u001b[0m \u001b[31m4.4 MB/s\u001b[0m eta \u001b[36m0:00:00\u001b[0m00:01\u001b[0m00:01\u001b[0m\n",
      "\u001b[?25hRequirement already satisfied: click in /Users/oleg.vlasovetc/a-tutorial/lib/python3.9/site-packages (from biom-format) (8.1.3)\n",
      "Requirement already satisfied: numpy>=1.9.2 in /Users/oleg.vlasovetc/a-tutorial/lib/python3.9/site-packages (from biom-format) (1.23.3)\n",
      "Requirement already satisfied: scipy>=1.3.1 in /Users/oleg.vlasovetc/a-tutorial/lib/python3.9/site-packages (from biom-format) (1.10.1)\n",
      "Requirement already satisfied: pandas>=0.20.0 in /Users/oleg.vlasovetc/a-tutorial/lib/python3.9/site-packages (from biom-format) (1.5.0)\n",
      "Collecting h5py (from biom-format)\n",
      "  Downloading h5py-3.10.0-cp39-cp39-macosx_10_9_x86_64.whl (3.2 MB)\n",
      "\u001b[2K     \u001b[90m━━━━━━━━━━━━━━━━━━━━━━━━━━━━━━━━━━━━━━━━\u001b[0m \u001b[32m3.2/3.2 MB\u001b[0m \u001b[31m26.5 MB/s\u001b[0m eta \u001b[36m0:00:00\u001b[0m00:01\u001b[0m00:01\u001b[0m\n",
      "\u001b[?25hRequirement already satisfied: python-dateutil>=2.8.1 in /Users/oleg.vlasovetc/a-tutorial/lib/python3.9/site-packages (from pandas>=0.20.0->biom-format) (2.8.2)\n",
      "Requirement already satisfied: pytz>=2020.1 in /Users/oleg.vlasovetc/a-tutorial/lib/python3.9/site-packages (from pandas>=0.20.0->biom-format) (2022.4)\n",
      "Requirement already satisfied: six>=1.5 in /Users/oleg.vlasovetc/a-tutorial/lib/python3.9/site-packages (from python-dateutil>=2.8.1->pandas>=0.20.0->biom-format) (1.16.0)\n",
      "Installing collected packages: h5py, biom-format\n",
      "Successfully installed biom-format-2.1.15 h5py-3.10.0\n",
      "\n",
      "\u001b[1m[\u001b[0m\u001b[34;49mnotice\u001b[0m\u001b[1;39;49m]\u001b[0m\u001b[39;49m A new release of pip is available: \u001b[0m\u001b[31;49m23.1.2\u001b[0m\u001b[39;49m -> \u001b[0m\u001b[32;49m23.3\u001b[0m\n",
      "\u001b[1m[\u001b[0m\u001b[34;49mnotice\u001b[0m\u001b[1;39;49m]\u001b[0m\u001b[39;49m To update, run: \u001b[0m\u001b[32;49mpip install --upgrade pip\u001b[0m\n"
     ]
    }
   ],
   "source": [
    "# !pip install biom-format"
   ]
  },
  {
   "cell_type": "code",
   "execution_count": 28,
   "id": "51c1afb9-6c03-46e0-9ae4-a3727da3be60",
   "metadata": {
    "scrolled": true
   },
   "outputs": [
    {
     "name": "stdout",
     "output_type": "stream",
     "text": [
      "running install\n",
      "running bdist_egg\n",
      "running egg_info\n",
      "writing q2_classo.egg-info/PKG-INFO\n",
      "writing dependency_links to q2_classo.egg-info/dependency_links.txt\n",
      "writing entry points to q2_classo.egg-info/entry_points.txt\n",
      "writing top-level names to q2_classo.egg-info/top_level.txt\n",
      "reading manifest file 'q2_classo.egg-info/SOURCES.txt'\n",
      "writing manifest file 'q2_classo.egg-info/SOURCES.txt'\n",
      "installing library code to build/bdist.linux-x86_64/egg\n",
      "running install_lib\n",
      "warning: install_lib: 'build/lib' does not exist -- no Python modules to install\n",
      "\n",
      "creating build/bdist.linux-x86_64/egg\n",
      "creating build/bdist.linux-x86_64/egg/EGG-INFO\n",
      "copying q2_classo.egg-info/PKG-INFO -> build/bdist.linux-x86_64/egg/EGG-INFO\n",
      "copying q2_classo.egg-info/SOURCES.txt -> build/bdist.linux-x86_64/egg/EGG-INFO\n",
      "copying q2_classo.egg-info/dependency_links.txt -> build/bdist.linux-x86_64/egg/EGG-INFO\n",
      "copying q2_classo.egg-info/entry_points.txt -> build/bdist.linux-x86_64/egg/EGG-INFO\n",
      "copying q2_classo.egg-info/not-zip-safe -> build/bdist.linux-x86_64/egg/EGG-INFO\n",
      "copying q2_classo.egg-info/top_level.txt -> build/bdist.linux-x86_64/egg/EGG-INFO\n",
      "creating 'dist/q2_classo-0.0.0.dev0-py3.8.egg' and adding 'build/bdist.linux-x86_64/egg' to it\n",
      "removing 'build/bdist.linux-x86_64/egg' (and everything under it)\n",
      "Processing q2_classo-0.0.0.dev0-py3.8.egg\n",
      "creating /opt/conda/envs/qiime2-2021.4/lib/python3.8/site-packages/q2_classo-0.0.0.dev0-py3.8.egg\n",
      "Extracting q2_classo-0.0.0.dev0-py3.8.egg to /opt/conda/envs/qiime2-2021.4/lib/python3.8/site-packages\n",
      "Removing q2-classo 0.0.0.dev0 from easy-install.pth file\n",
      "Adding q2-classo 0.0.0.dev0 to easy-install.pth file\n",
      "\n",
      "Installed /opt/conda/envs/qiime2-2021.4/lib/python3.8/site-packages/q2_classo-0.0.0.dev0-py3.8.egg\n",
      "Processing dependencies for q2-classo==0.0.0.dev0\n",
      "Finished processing dependencies for q2-classo==0.0.0.dev0\n",
      "Obtaining file:///data\n",
      "Installing collected packages: q2-classo\n",
      "  Attempting uninstall: q2-classo\n",
      "    Found existing installation: q2-classo 0.0.0.dev0\n",
      "    Uninstalling q2-classo-0.0.0.dev0:\n",
      "      Successfully uninstalled q2-classo-0.0.0.dev0\n",
      "  Running setup.py develop for q2-classo\n",
      "Successfully installed q2-classo\n"
     ]
    }
   ],
   "source": [
    "# !pip install --upgrade c-lasso\n",
    "# !pip install c-lasso\n",
    "# !pip install zarr\n",
    "# !pip install plotly\n",
    "\n",
    "!python /../../data/setup.py install\n",
    "!pip install -e /../../data/."
   ]
  },
  {
   "cell_type": "code",
   "execution_count": 29,
   "id": "da0a9330-e02d-42ed-b473-42eb12a9471e",
   "metadata": {},
   "outputs": [
    {
     "name": "stdout",
     "output_type": "stream",
     "text": [
      "\u001b[33mQIIME is caching your current deployment for improved performance. This may take a few moments and should only happen once per deployment.\u001b[0m\n"
     ]
    }
   ],
   "source": [
    "!qiime dev refresh-cache"
   ]
  },
  {
   "cell_type": "code",
   "execution_count": 40,
   "id": "514fc795-131e-430b-80da-f4f5329c0644",
   "metadata": {},
   "outputs": [],
   "source": [
    "# !biom convert -i data/mclr_count_table.tsv -o data/mclr_count_table.biom --to-hdf5"
   ]
  },
  {
   "cell_type": "code",
   "execution_count": 44,
   "id": "78a2dbc1-810f-45fc-a833-dad2b041a93b",
   "metadata": {},
   "outputs": [
    {
     "name": "stdout",
     "output_type": "stream",
     "text": [
      "\u001b[32mImported data/mclr_count_table.biom as BIOMV210Format to data/mclr_count_table.qza\u001b[0m\n"
     ]
    }
   ],
   "source": [
    "!qiime tools import \\\n",
    "    --input-path data/mclr_count_table.biom \\\n",
    "    --type 'FeatureTable[Design]' \\\n",
    "    --input-format BIOMV210Format \\\n",
    "    --output-path data/mclr_count_table.qza"
   ]
  },
  {
   "cell_type": "code",
   "execution_count": 62,
   "id": "9881c604-269e-4b17-adb5-6ac2d9fb9e0e",
   "metadata": {},
   "outputs": [
    {
     "name": "stdout",
     "output_type": "stream",
     "text": [
      "\u001b[32mSaved FeatureTable[Design] to: data/lc_xcovariates.qza\u001b[0m\n",
      "\u001b[32mSaved ConstraintMatrix to: data/lc_ccovariates.qza\u001b[0m\n",
      "\u001b[32mSaved Weights to: data/lc__wcovariates.qza\u001b[0m\n"
     ]
    }
   ],
   "source": [
    "!qiime classo add-covariates \\\n",
    "    --i-features data/mclr_count_table.qza \\\n",
    "    --m-covariates-file data/manifest_acm.tsv \\\n",
    "    --p-to-add ph \\\n",
    "    --o-new-features data/lc_xcovariates \\\n",
    "    --o-new-c data/lc_ccovariates \\\n",
    "    --o-new-w data/lc__wcovariates"
   ]
  },
  {
   "cell_type": "code",
   "execution_count": 63,
   "id": "46579665-37f1-431e-834d-bd6d706d811d",
   "metadata": {},
   "outputs": [
    {
     "name": "stdout",
     "output_type": "stream",
     "text": [
      "\u001b[32mSaved FeatureTable[Design] to: data/regress-xtraining.qza\u001b[0m\n",
      "\u001b[32mSaved FeatureTable[Design] to: data/regress-xtest.qza\u001b[0m\n"
     ]
    }
   ],
   "source": [
    "!qiime sample-classifier split-table \\\n",
    "\t--i-table data/mclr_count_table.qza \\\n",
    "\t--m-metadata-file data/manifest_acm.tsv \\\n",
    "\t--m-metadata-column average-soil-temperature  \\\n",
    "\t--p-test-size 0.2 \\\n",
    "\t--p-random-state 42 \\\n",
    "\t--p-stratify False \\\n",
    "\t--o-training-table data/regress-xtraining \\\n",
    "\t--o-test-table data/regress-xtest"
   ]
  },
  {
   "cell_type": "markdown",
   "id": "b0e5bddc-08ce-4b07-acbf-31fa575a4de5",
   "metadata": {},
   "source": [
    "### Sparse log-contrast regression"
   ]
  },
  {
   "cell_type": "code",
   "execution_count": 64,
   "id": "fe6f3fad-cc7e-4e7c-819b-887fba3b5e7b",
   "metadata": {},
   "outputs": [
    {
     "name": "stdout",
     "output_type": "stream",
     "text": [
      "\u001b[32mSaved CLASSOProblem to: data/regresstaxa.qza\u001b[0m\n"
     ]
    }
   ],
   "source": [
    "!qiime classo regress  \\\n",
    "    --i-features data/regress-xtraining.qza \\\n",
    "    --m-y-file data/manifest_acm.tsv \\\n",
    "    --m-y-column elevation  \\\n",
    "    --p-do-yshift False \\\n",
    "    --p-concomitant False \\\n",
    "    --p-huber False \\\n",
    "    --p-stabsel \\\n",
    "    --p-cv \\\n",
    "    --p-path \\\n",
    "    --p-lamfixed \\\n",
    "    --p-stabsel-threshold 0.7 \\\n",
    "    --p-cv-seed 1 \\\n",
    "    --p-no-cv-one-se \\\n",
    "    --o-result data/regresstaxa\n",
    "# --m-y-column average-soil-temperature  \\"
   ]
  },
  {
   "cell_type": "code",
   "execution_count": 24,
   "id": "7bad3d8a-b7f0-43c3-a86b-1e01aa28e989",
   "metadata": {},
   "outputs": [],
   "source": [
    "### add covariates\n",
    "# !qiime sample-classifier split-table \\\n",
    "# \t--i-table data/lc_xcovariates.qza \\\n",
    "# \t--m-metadata-file data/manifest_acm.tsv \\\n",
    "# \t--m-metadata-column average-soil-temperature  \\\n",
    "# \t--p-test-size 0.2 \\\n",
    "# \t--p-random-state 42 \\\n",
    "# \t--p-stratify False \\\n",
    "# \t--o-training-table data/regress-xtraining \\\n",
    "# \t--o-test-table data/regress-xtest"
   ]
  },
  {
   "cell_type": "code",
   "execution_count": 20,
   "id": "a5916414-309d-4e38-84bb-fea05ccd2586",
   "metadata": {},
   "outputs": [
    {
     "name": "stdout",
     "output_type": "stream",
     "text": [
      "\u001b[32mSaved CLASSOProblem to: data/regresstaxa.qza\u001b[0m\n"
     ]
    }
   ],
   "source": [
    "# !qiime classo regress  \\\n",
    "#     --i-features data/regress-xtraining.qza \\\n",
    "#     --i-c data/lc_ccovariates.qza \\\n",
    "#     --i-weights data/lc__wcovariates.qza \\\n",
    "#     --m-y-file data/manifest_acm.tsv \\\n",
    "#     --m-y-column average-soil-temperature  \\\n",
    "#     --p-concomitant \\\n",
    "#     --p-stabsel \\\n",
    "#     --p-cv \\\n",
    "#     --p-path \\\n",
    "#     --p-lamfixed \\\n",
    "#     --p-stabsel-threshold 0.5 \\\n",
    "#     --p-cv-seed 1 \\\n",
    "#     --p-no-cv-one-se \\\n",
    "#     --o-result data/regresstaxa"
   ]
  },
  {
   "cell_type": "code",
   "execution_count": 42,
   "id": "ff7486b0-c72f-447a-a058-83c306a51562",
   "metadata": {},
   "outputs": [
    {
     "name": "stdout",
     "output_type": "stream",
     "text": [
      "\u001b[32mSaved CLASSOProblem to: data/regress-predictions.qza\u001b[0m\n"
     ]
    }
   ],
   "source": [
    "!qiime classo predict \\\n",
    "    --i-features data/regress-xtest.qza \\\n",
    "    --i-problem data/regresstaxa.qza \\\n",
    "    --o-predictions data/regress-predictions.qza"
   ]
  },
  {
   "cell_type": "code",
   "execution_count": 43,
   "id": "db59fb0c-2142-4b6f-8e24-67c2ff3e277e",
   "metadata": {},
   "outputs": [
    {
     "name": "stdout",
     "output_type": "stream",
     "text": [
      "\u001b[32mSaved Visualization to: data/regresstaxa.qzv\u001b[0m\n"
     ]
    }
   ],
   "source": [
    "!qiime classo summarize \\\n",
    "  --i-problem data/regresstaxa.qza \\\n",
    "  --i-predictions data/regress-predictions.qza \\\n",
    "  --o-visualization data/regresstaxa.qzv"
   ]
  },
  {
   "cell_type": "markdown",
   "id": "121d99fa-776b-4a46-bbb3-faac38984fc5",
   "metadata": {},
   "source": [
    "## trac"
   ]
  },
  {
   "cell_type": "code",
   "execution_count": 11,
   "id": "85ce4584-46e1-4dca-8bfd-4cd1b154ce81",
   "metadata": {},
   "outputs": [],
   "source": [
    "!biom convert -i data/org_mclr_count_table.tsv -o data/org_mclr_count_table.biom --to-hdf5"
   ]
  },
  {
   "cell_type": "code",
   "execution_count": 45,
   "id": "a053f7a3-55c7-47fb-8e8a-713bf5b7d318",
   "metadata": {},
   "outputs": [
    {
     "name": "stdout",
     "output_type": "stream",
     "text": [
      "\u001b[32mImported data/org_mclr_count_table.biom as BIOMV210Format to data/org_mclr_count_table.qza\u001b[0m\n"
     ]
    }
   ],
   "source": [
    "!qiime tools import \\\n",
    "    --input-path data/org_mclr_count_table.biom \\\n",
    "    --type 'FeatureTable[Design]' \\\n",
    "    --input-format BIOMV210Format \\\n",
    "    --output-path data/org_mclr_count_table.qza"
   ]
  },
  {
   "cell_type": "code",
   "execution_count": 53,
   "id": "216edd2a-11c6-483c-b178-fc24bbf0b0ba",
   "metadata": {},
   "outputs": [
    {
     "name": "stdout",
     "output_type": "stream",
     "text": [
      "\u001b[32mImported data/edited_taxonomy.tsv as TSVTaxonomyDirectoryFormat to data/taxonomy.qza\u001b[0m\n"
     ]
    }
   ],
   "source": [
    "!qiime tools import \\\n",
    "  --type FeatureData[Taxonomy] \\\n",
    "  --input-path data/edited_taxonomy.tsv \\\n",
    "  --output-path data/taxonomy.qza"
   ]
  },
  {
   "cell_type": "code",
   "execution_count": 54,
   "id": "0dc04b8a-85dd-4f42-9dc2-96f43547d4ca",
   "metadata": {},
   "outputs": [
    {
     "name": "stdout",
     "output_type": "stream",
     "text": [
      "\u001b[32mSaved Visualization to: data/taxonomy.qzv\u001b[0m\n"
     ]
    }
   ],
   "source": [
    "!qiime metadata tabulate \\\n",
    "    --m-input-file data/taxonomy.qza \\\n",
    "    --o-visualization data/taxonomy.qzv"
   ]
  },
  {
   "cell_type": "code",
   "execution_count": 55,
   "id": "22393004-3378-4a60-8014-c08936c01c08",
   "metadata": {},
   "outputs": [
    {
     "name": "stdout",
     "output_type": "stream",
     "text": [
      "\u001b[32mSaved FeatureTable[Design] to: data/xtaxa.qza\u001b[0m\n",
      "\u001b[32mSaved Weights to: data/wtaxa.qza\u001b[0m\n"
     ]
    }
   ],
   "source": [
    "!qiime classo add-taxa \\\n",
    "\t--i-features data/org_mclr_count_table.qza  \\\n",
    "\t--i-taxa data/taxonomy.qza \\\n",
    "\t--o-x data/xtaxa \\\n",
    "    --o-aweights data/wtaxa"
   ]
  },
  {
   "cell_type": "code",
   "execution_count": 56,
   "id": "00abbdaf-79b7-48cb-8c59-5299ccfaf753",
   "metadata": {},
   "outputs": [
    {
     "name": "stdout",
     "output_type": "stream",
     "text": [
      "\u001b[32mSaved FeatureTable[Design] to: data/trac_xcovariates.qza\u001b[0m\n",
      "\u001b[32mSaved ConstraintMatrix to: data/trac_ccovariates.qza\u001b[0m\n",
      "\u001b[32mSaved Weights to: data/trac_wcovariates.qza\u001b[0m\n"
     ]
    }
   ],
   "source": [
    "!qiime classo add-covariates \\\n",
    "    --i-features data/xtaxa.qza \\\n",
    "    --i-weights data/wtaxa.qza \\\n",
    "    --m-covariates-file data/manifest_acm.tsv \\\n",
    "    --p-to-add ph \\\n",
    "    --o-new-features data/trac_xcovariates \\\n",
    "    --o-new-c data/trac_ccovariates \\\n",
    "    --o-new-w data/trac_wcovariates"
   ]
  },
  {
   "cell_type": "code",
   "execution_count": 57,
   "id": "fce27382-75f3-4da8-823b-1299204d618d",
   "metadata": {},
   "outputs": [
    {
     "name": "stdout",
     "output_type": "stream",
     "text": [
      "\u001b[32mSaved FeatureTable[Design] to: data/trac-xtraining.qza\u001b[0m\n",
      "\u001b[32mSaved FeatureTable[Design] to: data/trac-xtest.qza\u001b[0m\n"
     ]
    }
   ],
   "source": [
    "!qiime sample-classifier split-table \\\n",
    "\t--i-table data/trac_xcovariates.qza \\\n",
    "\t--m-metadata-file data/manifest_acm.tsv \\\n",
    "\t--m-metadata-column average-soil-temperature  \\\n",
    "\t--p-test-size 0.2 \\\n",
    "\t--p-random-state 42 \\\n",
    "\t--p-stratify False \\\n",
    "\t--o-training-table data/trac-xtraining \\\n",
    "\t--o-test-table data/trac-xtest"
   ]
  },
  {
   "cell_type": "code",
   "execution_count": 58,
   "id": "a7541a9f-410f-4e22-9744-4c18413e6898",
   "metadata": {},
   "outputs": [
    {
     "name": "stdout",
     "output_type": "stream",
     "text": [
      "\u001b[32mSaved CLASSOProblem to: data/tractaxa.qza\u001b[0m\n"
     ]
    }
   ],
   "source": [
    "!qiime classo regress  \\\n",
    "    --i-features data/trac-xtraining.qza \\\n",
    "    --i-c data/trac_ccovariates.qza \\\n",
    "    --i-weights data/trac_wcovariates.qza \\\n",
    "    --m-y-file data/manifest_acm.tsv \\\n",
    "    --m-y-column elevation  \\\n",
    "    --p-do-yshift False \\\n",
    "    --p-concomitant False \\\n",
    "    --p-huber False \\\n",
    "    --p-stabsel \\\n",
    "    --p-cv \\\n",
    "    --p-path \\\n",
    "    --p-lamfixed \\\n",
    "    --p-stabsel-threshold 0.7 \\\n",
    "    --p-cv-seed 1 \\\n",
    "    --p-no-cv-one-se \\\n",
    "    --o-result data/tractaxa"
   ]
  },
  {
   "cell_type": "code",
   "execution_count": 59,
   "id": "22b53f7c-65d1-414c-bd36-e588db44399e",
   "metadata": {},
   "outputs": [
    {
     "name": "stdout",
     "output_type": "stream",
     "text": [
      "\u001b[32mSaved CLASSOProblem to: data/trac-predictions.qza\u001b[0m\n"
     ]
    }
   ],
   "source": [
    "!qiime classo predict \\\n",
    "    --i-features data/trac-xtest.qza \\\n",
    "    --i-problem data/tractaxa.qza \\\n",
    "    --o-predictions data/trac-predictions.qza"
   ]
  },
  {
   "cell_type": "code",
   "execution_count": 60,
   "id": "7fadcf41-ab29-4a1c-bb70-a88d989f9803",
   "metadata": {},
   "outputs": [
    {
     "name": "stdout",
     "output_type": "stream",
     "text": [
      "\u001b[32mSaved Visualization to: data/trac-taxa.qzv\u001b[0m\n"
     ]
    }
   ],
   "source": [
    "!qiime classo summarize \\\n",
    "    --i-problem data/tractaxa.qza \\\n",
    "    --i-taxa data/taxonomy.qza \\\n",
    "    --i-predictions data/trac-predictions.qza \\\n",
    "    --o-visualization data/trac-taxa.qzv"
   ]
  }
 ],
 "metadata": {
  "kernelspec": {
   "display_name": "Python 3 (ipykernel)",
   "language": "python",
   "name": "python3"
  },
  "language_info": {
   "codemirror_mode": {
    "name": "ipython",
    "version": 3
   },
   "file_extension": ".py",
   "mimetype": "text/x-python",
   "name": "python",
   "nbconvert_exporter": "python",
   "pygments_lexer": "ipython3",
   "version": "3.8.8"
  }
 },
 "nbformat": 4,
 "nbformat_minor": 5
}
