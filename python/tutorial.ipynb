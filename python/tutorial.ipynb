{
 "cells": [
  {
   "cell_type": "code",
   "execution_count": null,
   "metadata": {},
   "outputs": [],
   "source": [
    "import pandas as pd\n",
    "import numpy as np\n",
    "import seaborn as sns\n",
    "\n",
    "from latentcor import get_tps, latentcor\n",
    "from gglasso.problem import glasso_problem\n",
    "from matplotlib import pyplot as plt"
   ]
  },
  {
   "cell_type": "code",
   "execution_count": null,
   "metadata": {},
   "outputs": [],
   "source": [
    "def plot_heatmap(cov, precision, mask, low_rank=None, low=False):\n",
    "\n",
    "    left = 0.125  # the left side of the subplots of the figure\n",
    "    right = 0.9  # the right side of the subplots of the figure\n",
    "    bottom = 0.1  # the bottom of the subplots of the figure\n",
    "    top = 0.9  # the top of the subplots of the figure\n",
    "    wspace = -0.6  # the amount of width reserved for blank space between subplots,\n",
    "    hspace = 0.5  # the amount of height reserved for white space between subplots,\n",
    "    fontsize = 56\n",
    "    cmap = \"coolwarm\"\n",
    "    vmin = -0.5\n",
    "    vmax = 0.5\n",
    "    linewidth = .5\n",
    "    square = True\n",
    "    cbar = False\n",
    "\n",
    "    if low:\n",
    "            fig, ((ax1, ax2), (ax3, ax4)) = plt.subplots(2, 2, figsize=(90, 35))\n",
    "\n",
    "            plt.subplots_adjust(left=left, bottom=bottom, right=right, top=top, wspace=wspace, hspace=hspace)\n",
    "\n",
    "            ax1.get_shared_y_axes().join(ax2)\n",
    "            ax3.get_shared_y_axes().join(ax4)\n",
    "\n",
    "            g1 = sns.heatmap(cov, cmap=cmap, cbar=cbar, ax=ax1, vmin=vmin, vmax=vmax, linewidth=linewidth, square=square,\n",
    "                             xticklabels=ticks, yticklabels=ticks)\n",
    "            g1.set_ylabel('')\n",
    "            g1.set_xlabel('Covariance', fontsize=fontsize)\n",
    "\n",
    "            g2 = sns.heatmap(precision, cmap=cmap, cbar=cbar, ax=ax2, vmin=vmin, vmax=vmax, linewidth=linewidth, square=square,\n",
    "                             xticklabels=ticks, yticklabels=ticks)\n",
    "            g2.set_ylabel('')\n",
    "            g2.set_xlabel('Inverse covariance', fontsize=fontsize)\n",
    "            g2.set_yticks([])\n",
    "\n",
    "            g3 = sns.heatmap(low_rank, cmap=cmap, ax=ax3, cbar=cbar, vmin=vmin, vmax=vmax, linewidth=linewidth, square=square,\n",
    "                             xticklabels=ticks, yticklabels=ticks)\n",
    "            g3.set_ylabel('')\n",
    "            g3.set_xlabel('Low-rank solution', fontsize=fontsize)\n",
    "            g3.set_yticks([])\n",
    "\n",
    "            g4 = sns.heatmap(mask, cmap=cmap, ax=ax4, cbar=cbar, vmin=vmin, vmax=vmax, linewidth=linewidth, square=square,\n",
    "                             xticklabels=ticks, yticklabels=ticks)\n",
    "            g4.set_ylabel('')\n",
    "            g4.set_xlabel('Mask', fontsize=fontsize)\n",
    "            g4.set_yticks([])\n",
    "    else:\n",
    "\n",
    "        wspace = 0.5  # the amount of width reserved for blank space between subplots,\n",
    "        hspace = 0.5\n",
    "\n",
    "        fig, (ax1, ax2 ,ax3) = plt.subplots(1, 3, figsize=(90, 35))\n",
    "\n",
    "        plt.subplots_adjust(left=left, bottom=bottom, right=right, top=top, wspace=wspace, hspace=hspace)\n",
    "\n",
    "        ax1.get_shared_y_axes().join(ax2, ax3)\n",
    "\n",
    "        g1 = sns.heatmap(cov, cmap=cmap, cbar=cbar, ax=ax1, vmin=vmin, vmax=vmax, linewidth=linewidth, square=square,\n",
    "                         xticklabels=ticks, yticklabels=ticks)\n",
    "        g1.set_ylabel('')\n",
    "        g1.set_xlabel('Covariance', fontsize=fontsize)\n",
    "\n",
    "        g2 = sns.heatmap(precision, cmap=cmap, cbar=cbar, ax=ax2, vmin=vmin, vmax=vmax, linewidth=linewidth,\n",
    "                         square=square,\n",
    "                         xticklabels=ticks, yticklabels=ticks)\n",
    "        g2.set_ylabel('')\n",
    "        g2.set_xlabel('Inverse covariance', fontsize=fontsize)\n",
    "        g2.set_yticks([])\n",
    "\n",
    "        g3 = sns.heatmap(mask, cmap=cmap, ax=ax3, cbar=cbar, vmin=vmin, vmax=vmax, linewidth=linewidth, square=square,\n",
    "                         xticklabels=ticks, yticklabels=ticks)\n",
    "        g3.set_ylabel('')\n",
    "        g3.set_xlabel('Mask', fontsize=fontsize)\n",
    "        g3.set_yticks([])\n",
    "\n",
    "    return fig"
   ]
  },
  {
   "cell_type": "markdown",
   "metadata": {},
   "source": [
    "### Import data"
   ]
  },
  {
   "cell_type": "code",
   "execution_count": null,
   "metadata": {},
   "outputs": [],
   "source": [
    "acm = pd.read_csv('~/GGLasso/data/soil/processed/acm_clr.tsv', sep='\\t', index_col = 0)\n",
    "\n",
    "meta = pd.read_csv('~/GGLasso/data/soil/processed/acm_meta.tsv', sep='\\t', index_col = 0)\n",
    "meta = meta.loc[:, meta.iloc[0, :] != 'categorical']\n",
    "meta = meta.apply(pd.to_numeric, errors='coerce')\n",
    "meta = meta.dropna(how='all')\n",
    "meta = meta.iloc[1:]\n",
    "\n",
    "\n",
    "df = acm.join(meta)\n",
    "df = df.dropna(axis=0)\n",
    "\n",
    "df.isnull().sum().any()\n",
    "print(df.var().to_string())"
   ]
  },
  {
   "cell_type": "code",
   "execution_count": null,
   "metadata": {},
   "outputs": [],
   "source": [
    "# no variance\n",
    "del df['depth']"
   ]
  },
  {
   "cell_type": "code",
   "execution_count": null,
   "metadata": {},
   "outputs": [],
   "source": [
    "N, p = df.shape\n",
    "\n",
    "clean_types = get_tps(df)"
   ]
  },
  {
   "cell_type": "code",
   "execution_count": null,
   "metadata": {},
   "outputs": [],
   "source": [
    "### N, p input\n",
    "lat_cor = latentcor(df, tps=clean_types, method='original', use_nearPD=False)"
   ]
  },
  {
   "cell_type": "code",
   "execution_count": null,
   "metadata": {},
   "outputs": [],
   "source": [
    "S = lat_cor['R']\n",
    "\n",
    "meta_ticks = np.array(S.columns[-14:])\n",
    "bug_ticks = np.arange(len(S.columns[:-14]))\n",
    "ticks = np.hstack((bug_ticks, meta_ticks))"
   ]
  },
  {
   "cell_type": "markdown",
   "metadata": {},
   "source": [
    "#### Solve SGL and SGL+low-rank with weighted solver"
   ]
  },
  {
   "cell_type": "code",
   "execution_count": null,
   "metadata": {},
   "outputs": [],
   "source": [
    "lambda1_range = np.logspace(0.5, -1.5, 8)\n",
    "mu1_range = np.logspace(1.5, -0.5, 6)\n",
    "\n",
    "shape_meta = (p, p)\n",
    "mask = np.zeros(shape_meta)\n",
    "n_bugs = len(bug_ticks)\n",
    "bugs_block = np.ones((n_bugs, n_bugs))\n",
    "mask[0:n_bugs, 0:n_bugs] += bugs_block\n",
    "lambda1_mask_exp = mask\n",
    "\n",
    "lambda1_mask_abs = abs(S.values)"
   ]
  },
  {
   "cell_type": "markdown",
   "metadata": {},
   "source": [
    "### SGL_mask of abs corr values - not optimal"
   ]
  },
  {
   "cell_type": "code",
   "execution_count": null,
   "metadata": {},
   "outputs": [],
   "source": [
    "P_abs = glasso_problem(S.values, N, latent=True, do_scaling=False)\n",
    "print(P_abs)"
   ]
  },
  {
   "cell_type": "code",
   "execution_count": null,
   "metadata": {},
   "outputs": [],
   "source": [
    "modelselect_params = {'lambda1_range': lambda1_range, 'mu1_range': mu1_range, 'lambda1_mask': lambda1_mask_abs}\n",
    "\n",
    "P_abs.model_selection(modelselect_params=modelselect_params, method='eBIC', gamma=0.25)\n",
    "print(P_abs.reg_params)\n",
    "\n",
    "Theta_abs = P_abs.solution.precision_"
   ]
  },
  {
   "cell_type": "markdown",
   "metadata": {},
   "source": [
    "### SGL_mask_explicit - not optimal"
   ]
  },
  {
   "cell_type": "code",
   "execution_count": null,
   "metadata": {},
   "outputs": [],
   "source": [
    "P_exp = glasso_problem(S.values, N, latent=True, do_scaling=False)\n",
    "print(P_exp)\n",
    "\n",
    "modelselect_params = {'lambda1_range': lambda1_range, 'mu1_range': mu1_range,\n",
    "                      'lambda1_mask': lambda1_mask_exp}\n",
    "\n",
    "\n",
    "P_exp.model_selection(modelselect_params=modelselect_params, method='eBIC', gamma=0.25)\n",
    "\n",
    "print(P_exp.reg_params)\n",
    "\n",
    "Theta_exp = P_exp.solution.precision_\n",
    "L = P_exp.solution.lowrank_"
   ]
  },
  {
   "cell_type": "markdown",
   "metadata": {},
   "source": [
    "### no low_rank exp - optimal"
   ]
  },
  {
   "cell_type": "code",
   "execution_count": null,
   "metadata": {},
   "outputs": [],
   "source": [
    "P_exp_no = glasso_problem(S.values, N, latent=False, do_scaling=False)\n",
    "print(P_exp_no)\n",
    "\n",
    "modelselect_params = {'lambda1_range': lambda1_range, 'lambda1_mask': lambda1_mask_exp}\n",
    "\n",
    "P_exp_no.model_selection(modelselect_params=modelselect_params, method='eBIC', gamma=0.25)\n",
    "\n",
    "print(P_exp_no.reg_params)\n",
    "\n",
    "Theta_exp_no = P_exp_no.solution.precision_"
   ]
  },
  {
   "cell_type": "markdown",
   "metadata": {},
   "source": [
    "### no low_abs"
   ]
  },
  {
   "cell_type": "code",
   "execution_count": null,
   "metadata": {},
   "outputs": [],
   "source": [
    "P_abs_no = glasso_problem(S.values, N, latent=False, do_scaling=False)\n",
    "print(P_exp_no)\n",
    "\n",
    "modelselect_params = {'lambda1_range': lambda1_range, 'lambda1_mask': lambda1_mask_abs}\n",
    "\n",
    "P_abs_no.model_selection(modelselect_params=modelselect_params, method='eBIC', gamma=0.25)\n",
    "\n",
    "print(P_abs_no.reg_params)\n",
    "Theta_abs_no = P_abs_no.solution.precision_"
   ]
  },
  {
   "cell_type": "markdown",
   "metadata": {},
   "source": [
    "### Save plots"
   ]
  },
  {
   "cell_type": "code",
   "execution_count": null,
   "metadata": {},
   "outputs": [],
   "source": [
    "fig = plot_heatmap(cov=S, precision=Theta_exp, low_rank=L, mask=mask, low=True)\n",
    "fig.savefig(\"../plots/low_rank_exp.png\")\n",
    "\n",
    "fig = plot_heatmap(cov=S, precision=Theta_abs, low_rank=L, mask=abs(S.values), low=True)\n",
    "fig.savefig(\"../plots/low_rank_abscorr.png\")\n",
    "\n",
    "\n",
    "fig = plot_heatmap(cov=S, precision=Theta_exp_no, mask=mask, low=False)\n",
    "fig.savefig(\"../plots/exp_no.png\")\n",
    "\n",
    "fig = plot_heatmap(cov=S, precision=Theta_abs_no, mask=abs(S.values), low=False)\n",
    "fig.savefig(\"../plots/abscorr_no.png\")"
   ]
  }
 ],
 "metadata": {
  "kernelspec": {
   "display_name": "Python 3",
   "language": "python",
   "name": "python3"
  },
  "language_info": {
   "codemirror_mode": {
    "name": "ipython",
    "version": 3
   },
   "file_extension": ".py",
   "mimetype": "text/x-python",
   "name": "python",
   "nbconvert_exporter": "python",
   "pygments_lexer": "ipython3",
   "version": "3.8.5"
  }
 },
 "nbformat": 4,
 "nbformat_minor": 4
}
