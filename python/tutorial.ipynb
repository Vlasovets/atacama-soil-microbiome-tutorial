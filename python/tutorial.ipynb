{
 "cells": [
  {
   "cell_type": "code",
   "execution_count": null,
   "metadata": {},
   "outputs": [],
   "source": [
    "# !jupyter labextension install jupyterlab-plotly"
   ]
  },
  {
   "cell_type": "code",
   "execution_count": null,
   "metadata": {},
   "outputs": [],
   "source": [
    "import pandas as pd\n",
    "import numpy as np\n",
    "import seaborn as sns\n",
    "import plotly.graph_objects as go\n",
    "import plotly.express as px\n",
    "\n",
    "from latentcor import get_tps, latentcor\n",
    "from gglasso.problem import glasso_problem\n",
    "from matplotlib import pyplot as plt\n",
    "\n",
    "from vis import plot_heatmap"
   ]
  },
  {
   "cell_type": "code",
   "execution_count": null,
   "metadata": {},
   "outputs": [],
   "source": [
    "def PCA(X, L, inverse=True):\n",
    "    sig, V = np.linalg.eigh(L)\n",
    "\n",
    "    # sort eigenvalues in descending order\n",
    "    sig = sig[::-1]\n",
    "    V = V[:, ::-1]\n",
    "\n",
    "    ind = np.argwhere(sig > 1e-9)\n",
    "\n",
    "    if inverse:\n",
    "        loadings = V[:, ind] @ np.diag(np.sqrt(1 / sig[ind]))\n",
    "    else:\n",
    "        loadings = V[:, ind] @ np.diag(np.sqrt(sig[ind]))\n",
    "\n",
    "    # compute the projection\n",
    "    zu = X.values @ loadings\n",
    "\n",
    "    return zu, loadings, np.round(sig[ind].squeeze(), 3)"
   ]
  },
  {
   "cell_type": "markdown",
   "metadata": {},
   "source": [
    "### Import data"
   ]
  },
  {
   "cell_type": "code",
   "execution_count": null,
   "metadata": {},
   "outputs": [],
   "source": [
    "# clr-transformed Atacama soil microbiome\n",
    "acm = pd.read_csv('~/GGLasso/data/soil/processed/acm_clr.tsv', sep='\\t', index_col = 0)\n",
    "\n",
    "# (p, N)\n",
    "acm.shape"
   ]
  },
  {
   "cell_type": "code",
   "execution_count": null,
   "metadata": {},
   "outputs": [],
   "source": [
    "# covariates\n",
    "meta = pd.read_csv('~/GGLasso/data/soil/processed/acm_meta.tsv', sep='\\t', index_col = 0)\n",
    "\n",
    "meta = meta.loc[:, meta.iloc[0, :] != 'categorical']\n",
    "meta = meta.apply(pd.to_numeric, errors='coerce')\n",
    "meta = meta.dropna(how='all')\n",
    "meta = meta.iloc[1:]\n",
    "\n",
    "print(meta.shape)\n",
    "\n",
    "meta.head()"
   ]
  },
  {
   "cell_type": "code",
   "execution_count": null,
   "metadata": {},
   "outputs": [],
   "source": [
    "# join by sample id\n",
    "df = acm.join(meta)\n",
    "\n",
    "#drop missing values\n",
    "df = df.dropna(axis=0)\n",
    "\n",
    "df.isnull().sum().any()"
   ]
  },
  {
   "cell_type": "code",
   "execution_count": null,
   "metadata": {},
   "outputs": [],
   "source": [
    "# drop covariates with zero variance\n",
    "for var in df.columns:\n",
    "    if df[var].var() == 0:\n",
    "        print(\"'{0}' covariate has been dropped\".format(var))\n",
    "        del df[var]\n",
    "# (df.var() == 0)\n",
    "# print(df.var().to_string())"
   ]
  },
  {
   "cell_type": "code",
   "execution_count": null,
   "metadata": {},
   "outputs": [],
   "source": [
    "df.shape"
   ]
  },
  {
   "cell_type": "markdown",
   "metadata": {},
   "source": [
    "### Latent correlation"
   ]
  },
  {
   "cell_type": "code",
   "execution_count": null,
   "metadata": {},
   "outputs": [],
   "source": [
    "N, p = df.shape\n",
    "\n",
    "clean_types = get_tps(df)"
   ]
  },
  {
   "cell_type": "code",
   "execution_count": null,
   "metadata": {},
   "outputs": [],
   "source": [
    "vis_df = df.copy()"
   ]
  },
  {
   "cell_type": "code",
   "execution_count": null,
   "metadata": {},
   "outputs": [],
   "source": [
    "# Rename long feature IDs with concise names\n",
    "id_dict = dict()\n",
    "\n",
    "i = 1\n",
    "for col in vis_df.columns:\n",
    "    # length of ASVs identifier\n",
    "    if len(col) == 32:\n",
    "        asv_name = \"ASV_{0}\".format(i)\n",
    "        id_dict[asv_name] = col\n",
    "        vis_df.rename(columns={col: asv_name}, inplace=True)\n",
    "        \n",
    "        i += 1"
   ]
  },
  {
   "cell_type": "code",
   "execution_count": null,
   "metadata": {},
   "outputs": [],
   "source": [
    "### N, p input\n",
    "lat_cor = latentcor(vis_df, tps=clean_types, method='original', use_nearPD=False)"
   ]
  },
  {
   "cell_type": "code",
   "execution_count": null,
   "metadata": {},
   "outputs": [],
   "source": [
    "S = lat_cor['R']"
   ]
  },
  {
   "cell_type": "code",
   "execution_count": null,
   "metadata": {},
   "outputs": [],
   "source": [
    "mask = np.triu(np.ones_like(S, dtype=bool))\n",
    "rLT = S.mask(mask)\n",
    "\n",
    "heat = go.Heatmap(\n",
    "    z = rLT,\n",
    "    x = rLT.columns.values,\n",
    "    y = rLT.columns.values,\n",
    "    zmin = - 1, # Sets the lower bound of the color domain\n",
    "    zmax = 1,\n",
    "    xgap = 1, # Sets the horizontal gap (in pixels) between bricks\n",
    "    ygap = 1,\n",
    "    colorscale = 'RdBu_r'\n",
    ")\n",
    "\n",
    "title = 'Latent Correlation Matrix'\n",
    "\n",
    "layout = go.Layout(\n",
    "    title_text=title, \n",
    "    title_x=0.5, \n",
    "    width=2400, \n",
    "    height=2400,\n",
    "    xaxis_showgrid=False,\n",
    "    yaxis_showgrid=False,\n",
    "    yaxis_autorange='reversed'\n",
    ")\n",
    "\n",
    "fig=go.Figure(data=[heat], layout=layout)\n",
    "\n",
    "# fig.write_image(\"../plots/png/latent_corr.png\")\n",
    "# fig.write_html(\"../plots/html/latent_corr.html\")"
   ]
  },
  {
   "cell_type": "code",
   "execution_count": null,
   "metadata": {},
   "outputs": [],
   "source": [
    "meta_ticks = np.array(S.columns[-14:])\n",
    "bug_ticks = np.arange(len(S.columns[:-14]))\n",
    "ticks = np.hstack((bug_ticks, meta_ticks))"
   ]
  },
  {
   "cell_type": "code",
   "execution_count": null,
   "metadata": {},
   "outputs": [],
   "source": [
    "S.to_csv(\"/Users/oleg.vlasovetc/Desktop/acm_latent_corr.csv\", index=False)"
   ]
  },
  {
   "cell_type": "markdown",
   "metadata": {},
   "source": [
    "### SGL + low-rank: species and covariates together"
   ]
  },
  {
   "cell_type": "code",
   "execution_count": null,
   "metadata": {},
   "outputs": [],
   "source": [
    "P_SGL_L = glasso_problem(S.values, N, latent=True, do_scaling=False)\n",
    "print(P_SGL_L)"
   ]
  },
  {
   "cell_type": "code",
   "execution_count": null,
   "metadata": {},
   "outputs": [],
   "source": [
    "lambda1_range = [0.5]\n",
    "mu1_range = [15, 10, 5, 3.7, 3, 2.25, 2.1, 2, 1.7, 1.6]\n",
    "\n",
    "# lambda1_range = [0.05, 0.025, 0.01]\n",
    "# mu1_range = [5, 3.7, 3, 2.25, 2.1, 2, 1.7, 1.6]\n",
    "\n",
    "modelselect_params = {'lambda1_range': lambda1_range, 'mu1_range': mu1_range}"
   ]
  },
  {
   "cell_type": "code",
   "execution_count": null,
   "metadata": {},
   "outputs": [],
   "source": [
    "P_SGL_L.model_selection(modelselect_params=modelselect_params, method='eBIC', gamma=0.25)\n",
    "print(P_SGL_L.reg_params)"
   ]
  },
  {
   "cell_type": "code",
   "execution_count": null,
   "metadata": {},
   "outputs": [],
   "source": [
    "P_SGL_L.modelselect_stats"
   ]
  },
  {
   "cell_type": "code",
   "execution_count": null,
   "metadata": {},
   "outputs": [],
   "source": [
    "Theta_SGL_L = P_SGL_L.solution.precision_"
   ]
  },
  {
   "cell_type": "code",
   "execution_count": null,
   "metadata": {},
   "outputs": [],
   "source": [
    "L = P_SGL_L.solution.lowrank_"
   ]
  },
  {
   "cell_type": "code",
   "execution_count": null,
   "metadata": {},
   "outputs": [],
   "source": [
    "l_names = list()\n",
    "\n",
    "for i in range(1, L.shape[0]+1):\n",
    "    l_names.append(\"L{0}\".format(i))"
   ]
  },
  {
   "cell_type": "code",
   "execution_count": null,
   "metadata": {},
   "outputs": [],
   "source": [
    "a = pd.DataFrame(L, columns=l_names)\n",
    "b = S.reset_index(drop=True) \n",
    "c = pd.concat([a, b], axis=1)"
   ]
  },
  {
   "cell_type": "code",
   "execution_count": null,
   "metadata": {},
   "outputs": [],
   "source": [
    "test = pd.concat([c.iloc[:, 0:2], c.iloc[:, -2:]], axis=1)"
   ]
  },
  {
   "cell_type": "code",
   "execution_count": null,
   "metadata": {},
   "outputs": [],
   "source": [
    "import plotly.express as px\n",
    "\n",
    "fig = px.scatter_matrix(test, title=\"Scatter matrix of low-rank vs. correlation vectors\")\n",
    "fig.update_traces(diagonal_visible=False)\n",
    "\n",
    "fig.update_layout(margin = dict(t=100,r=100,b=100,l=100), width = 1000, height = 1000,\n",
    "                 title='Low-rank vectors vs. Correlation vectors between the covariates and ASVs', title_x=0.5)\n",
    "\n",
    "\n",
    "fig.write_image(\"../plots/png/scatter.png\")\n",
    "fig.write_html(\"../plots/html/scatter.html\")"
   ]
  },
  {
   "cell_type": "code",
   "execution_count": null,
   "metadata": {},
   "outputs": [],
   "source": [
    "proj, loadings, eigv = PCA(vis_df, L, inverse=True)\n",
    "r = np.linalg.matrix_rank(L)"
   ]
  },
  {
   "cell_type": "markdown",
   "metadata": {},
   "source": [
    "### Solve SGL and SGL+low-rank with weighted solver"
   ]
  },
  {
   "cell_type": "markdown",
   "metadata": {},
   "source": [
    "#### SGL mask of abs corr values"
   ]
  },
  {
   "cell_type": "code",
   "execution_count": null,
   "metadata": {},
   "outputs": [],
   "source": [
    "lambda1_mask_corr = abs(S.values)"
   ]
  },
  {
   "cell_type": "code",
   "execution_count": null,
   "metadata": {},
   "outputs": [],
   "source": [
    "df_mask_corr = pd.DataFrame(lambda1_mask_corr, columns=vis_df.columns, index=S.index)"
   ]
  },
  {
   "cell_type": "code",
   "execution_count": null,
   "metadata": {},
   "outputs": [],
   "source": [
    "fig = px.imshow(df_mask_corr, color_continuous_scale='RdBu_r')\n",
    "fig.update_layout(margin = dict(t=100,r=100,b=100,l=100), width = 1000, height = 1000,\n",
    "                 title='Absolute correlation lambda-mask matrix: weights before the penalization term', title_x=0.5)\n",
    "\n",
    "# fig.write_image(\"../plots/png/lambda_mask_corr.png\")\n",
    "# fig.write_html(\"../plots/html/lambda_mask_corr.html\")"
   ]
  },
  {
   "cell_type": "code",
   "execution_count": null,
   "metadata": {},
   "outputs": [],
   "source": [
    "lambda1_range = np.logspace(0, -2, 8)\n",
    "mu1_range = np.logspace(1.5, 0, 6)"
   ]
  },
  {
   "cell_type": "code",
   "execution_count": null,
   "metadata": {},
   "outputs": [],
   "source": [
    "P_corr = glasso_problem(S.values, N, latent=True, do_scaling=False)\n",
    "print(P_corr)"
   ]
  },
  {
   "cell_type": "code",
   "execution_count": null,
   "metadata": {},
   "outputs": [],
   "source": [
    "modelselect_params = {'lambda1_range': lambda1_range, 'mu1_range': mu1_range, 'lambda1_mask': lambda1_mask_abs}\n",
    "\n",
    "P_corr.model_selection(modelselect_params=modelselect_params, method='eBIC', gamma=0.25)\n",
    "print(P_corr.reg_params)"
   ]
  },
  {
   "cell_type": "code",
   "execution_count": null,
   "metadata": {},
   "outputs": [],
   "source": [
    "Theta_corr = P_corr.solution.precision_"
   ]
  },
  {
   "cell_type": "markdown",
   "metadata": {},
   "source": [
    "### SGL mask explicit"
   ]
  },
  {
   "cell_type": "code",
   "execution_count": null,
   "metadata": {},
   "outputs": [],
   "source": [
    "# create lambda matrix full of zeros\n",
    "shape_meta = (p, p)\n",
    "mask = np.zeros(shape_meta)\n",
    "\n",
    "# add small constant, so ADMM could converge\n",
    "mask = mask + 0.01\n",
    "\n",
    "# heavy penalize species\n",
    "n_bugs = len(bug_ticks)\n",
    "bugs_block = np.ones((n_bugs, n_bugs))\n",
    "mask[0:n_bugs, 0:n_bugs] += bugs_block - 0.01\n",
    "lambda1_mask_exp = mask"
   ]
  },
  {
   "cell_type": "code",
   "execution_count": null,
   "metadata": {},
   "outputs": [],
   "source": [
    "df_mask_exp = pd.DataFrame(lambda1_mask_exp, columns=vis_df.columns, index=S.index)"
   ]
  },
  {
   "cell_type": "code",
   "execution_count": null,
   "metadata": {},
   "outputs": [],
   "source": [
    "fig = px.imshow(df_mask_exp, color_continuous_scale='RdBu_r')\n",
    "fig.update_layout(margin = dict(t=100,r=100,b=100,l=100), width = 1000, height = 1000,\n",
    "                 title='Lambda-mask matrix: weights before the penalization term', title_x=0.5)\n",
    "\n",
    "fig.add_annotation(text=\"$\\lambda=1$\",\n",
    "                  xref=\"paper\", yref=\"paper\", font=dict(color='yellow',size=155),\n",
    "                  x=0.5, y=0.5, showarrow=False)\n",
    "fig.add_annotation(text=\"$\\lambda=0.01$\",\n",
    "                  xref=\"paper\", yref=\"paper\", font=dict(color='yellow',size=155),\n",
    "                  x=0.5, y=0.05, showarrow=False)\n",
    "\n",
    "fig.update_coloraxes(showscale=False)\n",
    "\n",
    "# fig.write_image(\"../plots/png/lambda_mask.png\")\n",
    "# fig.write_html(\"../plots/html/lambda_mask.html\")"
   ]
  },
  {
   "cell_type": "code",
   "execution_count": null,
   "metadata": {},
   "outputs": [],
   "source": [
    "P_exp = glasso_problem(S.values, N, latent=True, do_scaling=False)\n",
    "print(P_exp)"
   ]
  },
  {
   "cell_type": "code",
   "execution_count": null,
   "metadata": {},
   "outputs": [],
   "source": [
    "lambda1_range = np.logspace(0, -2, 8)\n",
    "mu1_range = np.logspace(1.5, 0, 6)\n",
    "\n",
    "modelselect_params = {'lambda1_range': lambda1_range, 'mu1_range': mu1_range, 'lambda1_mask': lambda1_mask_exp}"
   ]
  },
  {
   "cell_type": "code",
   "execution_count": null,
   "metadata": {},
   "outputs": [],
   "source": [
    "P_exp.model_selection(modelselect_params=modelselect_params, method='eBIC', gamma=0.25)\n",
    "\n",
    "print(P_exp.reg_params)"
   ]
  },
  {
   "cell_type": "code",
   "execution_count": null,
   "metadata": {},
   "outputs": [],
   "source": [
    "Theta_exp = P_exp.solution.precision_\n",
    "L = P_exp.solution.lowrank_"
   ]
  },
  {
   "cell_type": "markdown",
   "metadata": {},
   "source": [
    "### no low_rank exp - optimal"
   ]
  },
  {
   "cell_type": "code",
   "execution_count": null,
   "metadata": {},
   "outputs": [],
   "source": [
    "P_exp_no = glasso_problem(S.values, N, latent=False, do_scaling=False)\n",
    "print(P_exp_no)\n",
    "\n",
    "modelselect_params = {'lambda1_range': lambda1_range, 'lambda1_mask': lambda1_mask_exp}\n",
    "\n",
    "P_exp_no.model_selection(modelselect_params=modelselect_params, method='eBIC', gamma=0.25)\n",
    "\n",
    "print(P_exp_no.reg_params)\n",
    "\n",
    "Theta_exp_no = P_exp_no.solution.precision_"
   ]
  },
  {
   "cell_type": "markdown",
   "metadata": {},
   "source": [
    "### no low_abs"
   ]
  },
  {
   "cell_type": "code",
   "execution_count": null,
   "metadata": {},
   "outputs": [],
   "source": [
    "P_abs_no = glasso_problem(S.values, N, latent=False, do_scaling=False)\n",
    "print(P_exp_no)\n",
    "\n",
    "modelselect_params = {'lambda1_range': lambda1_range, 'lambda1_mask': lambda1_mask_abs}\n",
    "\n",
    "P_abs_no.model_selection(modelselect_params=modelselect_params, method='eBIC', gamma=0.25)\n",
    "\n",
    "print(P_abs_no.reg_params)\n",
    "Theta_abs_no = P_abs_no.solution.precision_"
   ]
  },
  {
   "cell_type": "markdown",
   "metadata": {},
   "source": [
    "### Save plots"
   ]
  },
  {
   "cell_type": "code",
   "execution_count": null,
   "metadata": {},
   "outputs": [],
   "source": [
    "\n",
    "def plot_heatmap(cov, precision, mask, low_rank=None, low=False):\n",
    "\n",
    "    left = 0.125  # the left side of the subplots of the figure\n",
    "    right = 0.9  # the right side of the subplots of the figure\n",
    "    bottom = 0.1  # the bottom of the subplots of the figure\n",
    "    top = 0.9  # the top of the subplots of the figure\n",
    "    wspace = -0.6  # the amount of width reserved for blank space between subplots,\n",
    "    hspace = 0.5  # the amount of height reserved for white space between subplots,\n",
    "    fontsize = 56\n",
    "    cmap = \"coolwarm\"\n",
    "    vmin = -0.5\n",
    "    vmax = 0.5\n",
    "    linewidth = .5\n",
    "    square = True\n",
    "    cbar = False\n",
    "\n",
    "    if low:\n",
    "            fig, ((ax1, ax2), (ax3, ax4)) = plt.subplots(2, 2, figsize=(90, 35))\n",
    "\n",
    "            plt.subplots_adjust(left=left, bottom=bottom, right=right, top=top, wspace=wspace, hspace=hspace)\n",
    "\n",
    "            ax1.get_shared_y_axes().join(ax2)\n",
    "            ax3.get_shared_y_axes().join(ax4)\n",
    "\n",
    "            g1 = sns.heatmap(cov, cmap=cmap, cbar=cbar, ax=ax1, vmin=vmin, vmax=vmax, linewidth=linewidth, square=square,\n",
    "                             xticklabels=ticks, yticklabels=ticks)\n",
    "            g1.set_ylabel('')\n",
    "            g1.set_xlabel('Covariance', fontsize=fontsize)\n",
    "\n",
    "            g2 = sns.heatmap(precision, cmap=cmap, cbar=cbar, ax=ax2, vmin=vmin, vmax=vmax, linewidth=linewidth, square=square,\n",
    "                             xticklabels=ticks, yticklabels=ticks)\n",
    "            g2.set_ylabel('')\n",
    "            g2.set_xlabel('Inverse covariance', fontsize=fontsize)\n",
    "            g2.set_yticks([])\n",
    "\n",
    "            g3 = sns.heatmap(low_rank, cmap=cmap, ax=ax3, cbar=cbar, vmin=vmin, vmax=vmax, linewidth=linewidth, square=square,\n",
    "                             xticklabels=ticks, yticklabels=ticks)\n",
    "            g3.set_ylabel('')\n",
    "            g3.set_xlabel('Low-rank solution', fontsize=fontsize)\n",
    "            g3.set_yticks([])\n",
    "\n",
    "            g4 = sns.heatmap(mask, cmap=cmap, ax=ax4, cbar=cbar, vmin=vmin, vmax=vmax, linewidth=linewidth, square=square,\n",
    "                             xticklabels=ticks, yticklabels=ticks)\n",
    "            g4.set_ylabel('')\n",
    "            g4.set_xlabel('Mask', fontsize=fontsize)\n",
    "            g4.set_yticks([])\n",
    "    else:\n",
    "\n",
    "        wspace = 0.5  # the amount of width reserved for blank space between subplots,\n",
    "        hspace = 0.5\n",
    "\n",
    "        fig, (ax1, ax2 ,ax3) = plt.subplots(1, 3, figsize=(90, 35))\n",
    "\n",
    "        plt.subplots_adjust(left=left, bottom=bottom, right=right, top=top, wspace=wspace, hspace=hspace)\n",
    "\n",
    "        ax1.get_shared_y_axes().join(ax2, ax3)\n",
    "\n",
    "        g1 = sns.heatmap(cov, cmap=cmap, cbar=cbar, ax=ax1, vmin=vmin, vmax=vmax, linewidth=linewidth, square=square,\n",
    "                         xticklabels=ticks, yticklabels=ticks)\n",
    "        g1.set_ylabel('')\n",
    "        g1.set_xlabel('Covariance', fontsize=fontsize)\n",
    "\n",
    "        g2 = sns.heatmap(precision, cmap=cmap, cbar=cbar, ax=ax2, vmin=vmin, vmax=vmax, linewidth=linewidth,\n",
    "                         square=square,\n",
    "                         xticklabels=ticks, yticklabels=ticks)\n",
    "        g2.set_ylabel('')\n",
    "        g2.set_xlabel('Inverse covariance', fontsize=fontsize)\n",
    "        g2.set_yticks([])\n",
    "\n",
    "        g3 = sns.heatmap(mask, cmap=cmap, ax=ax3, cbar=cbar, vmin=vmin, vmax=vmax, linewidth=linewidth, square=square,\n",
    "                         xticklabels=ticks, yticklabels=ticks)\n",
    "        g3.set_ylabel('')\n",
    "        g3.set_xlabel('Mask', fontsize=fontsize)\n",
    "        g3.set_yticks([])\n",
    "\n",
    "    return fig"
   ]
  },
  {
   "cell_type": "code",
   "execution_count": null,
   "metadata": {},
   "outputs": [],
   "source": [
    "fig = plot_heatmap(cov=S, precision=Theta_exp, low_rank=L, mask=mask, low=True)\n",
    "fig.savefig(\"../plots/png/low_rank_exp.png\")\n",
    "\n",
    "fig = plot_heatmap(cov=S, precision=Theta_corr, low_rank=L, mask=abs(S.values), low=True)\n",
    "fig.savefig(\"../plots/png/low_rank_abscorr.png\")\n",
    "\n",
    "\n",
    "fig = plot_heatmap(cov=S, precision=Theta_exp_no, mask=mask, low=False)\n",
    "fig.savefig(\"../plots/png/exp_no.png\")\n",
    "\n",
    "fig = plot_heatmap(cov=S, precision=Theta_abs_no, mask=abs(S.values), low=False)\n",
    "fig.savefig(\"../plots/png/abscorr_no.png\")"
   ]
  }
 ],
 "metadata": {
  "kernelspec": {
   "display_name": "Python 3",
   "language": "python",
   "name": "python3"
  },
  "language_info": {
   "codemirror_mode": {
    "name": "ipython",
    "version": 3
   },
   "file_extension": ".py",
   "mimetype": "text/x-python",
   "name": "python",
   "nbconvert_exporter": "python",
   "pygments_lexer": "ipython3",
   "version": "3.8.5"
  }
 },
 "nbformat": 4,
 "nbformat_minor": 4
}
