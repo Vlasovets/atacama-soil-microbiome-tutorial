{
 "cells": [
  {
   "cell_type": "code",
   "execution_count": null,
   "metadata": {},
   "outputs": [],
   "source": [
    "import pandas as pd\n",
    "import numpy as np\n",
    "import bisect\n",
    "import seaborn as sns\n",
    "import scipy\n",
    "import scipy.cluster.hierarchy as sch\n",
    "import plotly.express as px\n",
    "import matplotlib.pyplot as plt\n",
    "import networkx as nx\n",
    "\n",
    "from itertools import chain\n",
    "from math import pi\n",
    "from sklearn import preprocessing\n",
    "from GGLasso.gglasso.problem import glasso_problem\n",
    "from utils import transform_features, scale_array_by_diagonal\n",
    "from utils import PCA\n",
    "\n",
    "from scipy import stats\n",
    "from scipy.spatial import distance\n",
    "\n",
    "from networkx.utils import cuthill_mckee_ordering\n",
    "\n",
    "from bokeh.io import output_notebook, show, save\n",
    "from bokeh.models import Range1d, Circle, ColumnDataSource, MultiLine, HoverTool, LabelSet, PointDrawTool\n",
    "from bokeh.plotting import figure\n",
    "from bokeh.plotting import from_networkx\n",
    "from bokeh.palettes import RdBu, Blues8\n",
    "from bokeh.models import HoverTool, Panel, Tabs, ColorBar, LinearColorMapper\n",
    "from bokeh.layouts import row"
   ]
  },
  {
   "cell_type": "code",
   "execution_count": null,
   "metadata": {},
   "outputs": [],
   "source": [
    "#count table\n",
    "# raw = pd.read_csv('data/composition_feature-table.tsv', sep='\\t', index_col = 0)\n",
    "\n",
    "raw = pd.read_csv(\"~/q2-gglasso/data/atacama-demux-subsample/atacama_raw.tsv\", sep='\\t', index_col = 0)\n",
    "\n",
    "print(\"Some columns contain only zeros:\", (raw == 0).all().any())\n",
    "\n",
    "raw = raw.T"
   ]
  },
  {
   "cell_type": "code",
   "execution_count": null,
   "metadata": {},
   "outputs": [],
   "source": [
    "raw"
   ]
  },
  {
   "cell_type": "code",
   "execution_count": null,
   "metadata": {},
   "outputs": [],
   "source": [
    "i = 1\n",
    "for col in raw.columns:\n",
    "    # length of ASVs identifier\n",
    "    if len(col) == 32:\n",
    "        asv_name = \"ASV_{0}\".format(i)\n",
    "        raw.rename(columns={col: asv_name}, inplace=True)\n",
    "\n",
    "        i += 1"
   ]
  },
  {
   "cell_type": "code",
   "execution_count": null,
   "metadata": {},
   "outputs": [],
   "source": [
    "asv_18 = raw[\"ASV_18\"].values"
   ]
  },
  {
   "cell_type": "code",
   "execution_count": null,
   "metadata": {},
   "outputs": [],
   "source": [
    "asv_51 = raw[\"ASV_51\"].values"
   ]
  },
  {
   "cell_type": "code",
   "execution_count": null,
   "metadata": {},
   "outputs": [],
   "source": [
    "asv_51"
   ]
  },
  {
   "cell_type": "code",
   "execution_count": null,
   "metadata": {},
   "outputs": [],
   "source": [
    "raw = raw.T"
   ]
  },
  {
   "cell_type": "code",
   "execution_count": null,
   "metadata": {},
   "outputs": [],
   "source": [
    "percentage_zeros = (raw == 0).sum(axis=1) / len(raw.columns) * 100\n",
    "sorted_ixs = percentage_zeros.sort_values(ascending=False).index\n",
    "a = percentage_zeros.sort_values(ascending=True)"
   ]
  },
  {
   "cell_type": "code",
   "execution_count": null,
   "metadata": {},
   "outputs": [],
   "source": [
    "a.head(40)"
   ]
  },
  {
   "cell_type": "code",
   "execution_count": null,
   "metadata": {},
   "outputs": [],
   "source": [
    "raw_sorted = raw.loc[sorted_ixs]\n",
    "raw_sorted"
   ]
  },
  {
   "cell_type": "code",
   "execution_count": null,
   "metadata": {},
   "outputs": [],
   "source": [
    "import pandas as pd\n",
    "import seaborn as sns\n",
    "import matplotlib.pyplot as plt\n",
    "\n",
    "sns.set(rc={'figure.figsize':(20,20)})\n",
    "sns.heatmap(raw_sorted, annot=False, fmt=\"g\", cmap='viridis', mask=raw_sorted==0)\n",
    "\n",
    "plt.show()"
   ]
  },
  {
   "cell_type": "code",
   "execution_count": null,
   "metadata": {},
   "outputs": [],
   "source": [
    "# calculate percentage of zeros for each row\n",
    "percentage_zeros = (raw == 0).sum(axis=1) / len(raw.columns) * 100\n",
    "\n",
    "\n",
    "\n",
    "print(percentage_zeros.to_string())"
   ]
  },
  {
   "cell_type": "code",
   "execution_count": null,
   "metadata": {},
   "outputs": [],
   "source": [
    "asv_18 = raw.iloc[18,:]\n",
    "asv_18"
   ]
  },
  {
   "cell_type": "code",
   "execution_count": null,
   "metadata": {},
   "outputs": [],
   "source": [
    "asv_51 = raw.iloc[51,:]\n",
    "asv_51"
   ]
  },
  {
   "cell_type": "code",
   "execution_count": null,
   "metadata": {},
   "outputs": [],
   "source": [
    "# x = np.linspace(0, 10, 30)\n",
    "# y = np.sin(x)\n",
    "\n",
    "plt.plot(asv_18, asv_51, 'o', color='black');"
   ]
  },
  {
   "cell_type": "code",
   "execution_count": null,
   "metadata": {},
   "outputs": [],
   "source": [
    "df = raw.copy()"
   ]
  },
  {
   "cell_type": "code",
   "execution_count": null,
   "metadata": {},
   "outputs": [],
   "source": [
    "columns"
   ]
  },
  {
   "cell_type": "code",
   "execution_count": null,
   "metadata": {},
   "outputs": [],
   "source": [
    "raw.T"
   ]
  },
  {
   "cell_type": "code",
   "execution_count": null,
   "metadata": {},
   "outputs": [],
   "source": [
    "pattern = r'(\\w+\\.\\d+\\.\\d+)' \n",
    "columns = [col for col in df.columns if re.match(pattern, col)]\n",
    "\n",
    "for prefix in set(col[:-4] for col in columns):\n",
    "    pref1 = f\"{prefix}.1.1\"\n",
    "    pref2 = f\"{prefix}.1.2\"\n",
    "    pref3 = f\"{prefix}.1.3\"\n",
    "    pref_avg = f\"{prefix}.agg\"\n",
    "\n",
    "    if pref1 in df.columns and pref2 in df.columns and pref3 in df.columns:\n",
    "        # create a boolean mask to identify rows where pref1 has value zero and pref2 or pref3 has non-zero\n",
    "        mask = (df[pref1] == 0) & ((df[pref2] != 0) | (df[pref3] != 0))\n",
    "        \n",
    "        # create a new column pref_avg with default value np.nan\n",
    "        df[pref_avg] = 0\n",
    "\n",
    "        # assign the maximum value among pref2 and pref3 to pref_avg on rows where the mask is True\n",
    "        df.loc[mask, pref_avg] = df.loc[mask, [pref2, pref3]].max(axis=1)\n",
    "        \n",
    "        # drop pref1, pref2, and pref3\n",
    "        df.drop([pref1, pref2, pref3], axis=1, inplace=True)\n",
    "\n",
    "    elif pref2 in df.columns and pref3 in df.columns:\n",
    "        # create a boolean mask to identify rows where pref2 has value zero and pref3 has non-zero\n",
    "        mask = (df[pref2] == 0) & (df[pref3] != 0)\n",
    "\n",
    "        # create a new column pref_avg with default value np.nan\n",
    "        df[pref_avg] = 0\n",
    "\n",
    "        # assign the value of pref3 to pref_avg on rows where the mask is True\n",
    "        df.loc[mask, pref_avg] = df.loc[mask, pref3]\n",
    "        \n",
    "        # drop pref2 and pref3\n",
    "        df.drop([pref2, pref3], axis=1, inplace=True)\n",
    "\n",
    "# rename YUN1005.1.1 to YUN1005.1\n",
    "df.rename(columns={\"YUN1005.1.1\": \"YUN1005.agg\"}, inplace=True)"
   ]
  },
  {
   "cell_type": "code",
   "execution_count": null,
   "metadata": {},
   "outputs": [],
   "source": [
    "df.T"
   ]
  },
  {
   "cell_type": "code",
   "execution_count": null,
   "metadata": {},
   "outputs": [],
   "source": [
    "meta = pd.read_csv('data/acm_meta.tsv', sep='\\t', index_col = 0)\n",
    "\n",
    "# select only numeric features\n",
    "meta = meta.loc[:, meta.iloc[0, :] != 'categorical']\n",
    "meta = meta.apply(pd.to_numeric, errors='coerce')\n",
    "# drop QIIME2 header\n",
    "meta = meta.iloc[1:]\n",
    "\n",
    "meta_agg = meta.loc[columns]\n",
    "\n",
    "# Group the rows by the first part of the index\n",
    "grouped = meta_agg.groupby(meta_agg.index.str.split('.').str[0])\n",
    "\n",
    "# Calculate the mean of each group\n",
    "means = grouped.mean()\n",
    "\n",
    "# # Create a new DataFrame with the means and the old indices\n",
    "meta_agg = pd.DataFrame(means.values, index=means.index, columns=means.columns)\n",
    "meta_agg.index = meta_agg.index + '.agg'\n",
    "\n",
    "meta  = pd.concat([meta, meta_agg])"
   ]
  },
  {
   "cell_type": "code",
   "execution_count": null,
   "metadata": {},
   "outputs": [],
   "source": [
    "# calculate percentage of zeros for each row\n",
    "percentage_zeros_1 = (df == 0).sum(axis=0) / len(df.columns) * 100\n",
    "\n",
    "# drop rows with more than 80% of zeros\n",
    "df = df[percentage_zeros <= 95]\n",
    "\n",
    "percentage_zeros_1"
   ]
  },
  {
   "cell_type": "code",
   "execution_count": null,
   "metadata": {},
   "outputs": [],
   "source": [
    "print(\"Some columns contain only zeros:\", (df == 0).all().any())"
   ]
  }
 ],
 "metadata": {
  "kernelspec": {
   "display_name": "Python 3 (ipykernel)",
   "language": "python",
   "name": "python3"
  },
  "language_info": {
   "codemirror_mode": {
    "name": "ipython",
    "version": 3
   },
   "file_extension": ".py",
   "mimetype": "text/x-python",
   "name": "python",
   "nbconvert_exporter": "python",
   "pygments_lexer": "ipython3",
   "version": "3.8.16"
  }
 },
 "nbformat": 4,
 "nbformat_minor": 4
}
