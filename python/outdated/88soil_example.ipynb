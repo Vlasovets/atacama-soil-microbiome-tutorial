{
 "cells": [
  {
   "cell_type": "code",
   "execution_count": null,
   "metadata": {},
   "outputs": [],
   "source": [
    "import numpy as np\n",
    "import pandas as pd\n",
    "\n",
    "import seaborn as sns\n",
    "import matplotlib.pyplot as plt\n",
    "from scipy import stats\n",
    "import plotly.express as px\n",
    "\n",
    "from gglasso.helper.utils import sparsity, zero_replacement, normalize, log_transform\n",
    "from gglasso.problem import glasso_problem\n",
    "from gglasso.helper.basic_linalg import scale_array_by_diagonal\n",
    "\n",
    "from sklearn import preprocessing"
   ]
  },
  {
   "cell_type": "code",
   "execution_count": null,
   "metadata": {},
   "outputs": [],
   "source": [
    "def robust_PCA(X, L, inverse=True):\n",
    "    sig, V = np.linalg.eigh(L)\n",
    "\n",
    "    # sort eigenvalues in descending order\n",
    "    sig = sig[::-1]\n",
    "    V = V[:,::-1]\n",
    "\n",
    "    ind = np.argwhere(sig > 1e-9)\n",
    "\n",
    "    if inverse:\n",
    "        loadings = V[:,ind] @ np.diag(np.sqrt(1/sig[ind]))\n",
    "    else:\n",
    "        loadings = V[:,ind] @ np.diag(np.sqrt(sig[ind]))\n",
    "\n",
    "    # compute the projection\n",
    "    zu = X.values.T @ loadings\n",
    "\n",
    "    return zu, loadings, np.round(sig[ind].squeeze(),3)"
   ]
  },
  {
   "cell_type": "code",
   "execution_count": null,
   "metadata": {},
   "outputs": [],
   "source": [
    "soil = pd.read_csv('~/GGLasso/data/soil/processed/soil_116.csv', sep=',', index_col = 0).T\n",
    "print(soil.head())\n",
    "\n",
    "X = normalize(soil)\n",
    "\n",
    "X = log_transform(X)\n",
    "(p,N) = X.shape\n",
    "\n",
    "print(\"Shape of the transformed data: (p,N)={0},{1}\".format(p,N))"
   ]
  },
  {
   "cell_type": "code",
   "execution_count": null,
   "metadata": {},
   "outputs": [],
   "source": [
    "ph = pd.read_csv('~/GGLasso/data/soil/processed/ph.csv', sep=',', index_col = 0)\n",
    "ph = ph.reindex(soil.columns)\n",
    "print(ph.head())\n",
    "\n",
    "depth = soil.sum(axis=0)\n",
    "\n",
    "metadata = pd.read_table('~/GGLasso/data/soil/original/88soils_modified_metadata.txt', index_col=0)\n",
    "\n",
    "temperature = metadata[\"annual_season_temp\"].reindex(ph.index)"
   ]
  },
  {
   "cell_type": "code",
   "execution_count": null,
   "metadata": {},
   "outputs": [],
   "source": [
    "S0 = np.cov(X.values, bias = True)\n",
    "S = scale_array_by_diagonal(S0)\n",
    "\n",
    "\n",
    "P = glasso_problem(S, N, latent = True, do_scaling = False)\n",
    "print(P)\n",
    "\n",
    "lambda1_range = np.logspace(0.5,-1.5,8)\n",
    "mu1_range = np.logspace(1.5,-0.2,6)\n",
    "\n",
    "modelselect_params = {'lambda1_range': lambda1_range, 'mu1_range': mu1_range}\n",
    "\n",
    "P.model_selection(modelselect_params = modelselect_params, method = 'eBIC', gamma = 0.25)\n",
    "\n",
    "print(P.reg_params)"
   ]
  },
  {
   "cell_type": "code",
   "execution_count": null,
   "metadata": {},
   "outputs": [],
   "source": [
    "L = P.solution.lowrank_\n",
    "proj, loadings, eigv = robust_PCA(X, L, inverse=True)\n",
    "r = np.linalg.matrix_rank(L)\n",
    "print(\"RANK:{0}\".format(r))"
   ]
  },
  {
   "cell_type": "code",
   "execution_count": null,
   "metadata": {},
   "outputs": [],
   "source": [
    "fig, ax = plt.subplots(1,1)\n",
    "im = ax.scatter(proj[:,0], ph, c = depth, cmap = plt.cm.Blues, vmin = 0)\n",
    "cbar = fig.colorbar(im)\n",
    "cbar.set_label(\"Sampling depth\")\n",
    "ax.set_xlabel(f\"PCA component 1 with eigenvalue {eigv[0]}\")\n",
    "ax.set_ylabel(\"pH\")\n",
    "\n",
    "print(\"Spearman correlation between pH and 1st component: {0}, p-value: {1}\".format(stats.spearmanr(ph, proj[:,0])[0],\n",
    "                                                                              stats.spearmanr(ph, proj[:,0])[1]))"
   ]
  },
  {
   "cell_type": "code",
   "execution_count": null,
   "metadata": {},
   "outputs": [],
   "source": [
    "fig, ax = plt.subplots(1,1)\n",
    "im = ax.scatter(proj[:,1], temperature, c = depth, cmap = plt.cm.Blues, vmin = 0)\n",
    "cbar = fig.colorbar(im)\n",
    "cbar.set_label(\"Sampling depth\")\n",
    "ax.set_xlabel(f\"PCA component 2 with eigenvalue {eigv[1]}\")\n",
    "ax.set_ylabel(\"Temperature\")\n",
    "\n",
    "\n",
    "print(\"Spearman correlation between temperature and 2nd component: {0}, p-value: {1}\".format(stats.spearmanr(temperature, proj[:,1])[0],\n",
    "                                                                              stats.spearmanr(temperature, proj[:,1])[1]))\n"
   ]
  },
  {
   "cell_type": "code",
   "execution_count": null,
   "metadata": {},
   "outputs": [],
   "source": [
    "temperature.shape, ph.shape"
   ]
  },
  {
   "cell_type": "code",
   "execution_count": null,
   "metadata": {},
   "outputs": [],
   "source": [
    "meta = ph.join(temperature)\n",
    "meta.head()"
   ]
  },
  {
   "cell_type": "markdown",
   "metadata": {},
   "source": [
    "# Adaptive lasso"
   ]
  },
  {
   "cell_type": "code",
   "execution_count": null,
   "metadata": {},
   "outputs": [],
   "source": [
    "X0 = X.T.join(meta)\n",
    "X_meta = X0.T\n",
    "X_meta.shape"
   ]
  },
  {
   "cell_type": "code",
   "execution_count": null,
   "metadata": {},
   "outputs": [],
   "source": [
    "S0_meta = np.cov(X_meta.values, bias = True)\n",
    "S_meta = scale_array_by_diagonal(S0_meta)"
   ]
  },
  {
   "cell_type": "code",
   "execution_count": null,
   "metadata": {},
   "outputs": [],
   "source": [
    "S_meta.shape"
   ]
  },
  {
   "cell_type": "code",
   "execution_count": null,
   "metadata": {},
   "outputs": [],
   "source": [
    "fig = px.imshow(S_meta, color_continuous_scale='RdBu_r', zmin=-1, zmax=1)\n",
    "fig.update_layout(margin = dict(t=100,r=100,b=100,l=100), width = 800, height = 800,\n",
    "                 title='Covariance: ASVs and covariates', title_x=0.5)"
   ]
  },
  {
   "cell_type": "code",
   "execution_count": null,
   "metadata": {},
   "outputs": [],
   "source": [
    "# create lambda matrix full of zeros\n",
    "p_meta = S_meta.shape[0]\n",
    "shape_meta = (p_meta, p_meta)\n",
    "mask = np.zeros(shape_meta)\n",
    "\n",
    "# add small constant, so ADMM could converge\n",
    "mask = mask + 0.001\n",
    "\n",
    "# heavy penalize species\n",
    "n_bugs = X.shape[0]\n",
    "bugs_block = np.ones((n_bugs, n_bugs))\n",
    "mask[0:n_bugs, 0:n_bugs] += bugs_block - 0.001\n",
    "lambda1_mask_exp = mask"
   ]
  },
  {
   "cell_type": "code",
   "execution_count": null,
   "metadata": {},
   "outputs": [],
   "source": [
    "lambda1_mask_exp\n",
    "\n",
    "lambda1_range = np.logspace(0.5,-2.5,8)\n",
    "mu1_range = np.logspace(1.5,-1.2,6)"
   ]
  },
  {
   "cell_type": "code",
   "execution_count": null,
   "metadata": {},
   "outputs": [],
   "source": [
    "modelselect_params['lambda1_mask'] = lambda1_mask_exp\n",
    "modelselect_params['lambda1_range'] = lambda1_range\n",
    "modelselect_params['mu1_range'] = mu1_range\n",
    "\n",
    "modelselect_params"
   ]
  },
  {
   "cell_type": "code",
   "execution_count": null,
   "metadata": {},
   "outputs": [],
   "source": [
    "P_SGL_adapt = glasso_problem(S_meta, N, latent=False, do_scaling=False)\n",
    "print(P_SGL_adapt)"
   ]
  },
  {
   "cell_type": "code",
   "execution_count": null,
   "metadata": {},
   "outputs": [],
   "source": [
    "P_SGL_adapt.model_selection(modelselect_params=modelselect_params, method='eBIC', gamma=0.1)\n",
    "print(P_SGL_adapt.reg_params)"
   ]
  },
  {
   "cell_type": "code",
   "execution_count": null,
   "metadata": {},
   "outputs": [],
   "source": [
    "for stat in ['AIC', 'SP', 'LAMBDA', 'BEST']:\n",
    "    print(stat)\n",
    "    print(P_SGL_adapt.modelselect_stats[stat])"
   ]
  },
  {
   "cell_type": "code",
   "execution_count": null,
   "metadata": {},
   "outputs": [],
   "source": [
    "precision_adapt = pd.DataFrame(P_SGL_adapt.solution.precision_, columns=X_meta.index, index=X_meta.index)\n",
    "precision_adapt.head()"
   ]
  },
  {
   "cell_type": "code",
   "execution_count": null,
   "metadata": {},
   "outputs": [],
   "source": [
    "fig = px.imshow(-1*precision_adapt, color_continuous_scale='RdBu_r', zmin=-1, zmax=1)\n",
    "fig.update_layout(margin = dict(t=100,r=100,b=100,l=100), width = 1000, height = 1000,\n",
    "                 title='Esatimated inverse covariance (adaptive)', title_x=0.5)"
   ]
  },
  {
   "cell_type": "code",
   "execution_count": null,
   "metadata": {},
   "outputs": [],
   "source": [
    "inv_cov = precision_adapt.iloc[:-2, -2:]\n",
    "\n",
    "fig = px.imshow(inv_cov, color_continuous_scale='RdBu_r', zmin=-1, zmax=1)\n",
    "fig.update_layout(margin = dict(t=100,r=100,b=100,l=100), width = 600, height = 3000,\n",
    "                 title='Negative inverse covariance between ASVs and covariates', title_x=0.5)"
   ]
  },
  {
   "cell_type": "code",
   "execution_count": null,
   "metadata": {},
   "outputs": [],
   "source": [
    "# plot PCs vs covariates\n",
    "\n",
    "eigv_sum = np.sum(eigv)\n",
    "var_exp = [(value / eigv_sum) for value in sorted(eigv, reverse=True)]\n",
    "\n",
    "\n",
    "x = X.sum(axis=0)\n",
    "seq_depth = pd.DataFrame(data=x, columns=[\"sequencing depth\"])\n",
    "\n",
    "\n",
    "test_df = X_meta.copy()\n",
    "test_df = test_df.T.join(seq_depth)\n",
    "\n",
    "rank = r\n",
    "\n",
    "for col in inv_cov.columns:\n",
    "\n",
    "    for i in range(0, rank):\n",
    "        \n",
    "        x = loadings[:,i]\n",
    "        y = inv_cov[col]\n",
    "        \n",
    "        \n",
    "        r_2 = stats.spearmanr(x, y)[0]\n",
    "        p_value = stats.spearmanr(x, y)[1]\n",
    "        title_1 = \"Spearman correlation {0}\".format(np.round(r_2, 3))\n",
    "\n",
    "        # Find the slope and intercept of the best fit line\n",
    "        slope, intercept = np.polyfit(x, y, 1)\n",
    "\n",
    "        # Create a list of values in the best fit line\n",
    "        abline_values = [slope * i + intercept for i in x]\n",
    "\n",
    "        fig, ax = plt.subplots(nrows = 1, ncols = 2, sharex=False, sharey = False, squeeze=False, figsize=(15, 7))\n",
    "        ax[0][0].scatter(x, y)\n",
    "        ax[0][0].plot(x, abline_values, 'b')\n",
    "        ax[0][0].set_xlabel(\"Principal axis (loading vector) {0}\".format(i+1))\n",
    "        ax[0][0].set_ylabel(\"estimated {0}\".format(col))\n",
    "        ax[0][0].title.set_text(title_1)\n",
    "        \n",
    "        yabs_max = abs(max(ax[0][0].get_ylim(), key=abs))\n",
    "        xabs_max = abs(max(ax[0][0].get_xlim(), key=abs))\n",
    "        ax[0][0].set_ylim(ymin=-yabs_max, ymax=yabs_max)\n",
    "        ax[0][0].set_xlim(xmin=-xabs_max, xmax=xabs_max)\n",
    "\n",
    "        spearman_corr = stats.spearmanr(test_df[col], proj[:, i])[0]\n",
    "        p_value = stats.spearmanr(test_df[col], proj[:, i])[1]\n",
    "\n",
    "        title_2 = \"Spearman correlation {0}\".format(np.round(spearman_corr, 3))\n",
    "        im = ax[0][1].scatter(proj[:, i], test_df[col], c=test_df['sequencing depth'], cmap=plt.cm.Blues, vmin=0)\n",
    "        cbar = fig.colorbar(im)\n",
    "\n",
    "\n",
    "        cbar.set_label(\"Sampling depth\")\n",
    "        ax[0][1].set_xlabel(\"PC{0} ({1}%)\".format(i + 1, str(100 * var_exp[i])[:4]))\n",
    "        ax[0][1].set_ylabel(\"{0}\".format(col))\n",
    "        ax[0][1].title.set_text(title_2)\n",
    "        \n",
    "#         plt.show()\n",
    "# #         plt.savefig(\"plots/pc_plots/scatter_pc_{0}_{1}.png\".format(i, col))"
   ]
  }
 ],
 "metadata": {
  "kernelspec": {
   "display_name": "Python 3 (ipykernel)",
   "language": "python",
   "name": "python3"
  },
  "language_info": {
   "codemirror_mode": {
    "name": "ipython",
    "version": 3
   },
   "file_extension": ".py",
   "mimetype": "text/x-python",
   "name": "python",
   "nbconvert_exporter": "python",
   "pygments_lexer": "ipython3",
   "version": "3.8.16"
  }
 },
 "nbformat": 4,
 "nbformat_minor": 4
}
